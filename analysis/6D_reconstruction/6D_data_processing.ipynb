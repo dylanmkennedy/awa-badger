{
 "cells": [
  {
   "cell_type": "code",
   "execution_count": 1,
   "metadata": {
    "collapsed": true,
    "ExecuteTime": {
     "end_time": "2023-11-17T20:34:49.581856200Z",
     "start_time": "2023-11-17T20:34:49.126649100Z"
    }
   },
   "outputs": [],
   "source": [
    "import os.path\n",
    "\n",
    "import h5py\n",
    "import numpy as np\n",
    "import pandas as pd\n",
    "import yaml"
   ]
  },
  {
   "cell_type": "code",
   "execution_count": 2,
   "outputs": [],
   "source": [
    "# load data from image files according the the yaml file\n",
    "path = [\"..\",\"..\",\"run_data\",\"2023_11_17\"]\n",
    "\n",
    "run_data = yaml.safe_load(open(os.path.join(*path, \"data.yml\")))"
   ],
   "metadata": {
    "collapsed": false,
    "ExecuteTime": {
     "end_time": "2023-11-17T20:34:49.626684200Z",
     "start_time": "2023-11-17T20:34:49.582881500Z"
    }
   }
  },
  {
   "cell_type": "code",
   "execution_count": 3,
   "outputs": [
    {
     "data": {
      "text/plain": "                                                 ICT1  \\\n0   [0.7838166769, 1.5517169497, 0.6660754841, 0.9...   \n1   [0.7684783271, 1.0617672532, 0.5376477788, 0.5...   \n2   [0.0001273654, 0.3526255719, 2.803947332, 1.32...   \n3   [0.4571668311, 0.2733020405, 0.6311303826, 0.6...   \n4   [1.2932652314, 2.4160445273, -0.8038342866, 1....   \n5   [0.901746513, -0.0530499038, -0.4178107182, 1....   \n6   [1.0379599455, 2.4806796812, 0.3008228693, 0.4...   \n7   [0.1503048232, 0.5389651321, -0.3269337565, -0...   \n8   [1.9722026989, 0.8954513588, 1.1135891975, -0....   \n9   [0.6616211687, 1.4951321403, 1.0691179536, 1.9...   \n10  [1.1748171105, 2.1251796501, 1.9455701131, 0.8...   \n11  [-0.777865437, 0.6748769792, 0.9436596977, 1.0...   \n12  [1.9559144877, 1.0451199994, 1.8446140028, 1.7...   \n13  [2.3991909064, 0.8849060098, 0.2318947175, -0....   \n14  [1.8843370469, 0.173395374, 0.7957954193, -0.0...   \n15  [0.6926502233, 2.3543759447, -0.5859797539, -0...   \n16  [1.6158426289, 2.1083158831, 1.1438740525, 0.1...   \n17  [0.3771303779, 0.573455148, 0.9665985662, 2.13...   \n18  [-0.7886866752, 1.8030158005, 0.3202058706, 0....   \n19  [1.1043927717, 1.8206347284, 0.9060423073, -0....   \n\n                                                 ICT2  dipole_name  \\\n0   [2.8015550985, 0.5212906681, 1.3899855147, 1.6...            0   \n1   [1.3675146913, -0.1321943202, 2.2807220533, 0....            0   \n2   [0.8041859445, 1.2927583523, -0.0174525314, 0....            0   \n3   [0.0531736984, 0.4025567406, 1.9052175532, 1.0...            0   \n4   [1.6018678838, 1.0917308403, -0.4634930387, 0....            0   \n5   [-0.7864953553, -0.7296902292, 0.5766898133, 0...            0   \n6   [1.9365227743, 0.9438823397, 2.366485921, 2.86...            0   \n7   [1.1585344888, 0.2742415762, 1.3808913186, 3.1...            0   \n8   [1.4232358608, -0.3376332235, 2.1897538626, 0....            0   \n9   [0.5622942192, 0.6000746138, 1.4105023892, 0.9...            0   \n10  [1.5485105127, 2.2872738741, 0.7380720886, 0.8...            2   \n11  [1.0796872891, -1.6146836255, 0.6224252229, 1....            2   \n12  [-0.3995042993, 0.3257019259, 1.6656060008, 2....            2   \n13  [1.5545972327, 2.2386054032, 1.6019435501, 0.6...            2   \n14  [3.7290356014, 1.899014628, -0.4009493852, 1.0...            2   \n15  [0.7408080127, 0.5548522017, -0.6135958617, 1....            2   \n16  [0.4737855221, 3.356273913, 0.5363288288, 1.63...            2   \n17  [1.5183387042, 1.4754486773, 0.8181600891, 1.0...            2   \n18  [-0.3283855664, 0.4952256193, 1.54225986, 0.42...            2   \n19  [0.1349427903, 1.6368254697, 0.5150565055, 0.8...            2   \n\n    quad_pv_name                                save_filename  tdc_name  \n0            0.0  ../run_data/2023_11_17/13ARV1_1700252901.h5         0  \n1            2.5  ../run_data/2023_11_17/13ARV1_1700252914.h5         0  \n2            5.0  ../run_data/2023_11_17/13ARV1_1700252926.h5         0  \n3            7.5  ../run_data/2023_11_17/13ARV1_1700252939.h5         0  \n4           10.0  ../run_data/2023_11_17/13ARV1_1700252952.h5         0  \n5            0.0  ../run_data/2023_11_17/13ARV1_1700252964.h5         1  \n6            2.5  ../run_data/2023_11_17/13ARV1_1700252977.h5         1  \n7            5.0  ../run_data/2023_11_17/13ARV1_1700252990.h5         1  \n8            7.5  ../run_data/2023_11_17/13ARV1_1700253002.h5         1  \n9           10.0  ../run_data/2023_11_17/13ARV1_1700253015.h5         1  \n10           0.0  ../run_data/2023_11_17/13ARV1_1700253028.h5         0  \n11           2.5  ../run_data/2023_11_17/13ARV1_1700253040.h5         0  \n12           5.0  ../run_data/2023_11_17/13ARV1_1700253053.h5         0  \n13           7.5  ../run_data/2023_11_17/13ARV1_1700253066.h5         0  \n14          10.0  ../run_data/2023_11_17/13ARV1_1700253078.h5         0  \n15           0.0  ../run_data/2023_11_17/13ARV1_1700253091.h5         1  \n16           2.5  ../run_data/2023_11_17/13ARV1_1700253104.h5         1  \n17           5.0  ../run_data/2023_11_17/13ARV1_1700253117.h5         1  \n18           7.5  ../run_data/2023_11_17/13ARV1_1700253129.h5         1  \n19          10.0  ../run_data/2023_11_17/13ARV1_1700253142.h5         1  ",
      "text/html": "<div>\n<style scoped>\n    .dataframe tbody tr th:only-of-type {\n        vertical-align: middle;\n    }\n\n    .dataframe tbody tr th {\n        vertical-align: top;\n    }\n\n    .dataframe thead th {\n        text-align: right;\n    }\n</style>\n<table border=\"1\" class=\"dataframe\">\n  <thead>\n    <tr style=\"text-align: right;\">\n      <th></th>\n      <th>ICT1</th>\n      <th>ICT2</th>\n      <th>dipole_name</th>\n      <th>quad_pv_name</th>\n      <th>save_filename</th>\n      <th>tdc_name</th>\n    </tr>\n  </thead>\n  <tbody>\n    <tr>\n      <th>0</th>\n      <td>[0.7838166769, 1.5517169497, 0.6660754841, 0.9...</td>\n      <td>[2.8015550985, 0.5212906681, 1.3899855147, 1.6...</td>\n      <td>0</td>\n      <td>0.0</td>\n      <td>../run_data/2023_11_17/13ARV1_1700252901.h5</td>\n      <td>0</td>\n    </tr>\n    <tr>\n      <th>1</th>\n      <td>[0.7684783271, 1.0617672532, 0.5376477788, 0.5...</td>\n      <td>[1.3675146913, -0.1321943202, 2.2807220533, 0....</td>\n      <td>0</td>\n      <td>2.5</td>\n      <td>../run_data/2023_11_17/13ARV1_1700252914.h5</td>\n      <td>0</td>\n    </tr>\n    <tr>\n      <th>2</th>\n      <td>[0.0001273654, 0.3526255719, 2.803947332, 1.32...</td>\n      <td>[0.8041859445, 1.2927583523, -0.0174525314, 0....</td>\n      <td>0</td>\n      <td>5.0</td>\n      <td>../run_data/2023_11_17/13ARV1_1700252926.h5</td>\n      <td>0</td>\n    </tr>\n    <tr>\n      <th>3</th>\n      <td>[0.4571668311, 0.2733020405, 0.6311303826, 0.6...</td>\n      <td>[0.0531736984, 0.4025567406, 1.9052175532, 1.0...</td>\n      <td>0</td>\n      <td>7.5</td>\n      <td>../run_data/2023_11_17/13ARV1_1700252939.h5</td>\n      <td>0</td>\n    </tr>\n    <tr>\n      <th>4</th>\n      <td>[1.2932652314, 2.4160445273, -0.8038342866, 1....</td>\n      <td>[1.6018678838, 1.0917308403, -0.4634930387, 0....</td>\n      <td>0</td>\n      <td>10.0</td>\n      <td>../run_data/2023_11_17/13ARV1_1700252952.h5</td>\n      <td>0</td>\n    </tr>\n    <tr>\n      <th>5</th>\n      <td>[0.901746513, -0.0530499038, -0.4178107182, 1....</td>\n      <td>[-0.7864953553, -0.7296902292, 0.5766898133, 0...</td>\n      <td>0</td>\n      <td>0.0</td>\n      <td>../run_data/2023_11_17/13ARV1_1700252964.h5</td>\n      <td>1</td>\n    </tr>\n    <tr>\n      <th>6</th>\n      <td>[1.0379599455, 2.4806796812, 0.3008228693, 0.4...</td>\n      <td>[1.9365227743, 0.9438823397, 2.366485921, 2.86...</td>\n      <td>0</td>\n      <td>2.5</td>\n      <td>../run_data/2023_11_17/13ARV1_1700252977.h5</td>\n      <td>1</td>\n    </tr>\n    <tr>\n      <th>7</th>\n      <td>[0.1503048232, 0.5389651321, -0.3269337565, -0...</td>\n      <td>[1.1585344888, 0.2742415762, 1.3808913186, 3.1...</td>\n      <td>0</td>\n      <td>5.0</td>\n      <td>../run_data/2023_11_17/13ARV1_1700252990.h5</td>\n      <td>1</td>\n    </tr>\n    <tr>\n      <th>8</th>\n      <td>[1.9722026989, 0.8954513588, 1.1135891975, -0....</td>\n      <td>[1.4232358608, -0.3376332235, 2.1897538626, 0....</td>\n      <td>0</td>\n      <td>7.5</td>\n      <td>../run_data/2023_11_17/13ARV1_1700253002.h5</td>\n      <td>1</td>\n    </tr>\n    <tr>\n      <th>9</th>\n      <td>[0.6616211687, 1.4951321403, 1.0691179536, 1.9...</td>\n      <td>[0.5622942192, 0.6000746138, 1.4105023892, 0.9...</td>\n      <td>0</td>\n      <td>10.0</td>\n      <td>../run_data/2023_11_17/13ARV1_1700253015.h5</td>\n      <td>1</td>\n    </tr>\n    <tr>\n      <th>10</th>\n      <td>[1.1748171105, 2.1251796501, 1.9455701131, 0.8...</td>\n      <td>[1.5485105127, 2.2872738741, 0.7380720886, 0.8...</td>\n      <td>2</td>\n      <td>0.0</td>\n      <td>../run_data/2023_11_17/13ARV1_1700253028.h5</td>\n      <td>0</td>\n    </tr>\n    <tr>\n      <th>11</th>\n      <td>[-0.777865437, 0.6748769792, 0.9436596977, 1.0...</td>\n      <td>[1.0796872891, -1.6146836255, 0.6224252229, 1....</td>\n      <td>2</td>\n      <td>2.5</td>\n      <td>../run_data/2023_11_17/13ARV1_1700253040.h5</td>\n      <td>0</td>\n    </tr>\n    <tr>\n      <th>12</th>\n      <td>[1.9559144877, 1.0451199994, 1.8446140028, 1.7...</td>\n      <td>[-0.3995042993, 0.3257019259, 1.6656060008, 2....</td>\n      <td>2</td>\n      <td>5.0</td>\n      <td>../run_data/2023_11_17/13ARV1_1700253053.h5</td>\n      <td>0</td>\n    </tr>\n    <tr>\n      <th>13</th>\n      <td>[2.3991909064, 0.8849060098, 0.2318947175, -0....</td>\n      <td>[1.5545972327, 2.2386054032, 1.6019435501, 0.6...</td>\n      <td>2</td>\n      <td>7.5</td>\n      <td>../run_data/2023_11_17/13ARV1_1700253066.h5</td>\n      <td>0</td>\n    </tr>\n    <tr>\n      <th>14</th>\n      <td>[1.8843370469, 0.173395374, 0.7957954193, -0.0...</td>\n      <td>[3.7290356014, 1.899014628, -0.4009493852, 1.0...</td>\n      <td>2</td>\n      <td>10.0</td>\n      <td>../run_data/2023_11_17/13ARV1_1700253078.h5</td>\n      <td>0</td>\n    </tr>\n    <tr>\n      <th>15</th>\n      <td>[0.6926502233, 2.3543759447, -0.5859797539, -0...</td>\n      <td>[0.7408080127, 0.5548522017, -0.6135958617, 1....</td>\n      <td>2</td>\n      <td>0.0</td>\n      <td>../run_data/2023_11_17/13ARV1_1700253091.h5</td>\n      <td>1</td>\n    </tr>\n    <tr>\n      <th>16</th>\n      <td>[1.6158426289, 2.1083158831, 1.1438740525, 0.1...</td>\n      <td>[0.4737855221, 3.356273913, 0.5363288288, 1.63...</td>\n      <td>2</td>\n      <td>2.5</td>\n      <td>../run_data/2023_11_17/13ARV1_1700253104.h5</td>\n      <td>1</td>\n    </tr>\n    <tr>\n      <th>17</th>\n      <td>[0.3771303779, 0.573455148, 0.9665985662, 2.13...</td>\n      <td>[1.5183387042, 1.4754486773, 0.8181600891, 1.0...</td>\n      <td>2</td>\n      <td>5.0</td>\n      <td>../run_data/2023_11_17/13ARV1_1700253117.h5</td>\n      <td>1</td>\n    </tr>\n    <tr>\n      <th>18</th>\n      <td>[-0.7886866752, 1.8030158005, 0.3202058706, 0....</td>\n      <td>[-0.3283855664, 0.4952256193, 1.54225986, 0.42...</td>\n      <td>2</td>\n      <td>7.5</td>\n      <td>../run_data/2023_11_17/13ARV1_1700253129.h5</td>\n      <td>1</td>\n    </tr>\n    <tr>\n      <th>19</th>\n      <td>[1.1043927717, 1.8206347284, 0.9060423073, -0....</td>\n      <td>[0.1349427903, 1.6368254697, 0.5150565055, 0.8...</td>\n      <td>2</td>\n      <td>10.0</td>\n      <td>../run_data/2023_11_17/13ARV1_1700253142.h5</td>\n      <td>1</td>\n    </tr>\n  </tbody>\n</table>\n</div>"
     },
     "execution_count": 3,
     "metadata": {},
     "output_type": "execute_result"
    }
   ],
   "source": [
    "run_data = pd.DataFrame(run_data)\n",
    "run_data"
   ],
   "metadata": {
    "collapsed": false,
    "ExecuteTime": {
     "end_time": "2023-11-17T20:34:49.667640500Z",
     "start_time": "2023-11-17T20:34:49.631683600Z"
    }
   }
  },
  {
   "cell_type": "code",
   "execution_count": 4,
   "outputs": [],
   "source": [
    "# create a pivot table out of the data to collect settings\n",
    "pivot_data = pd.pivot(\n",
    "    run_data, index=[\"tdc_name\", \"dipole_name\"],\n",
    "    columns=\"quad_pv_name\",\n",
    "    values=\"save_filename\"\n",
    ")"
   ],
   "metadata": {
    "collapsed": false,
    "ExecuteTime": {
     "end_time": "2023-11-17T20:34:49.730257Z",
     "start_time": "2023-11-17T20:34:49.658642900Z"
    }
   }
  },
  {
   "cell_type": "code",
   "execution_count": 5,
   "outputs": [],
   "source": [
    "# get numpy values in the correct shape\n",
    "num_rows, num_cols = pivot_data.shape\n",
    "\n",
    "fnames = pivot_data.values.reshape(2,2,5)"
   ],
   "metadata": {
    "collapsed": false,
    "ExecuteTime": {
     "end_time": "2023-11-17T20:34:49.760222500Z",
     "start_time": "2023-11-17T20:34:49.673647Z"
    }
   }
  },
  {
   "cell_type": "code",
   "execution_count": 6,
   "outputs": [],
   "source": [
    "# create function to get data from h5 files\n",
    "import numpy as np\n",
    "def read_file(fname):\n",
    "    with h5py.File(fname) as f:\n",
    "        data_x = np.array((\n",
    "            f[\"images\"].attrs[\"quad_pv_name\"],\n",
    "            f[\"images\"].attrs[\"tdc_name\"],\n",
    "            f[\"images\"].attrs[\"dipole_name\"],\n",
    "        ))\n",
    "        images = f[\"images\"][:]\n",
    "\n",
    "    return data_x, images"
   ],
   "metadata": {
    "collapsed": false,
    "ExecuteTime": {
     "end_time": "2023-11-17T20:34:49.782251800Z",
     "start_time": "2023-11-17T20:34:49.705215600Z"
    }
   }
  },
  {
   "cell_type": "code",
   "execution_count": 7,
   "outputs": [
    {
     "name": "stdout",
     "output_type": "stream",
     "text": [
      "[0. 0. 0.]\n",
      "(10, 2000, 2000)\n",
      "[2.5 0.  0. ]\n",
      "(10, 2000, 2000)\n",
      "[5. 0. 0.]\n",
      "(10, 2000, 2000)\n",
      "[7.5 0.  0. ]\n",
      "(10, 2000, 2000)\n",
      "[10.  0.  0.]\n",
      "(10, 2000, 2000)\n",
      "[0. 0. 2.]\n",
      "(10, 2000, 2000)\n",
      "[2.5 0.  2. ]\n",
      "(10, 2000, 2000)\n",
      "[5. 0. 2.]\n",
      "(10, 2000, 2000)\n",
      "[7.5 0.  2. ]\n",
      "(10, 2000, 2000)\n",
      "[10.  0.  2.]\n",
      "(10, 2000, 2000)\n",
      "[0. 1. 0.]\n",
      "(10, 2000, 2000)\n",
      "[2.5 1.  0. ]\n",
      "(10, 2000, 2000)\n",
      "[5. 1. 0.]\n",
      "(10, 2000, 2000)\n",
      "[7.5 1.  0. ]\n",
      "(10, 2000, 2000)\n",
      "[10.  1.  0.]\n",
      "(10, 2000, 2000)\n",
      "[0. 1. 2.]\n",
      "(10, 2000, 2000)\n",
      "[2.5 1.  2. ]\n",
      "(10, 2000, 2000)\n",
      "[5. 1. 2.]\n",
      "(10, 2000, 2000)\n",
      "[7.5 1.  2. ]\n",
      "(10, 2000, 2000)\n",
      "[10.  1.  2.]\n",
      "(10, 2000, 2000)\n"
     ]
    }
   ],
   "source": [
    "train_x = []\n",
    "train_y = []\n",
    "for i in range(len(fnames)):\n",
    "    tx = []\n",
    "    ty = []\n",
    "    for j in range(len(fnames[0])):\n",
    "        ttx = []\n",
    "        tty = []\n",
    "        for k in range(len(fnames[0,0])):\n",
    "            data_x, images = read_file(\"../\"+fnames[i,j,k])\n",
    "\n",
    "            print(data_x)\n",
    "            print(images.shape)\n",
    "\n",
    "            ttx += [data_x]\n",
    "            tty += [images]\n",
    "\n",
    "        tx += [ttx]\n",
    "        ty += [tty]\n",
    "\n",
    "    train_x += [tx]\n",
    "    train_y += [ty]\n",
    "\n",
    "train_x = np.array(train_x).transpose([2,0,1,3])\n",
    "train_y = np.array(train_y).transpose([2,0,1,3,4,5])\n",
    "\n",
    "##\n",
    "# params: [number of quad strengths, number of tdc voltages (2, off/on), number of dipole angles (2, off/on), number of scanning elements (3) ]\n",
    "# images: [number of quad strengths, number of tdc voltages (2, off/on), number of\n",
    "# dipole angles (2, off/on), number of images per parameter configuration, width in pixels, height in pixels]"
   ],
   "metadata": {
    "collapsed": false,
    "ExecuteTime": {
     "end_time": "2023-11-17T20:34:52.723898900Z",
     "start_time": "2023-11-17T20:34:49.707217Z"
    }
   }
  },
  {
   "cell_type": "code",
   "execution_count": 8,
   "outputs": [
    {
     "data": {
      "text/plain": "(5, 2, 2, 3)"
     },
     "execution_count": 8,
     "metadata": {},
     "output_type": "execute_result"
    }
   ],
   "source": [
    "train_x.shape"
   ],
   "metadata": {
    "collapsed": false,
    "ExecuteTime": {
     "end_time": "2023-11-17T20:34:52.738917500Z",
     "start_time": "2023-11-17T20:34:52.725876400Z"
    }
   }
  },
  {
   "cell_type": "code",
   "execution_count": 9,
   "outputs": [
    {
     "data": {
      "text/plain": "(5, 2, 2, 10, 2000, 2000)"
     },
     "execution_count": 9,
     "metadata": {},
     "output_type": "execute_result"
    }
   ],
   "source": [
    "train_y.shape\n"
   ],
   "metadata": {
    "collapsed": false,
    "ExecuteTime": {
     "end_time": "2023-11-17T20:34:52.781946100Z",
     "start_time": "2023-11-17T20:34:52.740917100Z"
    }
   }
  },
  {
   "cell_type": "code",
   "execution_count": 10,
   "outputs": [
    {
     "data": {
      "text/plain": "array([[[0., 0., 0.],\n        [0., 0., 2.]],\n\n       [[0., 1., 0.],\n        [0., 1., 2.]]])"
     },
     "execution_count": 10,
     "metadata": {},
     "output_type": "execute_result"
    }
   ],
   "source": [
    "train_x[0]"
   ],
   "metadata": {
    "collapsed": false,
    "ExecuteTime": {
     "end_time": "2023-11-17T20:34:52.781946100Z",
     "start_time": "2023-11-17T20:34:52.754918Z"
    }
   }
  },
  {
   "cell_type": "code",
   "execution_count": 10,
   "outputs": [],
   "source": [],
   "metadata": {
    "collapsed": false,
    "ExecuteTime": {
     "end_time": "2023-11-17T20:34:52.785914700Z",
     "start_time": "2023-11-17T20:34:52.769914700Z"
    }
   }
  }
 ],
 "metadata": {
  "kernelspec": {
   "display_name": "Python 3",
   "language": "python",
   "name": "python3"
  },
  "language_info": {
   "codemirror_mode": {
    "name": "ipython",
    "version": 2
   },
   "file_extension": ".py",
   "mimetype": "text/x-python",
   "name": "python",
   "nbconvert_exporter": "python",
   "pygments_lexer": "ipython2",
   "version": "2.7.6"
  }
 },
 "nbformat": 4,
 "nbformat_minor": 0
}
