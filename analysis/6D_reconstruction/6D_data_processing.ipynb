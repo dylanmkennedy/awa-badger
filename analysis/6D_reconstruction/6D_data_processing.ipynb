{
 "cells": [
  {
   "cell_type": "code",
   "execution_count": 1,
   "metadata": {
    "collapsed": true,
    "ExecuteTime": {
     "end_time": "2023-11-29T20:00:00.360615Z",
     "start_time": "2023-11-29T19:59:59.954550200Z"
    }
   },
   "outputs": [],
   "source": [
    "import os.path\n",
    "\n",
    "import h5py\n",
    "import pandas as pd\n",
    "import yaml"
   ]
  },
  {
   "cell_type": "code",
   "execution_count": 2,
   "outputs": [],
   "source": [
    "# load data from image files according the the yaml file\n",
    "path = [\"..\",\"..\",\"run_data\",\"2023_11_17\"]\n",
    "\n",
    "run_data = yaml.safe_load(open(os.path.join(*path, \"data.yml\")))"
   ],
   "metadata": {
    "collapsed": false,
    "ExecuteTime": {
     "end_time": "2023-11-29T20:00:00.405881100Z",
     "start_time": "2023-11-29T20:00:00.397910100Z"
    }
   }
  },
  {
   "cell_type": "code",
   "execution_count": 3,
   "outputs": [
    {
     "data": {
      "text/plain": "                                                 ICT1  \\\n0   [0.9685895525, 0.9275407734, 0.9227464728, 1.0...   \n1   [1.0386552651, 0.9595960648, 0.9009403263, 0.9...   \n2   [0.9575771563, 1.0550407668, 0.9911021657, 0.9...   \n3   [0.9754499864, 1.0685999139, 1.0424194168, 0.9...   \n4   [0.9641839214, 1.0028211861, 0.9202209618, 1.0...   \n5   [0.9845524484, 0.9159889088, 0.9463392509, 0.9...   \n6   [0.9260447723, 0.9442116863, 1.0852642445, 0.9...   \n7   [1.0097759096, 1.0452899895, 1.041574279, 1.01...   \n8   [0.9642815874, 1.0737504077, 0.9136486462, 1.0...   \n9   [1.0041341996, 0.997799832, 0.9456453785, 1.06...   \n10  [0.9186706868, 1.0282447005, 1.0681298456, 1.0...   \n11  [0.9705376773, 0.9690864938, 0.9652185509, 0.9...   \n12  [0.902358747, 1.0875911019, 0.9757387493, 1.04...   \n13  [1.0155899574, 0.9680754644, 1.0282553553, 1.0...   \n14  [0.9767273878, 0.9770921672, 0.9801624768, 1.0...   \n15  [0.9763385157, 1.0490945286, 1.0620876544, 0.9...   \n16  [0.9456961454, 1.0908944932, 1.0375948302, 0.9...   \n17  [1.0229787302, 0.9826408911, 1.0570604958, 1.0...   \n18  [0.9995078238, 0.9473672119, 0.9023716457, 1.0...   \n19  [1.0822706827, 1.0631325454, 0.9036863362, 0.9...   \n\n                                                 ICT2  dipole_name  \\\n0   [1.0794398194, 1.0766765703, 1.064339215, 1.18...            0   \n1   [0.8815740854, 1.1187479521, 0.8820179623, 0.9...            0   \n2   [0.9897631782, 0.9026718179, 0.9613517121, 0.9...            0   \n3   [1.0082677283, 1.0056026229, 0.9788066444, 1.1...            0   \n4   [1.0924266447, 1.1035695579, 0.9492391804, 0.9...            0   \n5   [1.0172486335, 1.0470616554, 0.9528940276, 0.9...            0   \n6   [0.8998327749, 0.9407936466, 0.9652159014, 1.2...            0   \n7   [1.0678310221, 0.9919742227, 0.9988086481, 1.0...            0   \n8   [0.8777402427, 0.9402199595, 0.9244413054, 0.9...            0   \n9   [1.0395839434, 1.0899779246, 1.0193278183, 0.9...            0   \n10  [1.0516995135, 0.8781198488, 1.0363638618, 0.9...            2   \n11  [1.0985044317, 1.0579951503, 1.0528335551, 0.8...            2   \n12  [0.9039003377, 0.9014520679, 0.9597465399, 1.1...            2   \n13  [0.8463612995, 1.0759848066, 0.9547521872, 1.1...            2   \n14  [1.0024033996, 0.8870199969, 1.0571616699, 0.9...            2   \n15  [0.8352380666, 0.9208155883, 1.1666813945, 1.0...            2   \n16  [1.0687179018, 1.044436791, 1.0153137419, 0.74...            2   \n17  [0.9324282481, 0.873557955, 0.9322048257, 1.07...            2   \n18  [0.9846366492, 0.9720527419, 0.8652048771, 1.0...            2   \n19  [1.0193346402, 1.1242536839, 0.8810780321, 1.1...            2   \n\n    quad_pv_name                                save_filename  tdc_name  \n0            0.0  ../run_data/2023_11_17/13ARV1_1701286176.h5         0  \n1            2.5  ../run_data/2023_11_17/13ARV1_1701286193.h5         0  \n2            5.0  ../run_data/2023_11_17/13ARV1_1701286211.h5         0  \n3            7.5  ../run_data/2023_11_17/13ARV1_1701286225.h5         0  \n4           10.0  ../run_data/2023_11_17/13ARV1_1701286243.h5         0  \n5            0.0  ../run_data/2023_11_17/13ARV1_1701286256.h5         1  \n6            2.5  ../run_data/2023_11_17/13ARV1_1701286272.h5         1  \n7            5.0  ../run_data/2023_11_17/13ARV1_1701286289.h5         1  \n8            7.5  ../run_data/2023_11_17/13ARV1_1701286309.h5         1  \n9           10.0  ../run_data/2023_11_17/13ARV1_1701286324.h5         1  \n10           0.0  ../run_data/2023_11_17/13ARV1_1701286347.h5         0  \n11           2.5  ../run_data/2023_11_17/13ARV1_1701286364.h5         0  \n12           5.0  ../run_data/2023_11_17/13ARV1_1701286380.h5         0  \n13           7.5  ../run_data/2023_11_17/13ARV1_1701286397.h5         0  \n14          10.0  ../run_data/2023_11_17/13ARV1_1701286411.h5         0  \n15           0.0  ../run_data/2023_11_17/13ARV1_1701286429.h5         1  \n16           2.5  ../run_data/2023_11_17/13ARV1_1701286448.h5         1  \n17           5.0  ../run_data/2023_11_17/13ARV1_1701286467.h5         1  \n18           7.5  ../run_data/2023_11_17/13ARV1_1701286490.h5         1  \n19          10.0  ../run_data/2023_11_17/13ARV1_1701286507.h5         1  ",
      "text/html": "<div>\n<style scoped>\n    .dataframe tbody tr th:only-of-type {\n        vertical-align: middle;\n    }\n\n    .dataframe tbody tr th {\n        vertical-align: top;\n    }\n\n    .dataframe thead th {\n        text-align: right;\n    }\n</style>\n<table border=\"1\" class=\"dataframe\">\n  <thead>\n    <tr style=\"text-align: right;\">\n      <th></th>\n      <th>ICT1</th>\n      <th>ICT2</th>\n      <th>dipole_name</th>\n      <th>quad_pv_name</th>\n      <th>save_filename</th>\n      <th>tdc_name</th>\n    </tr>\n  </thead>\n  <tbody>\n    <tr>\n      <th>0</th>\n      <td>[0.9685895525, 0.9275407734, 0.9227464728, 1.0...</td>\n      <td>[1.0794398194, 1.0766765703, 1.064339215, 1.18...</td>\n      <td>0</td>\n      <td>0.0</td>\n      <td>../run_data/2023_11_17/13ARV1_1701286176.h5</td>\n      <td>0</td>\n    </tr>\n    <tr>\n      <th>1</th>\n      <td>[1.0386552651, 0.9595960648, 0.9009403263, 0.9...</td>\n      <td>[0.8815740854, 1.1187479521, 0.8820179623, 0.9...</td>\n      <td>0</td>\n      <td>2.5</td>\n      <td>../run_data/2023_11_17/13ARV1_1701286193.h5</td>\n      <td>0</td>\n    </tr>\n    <tr>\n      <th>2</th>\n      <td>[0.9575771563, 1.0550407668, 0.9911021657, 0.9...</td>\n      <td>[0.9897631782, 0.9026718179, 0.9613517121, 0.9...</td>\n      <td>0</td>\n      <td>5.0</td>\n      <td>../run_data/2023_11_17/13ARV1_1701286211.h5</td>\n      <td>0</td>\n    </tr>\n    <tr>\n      <th>3</th>\n      <td>[0.9754499864, 1.0685999139, 1.0424194168, 0.9...</td>\n      <td>[1.0082677283, 1.0056026229, 0.9788066444, 1.1...</td>\n      <td>0</td>\n      <td>7.5</td>\n      <td>../run_data/2023_11_17/13ARV1_1701286225.h5</td>\n      <td>0</td>\n    </tr>\n    <tr>\n      <th>4</th>\n      <td>[0.9641839214, 1.0028211861, 0.9202209618, 1.0...</td>\n      <td>[1.0924266447, 1.1035695579, 0.9492391804, 0.9...</td>\n      <td>0</td>\n      <td>10.0</td>\n      <td>../run_data/2023_11_17/13ARV1_1701286243.h5</td>\n      <td>0</td>\n    </tr>\n    <tr>\n      <th>5</th>\n      <td>[0.9845524484, 0.9159889088, 0.9463392509, 0.9...</td>\n      <td>[1.0172486335, 1.0470616554, 0.9528940276, 0.9...</td>\n      <td>0</td>\n      <td>0.0</td>\n      <td>../run_data/2023_11_17/13ARV1_1701286256.h5</td>\n      <td>1</td>\n    </tr>\n    <tr>\n      <th>6</th>\n      <td>[0.9260447723, 0.9442116863, 1.0852642445, 0.9...</td>\n      <td>[0.8998327749, 0.9407936466, 0.9652159014, 1.2...</td>\n      <td>0</td>\n      <td>2.5</td>\n      <td>../run_data/2023_11_17/13ARV1_1701286272.h5</td>\n      <td>1</td>\n    </tr>\n    <tr>\n      <th>7</th>\n      <td>[1.0097759096, 1.0452899895, 1.041574279, 1.01...</td>\n      <td>[1.0678310221, 0.9919742227, 0.9988086481, 1.0...</td>\n      <td>0</td>\n      <td>5.0</td>\n      <td>../run_data/2023_11_17/13ARV1_1701286289.h5</td>\n      <td>1</td>\n    </tr>\n    <tr>\n      <th>8</th>\n      <td>[0.9642815874, 1.0737504077, 0.9136486462, 1.0...</td>\n      <td>[0.8777402427, 0.9402199595, 0.9244413054, 0.9...</td>\n      <td>0</td>\n      <td>7.5</td>\n      <td>../run_data/2023_11_17/13ARV1_1701286309.h5</td>\n      <td>1</td>\n    </tr>\n    <tr>\n      <th>9</th>\n      <td>[1.0041341996, 0.997799832, 0.9456453785, 1.06...</td>\n      <td>[1.0395839434, 1.0899779246, 1.0193278183, 0.9...</td>\n      <td>0</td>\n      <td>10.0</td>\n      <td>../run_data/2023_11_17/13ARV1_1701286324.h5</td>\n      <td>1</td>\n    </tr>\n    <tr>\n      <th>10</th>\n      <td>[0.9186706868, 1.0282447005, 1.0681298456, 1.0...</td>\n      <td>[1.0516995135, 0.8781198488, 1.0363638618, 0.9...</td>\n      <td>2</td>\n      <td>0.0</td>\n      <td>../run_data/2023_11_17/13ARV1_1701286347.h5</td>\n      <td>0</td>\n    </tr>\n    <tr>\n      <th>11</th>\n      <td>[0.9705376773, 0.9690864938, 0.9652185509, 0.9...</td>\n      <td>[1.0985044317, 1.0579951503, 1.0528335551, 0.8...</td>\n      <td>2</td>\n      <td>2.5</td>\n      <td>../run_data/2023_11_17/13ARV1_1701286364.h5</td>\n      <td>0</td>\n    </tr>\n    <tr>\n      <th>12</th>\n      <td>[0.902358747, 1.0875911019, 0.9757387493, 1.04...</td>\n      <td>[0.9039003377, 0.9014520679, 0.9597465399, 1.1...</td>\n      <td>2</td>\n      <td>5.0</td>\n      <td>../run_data/2023_11_17/13ARV1_1701286380.h5</td>\n      <td>0</td>\n    </tr>\n    <tr>\n      <th>13</th>\n      <td>[1.0155899574, 0.9680754644, 1.0282553553, 1.0...</td>\n      <td>[0.8463612995, 1.0759848066, 0.9547521872, 1.1...</td>\n      <td>2</td>\n      <td>7.5</td>\n      <td>../run_data/2023_11_17/13ARV1_1701286397.h5</td>\n      <td>0</td>\n    </tr>\n    <tr>\n      <th>14</th>\n      <td>[0.9767273878, 0.9770921672, 0.9801624768, 1.0...</td>\n      <td>[1.0024033996, 0.8870199969, 1.0571616699, 0.9...</td>\n      <td>2</td>\n      <td>10.0</td>\n      <td>../run_data/2023_11_17/13ARV1_1701286411.h5</td>\n      <td>0</td>\n    </tr>\n    <tr>\n      <th>15</th>\n      <td>[0.9763385157, 1.0490945286, 1.0620876544, 0.9...</td>\n      <td>[0.8352380666, 0.9208155883, 1.1666813945, 1.0...</td>\n      <td>2</td>\n      <td>0.0</td>\n      <td>../run_data/2023_11_17/13ARV1_1701286429.h5</td>\n      <td>1</td>\n    </tr>\n    <tr>\n      <th>16</th>\n      <td>[0.9456961454, 1.0908944932, 1.0375948302, 0.9...</td>\n      <td>[1.0687179018, 1.044436791, 1.0153137419, 0.74...</td>\n      <td>2</td>\n      <td>2.5</td>\n      <td>../run_data/2023_11_17/13ARV1_1701286448.h5</td>\n      <td>1</td>\n    </tr>\n    <tr>\n      <th>17</th>\n      <td>[1.0229787302, 0.9826408911, 1.0570604958, 1.0...</td>\n      <td>[0.9324282481, 0.873557955, 0.9322048257, 1.07...</td>\n      <td>2</td>\n      <td>5.0</td>\n      <td>../run_data/2023_11_17/13ARV1_1701286467.h5</td>\n      <td>1</td>\n    </tr>\n    <tr>\n      <th>18</th>\n      <td>[0.9995078238, 0.9473672119, 0.9023716457, 1.0...</td>\n      <td>[0.9846366492, 0.9720527419, 0.8652048771, 1.0...</td>\n      <td>2</td>\n      <td>7.5</td>\n      <td>../run_data/2023_11_17/13ARV1_1701286490.h5</td>\n      <td>1</td>\n    </tr>\n    <tr>\n      <th>19</th>\n      <td>[1.0822706827, 1.0631325454, 0.9036863362, 0.9...</td>\n      <td>[1.0193346402, 1.1242536839, 0.8810780321, 1.1...</td>\n      <td>2</td>\n      <td>10.0</td>\n      <td>../run_data/2023_11_17/13ARV1_1701286507.h5</td>\n      <td>1</td>\n    </tr>\n  </tbody>\n</table>\n</div>"
     },
     "execution_count": 3,
     "metadata": {},
     "output_type": "execute_result"
    }
   ],
   "source": [
    "run_data = pd.DataFrame(run_data)\n",
    "run_data"
   ],
   "metadata": {
    "collapsed": false,
    "ExecuteTime": {
     "end_time": "2023-11-29T20:00:00.440883Z",
     "start_time": "2023-11-29T20:00:00.408883400Z"
    }
   }
  },
  {
   "cell_type": "code",
   "execution_count": 4,
   "outputs": [],
   "source": [
    "# create a pivot table out of the data to collect settings\n",
    "pivot_data = pd.pivot(\n",
    "    run_data, index=[\"tdc_name\", \"dipole_name\"],\n",
    "    columns=\"quad_pv_name\",\n",
    "    values=\"save_filename\"\n",
    ")"
   ],
   "metadata": {
    "collapsed": false,
    "ExecuteTime": {
     "end_time": "2023-11-29T20:00:00.516074400Z",
     "start_time": "2023-11-29T20:00:00.447882Z"
    }
   }
  },
  {
   "cell_type": "code",
   "execution_count": 5,
   "outputs": [],
   "source": [
    "# get numpy values in the correct shape\n",
    "num_rows, num_cols = pivot_data.shape\n",
    "\n",
    "fnames = pivot_data.values.reshape(2,2,5)"
   ],
   "metadata": {
    "collapsed": false,
    "ExecuteTime": {
     "end_time": "2023-11-29T20:00:00.517074400Z",
     "start_time": "2023-11-29T20:00:00.475883200Z"
    }
   }
  },
  {
   "cell_type": "code",
   "execution_count": 6,
   "outputs": [],
   "source": [
    "# create function to get data from h5 files\n",
    "import numpy as np\n",
    "def read_file(fname):\n",
    "    with h5py.File(fname) as f:\n",
    "        data_x = np.array((\n",
    "            f[\"images\"].attrs[\"quad_pv_name\"],\n",
    "            f[\"images\"].attrs[\"tdc_name\"],\n",
    "            f[\"images\"].attrs[\"dipole_name\"],\n",
    "        ))\n",
    "        images = f[\"images\"][:]\n",
    "\n",
    "    return data_x, images"
   ],
   "metadata": {
    "collapsed": false,
    "ExecuteTime": {
     "end_time": "2023-11-29T20:00:00.517074400Z",
     "start_time": "2023-11-29T20:00:00.484885600Z"
    }
   }
  },
  {
   "cell_type": "code",
   "execution_count": 7,
   "outputs": [
    {
     "name": "stdout",
     "output_type": "stream",
     "text": [
      "[0. 0. 0.]\n",
      "(10, 2000, 2000)\n",
      "[2.5 0.  0. ]\n",
      "(10, 2000, 2000)\n",
      "[5. 0. 0.]\n",
      "(10, 2000, 2000)\n",
      "[7.5 0.  0. ]\n",
      "(10, 2000, 2000)\n",
      "[10.  0.  0.]\n",
      "(10, 2000, 2000)\n",
      "[0. 0. 2.]\n",
      "(10, 2000, 2000)\n",
      "[2.5 0.  2. ]\n",
      "(10, 2000, 2000)\n",
      "[5. 0. 2.]\n",
      "(10, 2000, 2000)\n",
      "[7.5 0.  2. ]\n",
      "(10, 2000, 2000)\n",
      "[10.  0.  2.]\n",
      "(10, 2000, 2000)\n",
      "[0. 1. 0.]\n",
      "(10, 2000, 2000)\n",
      "[2.5 1.  0. ]\n",
      "(10, 2000, 2000)\n",
      "[5. 1. 0.]\n",
      "(10, 2000, 2000)\n",
      "[7.5 1.  0. ]\n",
      "(10, 2000, 2000)\n",
      "[10.  1.  0.]\n",
      "(10, 2000, 2000)\n",
      "[0. 1. 2.]\n",
      "(10, 2000, 2000)\n",
      "[2.5 1.  2. ]\n",
      "(10, 2000, 2000)\n",
      "[5. 1. 2.]\n",
      "(10, 2000, 2000)\n",
      "[7.5 1.  2. ]\n",
      "(10, 2000, 2000)\n",
      "[10.  1.  2.]\n",
      "(10, 2000, 2000)\n"
     ]
    }
   ],
   "source": [
    "train_x = []\n",
    "train_y = []\n",
    "for i in range(len(fnames)):\n",
    "    tx = []\n",
    "    ty = []\n",
    "    for j in range(len(fnames[0])):\n",
    "        ttx = []\n",
    "        tty = []\n",
    "        for k in range(len(fnames[0,0])):\n",
    "            data_x, images = read_file(\"../\"+fnames[i,j,k])\n",
    "\n",
    "            print(data_x)\n",
    "            print(images.shape)\n",
    "\n",
    "            ttx += [data_x]\n",
    "            tty += [images]\n",
    "\n",
    "        tx += [ttx]\n",
    "        ty += [tty]\n",
    "\n",
    "    train_x += [tx]\n",
    "    train_y += [ty]\n",
    "\n",
    "train_x = np.array(train_x).transpose([2,0,1,3])\n",
    "train_y = np.array(train_y).transpose([2,0,1,3,4,5])\n",
    "\n",
    "##\n",
    "# params: [number of quad strengths, number of tdc voltages (2, off/on), number of dipole angles (2, off/on),\n",
    "# number of scanning elements (3)]\n",
    "# images: [number of quad strengths, number of tdc voltages (2, off/on), number of\n",
    "# dipole angles (2, off/on), number of images per parameter configuration, width in pixels, height in pixels]"
   ],
   "metadata": {
    "collapsed": false,
    "ExecuteTime": {
     "end_time": "2023-11-29T20:00:04.217625300Z",
     "start_time": "2023-11-29T20:00:00.508074600Z"
    }
   }
  },
  {
   "cell_type": "code",
   "execution_count": 8,
   "outputs": [
    {
     "data": {
      "text/plain": "(5, 2, 2, 3)"
     },
     "execution_count": 8,
     "metadata": {},
     "output_type": "execute_result"
    }
   ],
   "source": [
    "train_x.shape"
   ],
   "metadata": {
    "collapsed": false,
    "ExecuteTime": {
     "end_time": "2023-11-29T20:00:04.233591Z",
     "start_time": "2023-11-29T20:00:04.220591900Z"
    }
   }
  },
  {
   "cell_type": "code",
   "execution_count": 9,
   "outputs": [
    {
     "data": {
      "text/plain": "(5, 2, 2, 10, 2000, 2000)"
     },
     "execution_count": 9,
     "metadata": {},
     "output_type": "execute_result"
    }
   ],
   "source": [
    "train_y.shape\n"
   ],
   "metadata": {
    "collapsed": false,
    "ExecuteTime": {
     "end_time": "2023-11-29T20:00:04.276675400Z",
     "start_time": "2023-11-29T20:00:04.236593600Z"
    }
   }
  },
  {
   "cell_type": "code",
   "execution_count": 10,
   "outputs": [
    {
     "data": {
      "text/plain": "array([[[0., 0., 0.],\n        [0., 0., 2.]],\n\n       [[0., 1., 0.],\n        [0., 1., 2.]]])"
     },
     "execution_count": 10,
     "metadata": {},
     "output_type": "execute_result"
    }
   ],
   "source": [
    "train_x[0]"
   ],
   "metadata": {
    "collapsed": false,
    "ExecuteTime": {
     "end_time": "2023-11-29T20:00:04.276675400Z",
     "start_time": "2023-11-29T20:00:04.249595600Z"
    }
   }
  },
  {
   "cell_type": "code",
   "execution_count": 10,
   "outputs": [],
   "source": [],
   "metadata": {
    "collapsed": false,
    "ExecuteTime": {
     "end_time": "2023-11-29T20:00:04.282621500Z",
     "start_time": "2023-11-29T20:00:04.265621Z"
    }
   }
  }
 ],
 "metadata": {
  "kernelspec": {
   "display_name": "Python 3",
   "language": "python",
   "name": "python3"
  },
  "language_info": {
   "codemirror_mode": {
    "name": "ipython",
    "version": 2
   },
   "file_extension": ".py",
   "mimetype": "text/x-python",
   "name": "python",
   "nbconvert_exporter": "python",
   "pygments_lexer": "ipython2",
   "version": "2.7.6"
  }
 },
 "nbformat": 4,
 "nbformat_minor": 0
}
