{
 "cells": [
  {
   "cell_type": "code",
   "execution_count": 1,
   "metadata": {
    "ExecuteTime": {
     "end_time": "2023-11-29T20:00:00.360615Z",
     "start_time": "2023-11-29T19:59:59.954550200Z"
    }
   },
   "outputs": [],
   "source": [
    "import os.path\n",
    "\n",
    "import h5py\n",
    "import pandas as pd\n",
    "import yaml"
   ]
  },
  {
   "cell_type": "code",
   "execution_count": 2,
   "metadata": {
    "ExecuteTime": {
     "end_time": "2023-11-29T20:00:00.405881100Z",
     "start_time": "2023-11-29T20:00:00.397910100Z"
    },
    "collapsed": false,
    "jupyter": {
     "outputs_hidden": false
    }
   },
   "outputs": [],
   "source": [
    "# load data from image files according the the yaml file\n",
    "path = \"/home/awa/awa_data/12-05_6DReconstruction/\"\n",
    "\n",
    "run_data = yaml.safe_load(open(os.path.join(path, \"reconstruction_scan/data.yml\")))"
   ]
  },
  {
   "cell_type": "code",
   "execution_count": 3,
   "metadata": {},
   "outputs": [],
   "source": [
    "quad_pv_name = \"AWA:Bira3Ctrl:Ch10\"\n",
    "tdc_pv_name = \"pi:QBCR1:Ch7:EnablePulse\"\n",
    "dipole_pv_name = \"AWA:Bira4Ctrl:Ch01\""
   ]
  },
  {
   "cell_type": "code",
   "execution_count": 4,
   "metadata": {
    "ExecuteTime": {
     "end_time": "2023-11-29T20:00:00.440883Z",
     "start_time": "2023-11-29T20:00:00.408883400Z"
    },
    "collapsed": false,
    "jupyter": {
     "outputs_hidden": false
    }
   },
   "outputs": [
    {
     "data": {
      "text/html": [
       "<div>\n",
       "<style scoped>\n",
       "    .dataframe tbody tr th:only-of-type {\n",
       "        vertical-align: middle;\n",
       "    }\n",
       "\n",
       "    .dataframe tbody tr th {\n",
       "        vertical-align: top;\n",
       "    }\n",
       "\n",
       "    .dataframe thead th {\n",
       "        text-align: right;\n",
       "    }\n",
       "</style>\n",
       "<table border=\"1\" class=\"dataframe\">\n",
       "  <thead>\n",
       "    <tr style=\"text-align: right;\">\n",
       "      <th></th>\n",
       "      <th>AWA:Bira3Ctrl:Ch10</th>\n",
       "      <th>AWA:Bira4Ctrl:Ch01</th>\n",
       "      <th>AWAVXI11ICT:Ch4</th>\n",
       "      <th>pi:QBCR1:Ch7:EnablePulse</th>\n",
       "      <th>save_filename</th>\n",
       "    </tr>\n",
       "  </thead>\n",
       "  <tbody>\n",
       "    <tr>\n",
       "      <th>0</th>\n",
       "      <td>-1.0</td>\n",
       "      <td>0.00</td>\n",
       "      <td>[1.3e-09, 1.1e-09, 1.1e-09, 1.3e-09, 1.2e-09]</td>\n",
       "      <td>0</td>\n",
       "      <td>/home/awa/awa_data/12-05_6DReconstruction/13AR...</td>\n",
       "    </tr>\n",
       "    <tr>\n",
       "      <th>1</th>\n",
       "      <td>-0.5</td>\n",
       "      <td>0.00</td>\n",
       "      <td>[1.3e-09, 1.2e-09, 1.2e-09, 1.3e-09, 1.3e-09]</td>\n",
       "      <td>0</td>\n",
       "      <td>/home/awa/awa_data/12-05_6DReconstruction/13AR...</td>\n",
       "    </tr>\n",
       "    <tr>\n",
       "      <th>2</th>\n",
       "      <td>0.0</td>\n",
       "      <td>0.00</td>\n",
       "      <td>[1.3e-09, 1.3e-09, 1.3e-09, 1.2e-09, 1.3e-09]</td>\n",
       "      <td>0</td>\n",
       "      <td>/home/awa/awa_data/12-05_6DReconstruction/13AR...</td>\n",
       "    </tr>\n",
       "    <tr>\n",
       "      <th>3</th>\n",
       "      <td>0.5</td>\n",
       "      <td>0.00</td>\n",
       "      <td>[1.1e-09, 1.2e-09, 1.3e-09, 1.1e-09, 1.1e-09]</td>\n",
       "      <td>0</td>\n",
       "      <td>/home/awa/awa_data/12-05_6DReconstruction/13AR...</td>\n",
       "    </tr>\n",
       "    <tr>\n",
       "      <th>4</th>\n",
       "      <td>1.0</td>\n",
       "      <td>0.00</td>\n",
       "      <td>[1.1e-09, 1.1e-09, 1.1e-09, 1.2e-09, 1.2e-09]</td>\n",
       "      <td>0</td>\n",
       "      <td>/home/awa/awa_data/12-05_6DReconstruction/13AR...</td>\n",
       "    </tr>\n",
       "    <tr>\n",
       "      <th>5</th>\n",
       "      <td>-1.0</td>\n",
       "      <td>0.00</td>\n",
       "      <td>[1.2e-09, 1.3e-09, 1.2e-09, 1.2e-09, 1.3e-09]</td>\n",
       "      <td>1</td>\n",
       "      <td>/home/awa/awa_data/12-05_6DReconstruction/13AR...</td>\n",
       "    </tr>\n",
       "    <tr>\n",
       "      <th>6</th>\n",
       "      <td>-0.5</td>\n",
       "      <td>0.00</td>\n",
       "      <td>[1.2e-09, 1.1e-09, 1.3e-09, 1.1e-09, 1.2e-09]</td>\n",
       "      <td>1</td>\n",
       "      <td>/home/awa/awa_data/12-05_6DReconstruction/13AR...</td>\n",
       "    </tr>\n",
       "    <tr>\n",
       "      <th>7</th>\n",
       "      <td>0.0</td>\n",
       "      <td>0.00</td>\n",
       "      <td>[1.2e-09, 1.3e-09, 1.2e-09, 1.3e-09, 1.2e-09]</td>\n",
       "      <td>1</td>\n",
       "      <td>/home/awa/awa_data/12-05_6DReconstruction/13AR...</td>\n",
       "    </tr>\n",
       "    <tr>\n",
       "      <th>8</th>\n",
       "      <td>0.5</td>\n",
       "      <td>0.00</td>\n",
       "      <td>[1.1e-09, 1.3e-09, 1.1e-09, 1.2e-09, 1.3e-09]</td>\n",
       "      <td>1</td>\n",
       "      <td>/home/awa/awa_data/12-05_6DReconstruction/13AR...</td>\n",
       "    </tr>\n",
       "    <tr>\n",
       "      <th>9</th>\n",
       "      <td>1.0</td>\n",
       "      <td>0.00</td>\n",
       "      <td>[1.3e-09, 1.2e-09, 1.3e-09, 1.1e-09, 1.2e-09]</td>\n",
       "      <td>1</td>\n",
       "      <td>/home/awa/awa_data/12-05_6DReconstruction/13AR...</td>\n",
       "    </tr>\n",
       "    <tr>\n",
       "      <th>10</th>\n",
       "      <td>-1.0</td>\n",
       "      <td>-5.63</td>\n",
       "      <td>[1.2e-09, 1.2e-09, 1.2e-09, 1.1e-09, 1.3e-09]</td>\n",
       "      <td>0</td>\n",
       "      <td>/home/awa/awa_data/12-05_6DReconstruction/13AR...</td>\n",
       "    </tr>\n",
       "    <tr>\n",
       "      <th>11</th>\n",
       "      <td>-0.5</td>\n",
       "      <td>-5.63</td>\n",
       "      <td>[1.2e-09, 1.3e-09, 1.1e-09, 1.2e-09, 1.2e-09]</td>\n",
       "      <td>0</td>\n",
       "      <td>/home/awa/awa_data/12-05_6DReconstruction/13AR...</td>\n",
       "    </tr>\n",
       "    <tr>\n",
       "      <th>12</th>\n",
       "      <td>0.0</td>\n",
       "      <td>-5.63</td>\n",
       "      <td>[1.3e-09, 1.3e-09, 1.3e-09, 1.2e-09, 1.2e-09]</td>\n",
       "      <td>0</td>\n",
       "      <td>/home/awa/awa_data/12-05_6DReconstruction/13AR...</td>\n",
       "    </tr>\n",
       "    <tr>\n",
       "      <th>13</th>\n",
       "      <td>0.5</td>\n",
       "      <td>-5.63</td>\n",
       "      <td>[1.1e-09, 1.3e-09, 1.1e-09, 1.1e-09, 1.2e-09]</td>\n",
       "      <td>0</td>\n",
       "      <td>/home/awa/awa_data/12-05_6DReconstruction/13AR...</td>\n",
       "    </tr>\n",
       "    <tr>\n",
       "      <th>14</th>\n",
       "      <td>1.0</td>\n",
       "      <td>-5.63</td>\n",
       "      <td>[1.2e-09, 1.2e-09, 1.1e-09, 1.1e-09, 1.3e-09]</td>\n",
       "      <td>0</td>\n",
       "      <td>/home/awa/awa_data/12-05_6DReconstruction/13AR...</td>\n",
       "    </tr>\n",
       "    <tr>\n",
       "      <th>15</th>\n",
       "      <td>-1.0</td>\n",
       "      <td>-5.63</td>\n",
       "      <td>[1.2e-09, 1.1e-09, 1.3e-09, 1.1e-09, 1.3e-09]</td>\n",
       "      <td>1</td>\n",
       "      <td>/home/awa/awa_data/12-05_6DReconstruction/13AR...</td>\n",
       "    </tr>\n",
       "    <tr>\n",
       "      <th>16</th>\n",
       "      <td>-0.5</td>\n",
       "      <td>-5.63</td>\n",
       "      <td>[1.2e-09, 1.3e-09, 1.2e-09, 1.1e-09, 1.3e-09]</td>\n",
       "      <td>1</td>\n",
       "      <td>/home/awa/awa_data/12-05_6DReconstruction/13AR...</td>\n",
       "    </tr>\n",
       "    <tr>\n",
       "      <th>17</th>\n",
       "      <td>0.0</td>\n",
       "      <td>-5.63</td>\n",
       "      <td>[1.3e-09, 1.2e-09, 1.2e-09, 1.2e-09, 1.2e-09]</td>\n",
       "      <td>1</td>\n",
       "      <td>/home/awa/awa_data/12-05_6DReconstruction/13AR...</td>\n",
       "    </tr>\n",
       "    <tr>\n",
       "      <th>18</th>\n",
       "      <td>0.5</td>\n",
       "      <td>-5.63</td>\n",
       "      <td>[1.2e-09, 1.3e-09, 1.1e-09, 1.3e-09, 1.1e-09]</td>\n",
       "      <td>1</td>\n",
       "      <td>/home/awa/awa_data/12-05_6DReconstruction/13AR...</td>\n",
       "    </tr>\n",
       "    <tr>\n",
       "      <th>19</th>\n",
       "      <td>1.0</td>\n",
       "      <td>-5.63</td>\n",
       "      <td>[1.2e-09, 1.3e-09, 1.3e-09, 1.1e-09, 1.3e-09]</td>\n",
       "      <td>1</td>\n",
       "      <td>/home/awa/awa_data/12-05_6DReconstruction/13AR...</td>\n",
       "    </tr>\n",
       "  </tbody>\n",
       "</table>\n",
       "</div>"
      ],
      "text/plain": [
       "    AWA:Bira3Ctrl:Ch10  AWA:Bira4Ctrl:Ch01   \n",
       "0                 -1.0                0.00  \\\n",
       "1                 -0.5                0.00   \n",
       "2                  0.0                0.00   \n",
       "3                  0.5                0.00   \n",
       "4                  1.0                0.00   \n",
       "5                 -1.0                0.00   \n",
       "6                 -0.5                0.00   \n",
       "7                  0.0                0.00   \n",
       "8                  0.5                0.00   \n",
       "9                  1.0                0.00   \n",
       "10                -1.0               -5.63   \n",
       "11                -0.5               -5.63   \n",
       "12                 0.0               -5.63   \n",
       "13                 0.5               -5.63   \n",
       "14                 1.0               -5.63   \n",
       "15                -1.0               -5.63   \n",
       "16                -0.5               -5.63   \n",
       "17                 0.0               -5.63   \n",
       "18                 0.5               -5.63   \n",
       "19                 1.0               -5.63   \n",
       "\n",
       "                                  AWAVXI11ICT:Ch4  pi:QBCR1:Ch7:EnablePulse   \n",
       "0   [1.3e-09, 1.1e-09, 1.1e-09, 1.3e-09, 1.2e-09]                         0  \\\n",
       "1   [1.3e-09, 1.2e-09, 1.2e-09, 1.3e-09, 1.3e-09]                         0   \n",
       "2   [1.3e-09, 1.3e-09, 1.3e-09, 1.2e-09, 1.3e-09]                         0   \n",
       "3   [1.1e-09, 1.2e-09, 1.3e-09, 1.1e-09, 1.1e-09]                         0   \n",
       "4   [1.1e-09, 1.1e-09, 1.1e-09, 1.2e-09, 1.2e-09]                         0   \n",
       "5   [1.2e-09, 1.3e-09, 1.2e-09, 1.2e-09, 1.3e-09]                         1   \n",
       "6   [1.2e-09, 1.1e-09, 1.3e-09, 1.1e-09, 1.2e-09]                         1   \n",
       "7   [1.2e-09, 1.3e-09, 1.2e-09, 1.3e-09, 1.2e-09]                         1   \n",
       "8   [1.1e-09, 1.3e-09, 1.1e-09, 1.2e-09, 1.3e-09]                         1   \n",
       "9   [1.3e-09, 1.2e-09, 1.3e-09, 1.1e-09, 1.2e-09]                         1   \n",
       "10  [1.2e-09, 1.2e-09, 1.2e-09, 1.1e-09, 1.3e-09]                         0   \n",
       "11  [1.2e-09, 1.3e-09, 1.1e-09, 1.2e-09, 1.2e-09]                         0   \n",
       "12  [1.3e-09, 1.3e-09, 1.3e-09, 1.2e-09, 1.2e-09]                         0   \n",
       "13  [1.1e-09, 1.3e-09, 1.1e-09, 1.1e-09, 1.2e-09]                         0   \n",
       "14  [1.2e-09, 1.2e-09, 1.1e-09, 1.1e-09, 1.3e-09]                         0   \n",
       "15  [1.2e-09, 1.1e-09, 1.3e-09, 1.1e-09, 1.3e-09]                         1   \n",
       "16  [1.2e-09, 1.3e-09, 1.2e-09, 1.1e-09, 1.3e-09]                         1   \n",
       "17  [1.3e-09, 1.2e-09, 1.2e-09, 1.2e-09, 1.2e-09]                         1   \n",
       "18  [1.2e-09, 1.3e-09, 1.1e-09, 1.3e-09, 1.1e-09]                         1   \n",
       "19  [1.2e-09, 1.3e-09, 1.3e-09, 1.1e-09, 1.3e-09]                         1   \n",
       "\n",
       "                                        save_filename  \n",
       "0   /home/awa/awa_data/12-05_6DReconstruction/13AR...  \n",
       "1   /home/awa/awa_data/12-05_6DReconstruction/13AR...  \n",
       "2   /home/awa/awa_data/12-05_6DReconstruction/13AR...  \n",
       "3   /home/awa/awa_data/12-05_6DReconstruction/13AR...  \n",
       "4   /home/awa/awa_data/12-05_6DReconstruction/13AR...  \n",
       "5   /home/awa/awa_data/12-05_6DReconstruction/13AR...  \n",
       "6   /home/awa/awa_data/12-05_6DReconstruction/13AR...  \n",
       "7   /home/awa/awa_data/12-05_6DReconstruction/13AR...  \n",
       "8   /home/awa/awa_data/12-05_6DReconstruction/13AR...  \n",
       "9   /home/awa/awa_data/12-05_6DReconstruction/13AR...  \n",
       "10  /home/awa/awa_data/12-05_6DReconstruction/13AR...  \n",
       "11  /home/awa/awa_data/12-05_6DReconstruction/13AR...  \n",
       "12  /home/awa/awa_data/12-05_6DReconstruction/13AR...  \n",
       "13  /home/awa/awa_data/12-05_6DReconstruction/13AR...  \n",
       "14  /home/awa/awa_data/12-05_6DReconstruction/13AR...  \n",
       "15  /home/awa/awa_data/12-05_6DReconstruction/13AR...  \n",
       "16  /home/awa/awa_data/12-05_6DReconstruction/13AR...  \n",
       "17  /home/awa/awa_data/12-05_6DReconstruction/13AR...  \n",
       "18  /home/awa/awa_data/12-05_6DReconstruction/13AR...  \n",
       "19  /home/awa/awa_data/12-05_6DReconstruction/13AR...  "
      ]
     },
     "execution_count": 4,
     "metadata": {},
     "output_type": "execute_result"
    }
   ],
   "source": [
    "run_data = pd.DataFrame(run_data)\n",
    "run_data"
   ]
  },
  {
   "cell_type": "code",
   "execution_count": 5,
   "metadata": {
    "ExecuteTime": {
     "end_time": "2023-11-29T20:00:00.516074400Z",
     "start_time": "2023-11-29T20:00:00.447882Z"
    },
    "collapsed": false,
    "jupyter": {
     "outputs_hidden": false
    }
   },
   "outputs": [],
   "source": [
    "# create a pivot table out of the data to collect settings\n",
    "pivot_data = pd.pivot(\n",
    "    run_data, index=[tdc_pv_name, dipole_pv_name],\n",
    "    columns=quad_pv_name,\n",
    "    values=\"save_filename\"\n",
    ")"
   ]
  },
  {
   "cell_type": "code",
   "execution_count": 6,
   "metadata": {
    "ExecuteTime": {
     "end_time": "2023-11-29T20:00:00.517074400Z",
     "start_time": "2023-11-29T20:00:00.475883200Z"
    },
    "collapsed": false,
    "jupyter": {
     "outputs_hidden": false
    }
   },
   "outputs": [],
   "source": [
    "# get numpy values in the correct shape\n",
    "num_rows, num_cols = pivot_data.shape\n",
    "\n",
    "fnames = pivot_data.values.reshape(2,2,5)"
   ]
  },
  {
   "cell_type": "code",
   "execution_count": 7,
   "metadata": {
    "ExecuteTime": {
     "end_time": "2023-11-29T20:00:00.517074400Z",
     "start_time": "2023-11-29T20:00:00.484885600Z"
    },
    "collapsed": false,
    "jupyter": {
     "outputs_hidden": false
    }
   },
   "outputs": [],
   "source": [
    "# create function to get data from h5 files\n",
    "import numpy as np\n",
    "def read_file(fname):\n",
    "    with h5py.File(fname) as f:\n",
    "        data_x = np.array((\n",
    "            f[\"images\"].attrs[quad_pv_name],\n",
    "            f[\"images\"].attrs[tdc_pv_name],\n",
    "            f[\"images\"].attrs[dipole_pv_name],\n",
    "        ))\n",
    "        images = f[\"images\"][:]\n",
    "\n",
    "    return data_x, images"
   ]
  },
  {
   "cell_type": "code",
   "execution_count": null,
   "metadata": {},
   "outputs": [],
   "source": [
    "p0c = 62.0e6 # design momentum eV/c\n",
    "C_LIGHT = 299792458\n",
    "TDC_V = 3.7e6 # need to double check this value // verify calibration value\n",
    "BEND_G = 20.0*3.1416/180.0/0.3018 # double check 0.3018 value\n",
    "BEND_ON_PV_VALUE = -5.63 # double check\n",
    "def quad_pv_to_k(quad_pv_value, p0c):\n",
    "    gradient = quad_pv_value*100*1.32e-2/1.29*1.04\n",
    "    beam_rigidity = p0c / C_LIGHT\n",
    "    return gradient / beam_rigidity\n",
    "\n",
    "def tdc_pv_to_v(tdc_pv_value):\n",
    "    if tdc_pv_value == 0:\n",
    "        return 0\n",
    "    elif tdc_pv_value == 1:\n",
    "        return TDC_V\n",
    "    else: \n",
    "        raise ValueError(\"TDC PV value must be 0 or 1\")\n",
    "    \n",
    "def bend_pv_to_g(bend_pv_value):\n",
    "    if bend_pv_value == 0:\n",
    "        return 2.22e-16 #machine epsilon for differentiability\n",
    "    elif bend_pv_value == BEND_ON_PV_VALUE:\n",
    "        return BEND_G\n",
    "    else:\n",
    "        raise ValueError(\"BEND PV value must be 0 or {}\".format(BEND_ON_PV_VALUE))"
   ]
  },
  {
   "cell_type": "code",
   "execution_count": 7,
   "metadata": {
    "ExecuteTime": {
     "end_time": "2023-11-29T20:00:04.217625300Z",
     "start_time": "2023-11-29T20:00:00.508074600Z"
    },
    "collapsed": false,
    "jupyter": {
     "outputs_hidden": false
    }
   },
   "outputs": [
    {
     "name": "stdout",
     "output_type": "stream",
     "text": [
      "[-1.    0.   -5.63]\n",
      "(5, 700, 700)\n",
      "[-0.5   0.   -5.63]\n",
      "(5, 700, 700)\n",
      "[ 0.    0.   -5.63]\n",
      "(5, 700, 700)\n",
      "[ 0.5   0.   -5.63]\n",
      "(5, 700, 700)\n",
      "[ 1.    0.   -5.63]\n",
      "(5, 700, 700)\n",
      "[-1.  0.  0.]\n",
      "(5, 700, 700)\n",
      "[-0.5  0.   0. ]\n",
      "(5, 700, 700)\n",
      "[0. 0. 0.]\n",
      "(5, 700, 700)\n",
      "[0.5 0.  0. ]\n",
      "(5, 700, 700)\n",
      "[1. 0. 0.]\n",
      "(5, 700, 700)\n",
      "[-1.    1.   -5.63]\n",
      "(5, 700, 700)\n",
      "[-0.5   1.   -5.63]\n",
      "(5, 700, 700)\n",
      "[ 0.    1.   -5.63]\n",
      "(5, 700, 700)\n",
      "[ 0.5   1.   -5.63]\n",
      "(5, 700, 700)\n",
      "[ 1.    1.   -5.63]\n",
      "(5, 700, 700)\n",
      "[-1.  1.  0.]\n",
      "(5, 700, 700)\n",
      "[-0.5  1.   0. ]\n",
      "(5, 700, 700)\n",
      "[0. 1. 0.]\n",
      "(5, 700, 700)\n",
      "[0.5 1.  0. ]\n",
      "(5, 700, 700)\n",
      "[1. 1. 0.]\n",
      "(5, 700, 700)\n"
     ]
    }
   ],
   "source": [
    "train_x = []\n",
    "train_x_physical_units = []\n",
    "train_y = []\n",
    "for i in range(len(fnames)):\n",
    "    tx = []\n",
    "    txp = []\n",
    "    ty = []\n",
    "    for j in range(len(fnames[0])):\n",
    "        ttx = []\n",
    "        ttxp = []\n",
    "        tty = []\n",
    "        for k in range(len(fnames[0,0])):\n",
    "            fname_list = os.path.split(fnames[i,j,k])\n",
    "            fname_list = list(fname_list[:-1]) + [\"reconstruction_scan\", fname_list[-1]]\n",
    "            fname = os.path.join(*fname_list)\n",
    "            \n",
    "            data_x, images = read_file(fname)\n",
    "\n",
    "            print(data_x)\n",
    "            k = quad_pv_to_k(data_x[0])\n",
    "            v = tdc_pv_to_v(data_x[1])\n",
    "            g = bend_pv_to_g(data_x[2])\n",
    "            data_x_physical_units = [k, v, g]\n",
    "            print(data_x_physical_units)\n",
    "            print(images.shape)\n",
    "\n",
    "            ttx += [data_x]\n",
    "            ttxp += [data_x_physical_units]\n",
    "            tty += [images]\n",
    "\n",
    "        tx += [ttx]\n",
    "        txp += [ttxp]\n",
    "        ty += [tty]\n",
    "\n",
    "    train_x += [tx]\n",
    "    train_x_physical_units += [txp]\n",
    "    train_y += [ty]\n",
    "\n",
    "train_x = np.array(train_x).transpose([2,0,1,3])\n",
    "train_x_physical_units = np.array(train_x_physical_units).transpose([2,0,1,3])\n",
    "train_y = np.array(train_y).transpose([2,0,1,3,4,5])\n",
    "\n",
    "##\n",
    "# params: [number of quad strengths, number of tdc voltages (2, off/on), number of dipole angles (2, off/on),\n",
    "# number of scanning elements (3)]\n",
    "# images: [number of quad strengths, number of tdc voltages (2, off/on), number of\n",
    "# dipole angles (2, off/on), number of images per parameter configuration, width in pixels, height in pixels]"
   ]
  },
  {
   "cell_type": "code",
   "execution_count": 13,
   "metadata": {
    "ExecuteTime": {
     "end_time": "2023-11-29T20:00:04.233591Z",
     "start_time": "2023-11-29T20:00:04.220591900Z"
    },
    "collapsed": false,
    "jupyter": {
     "outputs_hidden": false
    }
   },
   "outputs": [
    {
     "data": {
      "text/plain": [
       "(5, 2, 2, 3)"
      ]
     },
     "execution_count": 13,
     "metadata": {},
     "output_type": "execute_result"
    }
   ],
   "source": [
    "train_x.shape"
   ]
  },
  {
   "cell_type": "code",
   "execution_count": null,
   "metadata": {},
   "outputs": [],
   "source": [
    "train_x_physical_units.shape"
   ]
  },
  {
   "cell_type": "code",
   "execution_count": null,
   "metadata": {},
   "outputs": [],
   "source": []
  },
  {
   "cell_type": "code",
   "execution_count": 9,
   "metadata": {
    "ExecuteTime": {
     "end_time": "2023-11-29T20:00:04.276675400Z",
     "start_time": "2023-11-29T20:00:04.236593600Z"
    },
    "collapsed": false,
    "jupyter": {
     "outputs_hidden": false
    }
   },
   "outputs": [
    {
     "data": {
      "text/plain": [
       "(5, 2, 2, 5, 700, 700)"
      ]
     },
     "execution_count": 14,
     "metadata": {},
     "output_type": "execute_result"
    }
   ],
   "source": [
    "train_y.shape\n"
   ]
  },
  {
   "cell_type": "code",
   "execution_count": 15,
   "metadata": {
    "ExecuteTime": {
     "end_time": "2023-11-29T20:00:04.276675400Z",
     "start_time": "2023-11-29T20:00:04.249595600Z"
    },
    "collapsed": false,
    "jupyter": {
     "outputs_hidden": false
    }
   },
   "outputs": [
    {
     "data": {
      "text/plain": [
       "array([[[-1.  ,  0.  , -5.63],\n",
       "        [-1.  ,  0.  ,  0.  ]],\n",
       "\n",
       "       [[-1.  ,  1.  , -5.63],\n",
       "        [-1.  ,  1.  ,  0.  ]]])"
      ]
     },
     "execution_count": 15,
     "metadata": {},
     "output_type": "execute_result"
    }
   ],
   "source": [
    "train_x[0]"
   ]
  },
  {
   "cell_type": "code",
   "execution_count": null,
   "metadata": {
    "ExecuteTime": {
     "end_time": "2023-11-29T20:00:04.282621500Z",
     "start_time": "2023-11-29T20:00:04.265621Z"
    },
    "collapsed": false,
    "jupyter": {
     "outputs_hidden": false
    }
   },
   "outputs": [],
   "source": []
  }
 ],
 "metadata": {
  "kernelspec": {
   "display_name": "Python 3 (ipykernel)",
   "language": "python",
   "name": "python3"
  },
  "language_info": {
   "codemirror_mode": {
    "name": "ipython",
    "version": 3
   },
   "file_extension": ".py",
   "mimetype": "text/x-python",
   "name": "python",
   "nbconvert_exporter": "python",
   "pygments_lexer": "ipython3",
   "version": "3.9.18"
  }
 },
 "nbformat": 4,
 "nbformat_minor": 4
}
