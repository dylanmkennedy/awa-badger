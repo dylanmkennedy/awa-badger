{
 "cells": [
  {
   "cell_type": "code",
   "execution_count": 1,
   "metadata": {
    "ExecuteTime": {
     "end_time": "2023-11-29T20:00:00.360615Z",
     "start_time": "2023-11-29T19:59:59.954550200Z"
    }
   },
   "outputs": [],
   "source": [
    "import os.path\n",
    "\n",
    "import h5py\n",
    "import pandas as pd\n",
    "import yaml"
   ]
  },
  {
   "cell_type": "code",
   "execution_count": 2,
   "metadata": {
    "ExecuteTime": {
     "end_time": "2023-11-29T20:00:00.405881100Z",
     "start_time": "2023-11-29T20:00:00.397910100Z"
    },
    "collapsed": false,
    "jupyter": {
     "outputs_hidden": false
    }
   },
   "outputs": [],
   "source": [
    "# load data from image files according the the yaml file\n",
    "path = [\"..\",\"..\",\"run_data\",\"2023_11_17\"]\n",
    "\n",
    "run_data = yaml.safe_load(open(os.path.join(*path, \"data.yml\")))"
   ]
  },
  {
   "cell_type": "code",
   "execution_count": 3,
   "metadata": {
    "ExecuteTime": {
     "end_time": "2023-11-29T20:00:00.440883Z",
     "start_time": "2023-11-29T20:00:00.408883400Z"
    },
    "collapsed": false,
    "jupyter": {
     "outputs_hidden": false
    }
   },
   "outputs": [
    {
     "data": {
      "text/html": [
       "<div>\n",
       "<style scoped>\n",
       "    .dataframe tbody tr th:only-of-type {\n",
       "        vertical-align: middle;\n",
       "    }\n",
       "\n",
       "    .dataframe tbody tr th {\n",
       "        vertical-align: top;\n",
       "    }\n",
       "\n",
       "    .dataframe thead th {\n",
       "        text-align: right;\n",
       "    }\n",
       "</style>\n",
       "<table border=\"1\" class=\"dataframe\">\n",
       "  <thead>\n",
       "    <tr style=\"text-align: right;\">\n",
       "      <th></th>\n",
       "      <th>ICT1</th>\n",
       "      <th>ICT2</th>\n",
       "      <th>dipole_name</th>\n",
       "      <th>quad_pv_name</th>\n",
       "      <th>save_filename</th>\n",
       "      <th>tdc_name</th>\n",
       "    </tr>\n",
       "  </thead>\n",
       "  <tbody>\n",
       "    <tr>\n",
       "      <th>0</th>\n",
       "      <td>[1.0427096863, 1.0504931731, 1.0825825874, 0.9...</td>\n",
       "      <td>[1.0814401273, 0.9198483482, 1.1175731477, 0.9...</td>\n",
       "      <td>0</td>\n",
       "      <td>0.0</td>\n",
       "      <td>../run_data/2023_11_17/13ARV1_1701445341.h5</td>\n",
       "      <td>0</td>\n",
       "    </tr>\n",
       "    <tr>\n",
       "      <th>1</th>\n",
       "      <td>[1.0676237845, 0.9739818218, 0.9364733119, 0.9...</td>\n",
       "      <td>[1.080357061, 1.0241084938, 1.0472555984, 1.03...</td>\n",
       "      <td>0</td>\n",
       "      <td>2.5</td>\n",
       "      <td>../run_data/2023_11_17/13ARV1_1701445355.h5</td>\n",
       "      <td>0</td>\n",
       "    </tr>\n",
       "    <tr>\n",
       "      <th>2</th>\n",
       "      <td>[1.0460149425, 1.0618973806, 1.0127526811, 1.0...</td>\n",
       "      <td>[1.2751877304, 0.929357092, 1.1565823723, 1.06...</td>\n",
       "      <td>0</td>\n",
       "      <td>5.0</td>\n",
       "      <td>../run_data/2023_11_17/13ARV1_1701445373.h5</td>\n",
       "      <td>0</td>\n",
       "    </tr>\n",
       "    <tr>\n",
       "      <th>3</th>\n",
       "      <td>[1.090784506, 1.0681228329, 0.9262877618, 0.96...</td>\n",
       "      <td>[1.1095946306, 0.8587251235, 0.9177845897, 1.0...</td>\n",
       "      <td>0</td>\n",
       "      <td>7.5</td>\n",
       "      <td>../run_data/2023_11_17/13ARV1_1701445389.h5</td>\n",
       "      <td>0</td>\n",
       "    </tr>\n",
       "    <tr>\n",
       "      <th>4</th>\n",
       "      <td>[1.0490607443, 0.9502193834, 0.9653901883, 1.0...</td>\n",
       "      <td>[1.1298700375, 1.1682520977, 0.9567565038, 0.9...</td>\n",
       "      <td>0</td>\n",
       "      <td>10.0</td>\n",
       "      <td>../run_data/2023_11_17/13ARV1_1701445408.h5</td>\n",
       "      <td>0</td>\n",
       "    </tr>\n",
       "    <tr>\n",
       "      <th>5</th>\n",
       "      <td>[0.9110713952, 1.0075914083, 1.0202011958, 0.9...</td>\n",
       "      <td>[0.9549402666, 0.9914910579, 1.0659089712, 0.7...</td>\n",
       "      <td>0</td>\n",
       "      <td>0.0</td>\n",
       "      <td>../run_data/2023_11_17/13ARV1_1701445427.h5</td>\n",
       "      <td>1</td>\n",
       "    </tr>\n",
       "    <tr>\n",
       "      <th>6</th>\n",
       "      <td>[0.9901213174, 1.0696060622, 0.9750447836, 1.0...</td>\n",
       "      <td>[0.9334081647, 1.1118080778, 0.9468162725, 1.0...</td>\n",
       "      <td>0</td>\n",
       "      <td>2.5</td>\n",
       "      <td>../run_data/2023_11_17/13ARV1_1701445441.h5</td>\n",
       "      <td>1</td>\n",
       "    </tr>\n",
       "    <tr>\n",
       "      <th>7</th>\n",
       "      <td>[1.0177320169, 0.9980530839, 1.0033897109, 1.0...</td>\n",
       "      <td>[1.0415143617, 0.9508604815, 1.0718967041, 0.9...</td>\n",
       "      <td>0</td>\n",
       "      <td>5.0</td>\n",
       "      <td>../run_data/2023_11_17/13ARV1_1701445459.h5</td>\n",
       "      <td>1</td>\n",
       "    </tr>\n",
       "    <tr>\n",
       "      <th>8</th>\n",
       "      <td>[0.9229568337, 0.9825185177, 1.0987707074, 0.9...</td>\n",
       "      <td>[0.8736014362, 0.8242793075, 0.9892559941, 0.8...</td>\n",
       "      <td>0</td>\n",
       "      <td>7.5</td>\n",
       "      <td>../run_data/2023_11_17/13ARV1_1701445472.h5</td>\n",
       "      <td>1</td>\n",
       "    </tr>\n",
       "    <tr>\n",
       "      <th>9</th>\n",
       "      <td>[0.9580267246, 1.0433826054, 1.0311460607, 1.0...</td>\n",
       "      <td>[1.0112351844, 0.9328646501, 0.8445165334, 1.0...</td>\n",
       "      <td>0</td>\n",
       "      <td>10.0</td>\n",
       "      <td>../run_data/2023_11_17/13ARV1_1701445489.h5</td>\n",
       "      <td>1</td>\n",
       "    </tr>\n",
       "    <tr>\n",
       "      <th>10</th>\n",
       "      <td>[1.0718008312, 0.9987077148, 1.0901498583, 0.9...</td>\n",
       "      <td>[1.0411395537, 1.0160003231, 0.8868145853, 1.0...</td>\n",
       "      <td>2</td>\n",
       "      <td>0.0</td>\n",
       "      <td>../run_data/2023_11_17/13ARV1_1701445508.h5</td>\n",
       "      <td>0</td>\n",
       "    </tr>\n",
       "    <tr>\n",
       "      <th>11</th>\n",
       "      <td>[0.9214838122, 0.9229797997, 1.01468956, 1.063...</td>\n",
       "      <td>[0.900487822, 0.9676567705, 0.8570575697, 0.76...</td>\n",
       "      <td>2</td>\n",
       "      <td>2.5</td>\n",
       "      <td>../run_data/2023_11_17/13ARV1_1701445522.h5</td>\n",
       "      <td>0</td>\n",
       "    </tr>\n",
       "    <tr>\n",
       "      <th>12</th>\n",
       "      <td>[0.9812099725, 1.0258593265, 1.0738814294, 0.9...</td>\n",
       "      <td>[0.9327017874, 0.8612053577, 0.9515185191, 0.9...</td>\n",
       "      <td>2</td>\n",
       "      <td>5.0</td>\n",
       "      <td>../run_data/2023_11_17/13ARV1_1701445541.h5</td>\n",
       "      <td>0</td>\n",
       "    </tr>\n",
       "    <tr>\n",
       "      <th>13</th>\n",
       "      <td>[1.0657965445, 1.0785103639, 0.95638151, 1.055...</td>\n",
       "      <td>[0.9317148626, 0.8735402395, 0.8016833827, 0.8...</td>\n",
       "      <td>2</td>\n",
       "      <td>7.5</td>\n",
       "      <td>../run_data/2023_11_17/13ARV1_1701445555.h5</td>\n",
       "      <td>0</td>\n",
       "    </tr>\n",
       "    <tr>\n",
       "      <th>14</th>\n",
       "      <td>[1.0341170617, 0.9313165211, 1.0939618181, 0.9...</td>\n",
       "      <td>[1.1634572507, 0.9791196751, 1.0297586442, 0.9...</td>\n",
       "      <td>2</td>\n",
       "      <td>10.0</td>\n",
       "      <td>../run_data/2023_11_17/13ARV1_1701445570.h5</td>\n",
       "      <td>0</td>\n",
       "    </tr>\n",
       "    <tr>\n",
       "      <th>15</th>\n",
       "      <td>[1.0785579698, 1.0043248186, 0.9609949569, 1.0...</td>\n",
       "      <td>[1.022453092, 1.0922133805, 1.1386129132, 1.00...</td>\n",
       "      <td>2</td>\n",
       "      <td>0.0</td>\n",
       "      <td>../run_data/2023_11_17/13ARV1_1701445587.h5</td>\n",
       "      <td>1</td>\n",
       "    </tr>\n",
       "    <tr>\n",
       "      <th>16</th>\n",
       "      <td>[0.9228348561, 1.0694188327, 1.0391659888, 0.9...</td>\n",
       "      <td>[1.0532985679, 0.9626086818, 0.9616730738, 1.0...</td>\n",
       "      <td>2</td>\n",
       "      <td>2.5</td>\n",
       "      <td>../run_data/2023_11_17/13ARV1_1701445600.h5</td>\n",
       "      <td>1</td>\n",
       "    </tr>\n",
       "    <tr>\n",
       "      <th>17</th>\n",
       "      <td>[1.049860586, 1.0834884616, 0.9547179596, 1.09...</td>\n",
       "      <td>[1.0540155144, 1.0983000638, 0.949269963, 1.05...</td>\n",
       "      <td>2</td>\n",
       "      <td>5.0</td>\n",
       "      <td>../run_data/2023_11_17/13ARV1_1701445620.h5</td>\n",
       "      <td>1</td>\n",
       "    </tr>\n",
       "    <tr>\n",
       "      <th>18</th>\n",
       "      <td>[1.061341542, 0.9152973687, 0.950122527, 0.962...</td>\n",
       "      <td>[0.9675409959, 1.2188272373, 0.9581055116, 0.9...</td>\n",
       "      <td>2</td>\n",
       "      <td>7.5</td>\n",
       "      <td>../run_data/2023_11_17/13ARV1_1701445643.h5</td>\n",
       "      <td>1</td>\n",
       "    </tr>\n",
       "    <tr>\n",
       "      <th>19</th>\n",
       "      <td>[1.0684011495, 1.0380860039, 1.0050458506, 1.0...</td>\n",
       "      <td>[0.8253404187, 0.8991054524, 1.1402500226, 1.0...</td>\n",
       "      <td>2</td>\n",
       "      <td>10.0</td>\n",
       "      <td>../run_data/2023_11_17/13ARV1_1701445661.h5</td>\n",
       "      <td>1</td>\n",
       "    </tr>\n",
       "  </tbody>\n",
       "</table>\n",
       "</div>"
      ],
      "text/plain": [
       "                                                 ICT1   \n",
       "0   [1.0427096863, 1.0504931731, 1.0825825874, 0.9...  \\\n",
       "1   [1.0676237845, 0.9739818218, 0.9364733119, 0.9...   \n",
       "2   [1.0460149425, 1.0618973806, 1.0127526811, 1.0...   \n",
       "3   [1.090784506, 1.0681228329, 0.9262877618, 0.96...   \n",
       "4   [1.0490607443, 0.9502193834, 0.9653901883, 1.0...   \n",
       "5   [0.9110713952, 1.0075914083, 1.0202011958, 0.9...   \n",
       "6   [0.9901213174, 1.0696060622, 0.9750447836, 1.0...   \n",
       "7   [1.0177320169, 0.9980530839, 1.0033897109, 1.0...   \n",
       "8   [0.9229568337, 0.9825185177, 1.0987707074, 0.9...   \n",
       "9   [0.9580267246, 1.0433826054, 1.0311460607, 1.0...   \n",
       "10  [1.0718008312, 0.9987077148, 1.0901498583, 0.9...   \n",
       "11  [0.9214838122, 0.9229797997, 1.01468956, 1.063...   \n",
       "12  [0.9812099725, 1.0258593265, 1.0738814294, 0.9...   \n",
       "13  [1.0657965445, 1.0785103639, 0.95638151, 1.055...   \n",
       "14  [1.0341170617, 0.9313165211, 1.0939618181, 0.9...   \n",
       "15  [1.0785579698, 1.0043248186, 0.9609949569, 1.0...   \n",
       "16  [0.9228348561, 1.0694188327, 1.0391659888, 0.9...   \n",
       "17  [1.049860586, 1.0834884616, 0.9547179596, 1.09...   \n",
       "18  [1.061341542, 0.9152973687, 0.950122527, 0.962...   \n",
       "19  [1.0684011495, 1.0380860039, 1.0050458506, 1.0...   \n",
       "\n",
       "                                                 ICT2  dipole_name   \n",
       "0   [1.0814401273, 0.9198483482, 1.1175731477, 0.9...            0  \\\n",
       "1   [1.080357061, 1.0241084938, 1.0472555984, 1.03...            0   \n",
       "2   [1.2751877304, 0.929357092, 1.1565823723, 1.06...            0   \n",
       "3   [1.1095946306, 0.8587251235, 0.9177845897, 1.0...            0   \n",
       "4   [1.1298700375, 1.1682520977, 0.9567565038, 0.9...            0   \n",
       "5   [0.9549402666, 0.9914910579, 1.0659089712, 0.7...            0   \n",
       "6   [0.9334081647, 1.1118080778, 0.9468162725, 1.0...            0   \n",
       "7   [1.0415143617, 0.9508604815, 1.0718967041, 0.9...            0   \n",
       "8   [0.8736014362, 0.8242793075, 0.9892559941, 0.8...            0   \n",
       "9   [1.0112351844, 0.9328646501, 0.8445165334, 1.0...            0   \n",
       "10  [1.0411395537, 1.0160003231, 0.8868145853, 1.0...            2   \n",
       "11  [0.900487822, 0.9676567705, 0.8570575697, 0.76...            2   \n",
       "12  [0.9327017874, 0.8612053577, 0.9515185191, 0.9...            2   \n",
       "13  [0.9317148626, 0.8735402395, 0.8016833827, 0.8...            2   \n",
       "14  [1.1634572507, 0.9791196751, 1.0297586442, 0.9...            2   \n",
       "15  [1.022453092, 1.0922133805, 1.1386129132, 1.00...            2   \n",
       "16  [1.0532985679, 0.9626086818, 0.9616730738, 1.0...            2   \n",
       "17  [1.0540155144, 1.0983000638, 0.949269963, 1.05...            2   \n",
       "18  [0.9675409959, 1.2188272373, 0.9581055116, 0.9...            2   \n",
       "19  [0.8253404187, 0.8991054524, 1.1402500226, 1.0...            2   \n",
       "\n",
       "    quad_pv_name                                save_filename  tdc_name  \n",
       "0            0.0  ../run_data/2023_11_17/13ARV1_1701445341.h5         0  \n",
       "1            2.5  ../run_data/2023_11_17/13ARV1_1701445355.h5         0  \n",
       "2            5.0  ../run_data/2023_11_17/13ARV1_1701445373.h5         0  \n",
       "3            7.5  ../run_data/2023_11_17/13ARV1_1701445389.h5         0  \n",
       "4           10.0  ../run_data/2023_11_17/13ARV1_1701445408.h5         0  \n",
       "5            0.0  ../run_data/2023_11_17/13ARV1_1701445427.h5         1  \n",
       "6            2.5  ../run_data/2023_11_17/13ARV1_1701445441.h5         1  \n",
       "7            5.0  ../run_data/2023_11_17/13ARV1_1701445459.h5         1  \n",
       "8            7.5  ../run_data/2023_11_17/13ARV1_1701445472.h5         1  \n",
       "9           10.0  ../run_data/2023_11_17/13ARV1_1701445489.h5         1  \n",
       "10           0.0  ../run_data/2023_11_17/13ARV1_1701445508.h5         0  \n",
       "11           2.5  ../run_data/2023_11_17/13ARV1_1701445522.h5         0  \n",
       "12           5.0  ../run_data/2023_11_17/13ARV1_1701445541.h5         0  \n",
       "13           7.5  ../run_data/2023_11_17/13ARV1_1701445555.h5         0  \n",
       "14          10.0  ../run_data/2023_11_17/13ARV1_1701445570.h5         0  \n",
       "15           0.0  ../run_data/2023_11_17/13ARV1_1701445587.h5         1  \n",
       "16           2.5  ../run_data/2023_11_17/13ARV1_1701445600.h5         1  \n",
       "17           5.0  ../run_data/2023_11_17/13ARV1_1701445620.h5         1  \n",
       "18           7.5  ../run_data/2023_11_17/13ARV1_1701445643.h5         1  \n",
       "19          10.0  ../run_data/2023_11_17/13ARV1_1701445661.h5         1  "
      ]
     },
     "execution_count": 3,
     "metadata": {},
     "output_type": "execute_result"
    }
   ],
   "source": [
    "run_data = pd.DataFrame(run_data)\n",
    "run_data"
   ]
  },
  {
   "cell_type": "code",
   "execution_count": 4,
   "metadata": {
    "ExecuteTime": {
     "end_time": "2023-11-29T20:00:00.516074400Z",
     "start_time": "2023-11-29T20:00:00.447882Z"
    },
    "collapsed": false,
    "jupyter": {
     "outputs_hidden": false
    }
   },
   "outputs": [],
   "source": [
    "# create a pivot table out of the data to collect settings\n",
    "pivot_data = pd.pivot(\n",
    "    run_data, index=[\"tdc_name\", \"dipole_name\"],\n",
    "    columns=\"quad_pv_name\",\n",
    "    values=\"save_filename\"\n",
    ")"
   ]
  },
  {
   "cell_type": "code",
   "execution_count": 5,
   "metadata": {
    "ExecuteTime": {
     "end_time": "2023-11-29T20:00:00.517074400Z",
     "start_time": "2023-11-29T20:00:00.475883200Z"
    },
    "collapsed": false,
    "jupyter": {
     "outputs_hidden": false
    }
   },
   "outputs": [],
   "source": [
    "# get numpy values in the correct shape\n",
    "num_rows, num_cols = pivot_data.shape\n",
    "\n",
    "fnames = pivot_data.values.reshape(2,2,5)"
   ]
  },
  {
   "cell_type": "code",
   "execution_count": 6,
   "metadata": {
    "ExecuteTime": {
     "end_time": "2023-11-29T20:00:00.517074400Z",
     "start_time": "2023-11-29T20:00:00.484885600Z"
    },
    "collapsed": false,
    "jupyter": {
     "outputs_hidden": false
    }
   },
   "outputs": [],
   "source": [
    "# create function to get data from h5 files\n",
    "import numpy as np\n",
    "def read_file(fname):\n",
    "    with h5py.File(fname) as f:\n",
    "        data_x = np.array((\n",
    "            f[\"images\"].attrs[\"quad_pv_name\"],\n",
    "            f[\"images\"].attrs[\"tdc_name\"],\n",
    "            f[\"images\"].attrs[\"dipole_name\"],\n",
    "        ))\n",
    "        images = f[\"images\"][:]\n",
    "\n",
    "    return data_x, images"
   ]
  },
  {
   "cell_type": "code",
   "execution_count": null,
   "metadata": {},
   "outputs": [],
   "source": [
    "p0c = 62.0e6 # design momentum eV/c\n",
    "C_LIGHT = 299792458\n",
    "TDC_V = 3.7e6 # need to double check this value // verify calibration value\n",
    "BEND_G = 20.0*3.1416/180.0/0.3018 # double check 0.3018 value\n",
    "def quad_pv_to_k(quad_pv_value, p0c):\n",
    "    gradient = quad_pv_value*100*1.32e-2/1.29*1.04\n",
    "    beam_rigidity = p0c / C_LIGHT\n",
    "    return gradient / beam_rigidity\n",
    "\n",
    "def tdc_pv_to_v(tdc_pv_value):\n",
    "    if tdc_pv_value == 0:\n",
    "        return 0\n",
    "    elif tdc_pv_value == 1:\n",
    "        return TDC_V\n",
    "    else: \n",
    "        raise ValueError(\"TDC PV value must be 0 or 1\")\n",
    "    \n",
    "def bend_pv_to_g(bend_pv_value):\n",
    "    if bend_pv_value == 0:\n",
    "        return 2.22e-16 #machine epsilon for differentiability\n",
    "    elif bend_pv_value == 2:\n",
    "        return BEND_G\n",
    "    else:\n",
    "        raise ValueError(\"BEND PV value must be 0 or 1\")"
   ]
  },
  {
   "cell_type": "code",
   "execution_count": 7,
   "metadata": {
    "ExecuteTime": {
     "end_time": "2023-11-29T20:00:04.217625300Z",
     "start_time": "2023-11-29T20:00:00.508074600Z"
    },
    "collapsed": false,
    "jupyter": {
     "outputs_hidden": false
    }
   },
   "outputs": [
    {
     "name": "stdout",
     "output_type": "stream",
     "text": [
      "[0. 0. 0.]\n",
      "(10, 2000, 2000)\n",
      "[2.5 0.  0. ]\n",
      "(10, 2000, 2000)\n",
      "[5. 0. 0.]\n",
      "(10, 2000, 2000)\n",
      "[7.5 0.  0. ]\n",
      "(10, 2000, 2000)\n",
      "[10.  0.  0.]\n",
      "(10, 2000, 2000)\n",
      "[0. 0. 2.]\n",
      "(10, 2000, 2000)\n",
      "[2.5 0.  2. ]\n",
      "(10, 2000, 2000)\n",
      "[5. 0. 2.]\n",
      "(10, 2000, 2000)\n",
      "[7.5 0.  2. ]\n",
      "(10, 2000, 2000)\n",
      "[10.  0.  2.]\n",
      "(10, 2000, 2000)\n",
      "[0. 1. 0.]\n",
      "(10, 2000, 2000)\n",
      "[2.5 1.  0. ]\n",
      "(10, 2000, 2000)\n",
      "[5. 1. 0.]\n",
      "(10, 2000, 2000)\n",
      "[7.5 1.  0. ]\n",
      "(10, 2000, 2000)\n",
      "[10.  1.  0.]\n",
      "(10, 2000, 2000)\n",
      "[0. 1. 2.]\n",
      "(10, 2000, 2000)\n",
      "[2.5 1.  2. ]\n",
      "(10, 2000, 2000)\n",
      "[5. 1. 2.]\n",
      "(10, 2000, 2000)\n",
      "[7.5 1.  2. ]\n",
      "(10, 2000, 2000)\n",
      "[10.  1.  2.]\n",
      "(10, 2000, 2000)\n"
     ]
    }
   ],
   "source": [
    "train_x = []\n",
    "train_x_physical_units = []\n",
    "train_y = []\n",
    "for i in range(len(fnames)):\n",
    "    tx = []\n",
    "    txp = []\n",
    "    ty = []\n",
    "    for j in range(len(fnames[0])):\n",
    "        ttx = []\n",
    "        ttxp = []\n",
    "        tty = []\n",
    "        for k in range(len(fnames[0,0])):\n",
    "            data_x, images = read_file(\"../\"+fnames[i,j,k])\n",
    "\n",
    "            print(data_x)\n",
    "            k = quad_pv_to_k(data_x[0])\n",
    "            v = tdc_pv_to_v(data_x[1])\n",
    "            g = bend_pv_to_g(data_x[2])\n",
    "            data_x_physical_units = [k, v, g]\n",
    "            print(data_x_physical_units)\n",
    "            print(images.shape)\n",
    "\n",
    "            ttx += [data_x]\n",
    "            ttxp += [data_x_physical_units]\n",
    "            tty += [images]\n",
    "\n",
    "        tx += [ttx]\n",
    "        txp += [ttxp]\n",
    "        ty += [tty]\n",
    "\n",
    "    train_x += [tx]\n",
    "    train_x_physical_units += [txp]\n",
    "    train_y += [ty]\n",
    "\n",
    "train_x = np.array(train_x).transpose([2,0,1,3])\n",
    "train_x_physical_units = np.array(train_x_physical_units).transpose([2,0,1,3])\n",
    "train_y = np.array(train_y).transpose([2,0,1,3,4,5])\n",
    "\n",
    "##\n",
    "# params: [number of quad strengths, number of tdc voltages (2, off/on), number of dipole angles (2, off/on),\n",
    "# number of scanning elements (3)]\n",
    "# images: [number of quad strengths, number of tdc voltages (2, off/on), number of\n",
    "# dipole angles (2, off/on), number of images per parameter configuration, width in pixels, height in pixels]"
   ]
  },
  {
   "cell_type": "code",
   "execution_count": 8,
   "metadata": {
    "ExecuteTime": {
     "end_time": "2023-11-29T20:00:04.233591Z",
     "start_time": "2023-11-29T20:00:04.220591900Z"
    },
    "collapsed": false,
    "jupyter": {
     "outputs_hidden": false
    }
   },
   "outputs": [
    {
     "data": {
      "text/plain": [
       "(5, 2, 2, 3)"
      ]
     },
     "execution_count": 8,
     "metadata": {},
     "output_type": "execute_result"
    }
   ],
   "source": [
    "train_x.shape"
   ]
  },
  {
   "cell_type": "code",
   "execution_count": null,
   "metadata": {},
   "outputs": [],
   "source": [
    "train_x_physical_units.shape"
   ]
  },
  {
   "cell_type": "code",
   "execution_count": null,
   "metadata": {},
   "outputs": [],
   "source": []
  },
  {
   "cell_type": "code",
   "execution_count": 9,
   "metadata": {
    "ExecuteTime": {
     "end_time": "2023-11-29T20:00:04.276675400Z",
     "start_time": "2023-11-29T20:00:04.236593600Z"
    },
    "collapsed": false,
    "jupyter": {
     "outputs_hidden": false
    }
   },
   "outputs": [
    {
     "data": {
      "text/plain": [
       "(5, 2, 2, 10, 2000, 2000)"
      ]
     },
     "execution_count": 9,
     "metadata": {},
     "output_type": "execute_result"
    }
   ],
   "source": [
    "train_y.shape\n"
   ]
  },
  {
   "cell_type": "code",
   "execution_count": 10,
   "metadata": {
    "ExecuteTime": {
     "end_time": "2023-11-29T20:00:04.276675400Z",
     "start_time": "2023-11-29T20:00:04.249595600Z"
    },
    "collapsed": false,
    "jupyter": {
     "outputs_hidden": false
    }
   },
   "outputs": [
    {
     "data": {
      "text/plain": [
       "array([[[0., 0., 0.],\n",
       "        [0., 0., 2.]],\n",
       "\n",
       "       [[0., 1., 0.],\n",
       "        [0., 1., 2.]]])"
      ]
     },
     "execution_count": 10,
     "metadata": {},
     "output_type": "execute_result"
    }
   ],
   "source": [
    "train_x[0]"
   ]
  },
  {
   "cell_type": "code",
   "execution_count": null,
   "metadata": {
    "ExecuteTime": {
     "end_time": "2023-11-29T20:00:04.282621500Z",
     "start_time": "2023-11-29T20:00:04.265621Z"
    },
    "collapsed": false,
    "jupyter": {
     "outputs_hidden": false
    }
   },
   "outputs": [],
   "source": []
  }
 ],
 "metadata": {
  "kernelspec": {
   "display_name": "Python 3 (ipykernel)",
   "language": "python",
   "name": "python3"
  },
  "language_info": {
   "codemirror_mode": {
    "name": "ipython",
    "version": 3
   },
   "file_extension": ".py",
   "mimetype": "text/x-python",
   "name": "python",
   "nbconvert_exporter": "python",
   "pygments_lexer": "ipython3",
   "version": "3.9.18"
  }
 },
 "nbformat": 4,
 "nbformat_minor": 4
}
