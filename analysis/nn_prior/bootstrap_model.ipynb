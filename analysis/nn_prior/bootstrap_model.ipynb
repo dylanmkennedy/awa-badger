{
 "cells": [
  {
   "cell_type": "code",
   "execution_count": 1,
   "id": "aa6bf721",
   "metadata": {
    "ExecuteTime": {
     "end_time": "2023-06-17T20:05:26.022888800Z",
     "start_time": "2023-06-17T20:05:22.390723900Z"
    }
   },
   "outputs": [],
   "source": [
    "import os\n",
    "import yaml\n",
    "import time\n",
    "import torch\n",
    "import torch.nn as nn\n",
    "import torch.optim as optim\n",
    "import torch.nn.functional as F\n",
    "import numpy as np\n",
    "import pandas as pd\n",
    "import matplotlib.pyplot as plt\n",
    "\n",
    "from xopt.vocs import VOCS\n",
    "from xopt.generators.bayesian.models.standard import StandardModelConstructor\n",
    "\n",
    "from botorch.models.transforms import Normalize"
   ]
  },
  {
   "cell_type": "markdown",
   "id": "972e7856",
   "metadata": {},
   "source": [
    "# Read Data from File"
   ]
  },
  {
   "cell_type": "code",
   "execution_count": 2,
   "id": "be227129",
   "metadata": {
    "scrolled": false,
    "ExecuteTime": {
     "end_time": "2023-06-17T20:05:27.117834100Z",
     "start_time": "2023-06-17T20:05:26.025863800Z"
    }
   },
   "outputs": [
    {
     "data": {
      "text/plain": "      13ARV1:Cx  13ARV1:Cx_std   13ARV1:Cy  13ARV1:Cy_std  13ARV1:Sx   \n0    366.741006       1.042786  275.659871       1.078548  49.173776  \\\n2    397.269688       0.930661  326.124423       0.367013  37.662779   \n3    359.242144       0.212839  257.678494       0.867668   8.290947   \n4    359.765084       2.554813  359.018039       1.354696  43.836924   \n8    324.197813       0.523856  335.574353       0.949796  34.920597   \n..          ...            ...         ...            ...        ...   \n330  379.740925       0.334171  254.839659       2.984119  24.750789   \n331  360.410297       0.679712  288.578086       0.295716  73.190952   \n332  364.810155       1.914085  305.388279       0.248109  97.349745   \n333  373.183715       0.428123  274.109694       0.140853   9.384570   \n334  368.256947       0.367588  288.784429       0.675239   9.880494   \n\n     13ARV1:Sx_std  13ARV1:Sy  13ARV1:Sy_std  13ARV1:image1:ArraySize0_RBV   \n0         2.934228  28.826575       1.814375                        1920.0  \\\n2         1.367888  36.723681       1.425068                        1920.0   \n3         0.108205  25.447795       0.211115                        1920.0   \n4         1.588441  42.266556       1.805961                        1920.0   \n8         1.728933  47.167652       1.047655                        1920.0   \n..             ...        ...            ...                           ...   \n330       2.125275  58.038760       4.274663                        1920.0   \n331       3.536619  10.575606       0.141557                        1920.0   \n332       1.987374  11.168152       0.195587                        1920.0   \n333       0.113718  37.039526       0.561171                        1920.0   \n334       0.146349  20.263397       0.329075                        1920.0   \n\n     13ARV1:image1:ArraySize0_RBV_std  ...  AWA:Bira3Ctrl:Ch06  AWA:DAC0:Ch08   \n0                                 0.0  ...            0.000000       5.900000  \\\n2                                 0.0  ...           -0.205224       5.648132   \n3                                 0.0  ...            0.666339       5.740590   \n4                                 0.0  ...           -0.563728       5.651622   \n8                                 0.0  ...            0.764509       5.786961   \n..                                ...  ...                 ...            ...   \n330                               0.0  ...            0.844822       5.858779   \n331                               0.0  ...            0.884273       5.881126   \n332                               0.0  ...            0.290603       5.891154   \n333                               0.0  ...            0.884564       5.824810   \n334                               0.0  ...            1.330727       5.838481   \n\n     AWA:Drive:DS1:Ctrl  AWA:Drive:DS3:Ctrl  AWALLRF:K1:SetPhase   \n0            550.000000          190.000000           246.000000  \\\n2            515.167227          201.626571           244.592257   \n3            534.700417          238.097827           245.257044   \n4            524.219058          240.648635           251.057976   \n8            540.821016          197.484758           240.502847   \n..                  ...                 ...                  ...   \n330          549.817748          193.260737           244.235764   \n331          549.378874          197.164072           245.995864   \n332          549.749476          193.711944           244.451600   \n333          548.414362          195.813235           244.653898   \n334          549.282304          195.219537           243.713745   \n\n     AWAVXI11ICT:Ch1  AWAVXI11ICT:Ch1_std  total_rms_size  xopt_error   \n0       1.000000e-09         1.000000e-10       57.000278       False  \\\n2       1.000000e-09         0.000000e+00       52.603362       False   \n3       1.000000e-09         0.000000e+00       26.764343       False   \n4       1.000000e-09         1.000000e-10       60.894480       False   \n8       9.000000e-10         0.000000e+00       58.687609       False   \n..               ...                  ...             ...         ...   \n330     1.000000e-09         0.000000e+00       63.095952       False   \n331     1.000000e-09         1.000000e-10       73.951057       False   \n332     9.000000e-10         0.000000e+00       97.988267       False   \n333     1.000000e-09         0.000000e+00       38.209902       False   \n334     1.000000e-09         0.000000e+00       22.543944       False   \n\n     xopt_runtime  \n0        6.519966  \n2        9.304709  \n3        6.672761  \n4        6.924069  \n8        6.583808  \n..            ...  \n330      5.926540  \n331      6.853666  \n332     16.119790  \n333      6.133165  \n334      6.758010  \n\n[253 rows x 27 columns]",
      "text/html": "<div>\n<style scoped>\n    .dataframe tbody tr th:only-of-type {\n        vertical-align: middle;\n    }\n\n    .dataframe tbody tr th {\n        vertical-align: top;\n    }\n\n    .dataframe thead th {\n        text-align: right;\n    }\n</style>\n<table border=\"1\" class=\"dataframe\">\n  <thead>\n    <tr style=\"text-align: right;\">\n      <th></th>\n      <th>13ARV1:Cx</th>\n      <th>13ARV1:Cx_std</th>\n      <th>13ARV1:Cy</th>\n      <th>13ARV1:Cy_std</th>\n      <th>13ARV1:Sx</th>\n      <th>13ARV1:Sx_std</th>\n      <th>13ARV1:Sy</th>\n      <th>13ARV1:Sy_std</th>\n      <th>13ARV1:image1:ArraySize0_RBV</th>\n      <th>13ARV1:image1:ArraySize0_RBV_std</th>\n      <th>...</th>\n      <th>AWA:Bira3Ctrl:Ch06</th>\n      <th>AWA:DAC0:Ch08</th>\n      <th>AWA:Drive:DS1:Ctrl</th>\n      <th>AWA:Drive:DS3:Ctrl</th>\n      <th>AWALLRF:K1:SetPhase</th>\n      <th>AWAVXI11ICT:Ch1</th>\n      <th>AWAVXI11ICT:Ch1_std</th>\n      <th>total_rms_size</th>\n      <th>xopt_error</th>\n      <th>xopt_runtime</th>\n    </tr>\n  </thead>\n  <tbody>\n    <tr>\n      <th>0</th>\n      <td>366.741006</td>\n      <td>1.042786</td>\n      <td>275.659871</td>\n      <td>1.078548</td>\n      <td>49.173776</td>\n      <td>2.934228</td>\n      <td>28.826575</td>\n      <td>1.814375</td>\n      <td>1920.0</td>\n      <td>0.0</td>\n      <td>...</td>\n      <td>0.000000</td>\n      <td>5.900000</td>\n      <td>550.000000</td>\n      <td>190.000000</td>\n      <td>246.000000</td>\n      <td>1.000000e-09</td>\n      <td>1.000000e-10</td>\n      <td>57.000278</td>\n      <td>False</td>\n      <td>6.519966</td>\n    </tr>\n    <tr>\n      <th>2</th>\n      <td>397.269688</td>\n      <td>0.930661</td>\n      <td>326.124423</td>\n      <td>0.367013</td>\n      <td>37.662779</td>\n      <td>1.367888</td>\n      <td>36.723681</td>\n      <td>1.425068</td>\n      <td>1920.0</td>\n      <td>0.0</td>\n      <td>...</td>\n      <td>-0.205224</td>\n      <td>5.648132</td>\n      <td>515.167227</td>\n      <td>201.626571</td>\n      <td>244.592257</td>\n      <td>1.000000e-09</td>\n      <td>0.000000e+00</td>\n      <td>52.603362</td>\n      <td>False</td>\n      <td>9.304709</td>\n    </tr>\n    <tr>\n      <th>3</th>\n      <td>359.242144</td>\n      <td>0.212839</td>\n      <td>257.678494</td>\n      <td>0.867668</td>\n      <td>8.290947</td>\n      <td>0.108205</td>\n      <td>25.447795</td>\n      <td>0.211115</td>\n      <td>1920.0</td>\n      <td>0.0</td>\n      <td>...</td>\n      <td>0.666339</td>\n      <td>5.740590</td>\n      <td>534.700417</td>\n      <td>238.097827</td>\n      <td>245.257044</td>\n      <td>1.000000e-09</td>\n      <td>0.000000e+00</td>\n      <td>26.764343</td>\n      <td>False</td>\n      <td>6.672761</td>\n    </tr>\n    <tr>\n      <th>4</th>\n      <td>359.765084</td>\n      <td>2.554813</td>\n      <td>359.018039</td>\n      <td>1.354696</td>\n      <td>43.836924</td>\n      <td>1.588441</td>\n      <td>42.266556</td>\n      <td>1.805961</td>\n      <td>1920.0</td>\n      <td>0.0</td>\n      <td>...</td>\n      <td>-0.563728</td>\n      <td>5.651622</td>\n      <td>524.219058</td>\n      <td>240.648635</td>\n      <td>251.057976</td>\n      <td>1.000000e-09</td>\n      <td>1.000000e-10</td>\n      <td>60.894480</td>\n      <td>False</td>\n      <td>6.924069</td>\n    </tr>\n    <tr>\n      <th>8</th>\n      <td>324.197813</td>\n      <td>0.523856</td>\n      <td>335.574353</td>\n      <td>0.949796</td>\n      <td>34.920597</td>\n      <td>1.728933</td>\n      <td>47.167652</td>\n      <td>1.047655</td>\n      <td>1920.0</td>\n      <td>0.0</td>\n      <td>...</td>\n      <td>0.764509</td>\n      <td>5.786961</td>\n      <td>540.821016</td>\n      <td>197.484758</td>\n      <td>240.502847</td>\n      <td>9.000000e-10</td>\n      <td>0.000000e+00</td>\n      <td>58.687609</td>\n      <td>False</td>\n      <td>6.583808</td>\n    </tr>\n    <tr>\n      <th>...</th>\n      <td>...</td>\n      <td>...</td>\n      <td>...</td>\n      <td>...</td>\n      <td>...</td>\n      <td>...</td>\n      <td>...</td>\n      <td>...</td>\n      <td>...</td>\n      <td>...</td>\n      <td>...</td>\n      <td>...</td>\n      <td>...</td>\n      <td>...</td>\n      <td>...</td>\n      <td>...</td>\n      <td>...</td>\n      <td>...</td>\n      <td>...</td>\n      <td>...</td>\n      <td>...</td>\n    </tr>\n    <tr>\n      <th>330</th>\n      <td>379.740925</td>\n      <td>0.334171</td>\n      <td>254.839659</td>\n      <td>2.984119</td>\n      <td>24.750789</td>\n      <td>2.125275</td>\n      <td>58.038760</td>\n      <td>4.274663</td>\n      <td>1920.0</td>\n      <td>0.0</td>\n      <td>...</td>\n      <td>0.844822</td>\n      <td>5.858779</td>\n      <td>549.817748</td>\n      <td>193.260737</td>\n      <td>244.235764</td>\n      <td>1.000000e-09</td>\n      <td>0.000000e+00</td>\n      <td>63.095952</td>\n      <td>False</td>\n      <td>5.926540</td>\n    </tr>\n    <tr>\n      <th>331</th>\n      <td>360.410297</td>\n      <td>0.679712</td>\n      <td>288.578086</td>\n      <td>0.295716</td>\n      <td>73.190952</td>\n      <td>3.536619</td>\n      <td>10.575606</td>\n      <td>0.141557</td>\n      <td>1920.0</td>\n      <td>0.0</td>\n      <td>...</td>\n      <td>0.884273</td>\n      <td>5.881126</td>\n      <td>549.378874</td>\n      <td>197.164072</td>\n      <td>245.995864</td>\n      <td>1.000000e-09</td>\n      <td>1.000000e-10</td>\n      <td>73.951057</td>\n      <td>False</td>\n      <td>6.853666</td>\n    </tr>\n    <tr>\n      <th>332</th>\n      <td>364.810155</td>\n      <td>1.914085</td>\n      <td>305.388279</td>\n      <td>0.248109</td>\n      <td>97.349745</td>\n      <td>1.987374</td>\n      <td>11.168152</td>\n      <td>0.195587</td>\n      <td>1920.0</td>\n      <td>0.0</td>\n      <td>...</td>\n      <td>0.290603</td>\n      <td>5.891154</td>\n      <td>549.749476</td>\n      <td>193.711944</td>\n      <td>244.451600</td>\n      <td>9.000000e-10</td>\n      <td>0.000000e+00</td>\n      <td>97.988267</td>\n      <td>False</td>\n      <td>16.119790</td>\n    </tr>\n    <tr>\n      <th>333</th>\n      <td>373.183715</td>\n      <td>0.428123</td>\n      <td>274.109694</td>\n      <td>0.140853</td>\n      <td>9.384570</td>\n      <td>0.113718</td>\n      <td>37.039526</td>\n      <td>0.561171</td>\n      <td>1920.0</td>\n      <td>0.0</td>\n      <td>...</td>\n      <td>0.884564</td>\n      <td>5.824810</td>\n      <td>548.414362</td>\n      <td>195.813235</td>\n      <td>244.653898</td>\n      <td>1.000000e-09</td>\n      <td>0.000000e+00</td>\n      <td>38.209902</td>\n      <td>False</td>\n      <td>6.133165</td>\n    </tr>\n    <tr>\n      <th>334</th>\n      <td>368.256947</td>\n      <td>0.367588</td>\n      <td>288.784429</td>\n      <td>0.675239</td>\n      <td>9.880494</td>\n      <td>0.146349</td>\n      <td>20.263397</td>\n      <td>0.329075</td>\n      <td>1920.0</td>\n      <td>0.0</td>\n      <td>...</td>\n      <td>1.330727</td>\n      <td>5.838481</td>\n      <td>549.282304</td>\n      <td>195.219537</td>\n      <td>243.713745</td>\n      <td>1.000000e-09</td>\n      <td>0.000000e+00</td>\n      <td>22.543944</td>\n      <td>False</td>\n      <td>6.758010</td>\n    </tr>\n  </tbody>\n</table>\n<p>253 rows × 27 columns</p>\n</div>"
     },
     "execution_count": 2,
     "metadata": {},
     "output_type": "execute_result"
    }
   ],
   "source": [
    "f_names = [\"exploration_2_nd_filter.yml\", \"optimization_1.yml\", \"optimization_2.yml\"]\n",
    "dfs = []\n",
    "for name in f_names:\n",
    "    with open(name, \"r\") as file:\n",
    "        f = yaml.safe_load(file)\n",
    "        dfs += [pd.DataFrame(f[\"data\"])]\n",
    "\n",
    "data = pd.concat(dfs, ignore_index=True)\n",
    "data = data.dropna(subset=[\"total_rms_size\"])\n",
    "\n",
    "vocs = VOCS(**f[\"vocs\"])\n",
    "\n",
    "data"
   ]
  },
  {
   "cell_type": "code",
   "execution_count": 3,
   "id": "a4998dc1",
   "metadata": {
    "ExecuteTime": {
     "end_time": "2023-06-17T20:05:27.464831800Z",
     "start_time": "2023-06-17T20:05:27.121835100Z"
    }
   },
   "outputs": [
    {
     "name": "stdout",
     "output_type": "stream",
     "text": [
      "                              0           1\n",
      "AWA:Bira3Ctrl:Ch03    -1.306105   -0.306105\n",
      "AWA:Bira3Ctrl:Ch04    -1.276121   -0.276121\n",
      "AWA:Bira3Ctrl:Ch05     1.205201    2.205201\n",
      "AWA:Bira3Ctrl:Ch06    -0.368432    0.631568\n",
      "AWA:DAC0:Ch08          4.859338    4.999338\n",
      "AWA:Drive:DS1:Ctrl   499.670090  504.670090\n",
      "AWA:Drive:DS3:Ctrl   204.105682  212.105682\n",
      "AWALLRF:K1:SetPhase  249.911686  251.911686\n",
      "AWA:Bira3Ctrl:Ch03      -5.0\n",
      "AWA:Bira3Ctrl:Ch04      -5.0\n",
      "AWA:Bira3Ctrl:Ch05      -5.0\n",
      "AWA:Bira3Ctrl:Ch06      -5.0\n",
      "AWA:DAC0:Ch08            4.5\n",
      "AWA:Drive:DS1:Ctrl     500.0\n",
      "AWA:Drive:DS3:Ctrl     180.0\n",
      "AWALLRF:K1:SetPhase    236.0\n",
      "Name: 0, dtype: float64\n",
      "AWA:Bira3Ctrl:Ch03       5.0\n",
      "AWA:Bira3Ctrl:Ch04       5.0\n",
      "AWA:Bira3Ctrl:Ch05       5.0\n",
      "AWA:Bira3Ctrl:Ch06       5.0\n",
      "AWA:DAC0:Ch08            5.9\n",
      "AWA:Drive:DS1:Ctrl     550.0\n",
      "AWA:Drive:DS3:Ctrl     260.0\n",
      "AWALLRF:K1:SetPhase    256.0\n",
      "Name: 1, dtype: float64\n",
      "{'AWA:Bira3Ctrl:Ch03': [-1.3061046426, -0.30610464260000003], 'AWA:Bira3Ctrl:Ch04': [-1.2761212702, -0.2761212702], 'AWA:Bira3Ctrl:Ch05': [1.2052005665, 2.2052005665000003], 'AWA:Bira3Ctrl:Ch06': [-0.36843209450000003, 0.6315679055], 'AWA:DAC0:Ch08': [4.8593384862999995, 4.9993384863], 'AWA:Drive:DS1:Ctrl': [500.0, 504.6700899812], 'AWA:Drive:DS3:Ctrl': [204.1056820562, 212.1056820562], 'AWALLRF:K1:SetPhase': [249.9116861332, 251.9116861332]}\n"
     ]
    },
    {
     "data": {
      "text/plain": "<Figure size 640x480 with 1 Axes>",
      "image/png": "[encoded data removed]"
     },
     "metadata": {},
     "output_type": "display_data"
    },
    {
     "data": {
      "text/plain": "<Figure size 640x480 with 1 Axes>",
      "image/png": "[encoded data removed]"
     },
     "metadata": {},
     "output_type": "display_data"
    }
   ],
   "source": [
    "import os\n",
    "os.environ[\"KMP_DUPLICATE_LIB_OK\"]=\"TRUE\"\n",
    "\n",
    "data.plot(y=\"total_rms_size\")\n",
    "data.hist(\"total_rms_size\")\n",
    "\n",
    "min_x = data[vocs.variable_names].iloc[data[\"total_rms_size\"].to_numpy().argmin()]\n",
    "variable_bounds = pd.DataFrame(vocs.variables)\n",
    "variable_widths = variable_bounds.iloc[1] - variable_bounds.iloc[0]\n",
    "\n",
    "scale = 0.1\n",
    "custom_bounds = pd.concat([\n",
    "    min_x - variable_widths*scale / 2,\n",
    "    min_x + variable_widths*scale / 2,\n",
    "],\n",
    "    axis=1\n",
    ")\n",
    "print(custom_bounds)\n",
    "\n",
    "custom_bounds = custom_bounds.clip(\n",
    "    variable_bounds.iloc[0],\n",
    "    variable_bounds.iloc[1],\n",
    "    axis=0\n",
    ")\n",
    "\n",
    "# clip\n",
    "print(variable_bounds.iloc[0])\n",
    "print(variable_bounds.iloc[1])\n",
    "\n",
    "custom_bounds = custom_bounds.T.to_dict()\n",
    "for k in custom_bounds.keys():\n",
    "    custom_bounds[k] = [custom_bounds[k][i] for i in range(2)]\n",
    "print(custom_bounds)\n"
   ]
  },
  {
   "cell_type": "code",
   "execution_count": 3,
   "id": "9d68b13d",
   "metadata": {
    "ExecuteTime": {
     "end_time": "2023-06-17T20:05:27.478832200Z",
     "start_time": "2023-06-17T20:05:27.464831800Z"
    }
   },
   "outputs": [],
   "source": []
  },
  {
   "cell_type": "code",
   "execution_count": 4,
   "id": "49258806",
   "metadata": {
    "ExecuteTime": {
     "end_time": "2023-06-17T20:05:27.503834600Z",
     "start_time": "2023-06-17T20:05:27.481832300Z"
    }
   },
   "outputs": [],
   "source": [
    "# prepare output directory\n",
    "output_dir = \"./models/\"\n",
    "if not os.path.exists(output_dir):\n",
    "    os.makedirs(output_dir)"
   ]
  },
  {
   "cell_type": "markdown",
   "id": "463d30f5",
   "metadata": {},
   "source": [
    "# Build GP Model and Generate Training Data"
   ]
  },
  {
   "cell_type": "code",
   "execution_count": 5,
   "id": "f2153473",
   "metadata": {
    "ExecuteTime": {
     "end_time": "2023-06-17T20:05:28.124347100Z",
     "start_time": "2023-06-17T20:05:27.495834800Z"
    }
   },
   "outputs": [
    {
     "data": {
      "text/plain": "ModelListGP(\n  (models): ModuleList(\n    (0-1): 2 x SingleTaskGP(\n      (likelihood): GaussianLikelihood(\n        (noise_covar): HomoskedasticNoise(\n          (noise_prior): GammaPrior()\n          (raw_noise_constraint): GreaterThan(1.000E-04)\n        )\n      )\n      (mean_module): ConstantMean()\n      (covar_module): ScaleKernel(\n        (base_kernel): MaternKernel(\n          (lengthscale_prior): GammaPrior()\n          (raw_lengthscale_constraint): Positive()\n        )\n        (outputscale_prior): GammaPrior()\n        (raw_outputscale_constraint): Positive()\n      )\n      (outcome_transform): Standardize()\n      (input_transform): Normalize()\n    )\n  )\n  (likelihood): LikelihoodList(\n    (likelihoods): ModuleList(\n      (0-1): 2 x GaussianLikelihood(\n        (noise_covar): HomoskedasticNoise(\n          (noise_prior): GammaPrior()\n          (raw_noise_constraint): GreaterThan(1.000E-04)\n        )\n      )\n    )\n  )\n)"
     },
     "execution_count": 5,
     "metadata": {},
     "output_type": "execute_result"
    }
   ],
   "source": [
    "model_constructor = StandardModelConstructor()\n",
    "gp = model_constructor.build_model_from_vocs(vocs, data)\n",
    "gp"
   ]
  },
  {
   "cell_type": "code",
   "execution_count": 6,
   "outputs": [
    {
     "data": {
      "text/plain": "StandardModelConstructor(name='standard', use_low_noise_prior=True, covar_modules={}, mean_modules={}, trainable_mean_keys=[], dtype=torch.float64, device='cpu')"
     },
     "execution_count": 6,
     "metadata": {},
     "output_type": "execute_result"
    }
   ],
   "source": [
    "model_constructor"
   ],
   "metadata": {
    "collapsed": false,
    "ExecuteTime": {
     "end_time": "2023-06-17T20:05:28.167345600Z",
     "start_time": "2023-06-17T20:05:28.125346300Z"
    }
   }
  },
  {
   "cell_type": "markdown",
   "source": [
    "## generate bootstrap points"
   ],
   "metadata": {
    "collapsed": false
   }
  },
  {
   "cell_type": "code",
   "execution_count": 7,
   "id": "6db024ab",
   "metadata": {
    "ExecuteTime": {
     "end_time": "2023-06-17T20:05:28.979347700Z",
     "start_time": "2023-06-17T20:05:28.144348Z"
    }
   },
   "outputs": [
    {
     "name": "stdout",
     "output_type": "stream",
     "text": [
      "0\n"
     ]
    },
    {
     "ename": "AssertionError",
     "evalue": "Torch not compiled with CUDA enabled",
     "output_type": "error",
     "traceback": [
      "\u001B[1;31m---------------------------------------------------------------------------\u001B[0m",
      "\u001B[1;31mAssertionError\u001B[0m                            Traceback (most recent call last)",
      "Cell \u001B[1;32mIn[7], line 10\u001B[0m\n\u001B[0;32m      5\u001B[0m \u001B[38;5;28mprint\u001B[39m(i)\n\u001B[0;32m      6\u001B[0m test_x \u001B[38;5;241m=\u001B[39m torch\u001B[38;5;241m.\u001B[39mfrom_numpy(\n\u001B[0;32m      7\u001B[0m     pd\u001B[38;5;241m.\u001B[39mDataFrame(vocs\u001B[38;5;241m.\u001B[39mrandom_inputs(\u001B[38;5;241m1000\u001B[39m, custom_bounds\u001B[38;5;241m=\u001B[39mcustom_bounds))\u001B[38;5;241m.\u001B[39mto_numpy()\n\u001B[0;32m      8\u001B[0m )\n\u001B[1;32m---> 10\u001B[0m test_x \u001B[38;5;241m=\u001B[39m \u001B[43mtest_x\u001B[49m\u001B[38;5;241;43m.\u001B[39;49m\u001B[43mcuda\u001B[49m\u001B[43m(\u001B[49m\u001B[43m)\u001B[49m\n\u001B[0;32m     11\u001B[0m gp \u001B[38;5;241m=\u001B[39m gp\u001B[38;5;241m.\u001B[39mcuda()\n\u001B[0;32m     13\u001B[0m \u001B[38;5;66;03m# calculate posterior\u001B[39;00m\n",
      "File \u001B[1;32m~\\mambaforge\\envs\\awa-badger\\lib\\site-packages\\torch\\cuda\\__init__.py:239\u001B[0m, in \u001B[0;36m_lazy_init\u001B[1;34m()\u001B[0m\n\u001B[0;32m    235\u001B[0m     \u001B[38;5;28;01mraise\u001B[39;00m \u001B[38;5;167;01mRuntimeError\u001B[39;00m(\n\u001B[0;32m    236\u001B[0m         \u001B[38;5;124m\"\u001B[39m\u001B[38;5;124mCannot re-initialize CUDA in forked subprocess. To use CUDA with \u001B[39m\u001B[38;5;124m\"\u001B[39m\n\u001B[0;32m    237\u001B[0m         \u001B[38;5;124m\"\u001B[39m\u001B[38;5;124mmultiprocessing, you must use the \u001B[39m\u001B[38;5;124m'\u001B[39m\u001B[38;5;124mspawn\u001B[39m\u001B[38;5;124m'\u001B[39m\u001B[38;5;124m start method\u001B[39m\u001B[38;5;124m\"\u001B[39m)\n\u001B[0;32m    238\u001B[0m \u001B[38;5;28;01mif\u001B[39;00m \u001B[38;5;129;01mnot\u001B[39;00m \u001B[38;5;28mhasattr\u001B[39m(torch\u001B[38;5;241m.\u001B[39m_C, \u001B[38;5;124m'\u001B[39m\u001B[38;5;124m_cuda_getDeviceCount\u001B[39m\u001B[38;5;124m'\u001B[39m):\n\u001B[1;32m--> 239\u001B[0m     \u001B[38;5;28;01mraise\u001B[39;00m \u001B[38;5;167;01mAssertionError\u001B[39;00m(\u001B[38;5;124m\"\u001B[39m\u001B[38;5;124mTorch not compiled with CUDA enabled\u001B[39m\u001B[38;5;124m\"\u001B[39m)\n\u001B[0;32m    240\u001B[0m \u001B[38;5;28;01mif\u001B[39;00m _cudart \u001B[38;5;129;01mis\u001B[39;00m \u001B[38;5;28;01mNone\u001B[39;00m:\n\u001B[0;32m    241\u001B[0m     \u001B[38;5;28;01mraise\u001B[39;00m \u001B[38;5;167;01mAssertionError\u001B[39;00m(\n\u001B[0;32m    242\u001B[0m         \u001B[38;5;124m\"\u001B[39m\u001B[38;5;124mlibcudart functions unavailable. It looks like you have a broken build?\u001B[39m\u001B[38;5;124m\"\u001B[39m)\n",
      "\u001B[1;31mAssertionError\u001B[0m: Torch not compiled with CUDA enabled"
     ]
    }
   ],
   "source": [
    "\n",
    "\n",
    "from xopt.generators.bayesian.objectives import feasibility\n",
    "th = 0.98\n",
    "bs_data = []\n",
    "for i in range(10):\n",
    "    print(i)\n",
    "    test_x = torch.from_numpy(\n",
    "        pd.DataFrame(vocs.random_inputs(1000, custom_bounds=custom_bounds)).to_numpy()\n",
    "    )\n",
    "\n",
    "    test_x = test_x.cuda()\n",
    "    gp = gp.cuda()\n",
    "\n",
    "    # calculate posterior\n",
    "    with torch.no_grad():\n",
    "        post = gp.posterior(test_x)\n",
    "        mean = post.mean\n",
    "\n",
    "        # calculate feasibility probability\n",
    "        feas = feasibility(test_x.unsqueeze(1), gp, vocs).flatten()\n",
    "\n",
    "    bs_data += [[test_x[feas > th], mean[feas > th]]]\n"
   ]
  },
  {
   "cell_type": "code",
   "execution_count": null,
   "outputs": [],
   "source": [
    "torch_bs_data_x = torch.vstack([ele[0] for ele in bs_data])\n",
    "torch_bs_data_y = torch.vstack([ele[1] for ele in bs_data])[:,0]\n",
    "\n",
    "torch.save(torch_bs_data_x, \"bs_local_data_x.pt\")\n",
    "torch.save(torch_bs_data_y, \"bs_local_data_y.pt\")"
   ],
   "metadata": {
    "collapsed": false
   }
  },
  {
   "cell_type": "code",
   "execution_count": null,
   "outputs": [],
   "source": [
    "plt.hist(torch_bs_data_y.numpy(), bins=100);"
   ],
   "metadata": {
    "collapsed": false
   }
  },
  {
   "cell_type": "code",
   "execution_count": null,
   "id": "cfd1eb75",
   "metadata": {},
   "outputs": [],
   "source": [
    "# get training data from measured data\n",
    "x_meas = torch.from_numpy(data[vocs.variable_names].to_numpy())\n",
    "y_meas = torch.from_numpy(data[vocs.objective_names[0]].to_numpy()).unsqueeze(-1)\n",
    "x_meas.shape, y_meas.shape"
   ]
  },
  {
   "cell_type": "code",
   "execution_count": null,
   "id": "f4473979",
   "metadata": {},
   "outputs": [],
   "source": [
    "# augment training data with GP posterior samples\n",
    "n_aug = 1 * y_meas.shape[0]\n",
    "x_aug = vocs.random_inputs(n_aug)\n",
    "x_aug = torch.from_numpy(pd.DataFrame(x_aug)[vocs.variable_names].to_numpy())\n",
    "y_aug = gp.posterior(x_aug).mean.detach()\n",
    "x_aug.shape, y_aug.shape"
   ]
  },
  {
   "cell_type": "code",
   "execution_count": null,
   "id": "26c56d6f",
   "metadata": {},
   "outputs": [],
   "source": [
    "# # generate grid data\n",
    "# n_pts = 3  # points per grid dimension\n",
    "# x_i = [torch.linspace(*x_lim[i], n_pts) for i in range(len(x_lim))]\n",
    "# x = torch.cartesian_prod(*x_i)\n",
    "# print(x.shape)"
   ]
  },
  {
   "cell_type": "code",
   "execution_count": null,
   "id": "bc96985e",
   "metadata": {},
   "outputs": [],
   "source": [
    "x = torch.cat([x_meas, x_aug])\n",
    "y = torch.cat([y_meas, y_aug])\n",
    "# x, y = x_meas, y_meas\n",
    "x.shape, y.shape"
   ]
  },
  {
   "cell_type": "code",
   "execution_count": null,
   "id": "c8604553",
   "metadata": {},
   "outputs": [],
   "source": [
    "fig, ax = plt.subplots(nrows=1, ncols=1, figsize=(8, 6))\n",
    "ax.hist(y.squeeze().numpy(), bins=10)\n",
    "fig.tight_layout()"
   ]
  },
  {
   "cell_type": "code",
   "execution_count": null,
   "id": "9fda62c0",
   "metadata": {},
   "outputs": [],
   "source": [
    "# define train/test data\n",
    "train_frac = 0.8\n",
    "idx = torch.randperm(x.shape[0])\n",
    "x, y = x[idx].double(), y[idx].double()\n",
    "idx_split = int(train_frac * x.shape[0])\n",
    "x_train, y_train = x[:idx_split], y[:idx_split]\n",
    "x_test, y_test = x[idx_split:], y[idx_split:]\n",
    "\n",
    "# save training and test data\n",
    "torch.save({\"x\": x_train, \"y\": y_train}, output_dir + \"train_data.pt\")\n",
    "torch.save({\"x\": x_test, \"y\": y_test}, output_dir + \"test_data.pt\")"
   ]
  },
  {
   "cell_type": "markdown",
   "id": "e78a4578",
   "metadata": {},
   "source": [
    "# Prepare Training"
   ]
  },
  {
   "cell_type": "code",
   "execution_count": null,
   "id": "b099d596",
   "metadata": {},
   "outputs": [],
   "source": [
    "# define in- and output transformers\n",
    "x_transformer = Normalize(x_dim, bounds=x_lim.T)\n",
    "y_transformer = Normalize(y_dim, bounds=y_lim.T)\n",
    "torch.save(x_transformer.state_dict(), output_dir + \"x_transformer.pt\")\n",
    "torch.save(y_transformer.state_dict(), output_dir + \"y_transformer.pt\")"
   ]
  },
  {
   "cell_type": "code",
   "execution_count": null,
   "id": "f4ad991b",
   "metadata": {},
   "outputs": [],
   "source": [
    "# define data set\n",
    "class Dataset(torch.utils.data.Dataset):\n",
    "    def __init__(self, x, y):\n",
    "        self.x, self.y, = x, y\n",
    "\n",
    "    def __len__(self):\n",
    "        return self.y.shape[0]\n",
    "\n",
    "    def __getitem__(self, idx):\n",
    "        x, y = self.x[idx], self.y[idx]\n",
    "        return x, y"
   ]
  },
  {
   "cell_type": "code",
   "execution_count": null,
   "id": "ddabeb56",
   "metadata": {},
   "outputs": [],
   "source": [
    "def create_model():\n",
    "    model = nn.Sequential(\n",
    "        nn.Linear(8, 16),\n",
    "        nn.Tanh(),\n",
    "        nn.Dropout(p=0.05),\n",
    "        nn.Linear(16, 16),\n",
    "        nn.Tanh(),\n",
    "        nn.Dropout(p=0.05),\n",
    "        nn.Linear(16, 8),\n",
    "        nn.Tanh(),\n",
    "        nn.Linear(8, 1)\n",
    "    )\n",
    "    return model.double()"
   ]
  },
  {
   "cell_type": "code",
   "execution_count": null,
   "id": "096b93c4",
   "metadata": {},
   "outputs": [],
   "source": [
    "class TransformedModel(nn.Module):\n",
    "    def __init__(self, model, x_transformer, y_transformer):\n",
    "        super(TransformedModel, self).__init__()\n",
    "        self.model = model\n",
    "        self.x_transformer = x_transformer\n",
    "        self.y_transformer = y_transformer\n",
    "    \n",
    "    def forward(self, x):\n",
    "        x = self.x_transformer(x)\n",
    "        x = self.model(x)\n",
    "        x = self.y_transformer.untransform(x)\n",
    "        return x"
   ]
  },
  {
   "cell_type": "code",
   "execution_count": null,
   "id": "1dc4733e",
   "metadata": {},
   "outputs": [],
   "source": [
    "# define dataloaders\n",
    "pin_memory = True\n",
    "batch_size = y.shape[0]\n",
    "trainset = Dataset(x_train, y_train)\n",
    "trainloader = torch.utils.data.DataLoader(trainset, batch_size=batch_size, shuffle=True, \n",
    "                                          num_workers=0, pin_memory=pin_memory)\n",
    "testset = Dataset(x_test, y_test)\n",
    "testloader = torch.utils.data.DataLoader(testset, batch_size=batch_size, shuffle=True, \n",
    "                                         num_workers=0, pin_memory=pin_memory)"
   ]
  },
  {
   "cell_type": "markdown",
   "id": "f004c45c",
   "metadata": {},
   "source": [
    "# Train Surrogate Models"
   ]
  },
  {
   "cell_type": "code",
   "execution_count": null,
   "id": "bdffec5d",
   "metadata": {},
   "outputs": [],
   "source": [
    "lr = 1e-3\n",
    "n_epochs = int(1e5)\n",
    "model = TransformedModel(create_model(), x_transformer, y_transformer)\n",
    "optimizer = optim.Adam(model.parameters(), lr=lr)  # , weight_decay=3e-6"
   ]
  },
  {
   "cell_type": "code",
   "execution_count": null,
   "id": "abbd515c",
   "metadata": {},
   "outputs": [],
   "source": [
    "# define loss function\n",
    "class CustomLoss(nn.MSELoss):\n",
    "    def __init__(self, penalty: float = 1.0, size_average=None, reduce=None,\n",
    "                 reduction: str = 'mean') -> None:\n",
    "        \"\"\"Customized MSELoss which penalized negative predictions.\n",
    "\n",
    "        Args:\n",
    "            size_average: Inherited from torch.nn.MSELoss().\n",
    "            reduce: Inherited from torch.nn.MSELoss().\n",
    "            reduction: Inherited from torch.nn.MSELoss().\n",
    "        \"\"\"\n",
    "        super(CustomLoss, self).__init__(size_average, reduce, reduction)\n",
    "\n",
    "    def forward(self, x: torch.Tensor, y: torch.Tensor) -> torch.Tensor:\n",
    "        mask = x < 0.0\n",
    "        delta = x - y\n",
    "        delta_sum = torch.sum(delta[~mask] ** 2)\n",
    "        delta_sum += torch.sum(delta[mask] ** 4)\n",
    "        return delta_sum / y.shape[0]\n",
    "\n",
    "    \n",
    "#         return F.mse_loss(x, y, reduction=self.reduction)\n",
    "\n",
    "    \n",
    "#         mask = tar > threshold\n",
    "#         if torch.all(tar <= threshold):\n",
    "#             return F.mse_loss(0 * inp, 0 * tar, reduction=self.reduction)\n",
    "#         if self.standardized_loss:\n",
    "#             inp_eval = standardize(inp, dim=(-2, -1), keepdim=True)[mask]\n",
    "#             tar_eval = standardize(tar, dim=(-2, -1), keepdim=True)[mask]\n",
    "#         else:\n",
    "#             inp_eval, tar_eval = inp[mask], tar[mask]\n",
    "#         return F.mse_loss(inp_eval, tar_eval, reduction=self.reduction)\n",
    "\n",
    "criterion = nn.L1Loss()\n",
    "# criterion = nn.MSELoss()\n",
    "# criterion = CustomLoss()"
   ]
  },
  {
   "cell_type": "code",
   "execution_count": null,
   "id": "f5d673a6",
   "metadata": {
    "scrolled": false
   },
   "outputs": [],
   "source": [
    "# train model\n",
    "train_losses = []\n",
    "test_losses = []\n",
    "print(\"{:8s} {:>12s} {:>12s} {:>12s}\".format(\"EPOCH\", \"TRAIN_LOSS\", \"TEST_LOSS\", \"ETA\"))\n",
    "t0 = time.time()\n",
    "best_loss = 1.0\n",
    "for epoch in range(n_epochs):\n",
    "    for i, batch_data in enumerate(trainloader, 0):\n",
    "#         # save model to file\n",
    "#         if i == 0:\n",
    "#             torch.save(model, output_dir + \"{:d}ep.pt\".format(epoch))\n",
    "\n",
    "        inputs, labels = batch_data\n",
    "        optimizer.zero_grad()\n",
    "        model.train()\n",
    "        outputs = model(inputs)\n",
    "#         if epoch == 0 or epoch == n_epochs - 1:\n",
    "#             print(model.y_transformer(outputs).shape, model.y_transformer(labels).shape)\n",
    "#             print(model.y_transformer(outputs)[:10], model.y_transformer(labels)[:10])\n",
    "        loss = criterion(model.y_transformer(outputs), model.y_transformer(labels))\n",
    "        loss.backward()\n",
    "        optimizer.step()\n",
    "\n",
    "        if i == 0:\n",
    "            model.eval()\n",
    "            inputs_test, targets_test = next(iter(testloader))\n",
    "            outputs_test = model(inputs_test)\n",
    "            test_loss = criterion(model.y_transformer(outputs_test), model.y_transformer(targets_test))\n",
    "\n",
    "            # store losses\n",
    "            train_losses.append(loss.item())\n",
    "            test_losses.append(test_loss.item())\n",
    "            \n",
    "            if epoch % (n_epochs // 10) == 0:\n",
    "                # save model to file\n",
    "                if i == 0:\n",
    "                    torch.save(model, output_dir + \"{:d}ep.pt\".format(epoch))\n",
    "                \n",
    "                # print info\n",
    "                t_avg = (time.time() - t0) / (epoch + 1)\n",
    "                t_r = (n_epochs - epoch - 1) * t_avg / 60  # in minutes\n",
    "                if t_r <= 1.0:\n",
    "                    t_info = \"{:.2f} sec\".format(60 * t_r)\n",
    "                else:\n",
    "                    t_info = \"{:.2f} min\".format(t_r)\n",
    "                info = \"{:<8d} {:12.5f} {:12.5f} {:>12s}\".format(epoch, loss, test_loss, t_info)\n",
    "                if test_loss < best_loss:\n",
    "                    info = \"\\033[0;32m\" + info + '\\x1b[0m'\n",
    "                print(info)\n",
    "                if test_loss < best_loss:\n",
    "                    best_loss = test_loss\n",
    "\n",
    "t_total = time.time() - t0\n",
    "t_r = t_total / 60  # in minutes\n",
    "if t_r <= 1.0:\n",
    "    t_info = \"{:.2f} sec\".format(60 * t_r)\n",
    "else:\n",
    "    t_info = \"{:.2f} min\".format(t_r)                \n",
    "print(\"Total runtime: {}\".format(t_info))\n",
    "\n",
    "# # save final model to file\n",
    "# torch.save(model, output_dir + \"{:d}ep.pt\".format(n_epochs))"
   ]
  },
  {
   "cell_type": "code",
   "execution_count": null,
   "id": "acd4a2d4",
   "metadata": {},
   "outputs": [],
   "source": [
    "# plot training process\n",
    "fig, ax = plt.subplots(nrows=1, ncols=1, figsize=(8, 6))\n",
    "ax.set_xlabel(\"Epoch\")\n",
    "ax.plot(train_losses, c=\"C0\", label=\"training loss\")\n",
    "ax.plot(test_losses, c=\"C1\", label=\"test loss\")\n",
    "ax.set_ylabel(criterion.__class__.__name__)\n",
    "ax.legend(loc=\"upper right\")\n",
    "ax.set_axisbelow(True)\n",
    "ax.set_yscale(\"log\")\n",
    "ax.grid(color=\"gray\", linestyle=\"dashed\")"
   ]
  },
  {
   "cell_type": "code",
   "execution_count": null,
   "id": "db868a0b",
   "metadata": {},
   "outputs": [],
   "source": [
    "idx = np.argmin(data[vocs.objective_names[0]].values)\n",
    "ref_pt = data[vocs.variable_names].iloc[idx].values"
   ]
  },
  {
   "cell_type": "code",
   "execution_count": null,
   "id": "4e34914b",
   "metadata": {
    "scrolled": false
   },
   "outputs": [],
   "source": [
    "n = 1000\n",
    "model.eval()\n",
    "fig, ax = plt.subplots(ncols=2, nrows=4, figsize=(12, 20))\n",
    "for i, name in enumerate(vocs.variable_names):\n",
    "    # get data\n",
    "    axis = torch.linspace(*vocs.variables[name], n)\n",
    "    d = torch.from_numpy(ref_pt).unsqueeze(0).repeat([n, 1])\n",
    "    d[:, i] = axis    \n",
    "    pred = model(d)\n",
    "    targets = gp.posterior(d).mean\n",
    "    # plot\n",
    "    ax_i = ax[i % 4, i // 4]\n",
    "    ax_i.set_title(name)\n",
    "    ax_i.plot(axis, pred.detach(), label=\"predictions\")\n",
    "    ax_i.plot(axis, targets.detach(), label=\"targets\")\n",
    "    ax_i.legend()"
   ]
  },
  {
   "cell_type": "code",
   "execution_count": null,
   "id": "ad79f04e",
   "metadata": {},
   "outputs": [],
   "source": [
    "pred_test = model(x_test)\n",
    "plt.plot(y_test, pred_test.detach(), \"x\")"
   ]
  },
  {
   "cell_type": "code",
   "execution_count": null,
   "id": "84569841",
   "metadata": {},
   "outputs": [],
   "source": [
    "pred_train = model(x_train)\n",
    "plt.plot(y_train, pred_train.detach(), \"x\")"
   ]
  },
  {
   "cell_type": "code",
   "execution_count": null,
   "id": "25975409",
   "metadata": {},
   "outputs": [],
   "source": [
    "pred_meas = model(x_meas)\n",
    "plt.plot(y_meas, pred_meas.detach(), \"x\")"
   ]
  },
  {
   "cell_type": "code",
   "execution_count": null,
   "id": "18640256",
   "metadata": {},
   "outputs": [],
   "source": []
  }
 ],
 "metadata": {
  "kernelspec": {
   "display_name": "Python 3 (ipykernel)",
   "language": "python",
   "name": "python3"
  },
  "language_info": {
   "codemirror_mode": {
    "name": "ipython",
    "version": 3
   },
   "file_extension": ".py",
   "mimetype": "text/x-python",
   "name": "python",
   "nbconvert_exporter": "python",
   "pygments_lexer": "ipython3",
   "version": "3.9.16"
  }
 },
 "nbformat": 4,
 "nbformat_minor": 5
}
