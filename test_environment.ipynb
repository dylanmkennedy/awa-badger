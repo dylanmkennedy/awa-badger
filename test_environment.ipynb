{
 "cells": [
  {
   "cell_type": "code",
   "execution_count": 1,
   "id": "0fb8648e",
   "metadata": {},
   "outputs": [],
   "source": [
    "from plugins.environments.awa_environment import AWAEnvironment\n",
    "from plugins.interfaces.awa_interface import AWAInterface\n",
    "\n",
    "# import data from csv file\n",
    "import pandas as pd\n",
    "variable_file = \"plugins/environments/awa_variables.csv\"\n",
    "observable_file = \"plugins/environments/awa_observables.csv\"\n",
    "variable_info = pd.read_csv(variable_file).set_index(\"NAME\")\n",
    "observable_info = pd.read_csv(observable_file).set_index(\"NAME\").T\n",
    "\n",
    "variables = variable_info[[\"MIN\",\"MAX\"]].T.to_dict()\n",
    "observables = list(observable_info.keys())\n",
    "\n",
    "for name in variables:\n",
    "    variables[name] = [variables[name][\"MIN\"], variables[name][\"MAX\"]]\n",
    "observables\n",
    "\n",
    "env = AWAEnvironment(variable_file, observable_file, interface=AWAInterface(), target_charge=1.0)"
   ]
  },
  {
   "cell_type": "code",
   "execution_count": 2,
   "id": "3860bbc0",
   "metadata": {
    "scrolled": true
   },
   "outputs": [
    {
     "name": "stderr",
     "output_type": "stream",
     "text": [
      "CA.Client.Exception...............................................\n",
      "    Warning: \"Identical process variable names on multiple servers\"\n",
      "    Context: \"Channel: \"13ARV1:image1:ArraySize1_RBV\", Connecting to: 146.139.52.185:5064, Ignored: awa5:5064\"\n",
      "    Source File: ../cac.cpp line 1320\n",
      "    Current Time: Thu Jun 15 2023 15:49:40.699943216\n",
      "..................................................................\n",
      "CA.Client.Exception...............................................\n",
      "    Warning: \"Identical process variable names on multiple servers\"\n",
      "    Context: \"Channel: \"13ARV1:image1:ArrayData\", Connecting to: 146.139.52.185:5064, Ignored: awa5:5064\"\n",
      "    Source File: ../cac.cpp line 1320\n",
      "    Current Time: Thu Jun 15 2023 15:49:40.700970870\n",
      "..................................................................\n",
      "CA.Client.Exception...............................................\n",
      "    Warning: \"Identical process variable names on multiple servers\"\n",
      "    Context: \"Channel: \"13ARV1:image1:ArraySize0_RBV\", Connecting to: 146.139.52.185:5064, Ignored: awa5:5064\"\n",
      "    Source File: ../cac.cpp line 1320\n",
      "    Current Time: Thu Jun 15 2023 15:49:40.701195567\n",
      "..................................................................\n",
      "CA.Client.Exception...............................................\n",
      "    Warning: \"Identical process variable names on multiple servers\"\n",
      "    Context: \"Channel: \"13ARV1:image1:ArraySize1_RBV\", Connecting to: 146.139.52.185:5064, Ignored: awa5:5064\"\n",
      "    Source File: ../cac.cpp line 1320\n",
      "    Current Time: Thu Jun 15 2023 15:49:40.701279911\n",
      "..................................................................\n",
      "CA.Client.Exception...............................................\n",
      "    Warning: \"Identical process variable names on multiple servers\"\n",
      "    Context: \"Channel: \"13ARV1:image1:ArrayData\", Connecting to: 146.139.52.185:5064, Ignored: awa5:5064\"\n",
      "    Source File: ../cac.cpp line 1320\n",
      "    Current Time: Thu Jun 15 2023 15:49:40.701339317\n",
      "..................................................................\n",
      "CA.Client.Exception...............................................\n",
      "    Warning: \"Identical process variable names on multiple servers\"\n",
      "    Context: \"Channel: \"13ARV1:image1:ArraySize0_RBV\", Connecting to: 146.139.52.185:5064, Ignored: awa5:5064\"\n",
      "    Source File: ../cac.cpp line 1320\n",
      "    Current Time: Thu Jun 15 2023 15:49:40.701419357\n",
      "..................................................................\n"
     ]
    }
   ],
   "source": [
    "meas = env.get_screen_measurement(\"13ARV1\",[\"AWAVXI11ICT:Ch1\"])"
   ]
  },
  {
   "cell_type": "code",
   "execution_count": 3,
   "id": "afe440b4",
   "metadata": {},
   "outputs": [
    {
     "data": {
      "text/plain": [
       "{'13ARV1:image1:ArraySize1_RBV': 1200,\n",
       " '13ARV1:image1:ArraySize0_RBV': 1920,\n",
       " 'AWAVXI11ICT:Ch1': 8.65081268995675e-10,\n",
       " '13ARV1:Cx': 315.75272345227734,\n",
       " '13ARV1:Cy': 237.84714469729496,\n",
       " '13ARV1:Sx': 51.385195519213916,\n",
       " '13ARV1:Sy': 47.834197099399844,\n",
       " '13ARV1:bb_penalty': -102.62909165028142,\n",
       " '13ARV1:total_intensity': 526354}"
      ]
     },
     "execution_count": 3,
     "metadata": {},
     "output_type": "execute_result"
    }
   ],
   "source": [
    "meas"
   ]
  },
  {
   "cell_type": "code",
   "execution_count": 4,
   "id": "d7623eec",
   "metadata": {},
   "outputs": [],
   "source": [
    "meas = env.get_observables([\"13ARV1:Sx\"])"
   ]
  },
  {
   "cell_type": "code",
   "execution_count": 5,
   "id": "b34725a3",
   "metadata": {},
   "outputs": [
    {
     "data": {
      "text/plain": [
       "{'13ARV1:image1:ArraySize1_RBV': 1200.0,\n",
       " '13ARV1:image1:ArraySize0_RBV': 1920.0,\n",
       " 'AWAVXI11ICT:Ch1': 9.516425308454794e-10,\n",
       " '13ARV1:Cx': 317.5512337815696,\n",
       " '13ARV1:Cy': 235.45302900494366,\n",
       " '13ARV1:Sx': 50.92430838518959,\n",
       " '13ARV1:Sy': 46.40291533389281,\n",
       " '13ARV1:bb_penalty': -102.45221438824233,\n",
       " '13ARV1:total_intensity': 506373.2,\n",
       " '13ARV1:image1:ArraySize1_RBV_std': 0.0,\n",
       " '13ARV1:image1:ArraySize0_RBV_std': 0.0,\n",
       " 'AWAVXI11ICT:Ch1_std': 3.7920417519738573e-11,\n",
       " '13ARV1:Cx_std': 2.216659373780583,\n",
       " '13ARV1:Cy_std': 1.6947287892552902,\n",
       " '13ARV1:Sx_std': 2.519349762917003,\n",
       " '13ARV1:Sy_std': 1.9864092041622352,\n",
       " '13ARV1:bb_penalty_std': 6.694903328253004,\n",
       " '13ARV1:total_intensity_std': 50808.56243488887}"
      ]
     },
     "execution_count": 5,
     "metadata": {},
     "output_type": "execute_result"
    }
   ],
   "source": [
    "meas"
   ]
  },
  {
   "cell_type": "code",
   "execution_count": 6,
   "id": "84e8afcc",
   "metadata": {},
   "outputs": [
    {
     "data": {
      "image/png": "[encoded data removed]",
      "text/plain": [
       "<Figure size 640x480 with 2 Axes>"
      ]
     },
     "metadata": {},
     "output_type": "display_data"
    }
   ],
   "source": [
    "meas = env.get_screen_measurement(\"13ARV1\",['13ARV1:Sx', 'AWAVXI11ICT:Ch1'], visualize=True)"
   ]
  },
  {
   "cell_type": "code",
   "execution_count": 7,
   "id": "e8ddc94e",
   "metadata": {},
   "outputs": [
    {
     "data": {
      "text/plain": [
       "{'13ARV1:Sx': 49.280235303187,\n",
       " '13ARV1:image1:ArraySize1_RBV': 1200,\n",
       " '13ARV1:image1:ArraySize0_RBV': 1920,\n",
       " 'AWAVXI11ICT:Ch1': 9.317257803313666e-10,\n",
       " '13ARV1:Cx': 317.64222458526496,\n",
       " '13ARV1:Cy': 236.4178978072738,\n",
       " '13ARV1:Sy': 45.138343887636665,\n",
       " '13ARV1:bb_penalty': -107.1902657534689,\n",
       " '13ARV1:total_intensity': 475846}"
      ]
     },
     "execution_count": 7,
     "metadata": {},
     "output_type": "execute_result"
    }
   ],
   "source": [
    "meas"
   ]
  },
  {
   "cell_type": "code",
   "execution_count": null,
   "id": "303458f1",
   "metadata": {},
   "outputs": [],
   "source": []
  }
 ],
 "metadata": {
  "kernelspec": {
   "display_name": "Python 3 (ipykernel)",
   "language": "python",
   "name": "python3"
  },
  "language_info": {
   "codemirror_mode": {
    "name": "ipython",
    "version": 3
   },
   "file_extension": ".py",
   "mimetype": "text/x-python",
   "name": "python",
   "nbconvert_exporter": "python",
   "pygments_lexer": "ipython3",
   "version": "3.9.16"
  }
 },
 "nbformat": 4,
 "nbformat_minor": 5
}
