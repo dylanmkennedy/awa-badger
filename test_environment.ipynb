{
 "cells": [
  {
   "cell_type": "code",
   "execution_count": 1,
   "id": "0fb8648e",
   "metadata": {},
   "outputs": [],
   "source": [
    "from plugins.environments.awa_environment import AWAEnvironment\n",
    "from plugins.interfaces.awa_interface import AWAInterface\n",
    "\n",
    "# import data from csv file\n",
    "import pandas as pd\n",
    "variable_file = \"plugins/environments/awa_variables.csv\"\n",
    "observable_file = \"plugins/environments/awa_observables.csv\"\n",
    "variable_info = pd.read_csv(variable_file).set_index(\"NAME\")\n",
    "observable_info = pd.read_csv(observable_file).set_index(\"NAME\").T\n",
    "\n",
    "variables = variable_info[[\"MIN\",\"MAX\"]].T.to_dict()\n",
    "observables = list(observable_info.keys())\n",
    "\n",
    "for name in variables:\n",
    "    variables[name] = [variables[name][\"MIN\"], variables[name][\"MAX\"]]\n",
    "observables\n",
    "\n",
    "env = AWAEnvironment(variable_file, observable_file, interface=AWAInterface(), target_charge=1.0)"
   ]
  },
  {
   "cell_type": "code",
   "execution_count": 2,
   "id": "3860bbc0",
   "metadata": {
    "scrolled": true
   },
   "outputs": [
    {
     "name": "stderr",
     "output_type": "stream",
     "text": [
      "CA.Client.Exception...............................................\n",
      "    Warning: \"Identical process variable names on multiple servers\"\n",
      "    Context: \"Channel: \"13ARV1:image1:ArraySize0_RBV\", Connecting to: 146.139.52.185:5064, Ignored: awa5:5064\"\n",
      "    Source File: ../cac.cpp line 1320\n",
      "    Current Time: Thu Jun 15 2023 13:40:19.269806444\n",
      "..................................................................\n",
      "CA.Client.Exception...............................................\n",
      "    Warning: \"Identical process variable names on multiple servers\"\n",
      "    Context: \"Channel: \"13ARV1:image1:ArraySize1_RBV\", Connecting to: 146.139.52.185:5064, Ignored: awa5:5064\"\n",
      "    Source File: ../cac.cpp line 1320\n",
      "    Current Time: Thu Jun 15 2023 13:40:19.269902703\n",
      "..................................................................\n",
      "CA.Client.Exception...............................................\n",
      "    Warning: \"Identical process variable names on multiple servers\"\n",
      "    Context: \"Channel: \"13ARV1:image1:ArrayData\", Connecting to: 146.139.52.185:5064, Ignored: awa5:5064\"\n",
      "    Source File: ../cac.cpp line 1320\n",
      "    Current Time: Thu Jun 15 2023 13:40:19.269964174\n",
      "..................................................................\n",
      "CA.Client.Exception...............................................\n",
      "    Warning: \"Identical process variable names on multiple servers\"\n",
      "    Context: \"Channel: \"13ARV1:image1:ArraySize0_RBV\", Connecting to: 146.139.52.185:5064, Ignored: awa5:5064\"\n",
      "    Source File: ../cac.cpp line 1320\n",
      "    Current Time: Thu Jun 15 2023 13:40:19.270020118\n",
      "..................................................................\n",
      "CA.Client.Exception...............................................\n",
      "    Warning: \"Identical process variable names on multiple servers\"\n",
      "    Context: \"Channel: \"13ARV1:image1:ArraySize1_RBV\", Connecting to: 146.139.52.185:5064, Ignored: awa5:5064\"\n",
      "    Source File: ../cac.cpp line 1320\n",
      "    Current Time: Thu Jun 15 2023 13:40:19.270086233\n",
      "..................................................................\n",
      "CA.Client.Exception...............................................\n",
      "    Warning: \"Identical process variable names on multiple servers\"\n",
      "    Context: \"Channel: \"13ARV1:image1:ArrayData\", Connecting to: 146.139.52.185:5064, Ignored: awa5:5064\"\n",
      "    Source File: ../cac.cpp line 1320\n",
      "    Current Time: Thu Jun 15 2023 13:40:19.270140788\n",
      "..................................................................\n"
     ]
    }
   ],
   "source": [
    "meas = env.get_screen_measurement(\"13ARV1\",[\"AWAVXI11ICT:Ch1\"])"
   ]
  },
  {
   "cell_type": "code",
   "execution_count": 3,
   "id": "afe440b4",
   "metadata": {},
   "outputs": [
    {
     "data": {
      "text/plain": [
       "{'13ARV1:image1:ArraySize0_RBV': 1920,\n",
       " '13ARV1:image1:ArraySize1_RBV': 1200,\n",
       " 'AWAVXI11ICT:Ch1': 9.383986444987224e-10,\n",
       " '13ARV1:Cx': 368.083775424865,\n",
       " '13ARV1:Cy': 269.7404594172774,\n",
       " '13ARV1:Sx': 7.380735400846113,\n",
       " '13ARV1:Sy': 51.528749752368604,\n",
       " '13ARV1:penalty': -143.0389602480276}"
      ]
     },
     "execution_count": 3,
     "metadata": {},
     "output_type": "execute_result"
    }
   ],
   "source": [
    "meas"
   ]
  },
  {
   "cell_type": "code",
   "execution_count": 4,
   "id": "d7623eec",
   "metadata": {},
   "outputs": [],
   "source": [
    "meas = env.get_observables([\"13ARV1:Sx\"])"
   ]
  },
  {
   "cell_type": "code",
   "execution_count": 5,
   "id": "b34725a3",
   "metadata": {},
   "outputs": [
    {
     "data": {
      "text/plain": [
       "{'13ARV1:image1:ArraySize0_RBV': 1920.0,\n",
       " '13ARV1:image1:ArraySize1_RBV': 1200.0,\n",
       " 'AWAVXI11ICT:Ch1': 9.69797857759213e-10,\n",
       " '13ARV1:Cx': 368.33163306600403,\n",
       " '13ARV1:Cy': 271.63038139608403,\n",
       " '13ARV1:Sx': 7.365519220791195,\n",
       " '13ARV1:Sy': 51.10315226243017,\n",
       " '13ARV1:penalty': -145.24302353980517,\n",
       " '13ARV1:image1:ArraySize0_RBV_std': 0.0,\n",
       " '13ARV1:image1:ArraySize1_RBV_std': 0.0,\n",
       " 'AWAVXI11ICT:Ch1_std': 3.8423804450883066e-11,\n",
       " '13ARV1:Cx_std': 0.5044977067532772,\n",
       " '13ARV1:Cy_std': 1.3225250378807332,\n",
       " '13ARV1:Sx_std': 0.04560954006496029,\n",
       " '13ARV1:Sy_std': 0.7898555123038848,\n",
       " '13ARV1:penalty_std': 0.447744027959593}"
      ]
     },
     "execution_count": 5,
     "metadata": {},
     "output_type": "execute_result"
    }
   ],
   "source": [
    "meas"
   ]
  },
  {
   "cell_type": "code",
   "execution_count": 6,
   "id": "84e8afcc",
   "metadata": {},
   "outputs": [
    {
     "data": {
      "image/png": "[encoded data removed]",
      "text/plain": [
       "<Figure size 640x480 with 2 Axes>"
      ]
     },
     "metadata": {},
     "output_type": "display_data"
    }
   ],
   "source": [
    "meas = env.get_screen_measurement(\"13ARV1\",['13ARV1:Sx', 'AWAVXI11ICT:Ch1'], visualize=True)"
   ]
  },
  {
   "cell_type": "code",
   "execution_count": 7,
   "id": "6a354e8a",
   "metadata": {},
   "outputs": [
    {
     "data": {
      "text/plain": [
       "{'13ARV1:Sx': 7.509302808212568,\n",
       " '13ARV1:image1:ArraySize1_RBV': 1200,\n",
       " '13ARV1:image1:ArraySize0_RBV': 1920,\n",
       " 'AWAVXI11ICT:Ch1': 9.758809239789304e-10,\n",
       " '13ARV1:Cx': 368.5299719232143,\n",
       " '13ARV1:Cy': 269.4755024124963,\n",
       " '13ARV1:Sy': 52.867744820321434,\n",
       " '13ARV1:penalty': -140.16524492992207}"
      ]
     },
     "execution_count": 7,
     "metadata": {},
     "output_type": "execute_result"
    }
   ],
   "source": [
    "meas"
   ]
  },
  {
   "cell_type": "code",
   "execution_count": null,
   "id": "9c353ef0",
   "metadata": {},
   "outputs": [],
   "source": []
  }
 ],
 "metadata": {
  "kernelspec": {
   "display_name": "Python 3 (ipykernel)",
   "language": "python",
   "name": "python3"
  },
  "language_info": {
   "codemirror_mode": {
    "name": "ipython",
    "version": 3
   },
   "file_extension": ".py",
   "mimetype": "text/x-python",
   "name": "python",
   "nbconvert_exporter": "python",
   "pygments_lexer": "ipython3",
   "version": "3.9.16"
  }
 },
 "nbformat": 4,
 "nbformat_minor": 5
}
