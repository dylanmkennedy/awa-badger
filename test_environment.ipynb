{
 "cells": [
  {
   "cell_type": "code",
   "execution_count": 1,
   "id": "0fb8648e",
   "metadata": {},
   "outputs": [],
   "source": [
    "from plugins.environments.awa_environment import AWAEnvironment\n",
    "from plugins.interfaces.awa_interface import AWAInterface\n",
    "\n",
    "# import data from csv file\n",
    "import pandas as pd\n",
    "variable_file = \"plugins/environments/awa_variables.csv\"\n",
    "observable_file = \"plugins/environments/awa_observables.csv\"\n",
    "variable_info = pd.read_csv(variable_file).set_index(\"NAME\")\n",
    "observable_info = pd.read_csv(observable_file).set_index(\"NAME\").T\n",
    "\n",
    "variables = variable_info[[\"MIN\",\"MAX\"]].T.to_dict()\n",
    "observables = list(observable_info.keys())\n",
    "\n",
    "for name in variables:\n",
    "    variables[name] = [variables[name][\"MIN\"], variables[name][\"MAX\"]]\n",
    "observables\n",
    "\n",
    "env = AWAEnvironment(variable_file, observable_file, interface=AWAInterface(), target_charge=1.0)"
   ]
  },
  {
   "cell_type": "code",
   "execution_count": 2,
   "id": "3860bbc0",
   "metadata": {
    "scrolled": true
   },
   "outputs": [
    {
     "name": "stderr",
     "output_type": "stream",
     "text": [
      "CA.Client.Exception...............................................\n",
      "    Warning: \"Identical process variable names on multiple servers\"\n",
      "    Context: \"Channel: \"13ARV1:image1:ArraySize0_RBV\", Connecting to: 146.139.52.185:5064, Ignored: awa5:5064\"\n",
      "    Source File: ../cac.cpp line 1320\n",
      "    Current Time: Thu Jun 15 2023 16:32:44.380250846\n",
      "..................................................................\n",
      "CA.Client.Exception...............................................\n",
      "    Warning: \"Identical process variable names on multiple servers\"\n",
      "    Context: \"Channel: \"13ARV1:image1:ArrayData\", Connecting to: 146.139.52.185:5064, Ignored: awa5:5064\"\n",
      "    Source File: ../cac.cpp line 1320\n",
      "    Current Time: Thu Jun 15 2023 16:32:44.380375678\n",
      "..................................................................\n",
      "CA.Client.Exception...............................................\n",
      "    Warning: \"Identical process variable names on multiple servers\"\n",
      "    Context: \"Channel: \"13ARV1:image1:ArraySize1_RBV\", Connecting to: 146.139.52.185:5064, Ignored: awa5:5064\"\n",
      "    Source File: ../cac.cpp line 1320\n",
      "    Current Time: Thu Jun 15 2023 16:32:44.380443903\n",
      "..................................................................\n",
      "CA.Client.Exception...............................................\n",
      "    Warning: \"Identical process variable names on multiple servers\"\n",
      "    Context: \"Channel: \"13ARV1:image1:ArraySize0_RBV\", Connecting to: 146.139.52.185:5064, Ignored: awa5:5064\"\n",
      "    Source File: ../cac.cpp line 1320\n",
      "    Current Time: Thu Jun 15 2023 16:32:44.380502179\n",
      "..................................................................\n",
      "CA.Client.Exception...............................................\n",
      "    Warning: \"Identical process variable names on multiple servers\"\n",
      "    Context: \"Channel: \"13ARV1:image1:ArrayData\", Connecting to: 146.139.52.185:5064, Ignored: awa5:5064\"\n",
      "    Source File: ../cac.cpp line 1320\n",
      "    Current Time: Thu Jun 15 2023 16:32:44.380549633\n",
      "..................................................................\n",
      "CA.Client.Exception...............................................\n",
      "    Warning: \"Identical process variable names on multiple servers\"\n",
      "    Context: \"Channel: \"13ARV1:image1:ArraySize1_RBV\", Connecting to: 146.139.52.185:5064, Ignored: awa5:5064\"\n",
      "    Source File: ../cac.cpp line 1320\n",
      "    Current Time: Thu Jun 15 2023 16:32:44.380597425\n",
      "..................................................................\n"
     ]
    }
   ],
   "source": [
    "meas = env.get_screen_measurement(\"13ARV1\",[\"AWAVXI11ICT:Ch1\"])"
   ]
  },
  {
   "cell_type": "code",
   "execution_count": 3,
   "id": "afe440b4",
   "metadata": {},
   "outputs": [
    {
     "data": {
      "text/plain": [
       "{'13ARV1:image1:ArraySize0_RBV': 1920,\n",
       " 'AWAVXI11ICT:Ch1': 9.742647359091987e-10,\n",
       " '13ARV1:image1:ArraySize1_RBV': 1200,\n",
       " '13ARV1:Cx': 394.441233256105,\n",
       " '13ARV1:Cy': 330.2722963436393,\n",
       " '13ARV1:Sx': 96.10540018421649,\n",
       " '13ARV1:Sy': 21.184659066483853,\n",
       " '13ARV1:bb_penalty': -4.286976047974406,\n",
       " '13ARV1:total_intensity': 300408,\n",
       " '13ARV1:log10_total_intensity': 5.477711493943293}"
      ]
     },
     "execution_count": 3,
     "metadata": {},
     "output_type": "execute_result"
    }
   ],
   "source": [
    "meas"
   ]
  },
  {
   "cell_type": "code",
   "execution_count": 4,
   "id": "d7623eec",
   "metadata": {},
   "outputs": [],
   "source": [
    "meas = env.get_observables([\"13ARV1:Sx\"])"
   ]
  },
  {
   "cell_type": "code",
   "execution_count": 5,
   "id": "b34725a3",
   "metadata": {},
   "outputs": [
    {
     "data": {
      "text/plain": [
       "{'13ARV1:image1:ArraySize0_RBV': 1920.0,\n",
       " 'AWAVXI11ICT:Ch1': 9.397996360199905e-10,\n",
       " '13ARV1:image1:ArraySize1_RBV': 1200.0,\n",
       " '13ARV1:Cx': 389.2477250931062,\n",
       " '13ARV1:Cy': 328.24794435803165,\n",
       " '13ARV1:Sx': 96.82925943875624,\n",
       " '13ARV1:Sy': 21.168014371422622,\n",
       " '13ARV1:bb_penalty': -8.420090171664526,\n",
       " '13ARV1:total_intensity': 301732.8,\n",
       " '13ARV1:log10_total_intensity': 5.478731613181067,\n",
       " '13ARV1:image1:ArraySize0_RBV_std': 0.0,\n",
       " 'AWAVXI11ICT:Ch1_std': 2.766327947605867e-11,\n",
       " '13ARV1:image1:ArraySize1_RBV_std': 0.0,\n",
       " '13ARV1:Cx_std': 5.041924435554617,\n",
       " '13ARV1:Cy_std': 1.2558454312845817,\n",
       " '13ARV1:Sx_std': 2.2844560315939164,\n",
       " '13ARV1:Sy_std': 0.5355484542468444,\n",
       " '13ARV1:bb_penalty_std': 3.553304588131177,\n",
       " '13ARV1:total_intensity_std': 21898.94348364779,\n",
       " '13ARV1:log10_total_intensity_std': 0.0308973572178913}"
      ]
     },
     "execution_count": 5,
     "metadata": {},
     "output_type": "execute_result"
    }
   ],
   "source": [
    "meas"
   ]
  },
  {
   "cell_type": "code",
   "execution_count": 6,
   "id": "84e8afcc",
   "metadata": {},
   "outputs": [
    {
     "data": {
      "image/png": "[encoded data removed]",
      "text/plain": [
       "<Figure size 640x480 with 2 Axes>"
      ]
     },
     "metadata": {},
     "output_type": "display_data"
    }
   ],
   "source": [
    "meas = env.get_screen_measurement(\"13ARV1\",['13ARV1:Sx', 'AWAVXI11ICT:Ch1'], visualize=True)"
   ]
  },
  {
   "cell_type": "code",
   "execution_count": 7,
   "id": "87a3fad7",
   "metadata": {},
   "outputs": [
    {
     "data": {
      "text/plain": [
       "{'AWAVXI11ICT:Ch1': 9.062254321297676e-10,\n",
       " '13ARV1:image1:ArraySize1_RBV': 1200,\n",
       " '13ARV1:Sx': 7.977455320729995,\n",
       " '13ARV1:image1:ArraySize0_RBV': 1920,\n",
       " '13ARV1:Cx': 378.445480058594,\n",
       " '13ARV1:Cy': 259.6131163394851,\n",
       " '13ARV1:Sy': 50.495397069654146,\n",
       " '13ARV1:bb_penalty': -130.00270136148202,\n",
       " '13ARV1:total_intensity': 2109430,\n",
       " '13ARV1:log10_total_intensity': 6.324165118189984}"
      ]
     },
     "execution_count": 7,
     "metadata": {},
     "output_type": "execute_result"
    }
   ],
   "source": [
    "meas"
   ]
  },
  {
   "cell_type": "code",
   "execution_count": null,
   "id": "79b7c121",
   "metadata": {},
   "outputs": [],
   "source": []
  }
 ],
 "metadata": {
  "kernelspec": {
   "display_name": "Python 3 (ipykernel)",
   "language": "python",
   "name": "python3"
  },
  "language_info": {
   "codemirror_mode": {
    "name": "ipython",
    "version": 3
   },
   "file_extension": ".py",
   "mimetype": "text/x-python",
   "name": "python",
   "nbconvert_exporter": "python",
   "pygments_lexer": "ipython3",
   "version": "3.9.16"
  }
 },
 "nbformat": 4,
 "nbformat_minor": 5
}
