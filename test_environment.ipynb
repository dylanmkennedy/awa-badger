{
 "cells": [
  {
   "cell_type": "code",
   "execution_count": 1,
   "id": "0fb8648e",
   "metadata": {},
   "outputs": [],
   "source": [
    "from plugins.environments.awa_environment import AWAEnvironment\n",
    "from plugins.interfaces.awa_interface import AWAInterface\n",
    "\n",
    "# import data from csv file\n",
    "import pandas as pd\n",
    "variable_file = \"plugins/environments/awa_variables.csv\"\n",
    "observable_file = \"plugins/environments/awa_observables.csv\"\n",
    "variable_info = pd.read_csv(variable_file).set_index(\"NAME\")\n",
    "observable_info = pd.read_csv(observable_file).set_index(\"NAME\").T\n",
    "\n",
    "variables = variable_info[[\"MIN\",\"MAX\"]].T.to_dict()\n",
    "observables = list(observable_info.keys())\n",
    "\n",
    "for name in variables:\n",
    "    variables[name] = [variables[name][\"MIN\"], variables[name][\"MAX\"]]\n",
    "observables\n",
    "\n",
    "env = AWAEnvironment(variable_file, observable_file, interface=AWAInterface(), target_charge=1.0)"
   ]
  },
  {
   "cell_type": "code",
   "execution_count": 2,
   "id": "3860bbc0",
   "metadata": {
    "scrolled": true
   },
   "outputs": [
    {
     "name": "stderr",
     "output_type": "stream",
     "text": [
      "CA.Client.Exception...............................................\n",
      "    Warning: \"Identical process variable names on multiple servers\"\n",
      "    Context: \"Channel: \"13ARV1:image1:ArrayData\", Connecting to: 146.139.52.185:5064, Ignored: awa5:5064\"\n",
      "    Source File: ../cac.cpp line 1320\n",
      "    Current Time: Thu Jun 15 2023 14:37:25.306984467\n",
      "..................................................................\n",
      "CA.Client.Exception...............................................\n",
      "    Warning: \"Identical process variable names on multiple servers\"\n",
      "    Context: \"Channel: \"13ARV1:image1:ArraySize1_RBV\", Connecting to: 146.139.52.185:5064, Ignored: awa5:5064\"\n",
      "    Source File: ../cac.cpp line 1320\n",
      "    Current Time: Thu Jun 15 2023 14:37:25.307182192\n",
      "..................................................................\n",
      "CA.Client.Exception...............................................\n",
      "    Warning: \"Identical process variable names on multiple servers\"\n",
      "    Context: \"Channel: \"13ARV1:image1:ArraySize0_RBV\", Connecting to: 146.139.52.185:5064, Ignored: awa5:5064\"\n",
      "    Source File: ../cac.cpp line 1320\n",
      "    Current Time: Thu Jun 15 2023 14:37:25.307322045\n",
      "..................................................................\n",
      "CA.Client.Exception...............................................\n",
      "    Warning: \"Identical process variable names on multiple servers\"\n",
      "    Context: \"Channel: \"13ARV1:image1:ArrayData\", Connecting to: 146.139.52.185:5064, Ignored: awa5:5064\"\n",
      "    Source File: ../cac.cpp line 1320\n",
      "    Current Time: Thu Jun 15 2023 14:37:25.307993828\n",
      "..................................................................\n",
      "CA.Client.Exception...............................................\n",
      "    Warning: \"Identical process variable names on multiple servers\"\n",
      "    Context: \"Channel: \"13ARV1:image1:ArraySize1_RBV\", Connecting to: 146.139.52.185:5064, Ignored: awa5:5064\"\n",
      "    Source File: ../cac.cpp line 1320\n",
      "    Current Time: Thu Jun 15 2023 14:37:25.308147638\n",
      "..................................................................\n",
      "CA.Client.Exception...............................................\n",
      "    Warning: \"Identical process variable names on multiple servers\"\n",
      "    Context: \"Channel: \"13ARV1:image1:ArraySize0_RBV\", Connecting to: 146.139.52.185:5064, Ignored: awa5:5064\"\n",
      "    Source File: ../cac.cpp line 1320\n",
      "    Current Time: Thu Jun 15 2023 14:37:25.308270547\n",
      "..................................................................\n"
     ]
    }
   ],
   "source": [
    "meas = env.get_screen_measurement(\"13ARV1\",[\"AWAVXI11ICT:Ch1\"])"
   ]
  },
  {
   "cell_type": "code",
   "execution_count": 3,
   "id": "afe440b4",
   "metadata": {},
   "outputs": [
    {
     "data": {
      "text/plain": [
       "{'AWAVXI11ICT:Ch1': 1.0241894495700797e-09,\n",
       " '13ARV1:image1:ArraySize1_RBV': 1200,\n",
       " '13ARV1:image1:ArraySize0_RBV': 1920,\n",
       " '13ARV1:Cx': 304.4604526004676,\n",
       " '13ARV1:Cy': 365.1540843646186,\n",
       " '13ARV1:Sx': 44.04387081387251,\n",
       " '13ARV1:Sy': 40.899682293818486,\n",
       " '13ARV1:penalty': -126.33225856865025}"
      ]
     },
     "execution_count": 3,
     "metadata": {},
     "output_type": "execute_result"
    }
   ],
   "source": [
    "meas"
   ]
  },
  {
   "cell_type": "code",
   "execution_count": 4,
   "id": "d7623eec",
   "metadata": {},
   "outputs": [],
   "source": [
    "meas = env.get_observables([\"13ARV1:Sx\"])"
   ]
  },
  {
   "cell_type": "code",
   "execution_count": 5,
   "id": "b34725a3",
   "metadata": {},
   "outputs": [
    {
     "data": {
      "text/plain": [
       "{'AWAVXI11ICT:Ch1': 9.673633914558195e-10,\n",
       " '13ARV1:image1:ArraySize1_RBV': 1200.0,\n",
       " '13ARV1:image1:ArraySize0_RBV': 1920.0,\n",
       " '13ARV1:Cx': 299.48124761425004,\n",
       " '13ARV1:Cy': 360.62968210511264,\n",
       " '13ARV1:Sx': 43.854519667334046,\n",
       " '13ARV1:Sy': 41.38772092160603,\n",
       " '13ARV1:penalty': -130.41620471051402,\n",
       " 'AWAVXI11ICT:Ch1_std': 3.688753716306149e-11,\n",
       " '13ARV1:image1:ArraySize1_RBV_std': 0.0,\n",
       " '13ARV1:image1:ArraySize0_RBV_std': 0.0,\n",
       " '13ARV1:Cx_std': 3.496097162073799,\n",
       " '13ARV1:Cy_std': 1.0279952589519192,\n",
       " '13ARV1:Sx_std': 0.2975718100104892,\n",
       " '13ARV1:Sy_std': 0.1250162395311504,\n",
       " '13ARV1:penalty_std': 1.3138514796145202}"
      ]
     },
     "execution_count": 5,
     "metadata": {},
     "output_type": "execute_result"
    }
   ],
   "source": [
    "meas"
   ]
  },
  {
   "cell_type": "code",
   "execution_count": 6,
   "id": "84e8afcc",
   "metadata": {},
   "outputs": [
    {
     "data": {
      "image/png": "[encoded data removed]",
      "text/plain": [
       "<Figure size 640x480 with 2 Axes>"
      ]
     },
     "metadata": {},
     "output_type": "display_data"
    }
   ],
   "source": [
    "meas = env.get_screen_measurement(\"13ARV1\",['13ARV1:Sx', 'AWAVXI11ICT:Ch1'], visualize=True)"
   ]
  },
  {
   "cell_type": "code",
   "execution_count": 7,
   "id": "32ae457e",
   "metadata": {},
   "outputs": [
    {
     "data": {
      "text/plain": [
       "{'13ARV1:image1:ArraySize1_RBV': 1200,\n",
       " '13ARV1:image1:ArraySize0_RBV': 1920,\n",
       " '13ARV1:Sx': 43.764311284328045,\n",
       " 'AWAVXI11ICT:Ch1': 9.16064253748789e-10,\n",
       " '13ARV1:Cx': 301.40990890142496,\n",
       " '13ARV1:Cy': 366.450972632588,\n",
       " '13ARV1:Sy': 40.94864862697984,\n",
       " '13ARV1:penalty': -127.03390055162086}"
      ]
     },
     "execution_count": 7,
     "metadata": {},
     "output_type": "execute_result"
    }
   ],
   "source": [
    "meas"
   ]
  },
  {
   "cell_type": "code",
   "execution_count": null,
   "id": "04f01e1e",
   "metadata": {},
   "outputs": [],
   "source": []
  }
 ],
 "metadata": {
  "kernelspec": {
   "display_name": "Python 3 (ipykernel)",
   "language": "python",
   "name": "python3"
  },
  "language_info": {
   "codemirror_mode": {
    "name": "ipython",
    "version": 3
   },
   "file_extension": ".py",
   "mimetype": "text/x-python",
   "name": "python",
   "nbconvert_exporter": "python",
   "pygments_lexer": "ipython3",
   "version": "3.9.16"
  }
 },
 "nbformat": 4,
 "nbformat_minor": 5
}
