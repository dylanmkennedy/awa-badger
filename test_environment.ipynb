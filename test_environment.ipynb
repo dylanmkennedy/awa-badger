{
 "cells": [
  {
   "cell_type": "code",
   "execution_count": 1,
   "id": "0fb8648e",
   "metadata": {},
   "outputs": [],
   "source": [
    "from plugins.environments.awa_environment import AWAEnvironment\n",
    "from plugins.interfaces.awa_interface import AWAInterface\n",
    "\n",
    "# import data from csv file\n",
    "import pandas as pd\n",
    "variable_file = \"plugins/environments/awa_variables.csv\"\n",
    "observable_file = \"plugins/environments/awa_observables.csv\"\n",
    "variable_info = pd.read_csv(variable_file).set_index(\"NAME\")\n",
    "observable_info = pd.read_csv(observable_file).set_index(\"NAME\").T\n",
    "\n",
    "variables = variable_info[[\"MIN\",\"MAX\"]].T.to_dict()\n",
    "observables = list(observable_info.keys())\n",
    "\n",
    "for name in variables:\n",
    "    variables[name] = [variables[name][\"MIN\"], variables[name][\"MAX\"]]\n",
    "observables\n",
    "\n",
    "env = AWAEnvironment(variable_file, observable_file, interface=AWAInterface(), target_charge=1.0)"
   ]
  },
  {
   "cell_type": "code",
   "execution_count": 2,
   "id": "3860bbc0",
   "metadata": {
    "scrolled": true
   },
   "outputs": [
    {
     "name": "stdout",
     "output_type": "stream",
     "text": [
      "7521018\n",
      "[567.53239561 754.3401489 ] [84.7590974  43.06702268]\n"
     ]
    },
    {
     "name": "stderr",
     "output_type": "stream",
     "text": [
      "CA.Client.Exception...............................................\n",
      "    Warning: \"Identical process variable names on multiple servers\"\n",
      "    Context: \"Channel: \"13ARV1:image1:ArrayData\", Connecting to: 146.139.52.185:5064, Ignored: awa5:5064\"\n",
      "    Source File: ../cac.cpp line 1320\n",
      "    Current Time: Thu Apr 27 2023 16:41:47.163925940\n",
      "..................................................................\n",
      "CA.Client.Exception...............................................\n",
      "    Warning: \"Identical process variable names on multiple servers\"\n",
      "    Context: \"Channel: \"13ARV1:image1:ArraySize1_RBV\", Connecting to: 146.139.52.185:5064, Ignored: awa5:5064\"\n",
      "    Source File: ../cac.cpp line 1320\n",
      "    Current Time: Thu Apr 27 2023 16:41:47.164022242\n",
      "..................................................................\n",
      "CA.Client.Exception...............................................\n",
      "    Warning: \"Identical process variable names on multiple servers\"\n",
      "    Context: \"Channel: \"13ARV1:image1:ArraySize0_RBV\", Connecting to: 146.139.52.185:5064, Ignored: awa5:5064\"\n",
      "    Source File: ../cac.cpp line 1320\n",
      "    Current Time: Thu Apr 27 2023 16:41:47.164082334\n",
      "..................................................................\n",
      "CA.Client.Exception...............................................\n",
      "    Warning: \"Identical process variable names on multiple servers\"\n",
      "    Context: \"Channel: \"13ARV1:image1:ArrayData\", Connecting to: 146.139.52.185:5064, Ignored: awa5:5064\"\n",
      "    Source File: ../cac.cpp line 1320\n",
      "    Current Time: Thu Apr 27 2023 16:41:47.164138576\n",
      "..................................................................\n",
      "CA.Client.Exception...............................................\n",
      "    Warning: \"Identical process variable names on multiple servers\"\n",
      "    Context: \"Channel: \"13ARV1:image1:ArraySize1_RBV\", Connecting to: 146.139.52.185:5064, Ignored: awa5:5064\"\n",
      "    Source File: ../cac.cpp line 1320\n",
      "    Current Time: Thu Apr 27 2023 16:41:47.164193725\n",
      "..................................................................\n",
      "CA.Client.Exception...............................................\n",
      "    Warning: \"Identical process variable names on multiple servers\"\n",
      "    Context: \"Channel: \"13ARV1:image1:ArraySize0_RBV\", Connecting to: 146.139.52.185:5064, Ignored: awa5:5064\"\n",
      "    Source File: ../cac.cpp line 1320\n",
      "    Current Time: Thu Apr 27 2023 16:41:47.164250949\n",
      "..................................................................\n"
     ]
    }
   ],
   "source": [
    "meas = env.get_screen_measurement(\"13ARV1\",[\"AWAVXI11ICT:Ch1\"])"
   ]
  },
  {
   "cell_type": "code",
   "execution_count": 3,
   "id": "afe440b4",
   "metadata": {},
   "outputs": [
    {
     "data": {
      "text/plain": [
       "{'13ARV1:image1:ArraySize1_RBV': 1200,\n",
       " 'AWAVXI11ICT:Ch1': 8.301560009640499e-10,\n",
       " '13ARV1:image1:ArraySize0_RBV': 1920,\n",
       " '13ARV1:Cx': 567.5323956145298,\n",
       " '13ARV1:Cy': 754.3401489000559,\n",
       " '13ARV1:Sx': 84.75909740359793,\n",
       " '13ARV1:Sy': 43.06702267785728,\n",
       " '13ARV1:penalty': -85.13175661011991}"
      ]
     },
     "execution_count": 3,
     "metadata": {},
     "output_type": "execute_result"
    }
   ],
   "source": [
    "meas"
   ]
  },
  {
   "cell_type": "code",
   "execution_count": 4,
   "id": "d7623eec",
   "metadata": {},
   "outputs": [
    {
     "name": "stdout",
     "output_type": "stream",
     "text": [
      "13083916\n",
      "[568.2063915  747.18879417] [78.75485082 39.65543556]\n",
      "charge value 1.1120403459621135 is outside bounds\n",
      "10594998\n",
      "[561.0934692  750.53616537] [81.76521593 41.23602336]\n"
     ]
    }
   ],
   "source": [
    "meas = env.get_observables([\"13ARV1:Sx\"])"
   ]
  },
  {
   "cell_type": "code",
   "execution_count": 5,
   "id": "b34725a3",
   "metadata": {},
   "outputs": [
    {
     "data": {
      "text/plain": [
       "{'13ARV1:image1:ArraySize1_RBV': 1200,\n",
       " '13ARV1:Sx': 81.76521592782277,\n",
       " '13ARV1:image1:ArraySize0_RBV': 1920,\n",
       " 'AWAVXI11ICT:Ch1': 9.809483129364026e-10,\n",
       " '13ARV1:Cx': 561.0934692012212,\n",
       " '13ARV1:Cy': 750.5361653678463,\n",
       " '13ARV1:Sy': 41.23602335757735,\n",
       " '13ARV1:penalty': -98.31558875066861}"
      ]
     },
     "execution_count": 5,
     "metadata": {},
     "output_type": "execute_result"
    }
   ],
   "source": [
    "meas"
   ]
  },
  {
   "cell_type": "code",
   "execution_count": null,
   "id": "84e8afcc",
   "metadata": {},
   "outputs": [],
   "source": []
  }
 ],
 "metadata": {
  "kernelspec": {
   "display_name": "Python 3 (ipykernel)",
   "language": "python",
   "name": "python3"
  },
  "language_info": {
   "codemirror_mode": {
    "name": "ipython",
    "version": 3
   },
   "file_extension": ".py",
   "mimetype": "text/x-python",
   "name": "python",
   "nbconvert_exporter": "python",
   "pygments_lexer": "ipython3",
   "version": "3.9.16"
  }
 },
 "nbformat": 4,
 "nbformat_minor": 5
}
