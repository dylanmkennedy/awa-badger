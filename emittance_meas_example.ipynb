{
 "cells": [
  {
   "cell_type": "markdown",
   "metadata": {},
   "source": [
    "## Test AWA Environment/Interface Plugins"
   ]
  },
  {
   "cell_type": "code",
   "execution_count": 1,
   "metadata": {},
   "outputs": [
    {
     "data": {
      "text/plain": "{'AWA:Bira3Ctrl:Ch00': [0.0, 1.0],\n 'AWA:Bira2Ctrl:Ch00': [0.0, 1.0],\n 'AWA:Drive:DS1:Ctrl': [6.05, 9.07],\n 'AWA:Drive:DS3:Ctrl': [0.0, 2.5],\n 'AWA:Bira3Ctrl:Ch03': [-0.5, 0.5],\n 'AWA:Bira3Ctrl:Ch04': [-0.5, 0.5],\n 'AWA:Bira3Ctrl:Ch05': [-0.5, 0.5]}"
     },
     "execution_count": 1,
     "metadata": {},
     "output_type": "execute_result"
    }
   ],
   "source": [
    "from plugins.environments.awa_environment import AWAEnvironment\n",
    "from plugins.interfaces.test_awa_interface import TestAWAInterface\n",
    "\n",
    "# import data from csv file\n",
    "import pandas as pd\n",
    "variable_file = \"plugins/environments/awa_variables.csv\"\n",
    "observable_file = \"plugins/environments/awa_observables.csv\"\n",
    "variable_info = pd.read_csv(variable_file).set_index(\"NAME\")\n",
    "observable_info = pd.read_csv(observable_file).set_index(\"NAME\").T\n",
    "\n",
    "variables = variable_info[[\"MIN\",\"MAX\"]].T.to_dict()\n",
    "observables = list(observable_info.keys())\n",
    "\n",
    "for name in variables:\n",
    "    variables[name] = [variables[name][\"MIN\"], variables[name][\"MAX\"]]\n",
    "variables"
   ]
  },
  {
   "cell_type": "code",
   "execution_count": 2,
   "outputs": [],
   "source": [
    "env = AWAEnvironment(variable_file, observable_file, interface=TestAWAInterface())"
   ],
   "metadata": {
    "collapsed": false
   }
  },
  {
   "cell_type": "code",
   "execution_count": 3,
   "metadata": {
    "collapsed": false,
    "jupyter": {
     "outputs_hidden": false
    }
   },
   "outputs": [
    {
     "data": {
      "text/plain": "{'name': 'awa_environment',\n 'interface': {'name': 'awa_interface', 'params': {}, 'x': None, 'y': None},\n 'variables': {'AWA:Bira3Ctrl:Ch00': [0.0, 1.0],\n  'AWA:Bira2Ctrl:Ch00': [0.0, 1.0],\n  'AWA:Drive:DS1:Ctrl': [6.05, 9.07],\n  'AWA:Drive:DS3:Ctrl': [0.0, 2.5],\n  'AWA:Bira3Ctrl:Ch03': [-0.5, 0.5],\n  'AWA:Bira3Ctrl:Ch04': [-0.5, 0.5],\n  'AWA:Bira3Ctrl:Ch05': [-0.5, 0.5]},\n 'observables': ['YAG1:XRMS',\n  'YAG1:YRMS',\n  'AWAICTMon:Ch1',\n  'AWAICTMon:Ch2',\n  'AWAICTMon:Ch3',\n  'AWAICTMon:Ch4'],\n 'params': {},\n 'target_charge_PV': 'AWAICTMon:Ch1',\n 'target_charge': None,\n 'fractional_charge_deviation': 0.1}"
     },
     "execution_count": 3,
     "metadata": {},
     "output_type": "execute_result"
    }
   ],
   "source": [
    "env.dict()"
   ]
  },
  {
   "cell_type": "code",
   "execution_count": 4,
   "metadata": {
    "collapsed": false,
    "jupyter": {
     "outputs_hidden": false
    }
   },
   "outputs": [],
   "source": [
    "env.set_variables({\"AWA:Bira3Ctrl:Ch00\": 0.5})"
   ]
  },
  {
   "cell_type": "code",
   "execution_count": 5,
   "metadata": {
    "collapsed": false,
    "jupyter": {
     "outputs_hidden": false
    }
   },
   "outputs": [
    {
     "data": {
      "text/plain": "{'YAG1:XRMS': 0.5, 'YAG1:YRMS': 0.0, 'AWAICTMon:Ch1': 1.0}"
     },
     "execution_count": 5,
     "metadata": {},
     "output_type": "execute_result"
    }
   ],
   "source": [
    "env.get_observables([\"YAG1:XRMS\",\"YAG1:YRMS\"])"
   ]
  },
  {
   "cell_type": "code",
   "execution_count": 6,
   "outputs": [
    {
     "name": "stdout",
     "output_type": "stream",
     "text": [
      "['YAG1:XRMS', 'YAG1:YRMS', 'AWAICTMon:Ch1', 'AWAICTMon:Ch2', 'AWAICTMon:Ch3', 'AWAICTMon:Ch4']\n"
     ]
    }
   ],
   "source": [
    "print(env.observables)"
   ],
   "metadata": {
    "collapsed": false
   }
  },
  {
   "cell_type": "markdown",
   "metadata": {},
   "source": [
    "## Test with Xopt BE"
   ]
  },
  {
   "cell_type": "code",
   "execution_count": 7,
   "metadata": {
    "collapsed": false,
    "jupyter": {
     "outputs_hidden": false
    }
   },
   "outputs": [],
   "source": [
    "from xopt import Xopt, Evaluator, VOCS\n",
    "from xopt.generators.bayesian import BayesianExplorationGenerator\n",
    "\n",
    "def evaluate(inputs):\n",
    "    env.set_variables(inputs)\n",
    "    return env.get_observables(env.observables)\n",
    "\n",
    "# remove one variable\n",
    "variables = dict((name, env.variables[name]) for name in [\"AWA:Bira3Ctrl:Ch00\"])\n",
    "vocs = VOCS(variables=variables,\n",
    "            objectives={\"YAG1:XRMS\":\"MINIMIZE\"},\n",
    "            constraints={\"YAG1:YRMS\":[\"GREATER_THAN\",0.0]})\n",
    "generator = BayesianExplorationGenerator(vocs)\n",
    "evaluator = Evaluator(function=evaluate)\n",
    "X = Xopt(vocs=vocs, evaluator=evaluator, generator=generator)"
   ]
  },
  {
   "cell_type": "code",
   "execution_count": 8,
   "metadata": {
    "collapsed": false,
    "jupyter": {
     "outputs_hidden": false
    }
   },
   "outputs": [
    {
     "data": {
      "text/plain": "{'variables': {'AWA:Bira3Ctrl:Ch00': [0.0, 1.0]},\n 'constraints': {'YAG1:YRMS': ['GREATER_THAN', 0.0]},\n 'objectives': {'YAG1:XRMS': 'MINIMIZE'},\n 'constants': {},\n 'linked_variables': {}}"
     },
     "execution_count": 8,
     "metadata": {},
     "output_type": "execute_result"
    }
   ],
   "source": [
    "vocs.dict()"
   ]
  },
  {
   "cell_type": "code",
   "execution_count": 9,
   "metadata": {
    "collapsed": false,
    "jupyter": {
     "outputs_hidden": false
    }
   },
   "outputs": [
    {
     "data": {
      "text/plain": "   AWA:Bira3Ctrl:Ch00  YAG1:XRMS  YAG1:YRMS  AWAICTMon:Ch1  xopt_runtime   \n1                 0.0        0.0        0.5            1.0      0.000048  \\\n2                 0.1        0.1        0.4            1.0      0.000021   \n\n   xopt_error  \n1       False  \n2       False  ",
      "text/html": "<div>\n<style scoped>\n    .dataframe tbody tr th:only-of-type {\n        vertical-align: middle;\n    }\n\n    .dataframe tbody tr th {\n        vertical-align: top;\n    }\n\n    .dataframe thead th {\n        text-align: right;\n    }\n</style>\n<table border=\"1\" class=\"dataframe\">\n  <thead>\n    <tr style=\"text-align: right;\">\n      <th></th>\n      <th>AWA:Bira3Ctrl:Ch00</th>\n      <th>YAG1:XRMS</th>\n      <th>YAG1:YRMS</th>\n      <th>AWAICTMon:Ch1</th>\n      <th>xopt_runtime</th>\n      <th>xopt_error</th>\n    </tr>\n  </thead>\n  <tbody>\n    <tr>\n      <th>1</th>\n      <td>0.0</td>\n      <td>0.0</td>\n      <td>0.5</td>\n      <td>1.0</td>\n      <td>0.000048</td>\n      <td>False</td>\n    </tr>\n    <tr>\n      <th>2</th>\n      <td>0.1</td>\n      <td>0.1</td>\n      <td>0.4</td>\n      <td>1.0</td>\n      <td>0.000021</td>\n      <td>False</td>\n    </tr>\n  </tbody>\n</table>\n</div>"
     },
     "execution_count": 9,
     "metadata": {},
     "output_type": "execute_result"
    }
   ],
   "source": [
    "import pandas as pd\n",
    "X.evaluate_data(pd.DataFrame({\"AWA:Bira3Ctrl:Ch00\":[0.0,0.1]}))"
   ]
  },
  {
   "cell_type": "code",
   "execution_count": 15,
   "metadata": {
    "collapsed": false,
    "jupyter": {
     "outputs_hidden": false
    }
   },
   "outputs": [],
   "source": [
    "for i in range(15):\n",
    "    X.step()"
   ]
  },
  {
   "cell_type": "code",
   "execution_count": 16,
   "metadata": {
    "collapsed": false,
    "jupyter": {
     "outputs_hidden": false
    }
   },
   "outputs": [
    {
     "data": {
      "text/plain": "    AWA:Bira3Ctrl:Ch00  YAG1:XRMS  YAG1:YRMS  AWAICTMon:Ch1  xopt_runtime   \n1             0.000000   0.000000   0.500000            1.0      0.000048  \\\n2             0.100000   0.100000   0.400000            1.0      0.000021   \n3             1.000000   1.000000  -0.500000            1.0      0.000046   \n4             0.365942   0.365942   0.134058            1.0      0.000062   \n5             0.428686   0.428686   0.071314            1.0      0.000062   \n6             0.234039   0.234039   0.265961            1.0      0.000048   \n7             0.473207   0.473207   0.026793            1.0      0.000064   \n8             0.486345   0.486345   0.013655            1.0      0.000068   \n9             0.161796   0.161796   0.338204            1.0      0.000057   \n10            0.000000   0.000000   0.500000            1.0      0.000046   \n11            0.298631   0.298631   0.201369            1.0      0.000050   \n12            0.070700   0.070700   0.429300            1.0      0.000056   \n13            0.489062   0.489062   0.010938            1.0      0.000059   \n14            0.377523   0.377523   0.122477            1.0      0.000058   \n15            0.000000   0.000000   0.500000            1.0      0.000050   \n16            0.215798   0.215798   0.284202            1.0      0.000066   \n17            0.077567   0.077567   0.422433            1.0      0.000055   \n18            0.296627   0.296627   0.203373            1.0      0.000049   \n19            0.489781   0.489781   0.010219            1.0      0.000057   \n20            0.163801   0.163801   0.336199            1.0      0.000074   \n21            0.407272   0.407272   0.092728            1.0      0.000049   \n22            0.000000   0.000000   0.500000            1.0      0.000049   \n23            0.066885   0.066885   0.433115            1.0      0.000048   \n24            0.275819   0.275819   0.224181            1.0      0.000047   \n25            0.172991   0.172991   0.327009            1.0      0.000048   \n26            0.490151   0.490151   0.009849            1.0      0.000057   \n27            0.406825   0.406825   0.093175            1.0      0.000059   \n\n    xopt_error  \n1        False  \n2        False  \n3        False  \n4        False  \n5        False  \n6        False  \n7        False  \n8        False  \n9        False  \n10       False  \n11       False  \n12       False  \n13       False  \n14       False  \n15       False  \n16       False  \n17       False  \n18       False  \n19       False  \n20       False  \n21       False  \n22       False  \n23       False  \n24       False  \n25       False  \n26       False  \n27       False  ",
      "text/html": "<div>\n<style scoped>\n    .dataframe tbody tr th:only-of-type {\n        vertical-align: middle;\n    }\n\n    .dataframe tbody tr th {\n        vertical-align: top;\n    }\n\n    .dataframe thead th {\n        text-align: right;\n    }\n</style>\n<table border=\"1\" class=\"dataframe\">\n  <thead>\n    <tr style=\"text-align: right;\">\n      <th></th>\n      <th>AWA:Bira3Ctrl:Ch00</th>\n      <th>YAG1:XRMS</th>\n      <th>YAG1:YRMS</th>\n      <th>AWAICTMon:Ch1</th>\n      <th>xopt_runtime</th>\n      <th>xopt_error</th>\n    </tr>\n  </thead>\n  <tbody>\n    <tr>\n      <th>1</th>\n      <td>0.000000</td>\n      <td>0.000000</td>\n      <td>0.500000</td>\n      <td>1.0</td>\n      <td>0.000048</td>\n      <td>False</td>\n    </tr>\n    <tr>\n      <th>2</th>\n      <td>0.100000</td>\n      <td>0.100000</td>\n      <td>0.400000</td>\n      <td>1.0</td>\n      <td>0.000021</td>\n      <td>False</td>\n    </tr>\n    <tr>\n      <th>3</th>\n      <td>1.000000</td>\n      <td>1.000000</td>\n      <td>-0.500000</td>\n      <td>1.0</td>\n      <td>0.000046</td>\n      <td>False</td>\n    </tr>\n    <tr>\n      <th>4</th>\n      <td>0.365942</td>\n      <td>0.365942</td>\n      <td>0.134058</td>\n      <td>1.0</td>\n      <td>0.000062</td>\n      <td>False</td>\n    </tr>\n    <tr>\n      <th>5</th>\n      <td>0.428686</td>\n      <td>0.428686</td>\n      <td>0.071314</td>\n      <td>1.0</td>\n      <td>0.000062</td>\n      <td>False</td>\n    </tr>\n    <tr>\n      <th>6</th>\n      <td>0.234039</td>\n      <td>0.234039</td>\n      <td>0.265961</td>\n      <td>1.0</td>\n      <td>0.000048</td>\n      <td>False</td>\n    </tr>\n    <tr>\n      <th>7</th>\n      <td>0.473207</td>\n      <td>0.473207</td>\n      <td>0.026793</td>\n      <td>1.0</td>\n      <td>0.000064</td>\n      <td>False</td>\n    </tr>\n    <tr>\n      <th>8</th>\n      <td>0.486345</td>\n      <td>0.486345</td>\n      <td>0.013655</td>\n      <td>1.0</td>\n      <td>0.000068</td>\n      <td>False</td>\n    </tr>\n    <tr>\n      <th>9</th>\n      <td>0.161796</td>\n      <td>0.161796</td>\n      <td>0.338204</td>\n      <td>1.0</td>\n      <td>0.000057</td>\n      <td>False</td>\n    </tr>\n    <tr>\n      <th>10</th>\n      <td>0.000000</td>\n      <td>0.000000</td>\n      <td>0.500000</td>\n      <td>1.0</td>\n      <td>0.000046</td>\n      <td>False</td>\n    </tr>\n    <tr>\n      <th>11</th>\n      <td>0.298631</td>\n      <td>0.298631</td>\n      <td>0.201369</td>\n      <td>1.0</td>\n      <td>0.000050</td>\n      <td>False</td>\n    </tr>\n    <tr>\n      <th>12</th>\n      <td>0.070700</td>\n      <td>0.070700</td>\n      <td>0.429300</td>\n      <td>1.0</td>\n      <td>0.000056</td>\n      <td>False</td>\n    </tr>\n    <tr>\n      <th>13</th>\n      <td>0.489062</td>\n      <td>0.489062</td>\n      <td>0.010938</td>\n      <td>1.0</td>\n      <td>0.000059</td>\n      <td>False</td>\n    </tr>\n    <tr>\n      <th>14</th>\n      <td>0.377523</td>\n      <td>0.377523</td>\n      <td>0.122477</td>\n      <td>1.0</td>\n      <td>0.000058</td>\n      <td>False</td>\n    </tr>\n    <tr>\n      <th>15</th>\n      <td>0.000000</td>\n      <td>0.000000</td>\n      <td>0.500000</td>\n      <td>1.0</td>\n      <td>0.000050</td>\n      <td>False</td>\n    </tr>\n    <tr>\n      <th>16</th>\n      <td>0.215798</td>\n      <td>0.215798</td>\n      <td>0.284202</td>\n      <td>1.0</td>\n      <td>0.000066</td>\n      <td>False</td>\n    </tr>\n    <tr>\n      <th>17</th>\n      <td>0.077567</td>\n      <td>0.077567</td>\n      <td>0.422433</td>\n      <td>1.0</td>\n      <td>0.000055</td>\n      <td>False</td>\n    </tr>\n    <tr>\n      <th>18</th>\n      <td>0.296627</td>\n      <td>0.296627</td>\n      <td>0.203373</td>\n      <td>1.0</td>\n      <td>0.000049</td>\n      <td>False</td>\n    </tr>\n    <tr>\n      <th>19</th>\n      <td>0.489781</td>\n      <td>0.489781</td>\n      <td>0.010219</td>\n      <td>1.0</td>\n      <td>0.000057</td>\n      <td>False</td>\n    </tr>\n    <tr>\n      <th>20</th>\n      <td>0.163801</td>\n      <td>0.163801</td>\n      <td>0.336199</td>\n      <td>1.0</td>\n      <td>0.000074</td>\n      <td>False</td>\n    </tr>\n    <tr>\n      <th>21</th>\n      <td>0.407272</td>\n      <td>0.407272</td>\n      <td>0.092728</td>\n      <td>1.0</td>\n      <td>0.000049</td>\n      <td>False</td>\n    </tr>\n    <tr>\n      <th>22</th>\n      <td>0.000000</td>\n      <td>0.000000</td>\n      <td>0.500000</td>\n      <td>1.0</td>\n      <td>0.000049</td>\n      <td>False</td>\n    </tr>\n    <tr>\n      <th>23</th>\n      <td>0.066885</td>\n      <td>0.066885</td>\n      <td>0.433115</td>\n      <td>1.0</td>\n      <td>0.000048</td>\n      <td>False</td>\n    </tr>\n    <tr>\n      <th>24</th>\n      <td>0.275819</td>\n      <td>0.275819</td>\n      <td>0.224181</td>\n      <td>1.0</td>\n      <td>0.000047</td>\n      <td>False</td>\n    </tr>\n    <tr>\n      <th>25</th>\n      <td>0.172991</td>\n      <td>0.172991</td>\n      <td>0.327009</td>\n      <td>1.0</td>\n      <td>0.000048</td>\n      <td>False</td>\n    </tr>\n    <tr>\n      <th>26</th>\n      <td>0.490151</td>\n      <td>0.490151</td>\n      <td>0.009849</td>\n      <td>1.0</td>\n      <td>0.000057</td>\n      <td>False</td>\n    </tr>\n    <tr>\n      <th>27</th>\n      <td>0.406825</td>\n      <td>0.406825</td>\n      <td>0.093175</td>\n      <td>1.0</td>\n      <td>0.000059</td>\n      <td>False</td>\n    </tr>\n  </tbody>\n</table>\n</div>"
     },
     "execution_count": 16,
     "metadata": {},
     "output_type": "execute_result"
    }
   ],
   "source": [
    "X.data"
   ]
  },
  {
   "cell_type": "code",
   "execution_count": 17,
   "metadata": {
    "collapsed": false,
    "jupyter": {
     "outputs_hidden": false
    }
   },
   "outputs": [
    {
     "data": {
      "text/plain": "<Axes: xlabel='AWA:Bira3Ctrl:Ch00'>"
     },
     "execution_count": 17,
     "metadata": {},
     "output_type": "execute_result"
    },
    {
     "data": {
      "text/plain": "<Figure size 640x480 with 1 Axes>",
      "image/png": "[encoded data removed]"
     },
     "metadata": {},
     "output_type": "display_data"
    }
   ],
   "source": [
    "import os\n",
    "os.environ[\"KMP_DUPLICATE_LIB_OK\"]=\"TRUE\"\n",
    "\n",
    "X.data.plot(x=\"AWA:Bira3Ctrl:Ch00\", y=[\"YAG1:XRMS\",\"YAG1:YRMS\"],style=\"o\")"
   ]
  },
  {
   "cell_type": "code",
   "execution_count": 13,
   "metadata": {
    "collapsed": false,
    "jupyter": {
     "outputs_hidden": false
    }
   },
   "outputs": [],
   "source": [
    "model = X.generator.model"
   ]
  },
  {
   "cell_type": "code",
   "execution_count": 14,
   "metadata": {},
   "outputs": [
    {
     "data": {
      "text/plain": "ModelListGP(\n  (models): ModuleList(\n    (0-1): 2 x SingleTaskGP(\n      (likelihood): GaussianLikelihood(\n        (noise_covar): HomoskedasticNoise(\n          (noise_prior): GammaPrior()\n          (raw_noise_constraint): GreaterThan(1.000E-04)\n        )\n      )\n      (mean_module): ConstantMean()\n      (covar_module): ScaleKernel(\n        (base_kernel): MaternKernel(\n          (lengthscale_prior): GammaPrior()\n          (raw_lengthscale_constraint): Positive()\n        )\n        (outputscale_prior): GammaPrior()\n        (raw_outputscale_constraint): Positive()\n      )\n      (outcome_transform): Standardize()\n      (input_transform): Normalize()\n    )\n  )\n  (likelihood): LikelihoodList(\n    (likelihoods): ModuleList(\n      (0-1): 2 x GaussianLikelihood(\n        (noise_covar): HomoskedasticNoise(\n          (noise_prior): GammaPrior()\n          (raw_noise_constraint): GreaterThan(1.000E-04)\n        )\n      )\n    )\n  )\n)"
     },
     "execution_count": 14,
     "metadata": {},
     "output_type": "execute_result"
    }
   ],
   "source": [
    "model"
   ]
  },
  {
   "cell_type": "code",
   "execution_count": 14,
   "metadata": {},
   "outputs": [],
   "source": []
  }
 ],
 "metadata": {
  "kernelspec": {
   "name": "python3",
   "language": "python",
   "display_name": "Python 3 (ipykernel)"
  },
  "language_info": {
   "codemirror_mode": {
    "name": "ipython",
    "version": 3
   },
   "file_extension": ".py",
   "mimetype": "text/x-python",
   "name": "python",
   "nbconvert_exporter": "python",
   "pygments_lexer": "ipython3",
   "version": "3.9.16"
  }
 },
 "nbformat": 4,
 "nbformat_minor": 4
}
