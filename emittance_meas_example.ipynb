{
 "cells": [
  {
   "cell_type": "markdown",
   "source": [
    "## Test AWA Environment/Interface Plugins"
   ],
   "metadata": {
    "collapsed": false
   }
  },
  {
   "cell_type": "code",
   "execution_count": 1,
   "metadata": {
    "collapsed": true
   },
   "outputs": [],
   "source": [
    "from plugins.environments.awa_environment import AWAEnvironment\n",
    "from plugins.interfaces.test_awa_interface import TestAWAInterface\n",
    "\n",
    "env = AWAEnvironment(interface=TestAWAInterface(), variables={\"Q6:BCTRL\":[-1,1]})"
   ]
  },
  {
   "cell_type": "code",
   "execution_count": 2,
   "outputs": [
    {
     "data": {
      "text/plain": "{'name': 'awa_environment',\n 'interface': {'name': 'awa_interface',\n  'params': {},\n  'camera_app': <plugins.interfaces.camera.AWACamera at 0x1c2c099c370>,\n  'x': None},\n 'variables': {'Q6:BCTRL': [-1.0, 1.0]},\n 'observables': ['AWAICTMon:Ch1',\n  'AWAICTMon:Ch2',\n  'AWAICTMon:Ch3',\n  'AWAICTMon:Ch4',\n  'YAG1:XRMS'],\n 'params': {},\n 'target_charge_PV': 'AWAICTMon:Ch1',\n 'target_charge': None,\n 'fractional_charge_deviation': 0.1}"
     },
     "execution_count": 2,
     "metadata": {},
     "output_type": "execute_result"
    }
   ],
   "source": [
    "env.dict()"
   ],
   "metadata": {
    "collapsed": false
   }
  },
  {
   "cell_type": "code",
   "execution_count": 3,
   "outputs": [],
   "source": [
    "env.set_variables({\"Q6:BCTRL\": 0.5})"
   ],
   "metadata": {
    "collapsed": false
   }
  },
  {
   "cell_type": "code",
   "execution_count": 4,
   "outputs": [
    {
     "data": {
      "text/plain": "{'YAG1:XRMS': 0.25, 'AWAICTMon:Ch1': 1.0}"
     },
     "execution_count": 4,
     "metadata": {},
     "output_type": "execute_result"
    }
   ],
   "source": [
    "env.get_observables([\"YAG1:XRMS\"])"
   ],
   "metadata": {
    "collapsed": false
   }
  },
  {
   "cell_type": "markdown",
   "source": [
    "## Test with Xopt BE"
   ],
   "metadata": {
    "collapsed": false
   }
  },
  {
   "cell_type": "code",
   "execution_count": 5,
   "outputs": [],
   "source": [
    "from xopt import Xopt, Evaluator, VOCS\n",
    "from xopt.generators.bayesian import BayesianExplorationGenerator\n",
    "\n",
    "def evaluate(inputs):\n",
    "    env.set_variables(inputs)\n",
    "    return env.get_observables(env.observables)\n",
    "\n",
    "vocs = VOCS(variables=env.variables, objectives={\"YAG1:XRMS\":\"MINIMIZE\"})\n",
    "generator = BayesianExplorationGenerator(vocs)\n",
    "evaluator = Evaluator(function=evaluate)\n",
    "X = Xopt(vocs=vocs, evaluator=evaluator, generator=generator)"
   ],
   "metadata": {
    "collapsed": false
   }
  },
  {
   "cell_type": "code",
   "execution_count": 6,
   "outputs": [
    {
     "data": {
      "text/plain": "{'variables': {'Q6:BCTRL': [-1.0, 1.0]},\n 'constraints': {},\n 'objectives': {'YAG1:XRMS': 'MINIMIZE'},\n 'constants': {},\n 'linked_variables': {}}"
     },
     "execution_count": 6,
     "metadata": {},
     "output_type": "execute_result"
    }
   ],
   "source": [
    "vocs.dict()"
   ],
   "metadata": {
    "collapsed": false
   }
  },
  {
   "cell_type": "code",
   "execution_count": 7,
   "outputs": [],
   "source": [
    "X.step()"
   ],
   "metadata": {
    "collapsed": false
   }
  },
  {
   "cell_type": "code",
   "execution_count": 8,
   "outputs": [
    {
     "data": {
      "text/plain": "   Q6:BCTRL  AWAICTMon:Ch1  YAG1:XRMS  xopt_runtime  xopt_error\n1 -0.490652            1.0   0.240740      0.000056       False\n2 -0.509003            1.0   0.259084      0.000019       False\n3 -0.142317            1.0   0.020254      0.000016       False",
      "text/html": "<div>\n<style scoped>\n    .dataframe tbody tr th:only-of-type {\n        vertical-align: middle;\n    }\n\n    .dataframe tbody tr th {\n        vertical-align: top;\n    }\n\n    .dataframe thead th {\n        text-align: right;\n    }\n</style>\n<table border=\"1\" class=\"dataframe\">\n  <thead>\n    <tr style=\"text-align: right;\">\n      <th></th>\n      <th>Q6:BCTRL</th>\n      <th>AWAICTMon:Ch1</th>\n      <th>YAG1:XRMS</th>\n      <th>xopt_runtime</th>\n      <th>xopt_error</th>\n    </tr>\n  </thead>\n  <tbody>\n    <tr>\n      <th>1</th>\n      <td>-0.490652</td>\n      <td>1.0</td>\n      <td>0.240740</td>\n      <td>0.000056</td>\n      <td>False</td>\n    </tr>\n    <tr>\n      <th>2</th>\n      <td>-0.509003</td>\n      <td>1.0</td>\n      <td>0.259084</td>\n      <td>0.000019</td>\n      <td>False</td>\n    </tr>\n    <tr>\n      <th>3</th>\n      <td>-0.142317</td>\n      <td>1.0</td>\n      <td>0.020254</td>\n      <td>0.000016</td>\n      <td>False</td>\n    </tr>\n  </tbody>\n</table>\n</div>"
     },
     "execution_count": 8,
     "metadata": {},
     "output_type": "execute_result"
    }
   ],
   "source": [
    "X.data"
   ],
   "metadata": {
    "collapsed": false
   }
  },
  {
   "cell_type": "code",
   "execution_count": 9,
   "outputs": [],
   "source": [
    "for i in range(5):\n",
    "    X.step()"
   ],
   "metadata": {
    "collapsed": false
   }
  },
  {
   "cell_type": "code",
   "execution_count": 10,
   "outputs": [
    {
     "data": {
      "text/plain": "   Q6:BCTRL  AWAICTMon:Ch1  YAG1:XRMS  xopt_runtime  xopt_error\n1 -0.490652            1.0   0.240740      0.000056       False\n2 -0.509003            1.0   0.259084      0.000019       False\n3 -0.142317            1.0   0.020254      0.000016       False\n4  1.000000            1.0   1.000000      0.000042       False\n5 -1.000000            1.0   1.000000      0.000050       False\n6  0.486926            1.0   0.237097      0.000045       False\n7  0.189031            1.0   0.035733      0.000044       False\n8  0.778734            1.0   0.606426      0.000046       False",
      "text/html": "<div>\n<style scoped>\n    .dataframe tbody tr th:only-of-type {\n        vertical-align: middle;\n    }\n\n    .dataframe tbody tr th {\n        vertical-align: top;\n    }\n\n    .dataframe thead th {\n        text-align: right;\n    }\n</style>\n<table border=\"1\" class=\"dataframe\">\n  <thead>\n    <tr style=\"text-align: right;\">\n      <th></th>\n      <th>Q6:BCTRL</th>\n      <th>AWAICTMon:Ch1</th>\n      <th>YAG1:XRMS</th>\n      <th>xopt_runtime</th>\n      <th>xopt_error</th>\n    </tr>\n  </thead>\n  <tbody>\n    <tr>\n      <th>1</th>\n      <td>-0.490652</td>\n      <td>1.0</td>\n      <td>0.240740</td>\n      <td>0.000056</td>\n      <td>False</td>\n    </tr>\n    <tr>\n      <th>2</th>\n      <td>-0.509003</td>\n      <td>1.0</td>\n      <td>0.259084</td>\n      <td>0.000019</td>\n      <td>False</td>\n    </tr>\n    <tr>\n      <th>3</th>\n      <td>-0.142317</td>\n      <td>1.0</td>\n      <td>0.020254</td>\n      <td>0.000016</td>\n      <td>False</td>\n    </tr>\n    <tr>\n      <th>4</th>\n      <td>1.000000</td>\n      <td>1.0</td>\n      <td>1.000000</td>\n      <td>0.000042</td>\n      <td>False</td>\n    </tr>\n    <tr>\n      <th>5</th>\n      <td>-1.000000</td>\n      <td>1.0</td>\n      <td>1.000000</td>\n      <td>0.000050</td>\n      <td>False</td>\n    </tr>\n    <tr>\n      <th>6</th>\n      <td>0.486926</td>\n      <td>1.0</td>\n      <td>0.237097</td>\n      <td>0.000045</td>\n      <td>False</td>\n    </tr>\n    <tr>\n      <th>7</th>\n      <td>0.189031</td>\n      <td>1.0</td>\n      <td>0.035733</td>\n      <td>0.000044</td>\n      <td>False</td>\n    </tr>\n    <tr>\n      <th>8</th>\n      <td>0.778734</td>\n      <td>1.0</td>\n      <td>0.606426</td>\n      <td>0.000046</td>\n      <td>False</td>\n    </tr>\n  </tbody>\n</table>\n</div>"
     },
     "execution_count": 10,
     "metadata": {},
     "output_type": "execute_result"
    }
   ],
   "source": [
    "X.data"
   ],
   "metadata": {
    "collapsed": false
   }
  },
  {
   "cell_type": "code",
   "execution_count": null,
   "outputs": [],
   "source": [
    "X.data.plot(x=\"Q6:BCTRL\", y=\"YAG1:XRMS\")"
   ],
   "metadata": {
    "collapsed": false,
    "pycharm": {
     "is_executing": true
    }
   }
  },
  {
   "cell_type": "code",
   "execution_count": null,
   "outputs": [],
   "source": [],
   "metadata": {
    "collapsed": false,
    "pycharm": {
     "is_executing": true
    }
   }
  }
 ],
 "metadata": {
  "kernelspec": {
   "display_name": "Python 3",
   "language": "python",
   "name": "python3"
  },
  "language_info": {
   "codemirror_mode": {
    "name": "ipython",
    "version": 2
   },
   "file_extension": ".py",
   "mimetype": "text/x-python",
   "name": "python",
   "nbconvert_exporter": "python",
   "pygments_lexer": "ipython2",
   "version": "2.7.6"
  }
 },
 "nbformat": 4,
 "nbformat_minor": 0
}
