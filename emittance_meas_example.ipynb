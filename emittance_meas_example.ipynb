{
 "cells": [
  {
   "cell_type": "markdown",
   "metadata": {},
   "source": [
    "## Test AWA Environment/Interface Plugins"
   ]
  },
  {
   "cell_type": "code",
   "execution_count": 1,
   "metadata": {},
   "outputs": [
    {
     "data": {
      "text/plain": "{'AWA:Bira3Ctrl:Ch00': [0.0, 1.0],\n 'AWA:Bira2Ctrl:Ch00': [0.0, 1.0],\n 'AWA:Drive:DS1:Ctrl': [6.05, 9.07],\n 'AWA:Drive:DS3:Ctrl': [0.0, 2.5],\n 'AWA:Bira3Ctrl:Ch03': [-0.5, 0.5],\n 'AWA:Bira3Ctrl:Ch04': [-0.5, 0.5],\n 'AWA:Bira3Ctrl:Ch05': [-0.5, 0.5]}"
     },
     "execution_count": 1,
     "metadata": {},
     "output_type": "execute_result"
    }
   ],
   "source": [
    "from plugins.environments.awa_environment import AWAEnvironment\n",
    "from plugins.interfaces.test_awa_interface import TestAWAInterface\n",
    "\n",
    "# import data from csv file\n",
    "import pandas as pd\n",
    "variable_file = \"plugins/environments/awa_variables.csv\"\n",
    "observable_file = \"plugins/environments/awa_observables.csv\"\n",
    "variable_info = pd.read_csv(variable_file).set_index(\"NAME\")\n",
    "observable_info = pd.read_csv(observable_file).set_index(\"NAME\").T\n",
    "\n",
    "variables = variable_info[[\"MIN\",\"MAX\"]].T.to_dict()\n",
    "observables = list(observable_info.keys())\n",
    "\n",
    "for name in variables:\n",
    "    variables[name] = [variables[name][\"MIN\"], variables[name][\"MAX\"]]\n",
    "variables"
   ]
  },
  {
   "cell_type": "code",
   "execution_count": 2,
   "outputs": [],
   "source": [
    "env = AWAEnvironment(variable_file, observable_file, interface=TestAWAInterface())"
   ],
   "metadata": {
    "collapsed": false
   }
  },
  {
   "cell_type": "code",
   "execution_count": 3,
   "metadata": {
    "collapsed": false,
    "jupyter": {
     "outputs_hidden": false
    }
   },
   "outputs": [
    {
     "data": {
      "text/plain": "{'name': 'awa_environment',\n 'interface': {'name': 'awa_interface', 'params': {}, 'x': None, 'y': None},\n 'variables': {'AWA:Bira3Ctrl:Ch00': [0.0, 1.0],\n  'AWA:Bira2Ctrl:Ch00': [0.0, 1.0],\n  'AWA:Drive:DS1:Ctrl': [6.05, 9.07],\n  'AWA:Drive:DS3:Ctrl': [0.0, 2.5],\n  'AWA:Bira3Ctrl:Ch03': [-0.5, 0.5],\n  'AWA:Bira3Ctrl:Ch04': [-0.5, 0.5],\n  'AWA:Bira3Ctrl:Ch05': [-0.5, 0.5]},\n 'observables': ['13ARV1:ROI1:MinX_RBV',\n  '13ARV1:ROI1:MinY_RBV',\n  '13ARV1:ROI1:SizeX_RBV',\n  '13ARV1:ROI1:SizeY_RBV',\n  '13ARV1:Stats1:CentroidX_RBV',\n  '13ARV1:Stats1:CentroidY_RBV',\n  '13ARV1:Stats1:SigmaX_RBV',\n  '13ARV1:Stats1:SigmaY_RBV',\n  'AWAICTMon:Ch1',\n  'AWAICTMon:Ch2',\n  'AWAICTMon:Ch3',\n  'AWAICTMon:Ch4',\n  'MAX_EXCURSION',\n  'TEST:XRMS',\n  'TEST:YRMS'],\n 'params': {},\n 'target_charge_PV': 'AWAICTMon:Ch1',\n 'target_charge': None,\n 'fractional_charge_deviation': 0.1,\n 'roi_pvs': ['13ARV1:ROI1:MinX_RBV',\n  '13ARV1:ROI1:MinY_RBV',\n  '13ARV1:ROI1:SizeX_RBV',\n  '13ARV1:ROI1:SizeY_RBV'],\n 'centroid_pvs': ['13ARV1:Stats1:CentroidX_RBV',\n  '13ARV1:Stats1:CentroidY_RBV',\n  '13ARV1:Stats1:SigmaX_RBV',\n  '13ARV1:Stats1:SigmaY_RBV'],\n 'virtual_observables': ['MAX_EXCURSION']}"
     },
     "execution_count": 3,
     "metadata": {},
     "output_type": "execute_result"
    }
   ],
   "source": [
    "env.dict()"
   ]
  },
  {
   "cell_type": "code",
   "execution_count": 4,
   "metadata": {
    "collapsed": false,
    "jupyter": {
     "outputs_hidden": false
    }
   },
   "outputs": [],
   "source": [
    "env.set_variables({\"AWA:Bira3Ctrl:Ch00\": 0.5})"
   ]
  },
  {
   "cell_type": "code",
   "execution_count": 5,
   "metadata": {
    "collapsed": false,
    "jupyter": {
     "outputs_hidden": false
    }
   },
   "outputs": [
    {
     "data": {
      "text/plain": "{'TEST:XRMS': 0.5, 'TEST:YRMS': 0.0}"
     },
     "execution_count": 5,
     "metadata": {},
     "output_type": "execute_result"
    }
   ],
   "source": [
    "env.get_observables([\"TEST:XRMS\",\"TEST:YRMS\"])"
   ]
  },
  {
   "cell_type": "code",
   "execution_count": 6,
   "outputs": [
    {
     "name": "stdout",
     "output_type": "stream",
     "text": [
      "['13ARV1:ROI1:MinX_RBV', '13ARV1:ROI1:MinY_RBV', '13ARV1:ROI1:SizeX_RBV', '13ARV1:ROI1:SizeY_RBV', '13ARV1:Stats1:CentroidX_RBV', '13ARV1:Stats1:CentroidY_RBV', '13ARV1:Stats1:SigmaX_RBV', '13ARV1:Stats1:SigmaY_RBV', 'AWAICTMon:Ch1', 'AWAICTMon:Ch2', 'AWAICTMon:Ch3', 'AWAICTMon:Ch4', 'MAX_EXCURSION', 'TEST:XRMS', 'TEST:YRMS']\n"
     ]
    }
   ],
   "source": [
    "print(env.observables)"
   ],
   "metadata": {
    "collapsed": false
   }
  },
  {
   "cell_type": "markdown",
   "metadata": {},
   "source": [
    "## Test with Xopt BE"
   ]
  },
  {
   "cell_type": "code",
   "execution_count": 7,
   "metadata": {
    "collapsed": false,
    "jupyter": {
     "outputs_hidden": false
    }
   },
   "outputs": [],
   "source": [
    "from xopt import Xopt, Evaluator, VOCS\n",
    "from xopt.generators.bayesian import BayesianExplorationGenerator\n",
    "\n",
    "def evaluate(inputs):\n",
    "    env.set_variables(inputs)\n",
    "    return env.get_observables([\"TEST:XRMS\", \"TEST:YRMS\"])\n",
    "\n",
    "# remove one variable\n",
    "variables = dict((name, env.variables[name]) for name in [\"AWA:Bira3Ctrl:Ch00\"])\n",
    "vocs = VOCS(variables=variables,\n",
    "            objectives={\"TEST:XRMS\":\"MINIMIZE\"},\n",
    "            constraints={\"TEST:YRMS\":[\"GREATER_THAN\",0.0]})\n",
    "generator = BayesianExplorationGenerator(vocs)\n",
    "evaluator = Evaluator(function=evaluate)\n",
    "X = Xopt(vocs=vocs, evaluator=evaluator, generator=generator)"
   ]
  },
  {
   "cell_type": "code",
   "execution_count": 8,
   "metadata": {
    "collapsed": false,
    "jupyter": {
     "outputs_hidden": false
    }
   },
   "outputs": [
    {
     "data": {
      "text/plain": "{'variables': {'AWA:Bira3Ctrl:Ch00': [0.0, 1.0]},\n 'constraints': {'TEST:YRMS': ['GREATER_THAN', 0.0]},\n 'objectives': {'TEST:XRMS': 'MINIMIZE'},\n 'constants': {},\n 'linked_variables': {}}"
     },
     "execution_count": 8,
     "metadata": {},
     "output_type": "execute_result"
    }
   ],
   "source": [
    "vocs.dict()"
   ]
  },
  {
   "cell_type": "code",
   "execution_count": 9,
   "metadata": {
    "collapsed": false,
    "jupyter": {
     "outputs_hidden": false
    }
   },
   "outputs": [
    {
     "data": {
      "text/plain": "   AWA:Bira3Ctrl:Ch00  TEST:XRMS  TEST:YRMS  xopt_runtime  xopt_error\n1                 0.0        0.0        0.5      0.000059       False\n2                 0.1        0.1        0.4      0.000020       False",
      "text/html": "<div>\n<style scoped>\n    .dataframe tbody tr th:only-of-type {\n        vertical-align: middle;\n    }\n\n    .dataframe tbody tr th {\n        vertical-align: top;\n    }\n\n    .dataframe thead th {\n        text-align: right;\n    }\n</style>\n<table border=\"1\" class=\"dataframe\">\n  <thead>\n    <tr style=\"text-align: right;\">\n      <th></th>\n      <th>AWA:Bira3Ctrl:Ch00</th>\n      <th>TEST:XRMS</th>\n      <th>TEST:YRMS</th>\n      <th>xopt_runtime</th>\n      <th>xopt_error</th>\n    </tr>\n  </thead>\n  <tbody>\n    <tr>\n      <th>1</th>\n      <td>0.0</td>\n      <td>0.0</td>\n      <td>0.5</td>\n      <td>0.000059</td>\n      <td>False</td>\n    </tr>\n    <tr>\n      <th>2</th>\n      <td>0.1</td>\n      <td>0.1</td>\n      <td>0.4</td>\n      <td>0.000020</td>\n      <td>False</td>\n    </tr>\n  </tbody>\n</table>\n</div>"
     },
     "execution_count": 9,
     "metadata": {},
     "output_type": "execute_result"
    }
   ],
   "source": [
    "import pandas as pd\n",
    "X.evaluate_data(pd.DataFrame({\"AWA:Bira3Ctrl:Ch00\":[0.0,0.1]}))\n",
    "X.data"
   ]
  },
  {
   "cell_type": "code",
   "execution_count": 10,
   "metadata": {
    "collapsed": false,
    "jupyter": {
     "outputs_hidden": false
    }
   },
   "outputs": [
    {
     "name": "stderr",
     "output_type": "stream",
     "text": [
      "C:\\Users\\Ryan Roussel\\mambaforge\\envs\\awa-badger\\lib\\site-packages\\botorch\\optim\\optimize.py:350: RuntimeWarning: Optimization failed in `gen_candidates_scipy` with the following warning(s):\n",
      "[OptimizationWarning('Optimization failed within `scipy.optimize.minimize` with status 2 and message ABNORMAL_TERMINATION_IN_LNSRCH.')]\n",
      "Trying again with a new set of initial conditions.\n",
      "  warnings.warn(first_warn_msg, RuntimeWarning)\n"
     ]
    }
   ],
   "source": [
    "for i in range(15):\n",
    "    X.step()"
   ]
  },
  {
   "cell_type": "code",
   "execution_count": 11,
   "metadata": {
    "collapsed": false,
    "jupyter": {
     "outputs_hidden": false
    }
   },
   "outputs": [
    {
     "data": {
      "text/plain": "    AWA:Bira3Ctrl:Ch00  TEST:XRMS  TEST:YRMS  xopt_runtime  xopt_error\n1             0.000000   0.000000   0.500000      0.000059       False\n2             0.100000   0.100000   0.400000      0.000020       False\n3             1.000000   1.000000  -0.500000      0.000057       False\n4             0.326636   0.326636   0.173364      0.000050       False\n5             0.412474   0.412474   0.087526      0.000049       False\n6             0.470017   0.470017   0.029983      0.000045       False\n7             0.213834   0.213834   0.286166      0.000055       False\n8             0.485586   0.485586   0.014414      0.000054       False\n9             0.000000   0.000000   0.500000      0.000054       False\n10            0.090871   0.090871   0.409129      0.000046       False\n11            0.259788   0.259788   0.240212      0.000060       False\n12            0.488931   0.488931   0.011069      0.000057       False\n13            0.377191   0.377191   0.122809      0.000063       False\n14            0.169226   0.169226   0.330774      0.000051       False\n15            0.059639   0.059639   0.440361      0.000056       False\n16            0.000000   0.000000   0.500000      0.000076       False\n17            0.294354   0.294354   0.205646      0.000053       False",
      "text/html": "<div>\n<style scoped>\n    .dataframe tbody tr th:only-of-type {\n        vertical-align: middle;\n    }\n\n    .dataframe tbody tr th {\n        vertical-align: top;\n    }\n\n    .dataframe thead th {\n        text-align: right;\n    }\n</style>\n<table border=\"1\" class=\"dataframe\">\n  <thead>\n    <tr style=\"text-align: right;\">\n      <th></th>\n      <th>AWA:Bira3Ctrl:Ch00</th>\n      <th>TEST:XRMS</th>\n      <th>TEST:YRMS</th>\n      <th>xopt_runtime</th>\n      <th>xopt_error</th>\n    </tr>\n  </thead>\n  <tbody>\n    <tr>\n      <th>1</th>\n      <td>0.000000</td>\n      <td>0.000000</td>\n      <td>0.500000</td>\n      <td>0.000059</td>\n      <td>False</td>\n    </tr>\n    <tr>\n      <th>2</th>\n      <td>0.100000</td>\n      <td>0.100000</td>\n      <td>0.400000</td>\n      <td>0.000020</td>\n      <td>False</td>\n    </tr>\n    <tr>\n      <th>3</th>\n      <td>1.000000</td>\n      <td>1.000000</td>\n      <td>-0.500000</td>\n      <td>0.000057</td>\n      <td>False</td>\n    </tr>\n    <tr>\n      <th>4</th>\n      <td>0.326636</td>\n      <td>0.326636</td>\n      <td>0.173364</td>\n      <td>0.000050</td>\n      <td>False</td>\n    </tr>\n    <tr>\n      <th>5</th>\n      <td>0.412474</td>\n      <td>0.412474</td>\n      <td>0.087526</td>\n      <td>0.000049</td>\n      <td>False</td>\n    </tr>\n    <tr>\n      <th>6</th>\n      <td>0.470017</td>\n      <td>0.470017</td>\n      <td>0.029983</td>\n      <td>0.000045</td>\n      <td>False</td>\n    </tr>\n    <tr>\n      <th>7</th>\n      <td>0.213834</td>\n      <td>0.213834</td>\n      <td>0.286166</td>\n      <td>0.000055</td>\n      <td>False</td>\n    </tr>\n    <tr>\n      <th>8</th>\n      <td>0.485586</td>\n      <td>0.485586</td>\n      <td>0.014414</td>\n      <td>0.000054</td>\n      <td>False</td>\n    </tr>\n    <tr>\n      <th>9</th>\n      <td>0.000000</td>\n      <td>0.000000</td>\n      <td>0.500000</td>\n      <td>0.000054</td>\n      <td>False</td>\n    </tr>\n    <tr>\n      <th>10</th>\n      <td>0.090871</td>\n      <td>0.090871</td>\n      <td>0.409129</td>\n      <td>0.000046</td>\n      <td>False</td>\n    </tr>\n    <tr>\n      <th>11</th>\n      <td>0.259788</td>\n      <td>0.259788</td>\n      <td>0.240212</td>\n      <td>0.000060</td>\n      <td>False</td>\n    </tr>\n    <tr>\n      <th>12</th>\n      <td>0.488931</td>\n      <td>0.488931</td>\n      <td>0.011069</td>\n      <td>0.000057</td>\n      <td>False</td>\n    </tr>\n    <tr>\n      <th>13</th>\n      <td>0.377191</td>\n      <td>0.377191</td>\n      <td>0.122809</td>\n      <td>0.000063</td>\n      <td>False</td>\n    </tr>\n    <tr>\n      <th>14</th>\n      <td>0.169226</td>\n      <td>0.169226</td>\n      <td>0.330774</td>\n      <td>0.000051</td>\n      <td>False</td>\n    </tr>\n    <tr>\n      <th>15</th>\n      <td>0.059639</td>\n      <td>0.059639</td>\n      <td>0.440361</td>\n      <td>0.000056</td>\n      <td>False</td>\n    </tr>\n    <tr>\n      <th>16</th>\n      <td>0.000000</td>\n      <td>0.000000</td>\n      <td>0.500000</td>\n      <td>0.000076</td>\n      <td>False</td>\n    </tr>\n    <tr>\n      <th>17</th>\n      <td>0.294354</td>\n      <td>0.294354</td>\n      <td>0.205646</td>\n      <td>0.000053</td>\n      <td>False</td>\n    </tr>\n  </tbody>\n</table>\n</div>"
     },
     "execution_count": 11,
     "metadata": {},
     "output_type": "execute_result"
    }
   ],
   "source": [
    "X.data"
   ]
  },
  {
   "cell_type": "code",
   "execution_count": 12,
   "metadata": {
    "collapsed": false,
    "jupyter": {
     "outputs_hidden": false
    }
   },
   "outputs": [
    {
     "data": {
      "text/plain": "<Axes: xlabel='AWA:Bira3Ctrl:Ch00'>"
     },
     "execution_count": 12,
     "metadata": {},
     "output_type": "execute_result"
    },
    {
     "data": {
      "text/plain": "<Figure size 640x480 with 1 Axes>",
      "image/png": "[encoded data removed]"
     },
     "metadata": {},
     "output_type": "display_data"
    }
   ],
   "source": [
    "import os\n",
    "os.environ[\"KMP_DUPLICATE_LIB_OK\"]=\"TRUE\"\n",
    "\n",
    "X.data.plot(x=\"AWA:Bira3Ctrl:Ch00\", y=[\"TEST:XRMS\",\"TEST:YRMS\"],style=\"o\")"
   ]
  },
  {
   "cell_type": "code",
   "execution_count": 13,
   "metadata": {
    "collapsed": false,
    "jupyter": {
     "outputs_hidden": false
    }
   },
   "outputs": [],
   "source": [
    "model = X.generator.model"
   ]
  },
  {
   "cell_type": "code",
   "execution_count": 14,
   "metadata": {},
   "outputs": [
    {
     "data": {
      "text/plain": "ModelListGP(\n  (models): ModuleList(\n    (0-1): 2 x SingleTaskGP(\n      (likelihood): GaussianLikelihood(\n        (noise_covar): HomoskedasticNoise(\n          (noise_prior): GammaPrior()\n          (raw_noise_constraint): GreaterThan(1.000E-04)\n        )\n      )\n      (mean_module): ConstantMean()\n      (covar_module): ScaleKernel(\n        (base_kernel): MaternKernel(\n          (lengthscale_prior): GammaPrior()\n          (raw_lengthscale_constraint): Positive()\n        )\n        (outputscale_prior): GammaPrior()\n        (raw_outputscale_constraint): Positive()\n      )\n      (outcome_transform): Standardize()\n      (input_transform): Normalize()\n    )\n  )\n  (likelihood): LikelihoodList(\n    (likelihoods): ModuleList(\n      (0-1): 2 x GaussianLikelihood(\n        (noise_covar): HomoskedasticNoise(\n          (noise_prior): GammaPrior()\n          (raw_noise_constraint): GreaterThan(1.000E-04)\n        )\n      )\n    )\n  )\n)"
     },
     "execution_count": 14,
     "metadata": {},
     "output_type": "execute_result"
    }
   ],
   "source": [
    "model"
   ]
  },
  {
   "cell_type": "code",
   "execution_count": 14,
   "metadata": {},
   "outputs": [],
   "source": []
  }
 ],
 "metadata": {
  "kernelspec": {
   "name": "python3",
   "language": "python",
   "display_name": "Python 3 (ipykernel)"
  },
  "language_info": {
   "codemirror_mode": {
    "name": "ipython",
    "version": 3
   },
   "file_extension": ".py",
   "mimetype": "text/x-python",
   "name": "python",
   "nbconvert_exporter": "python",
   "pygments_lexer": "ipython3",
   "version": "3.9.16"
  }
 },
 "nbformat": 4,
 "nbformat_minor": 4
}
