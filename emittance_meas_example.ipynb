{
 "cells": [
  {
   "cell_type": "markdown",
   "metadata": {},
   "source": [
    "## Test AWA Environment/Interface Plugins"
   ]
  },
  {
   "cell_type": "code",
   "execution_count": 1,
   "metadata": {},
   "outputs": [
    {
     "data": {
      "text/plain": "{'AWA:Bira3Ctrl:Ch00': [0.0, 1.0],\n 'AWA:Bira2Ctrl:Ch00': [0.0, 1.0],\n 'AWA:Drive:DS1:Ctrl': [6.05, 9.07],\n 'AWA:Drive:DS3:Ctrl': [0.0, 2.5],\n 'AWA:Bira3Ctrl:Ch03': [-0.5, 0.5],\n 'AWA:Bira3Ctrl:Ch04': [-0.5, 0.5],\n 'AWA:Bira3Ctrl:Ch05': [-0.5, 0.5]}"
     },
     "execution_count": 1,
     "metadata": {},
     "output_type": "execute_result"
    }
   ],
   "source": [
    "from plugins.environments.awa_environment import AWAEnvironment\n",
    "from plugins.interfaces.test_awa_interface import TestAWAInterface\n",
    "\n",
    "# import data from csv file\n",
    "import pandas as pd\n",
    "variable_info = pd.read_csv(\"plugins/environments/awa_variables.csv\").set_index(\"NAME\")\n",
    "observable_info = pd.read_csv(\n",
    "    \"plugins/environments/awa_observables.csv\"\n",
    ").set_index(\"NAME\").T\n",
    "\n",
    "variables = variable_info[[\"MIN\",\"MAX\"]].T.to_dict()\n",
    "observables = list(observable_info.keys())\n",
    "\n",
    "for name in variables:\n",
    "    variables[name] = [variables[name][\"MIN\"], variables[name][\"MAX\"]]\n",
    "variables"
   ]
  },
  {
   "cell_type": "code",
   "execution_count": 2,
   "outputs": [],
   "source": [
    "env = AWAEnvironment(interface=TestAWAInterface(), variables=variables, observables=observables)"
   ],
   "metadata": {
    "collapsed": false
   }
  },
  {
   "cell_type": "code",
   "execution_count": 3,
   "metadata": {
    "collapsed": false,
    "jupyter": {
     "outputs_hidden": false
    }
   },
   "outputs": [
    {
     "data": {
      "text/plain": "{'name': 'awa_environment',\n 'interface': {'name': 'awa_interface', 'params': {}, 'x': None, 'y': None},\n 'variables': {'AWA:Bira3Ctrl:Ch00': [0.0, 1.0],\n  'AWA:Bira2Ctrl:Ch00': [0.0, 1.0],\n  'AWA:Drive:DS1:Ctrl': [6.05, 9.07],\n  'AWA:Drive:DS3:Ctrl': [0.0, 2.5],\n  'AWA:Bira3Ctrl:Ch03': [-0.5, 0.5],\n  'AWA:Bira3Ctrl:Ch04': [-0.5, 0.5],\n  'AWA:Bira3Ctrl:Ch05': [-0.5, 0.5]},\n 'observables': ['YAG1:XRMS',\n  'YAG1:YRMS',\n  'AWAICTMon:Ch1',\n  'AWAICTMon:Ch2',\n  'AWAICTMon:Ch3',\n  'AWAICTMon:Ch4'],\n 'params': {},\n 'target_charge_PV': 'AWAICTMon:Ch1',\n 'target_charge': None,\n 'fractional_charge_deviation': 0.1}"
     },
     "execution_count": 3,
     "metadata": {},
     "output_type": "execute_result"
    }
   ],
   "source": [
    "env.dict()"
   ]
  },
  {
   "cell_type": "code",
   "execution_count": 4,
   "metadata": {
    "collapsed": false,
    "jupyter": {
     "outputs_hidden": false
    }
   },
   "outputs": [],
   "source": [
    "env.set_variables({\"AWA:Bira3Ctrl:Ch00\": 0.5})"
   ]
  },
  {
   "cell_type": "code",
   "execution_count": 5,
   "metadata": {
    "collapsed": false,
    "jupyter": {
     "outputs_hidden": false
    }
   },
   "outputs": [
    {
     "data": {
      "text/plain": "{'YAG1:XRMS': 0.5, 'YAG1:YRMS': 0.0, 'AWAICTMon:Ch1': 1.0}"
     },
     "execution_count": 5,
     "metadata": {},
     "output_type": "execute_result"
    }
   ],
   "source": [
    "env.get_observables([\"YAG1:XRMS\",\"YAG1:YRMS\"])"
   ]
  },
  {
   "cell_type": "code",
   "execution_count": 6,
   "outputs": [
    {
     "name": "stdout",
     "output_type": "stream",
     "text": [
      "['YAG1:XRMS', 'YAG1:YRMS', 'AWAICTMon:Ch1', 'AWAICTMon:Ch2', 'AWAICTMon:Ch3', 'AWAICTMon:Ch4']\n"
     ]
    }
   ],
   "source": [
    "print(env.observables)"
   ],
   "metadata": {
    "collapsed": false
   }
  },
  {
   "cell_type": "markdown",
   "metadata": {},
   "source": [
    "## Test with Xopt BE"
   ]
  },
  {
   "cell_type": "code",
   "execution_count": 7,
   "metadata": {
    "collapsed": false,
    "jupyter": {
     "outputs_hidden": false
    }
   },
   "outputs": [],
   "source": [
    "from xopt import Xopt, Evaluator, VOCS\n",
    "from xopt.generators.bayesian import BayesianExplorationGenerator\n",
    "\n",
    "def evaluate(inputs):\n",
    "    env.set_variables(inputs)\n",
    "    return env.get_observables(env.observables)\n",
    "\n",
    "# remove one variable\n",
    "variables = dict((name, env.variables[name]) for name in [\"AWA:Bira3Ctrl:Ch00\"])\n",
    "vocs = VOCS(variables=variables,\n",
    "            objectives={\"YAG1:XRMS\":\"MINIMIZE\"},\n",
    "            constraints={\"YAG1:YRMS\":[\"GREATER_THAN\",0.0]})\n",
    "generator = BayesianExplorationGenerator(vocs)\n",
    "evaluator = Evaluator(function=evaluate)\n",
    "X = Xopt(vocs=vocs, evaluator=evaluator, generator=generator)"
   ]
  },
  {
   "cell_type": "code",
   "execution_count": 8,
   "metadata": {
    "collapsed": false,
    "jupyter": {
     "outputs_hidden": false
    }
   },
   "outputs": [
    {
     "data": {
      "text/plain": "{'variables': {'AWA:Bira3Ctrl:Ch00': [0.0, 1.0]},\n 'constraints': {'YAG1:YRMS': ['GREATER_THAN', 0.0]},\n 'objectives': {'YAG1:XRMS': 'MINIMIZE'},\n 'constants': {},\n 'linked_variables': {}}"
     },
     "execution_count": 8,
     "metadata": {},
     "output_type": "execute_result"
    }
   ],
   "source": [
    "vocs.dict()"
   ]
  },
  {
   "cell_type": "code",
   "execution_count": 9,
   "metadata": {
    "collapsed": false,
    "jupyter": {
     "outputs_hidden": false
    }
   },
   "outputs": [
    {
     "data": {
      "text/plain": "   AWA:Bira3Ctrl:Ch00  YAG1:XRMS  YAG1:YRMS  AWAICTMon:Ch1  xopt_runtime   \n1                 0.0        0.0        0.5            1.0      0.000047  \\\n2                 0.1        0.1        0.4            1.0      0.000022   \n\n   xopt_error  \n1       False  \n2       False  ",
      "text/html": "<div>\n<style scoped>\n    .dataframe tbody tr th:only-of-type {\n        vertical-align: middle;\n    }\n\n    .dataframe tbody tr th {\n        vertical-align: top;\n    }\n\n    .dataframe thead th {\n        text-align: right;\n    }\n</style>\n<table border=\"1\" class=\"dataframe\">\n  <thead>\n    <tr style=\"text-align: right;\">\n      <th></th>\n      <th>AWA:Bira3Ctrl:Ch00</th>\n      <th>YAG1:XRMS</th>\n      <th>YAG1:YRMS</th>\n      <th>AWAICTMon:Ch1</th>\n      <th>xopt_runtime</th>\n      <th>xopt_error</th>\n    </tr>\n  </thead>\n  <tbody>\n    <tr>\n      <th>1</th>\n      <td>0.0</td>\n      <td>0.0</td>\n      <td>0.5</td>\n      <td>1.0</td>\n      <td>0.000047</td>\n      <td>False</td>\n    </tr>\n    <tr>\n      <th>2</th>\n      <td>0.1</td>\n      <td>0.1</td>\n      <td>0.4</td>\n      <td>1.0</td>\n      <td>0.000022</td>\n      <td>False</td>\n    </tr>\n  </tbody>\n</table>\n</div>"
     },
     "execution_count": 9,
     "metadata": {},
     "output_type": "execute_result"
    }
   ],
   "source": [
    "import pandas as pd\n",
    "X.evaluate_data(pd.DataFrame({\"AWA:Bira3Ctrl:Ch00\":[0.0,0.1]}))"
   ]
  },
  {
   "cell_type": "code",
   "execution_count": 10,
   "metadata": {
    "collapsed": false,
    "jupyter": {
     "outputs_hidden": false
    }
   },
   "outputs": [],
   "source": [
    "for i in range(10):\n",
    "    X.step()"
   ]
  },
  {
   "cell_type": "code",
   "execution_count": 11,
   "metadata": {
    "collapsed": false,
    "jupyter": {
     "outputs_hidden": false
    }
   },
   "outputs": [
    {
     "data": {
      "text/plain": "    AWA:Bira3Ctrl:Ch00  YAG1:XRMS  YAG1:YRMS  AWAICTMon:Ch1  xopt_runtime   \n1             0.000000   0.000000   0.500000            1.0      0.000047  \\\n2             0.100000   0.100000   0.400000            1.0      0.000022   \n3             1.000000   1.000000  -0.500000            1.0      0.000050   \n4             0.298300   0.298300   0.201700            1.0      0.000067   \n5             0.400217   0.400217   0.099783            1.0      0.000069   \n6             0.465864   0.465864   0.034136            1.0      0.000058   \n7             0.199401   0.199401   0.300599            1.0      0.000055   \n8             0.000000   0.000000   0.500000            1.0      0.000062   \n9             0.482321   0.482321   0.017679            1.0      0.000059   \n10            0.082626   0.082626   0.417374            1.0      0.000052   \n11            0.354074   0.354074   0.145926            1.0      0.000066   \n12            0.488367   0.488367   0.011633            1.0      0.000049   \n\n    xopt_error  \n1        False  \n2        False  \n3        False  \n4        False  \n5        False  \n6        False  \n7        False  \n8        False  \n9        False  \n10       False  \n11       False  \n12       False  ",
      "text/html": "<div>\n<style scoped>\n    .dataframe tbody tr th:only-of-type {\n        vertical-align: middle;\n    }\n\n    .dataframe tbody tr th {\n        vertical-align: top;\n    }\n\n    .dataframe thead th {\n        text-align: right;\n    }\n</style>\n<table border=\"1\" class=\"dataframe\">\n  <thead>\n    <tr style=\"text-align: right;\">\n      <th></th>\n      <th>AWA:Bira3Ctrl:Ch00</th>\n      <th>YAG1:XRMS</th>\n      <th>YAG1:YRMS</th>\n      <th>AWAICTMon:Ch1</th>\n      <th>xopt_runtime</th>\n      <th>xopt_error</th>\n    </tr>\n  </thead>\n  <tbody>\n    <tr>\n      <th>1</th>\n      <td>0.000000</td>\n      <td>0.000000</td>\n      <td>0.500000</td>\n      <td>1.0</td>\n      <td>0.000047</td>\n      <td>False</td>\n    </tr>\n    <tr>\n      <th>2</th>\n      <td>0.100000</td>\n      <td>0.100000</td>\n      <td>0.400000</td>\n      <td>1.0</td>\n      <td>0.000022</td>\n      <td>False</td>\n    </tr>\n    <tr>\n      <th>3</th>\n      <td>1.000000</td>\n      <td>1.000000</td>\n      <td>-0.500000</td>\n      <td>1.0</td>\n      <td>0.000050</td>\n      <td>False</td>\n    </tr>\n    <tr>\n      <th>4</th>\n      <td>0.298300</td>\n      <td>0.298300</td>\n      <td>0.201700</td>\n      <td>1.0</td>\n      <td>0.000067</td>\n      <td>False</td>\n    </tr>\n    <tr>\n      <th>5</th>\n      <td>0.400217</td>\n      <td>0.400217</td>\n      <td>0.099783</td>\n      <td>1.0</td>\n      <td>0.000069</td>\n      <td>False</td>\n    </tr>\n    <tr>\n      <th>6</th>\n      <td>0.465864</td>\n      <td>0.465864</td>\n      <td>0.034136</td>\n      <td>1.0</td>\n      <td>0.000058</td>\n      <td>False</td>\n    </tr>\n    <tr>\n      <th>7</th>\n      <td>0.199401</td>\n      <td>0.199401</td>\n      <td>0.300599</td>\n      <td>1.0</td>\n      <td>0.000055</td>\n      <td>False</td>\n    </tr>\n    <tr>\n      <th>8</th>\n      <td>0.000000</td>\n      <td>0.000000</td>\n      <td>0.500000</td>\n      <td>1.0</td>\n      <td>0.000062</td>\n      <td>False</td>\n    </tr>\n    <tr>\n      <th>9</th>\n      <td>0.482321</td>\n      <td>0.482321</td>\n      <td>0.017679</td>\n      <td>1.0</td>\n      <td>0.000059</td>\n      <td>False</td>\n    </tr>\n    <tr>\n      <th>10</th>\n      <td>0.082626</td>\n      <td>0.082626</td>\n      <td>0.417374</td>\n      <td>1.0</td>\n      <td>0.000052</td>\n      <td>False</td>\n    </tr>\n    <tr>\n      <th>11</th>\n      <td>0.354074</td>\n      <td>0.354074</td>\n      <td>0.145926</td>\n      <td>1.0</td>\n      <td>0.000066</td>\n      <td>False</td>\n    </tr>\n    <tr>\n      <th>12</th>\n      <td>0.488367</td>\n      <td>0.488367</td>\n      <td>0.011633</td>\n      <td>1.0</td>\n      <td>0.000049</td>\n      <td>False</td>\n    </tr>\n  </tbody>\n</table>\n</div>"
     },
     "execution_count": 11,
     "metadata": {},
     "output_type": "execute_result"
    }
   ],
   "source": [
    "X.data"
   ]
  },
  {
   "cell_type": "code",
   "execution_count": 12,
   "metadata": {
    "collapsed": false,
    "jupyter": {
     "outputs_hidden": false
    }
   },
   "outputs": [
    {
     "data": {
      "text/plain": "<Axes: xlabel='AWA:Bira3Ctrl:Ch00'>"
     },
     "execution_count": 12,
     "metadata": {},
     "output_type": "execute_result"
    },
    {
     "data": {
      "text/plain": "<Figure size 640x480 with 1 Axes>",
      "image/png": "[encoded data removed]"
     },
     "metadata": {},
     "output_type": "display_data"
    }
   ],
   "source": [
    "import os\n",
    "os.environ[\"KMP_DUPLICATE_LIB_OK\"]=\"TRUE\"\n",
    "\n",
    "X.data.plot(x=\"AWA:Bira3Ctrl:Ch00\", y=[\"YAG1:XRMS\",\"YAG1:YRMS\"],style=\"o\")"
   ]
  },
  {
   "cell_type": "code",
   "execution_count": 13,
   "metadata": {
    "collapsed": false,
    "jupyter": {
     "outputs_hidden": false
    }
   },
   "outputs": [],
   "source": [
    "model = X.generator.model"
   ]
  },
  {
   "cell_type": "code",
   "execution_count": 14,
   "metadata": {},
   "outputs": [
    {
     "data": {
      "text/plain": "ModelListGP(\n  (models): ModuleList(\n    (0-1): 2 x SingleTaskGP(\n      (likelihood): GaussianLikelihood(\n        (noise_covar): HomoskedasticNoise(\n          (noise_prior): GammaPrior()\n          (raw_noise_constraint): GreaterThan(1.000E-04)\n        )\n      )\n      (mean_module): ConstantMean()\n      (covar_module): ScaleKernel(\n        (base_kernel): MaternKernel(\n          (lengthscale_prior): GammaPrior()\n          (raw_lengthscale_constraint): Positive()\n        )\n        (outputscale_prior): GammaPrior()\n        (raw_outputscale_constraint): Positive()\n      )\n      (outcome_transform): Standardize()\n      (input_transform): Normalize()\n    )\n  )\n  (likelihood): LikelihoodList(\n    (likelihoods): ModuleList(\n      (0-1): 2 x GaussianLikelihood(\n        (noise_covar): HomoskedasticNoise(\n          (noise_prior): GammaPrior()\n          (raw_noise_constraint): GreaterThan(1.000E-04)\n        )\n      )\n    )\n  )\n)"
     },
     "execution_count": 14,
     "metadata": {},
     "output_type": "execute_result"
    }
   ],
   "source": [
    "model"
   ]
  },
  {
   "cell_type": "code",
   "execution_count": 14,
   "metadata": {},
   "outputs": [],
   "source": []
  }
 ],
 "metadata": {
  "kernelspec": {
   "name": "python3",
   "language": "python",
   "display_name": "Python 3 (ipykernel)"
  },
  "language_info": {
   "codemirror_mode": {
    "name": "ipython",
    "version": 3
   },
   "file_extension": ".py",
   "mimetype": "text/x-python",
   "name": "python",
   "nbconvert_exporter": "python",
   "pygments_lexer": "ipython3",
   "version": "3.9.16"
  }
 },
 "nbformat": 4,
 "nbformat_minor": 4
}
