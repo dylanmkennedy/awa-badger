{
 "cells": [
  {
   "cell_type": "markdown",
   "metadata": {},
   "source": [
    "## Test AWA Environment/Interface Plugins"
   ]
  },
  {
   "cell_type": "code",
   "execution_count": 1,
   "metadata": {},
   "outputs": [],
   "source": [
    "from plugins.environments.awa_environment import AWAEnvironment\n",
    "from plugins.interfaces.test_awa_interface import TestAWAInterface\n",
    "\n",
    "env = AWAEnvironment(interface=TestAWAInterface(), variables={\"Q6:BCTRL\":[-1,1]})"
   ]
  },
  {
   "cell_type": "code",
   "execution_count": 2,
   "metadata": {
    "collapsed": false,
    "jupyter": {
     "outputs_hidden": false
    }
   },
   "outputs": [
    {
     "data": {
      "text/plain": [
       "{'name': 'awa_environment',\n",
       " 'interface': {'name': 'awa_interface', 'params': {}, 'x': None, 'y': None},\n",
       " 'variables': {'Q6:BCTRL': [-1.0, 1.0]},\n",
       " 'observables': ['AWAICTMon:Ch1',\n",
       "  'AWAICTMon:Ch2',\n",
       "  'AWAICTMon:Ch3',\n",
       "  'AWAICTMon:Ch4',\n",
       "  'YAG1:XRMS',\n",
       "  'YAG1:YRMS'],\n",
       " 'params': {},\n",
       " 'target_charge_PV': 'AWAICTMon:Ch1',\n",
       " 'target_charge': None,\n",
       " 'fractional_charge_deviation': 0.1}"
      ]
     },
     "execution_count": 2,
     "metadata": {},
     "output_type": "execute_result"
    }
   ],
   "source": [
    "env.dict()"
   ]
  },
  {
   "cell_type": "code",
   "execution_count": 3,
   "metadata": {
    "collapsed": false,
    "jupyter": {
     "outputs_hidden": false
    }
   },
   "outputs": [],
   "source": [
    "env.set_variables({\"Q6:BCTRL\": 0.5})"
   ]
  },
  {
   "cell_type": "code",
   "execution_count": 4,
   "metadata": {
    "collapsed": false,
    "jupyter": {
     "outputs_hidden": false
    }
   },
   "outputs": [
    {
     "data": {
      "text/plain": [
       "{'YAG1:XRMS': 0.5, 'YAG1:YRMS': 0.0, 'AWAICTMon:Ch1': 1.0}"
      ]
     },
     "execution_count": 4,
     "metadata": {},
     "output_type": "execute_result"
    }
   ],
   "source": [
    "env.get_observables([\"YAG1:XRMS\",\"YAG1:YRMS\"])"
   ]
  },
  {
   "cell_type": "markdown",
   "metadata": {},
   "source": [
    "## Test with Xopt BE"
   ]
  },
  {
   "cell_type": "code",
   "execution_count": 5,
   "metadata": {
    "collapsed": false,
    "jupyter": {
     "outputs_hidden": false
    }
   },
   "outputs": [],
   "source": [
    "from xopt import Xopt, Evaluator, VOCS\n",
    "from xopt.generators.bayesian import BayesianExplorationGenerator\n",
    "\n",
    "def evaluate(inputs):\n",
    "    env.set_variables(inputs)\n",
    "    return env.get_observables(env.observables)\n",
    "\n",
    "vocs = VOCS(variables=env.variables, objectives={\"YAG1:XRMS\":\"MINIMIZE\"}, constraints={\"YAG1:YRMS\":[\"GREATER_THAN\",0.0]})\n",
    "generator = BayesianExplorationGenerator(vocs)\n",
    "evaluator = Evaluator(function=evaluate)\n",
    "X = Xopt(vocs=vocs, evaluator=evaluator, generator=generator)"
   ]
  },
  {
   "cell_type": "code",
   "execution_count": 6,
   "metadata": {
    "collapsed": false,
    "jupyter": {
     "outputs_hidden": false
    }
   },
   "outputs": [
    {
     "data": {
      "text/plain": [
       "{'variables': {'Q6:BCTRL': [-1.0, 1.0]},\n",
       " 'constraints': {'YAG1:YRMS': ['GREATER_THAN', 0.0]},\n",
       " 'objectives': {'YAG1:XRMS': 'MINIMIZE'},\n",
       " 'constants': {},\n",
       " 'linked_variables': {}}"
      ]
     },
     "execution_count": 6,
     "metadata": {},
     "output_type": "execute_result"
    }
   ],
   "source": [
    "vocs.dict()"
   ]
  },
  {
   "cell_type": "code",
   "execution_count": 7,
   "metadata": {
    "collapsed": false,
    "jupyter": {
     "outputs_hidden": false
    }
   },
   "outputs": [
    {
     "data": {
      "text/html": [
       "<div>\n",
       "<style scoped>\n",
       "    .dataframe tbody tr th:only-of-type {\n",
       "        vertical-align: middle;\n",
       "    }\n",
       "\n",
       "    .dataframe tbody tr th {\n",
       "        vertical-align: top;\n",
       "    }\n",
       "\n",
       "    .dataframe thead th {\n",
       "        text-align: right;\n",
       "    }\n",
       "</style>\n",
       "<table border=\"1\" class=\"dataframe\">\n",
       "  <thead>\n",
       "    <tr style=\"text-align: right;\">\n",
       "      <th></th>\n",
       "      <th>Q6:BCTRL</th>\n",
       "      <th>AWAICTMon:Ch1</th>\n",
       "      <th>YAG1:XRMS</th>\n",
       "      <th>YAG1:YRMS</th>\n",
       "      <th>xopt_runtime</th>\n",
       "      <th>xopt_error</th>\n",
       "    </tr>\n",
       "  </thead>\n",
       "  <tbody>\n",
       "    <tr>\n",
       "      <th>1</th>\n",
       "      <td>0.0</td>\n",
       "      <td>1.0</td>\n",
       "      <td>0.0</td>\n",
       "      <td>0.5</td>\n",
       "      <td>0.000059</td>\n",
       "      <td>False</td>\n",
       "    </tr>\n",
       "    <tr>\n",
       "      <th>2</th>\n",
       "      <td>0.1</td>\n",
       "      <td>1.0</td>\n",
       "      <td>0.1</td>\n",
       "      <td>0.4</td>\n",
       "      <td>0.000022</td>\n",
       "      <td>False</td>\n",
       "    </tr>\n",
       "  </tbody>\n",
       "</table>\n",
       "</div>"
      ],
      "text/plain": [
       "   Q6:BCTRL  AWAICTMon:Ch1  YAG1:XRMS  YAG1:YRMS  xopt_runtime  xopt_error\n",
       "1       0.0            1.0        0.0        0.5      0.000059       False\n",
       "2       0.1            1.0        0.1        0.4      0.000022       False"
      ]
     },
     "execution_count": 7,
     "metadata": {},
     "output_type": "execute_result"
    }
   ],
   "source": [
    "import pandas as pd\n",
    "X.evaluate_data(pd.DataFrame({\"Q6:BCTRL\":[0.0,0.1]}))"
   ]
  },
  {
   "cell_type": "code",
   "execution_count": 9,
   "metadata": {
    "collapsed": false,
    "jupyter": {
     "outputs_hidden": false
    }
   },
   "outputs": [
    {
     "name": "stderr",
     "output_type": "stream",
     "text": [
      "/global/common/software/m669/rroussel/conda/awa-badger/lib/python3.9/site-packages/botorch/optim/optimize.py:366: RuntimeWarning: Optimization failed in `gen_candidates_scipy` with the following warning(s):\n",
      "[OptimizationWarning('Optimization failed within `scipy.optimize.minimize` with status 2 and message ABNORMAL_TERMINATION_IN_LNSRCH.')]\n",
      "Trying again with a new set of initial conditions.\n",
      "  warnings.warn(first_warn_msg, RuntimeWarning)\n",
      "/global/common/software/m669/rroussel/conda/awa-badger/lib/python3.9/site-packages/botorch/optim/optimize.py:390: RuntimeWarning: Optimization failed on the second try, after generating a new set of initial conditions.\n",
      "  warnings.warn(\n"
     ]
    }
   ],
   "source": [
    "for i in range(10):\n",
    "    X.step()"
   ]
  },
  {
   "cell_type": "code",
   "execution_count": 10,
   "metadata": {
    "collapsed": false,
    "jupyter": {
     "outputs_hidden": false
    }
   },
   "outputs": [
    {
     "data": {
      "text/html": [
       "<div>\n",
       "<style scoped>\n",
       "    .dataframe tbody tr th:only-of-type {\n",
       "        vertical-align: middle;\n",
       "    }\n",
       "\n",
       "    .dataframe tbody tr th {\n",
       "        vertical-align: top;\n",
       "    }\n",
       "\n",
       "    .dataframe thead th {\n",
       "        text-align: right;\n",
       "    }\n",
       "</style>\n",
       "<table border=\"1\" class=\"dataframe\">\n",
       "  <thead>\n",
       "    <tr style=\"text-align: right;\">\n",
       "      <th></th>\n",
       "      <th>Q6:BCTRL</th>\n",
       "      <th>AWAICTMon:Ch1</th>\n",
       "      <th>YAG1:XRMS</th>\n",
       "      <th>YAG1:YRMS</th>\n",
       "      <th>xopt_runtime</th>\n",
       "      <th>xopt_error</th>\n",
       "    </tr>\n",
       "  </thead>\n",
       "  <tbody>\n",
       "    <tr>\n",
       "      <th>1</th>\n",
       "      <td>0.000000</td>\n",
       "      <td>1.0</td>\n",
       "      <td>0.000000</td>\n",
       "      <td>0.500000</td>\n",
       "      <td>0.000059</td>\n",
       "      <td>False</td>\n",
       "    </tr>\n",
       "    <tr>\n",
       "      <th>2</th>\n",
       "      <td>0.100000</td>\n",
       "      <td>1.0</td>\n",
       "      <td>0.100000</td>\n",
       "      <td>0.400000</td>\n",
       "      <td>0.000022</td>\n",
       "      <td>False</td>\n",
       "    </tr>\n",
       "    <tr>\n",
       "      <th>3</th>\n",
       "      <td>-1.000000</td>\n",
       "      <td>1.0</td>\n",
       "      <td>1.000000</td>\n",
       "      <td>-0.500000</td>\n",
       "      <td>0.000062</td>\n",
       "      <td>False</td>\n",
       "    </tr>\n",
       "    <tr>\n",
       "      <th>4</th>\n",
       "      <td>-0.392787</td>\n",
       "      <td>1.0</td>\n",
       "      <td>0.392787</td>\n",
       "      <td>0.107213</td>\n",
       "      <td>0.000063</td>\n",
       "      <td>False</td>\n",
       "    </tr>\n",
       "    <tr>\n",
       "      <th>5</th>\n",
       "      <td>0.297180</td>\n",
       "      <td>1.0</td>\n",
       "      <td>0.297180</td>\n",
       "      <td>0.202820</td>\n",
       "      <td>0.000061</td>\n",
       "      <td>False</td>\n",
       "    </tr>\n",
       "    <tr>\n",
       "      <th>6</th>\n",
       "      <td>0.759159</td>\n",
       "      <td>1.0</td>\n",
       "      <td>0.759159</td>\n",
       "      <td>-0.259159</td>\n",
       "      <td>0.000060</td>\n",
       "      <td>False</td>\n",
       "    </tr>\n",
       "    <tr>\n",
       "      <th>7</th>\n",
       "      <td>-0.223823</td>\n",
       "      <td>1.0</td>\n",
       "      <td>0.223823</td>\n",
       "      <td>0.276177</td>\n",
       "      <td>0.000045</td>\n",
       "      <td>False</td>\n",
       "    </tr>\n",
       "    <tr>\n",
       "      <th>8</th>\n",
       "      <td>0.394187</td>\n",
       "      <td>1.0</td>\n",
       "      <td>0.394187</td>\n",
       "      <td>0.105813</td>\n",
       "      <td>0.000047</td>\n",
       "      <td>False</td>\n",
       "    </tr>\n",
       "    <tr>\n",
       "      <th>9</th>\n",
       "      <td>-0.450012</td>\n",
       "      <td>1.0</td>\n",
       "      <td>0.450012</td>\n",
       "      <td>0.049988</td>\n",
       "      <td>0.000057</td>\n",
       "      <td>False</td>\n",
       "    </tr>\n",
       "    <tr>\n",
       "      <th>10</th>\n",
       "      <td>-0.115379</td>\n",
       "      <td>1.0</td>\n",
       "      <td>0.115379</td>\n",
       "      <td>0.384621</td>\n",
       "      <td>0.000041</td>\n",
       "      <td>False</td>\n",
       "    </tr>\n",
       "    <tr>\n",
       "      <th>11</th>\n",
       "      <td>0.200063</td>\n",
       "      <td>1.0</td>\n",
       "      <td>0.200063</td>\n",
       "      <td>0.299937</td>\n",
       "      <td>0.000054</td>\n",
       "      <td>False</td>\n",
       "    </tr>\n",
       "    <tr>\n",
       "      <th>12</th>\n",
       "      <td>0.436399</td>\n",
       "      <td>1.0</td>\n",
       "      <td>0.436399</td>\n",
       "      <td>0.063601</td>\n",
       "      <td>0.000047</td>\n",
       "      <td>False</td>\n",
       "    </tr>\n",
       "  </tbody>\n",
       "</table>\n",
       "</div>"
      ],
      "text/plain": [
       "    Q6:BCTRL  AWAICTMon:Ch1  YAG1:XRMS  YAG1:YRMS  xopt_runtime  xopt_error\n",
       "1   0.000000            1.0   0.000000   0.500000      0.000059       False\n",
       "2   0.100000            1.0   0.100000   0.400000      0.000022       False\n",
       "3  -1.000000            1.0   1.000000  -0.500000      0.000062       False\n",
       "4  -0.392787            1.0   0.392787   0.107213      0.000063       False\n",
       "5   0.297180            1.0   0.297180   0.202820      0.000061       False\n",
       "6   0.759159            1.0   0.759159  -0.259159      0.000060       False\n",
       "7  -0.223823            1.0   0.223823   0.276177      0.000045       False\n",
       "8   0.394187            1.0   0.394187   0.105813      0.000047       False\n",
       "9  -0.450012            1.0   0.450012   0.049988      0.000057       False\n",
       "10 -0.115379            1.0   0.115379   0.384621      0.000041       False\n",
       "11  0.200063            1.0   0.200063   0.299937      0.000054       False\n",
       "12  0.436399            1.0   0.436399   0.063601      0.000047       False"
      ]
     },
     "execution_count": 10,
     "metadata": {},
     "output_type": "execute_result"
    }
   ],
   "source": [
    "X.data"
   ]
  },
  {
   "cell_type": "code",
   "execution_count": 11,
   "metadata": {
    "collapsed": false,
    "jupyter": {
     "outputs_hidden": false
    },
    "pycharm": {
     "is_executing": true
    }
   },
   "outputs": [
    {
     "data": {
      "text/plain": [
       "<Axes: xlabel='Q6:BCTRL'>"
      ]
     },
     "execution_count": 11,
     "metadata": {},
     "output_type": "execute_result"
    },
    {
     "data": {
      "image/png": "[encoded data removed]",
      "text/plain": [
       "<Figure size 640x480 with 1 Axes>"
      ]
     },
     "metadata": {},
     "output_type": "display_data"
    }
   ],
   "source": [
    "X.data.plot(x=\"Q6:BCTRL\", y=[\"YAG1:XRMS\",\"YAG1:YRMS\"],style=\"o\")"
   ]
  },
  {
   "cell_type": "code",
   "execution_count": 12,
   "metadata": {
    "collapsed": false,
    "jupyter": {
     "outputs_hidden": false
    },
    "pycharm": {
     "is_executing": true
    }
   },
   "outputs": [],
   "source": [
    "model = X.generator.model"
   ]
  },
  {
   "cell_type": "code",
   "execution_count": 13,
   "metadata": {},
   "outputs": [
    {
     "data": {
      "text/plain": [
       "ModelListGP(\n",
       "  (models): ModuleList(\n",
       "    (0-1): 2 x SingleTaskGP(\n",
       "      (likelihood): GaussianLikelihood(\n",
       "        (noise_covar): HomoskedasticNoise(\n",
       "          (noise_prior): GammaPrior()\n",
       "          (raw_noise_constraint): GreaterThan(1.000E-04)\n",
       "        )\n",
       "      )\n",
       "      (mean_module): ConstantMean()\n",
       "      (covar_module): ScaleKernel(\n",
       "        (base_kernel): MaternKernel(\n",
       "          (lengthscale_prior): GammaPrior()\n",
       "          (raw_lengthscale_constraint): Positive()\n",
       "        )\n",
       "        (outputscale_prior): GammaPrior()\n",
       "        (raw_outputscale_constraint): Positive()\n",
       "      )\n",
       "      (outcome_transform): Standardize()\n",
       "      (input_transform): Normalize()\n",
       "    )\n",
       "  )\n",
       "  (likelihood): LikelihoodList(\n",
       "    (likelihoods): ModuleList(\n",
       "      (0-1): 2 x GaussianLikelihood(\n",
       "        (noise_covar): HomoskedasticNoise(\n",
       "          (noise_prior): GammaPrior()\n",
       "          (raw_noise_constraint): GreaterThan(1.000E-04)\n",
       "        )\n",
       "      )\n",
       "    )\n",
       "  )\n",
       ")"
      ]
     },
     "execution_count": 13,
     "metadata": {},
     "output_type": "execute_result"
    }
   ],
   "source": [
    "model"
   ]
  },
  {
   "cell_type": "code",
   "execution_count": null,
   "metadata": {},
   "outputs": [],
   "source": []
  }
 ],
 "metadata": {
  "kernelspec": {
   "display_name": "Python (myenv)",
   "language": "python",
   "name": "myenv"
  },
  "language_info": {
   "codemirror_mode": {
    "name": "ipython",
    "version": 3
   },
   "file_extension": ".py",
   "mimetype": "text/x-python",
   "name": "python",
   "nbconvert_exporter": "python",
   "pygments_lexer": "ipython3",
   "version": "3.9.16"
  }
 },
 "nbformat": 4,
 "nbformat_minor": 4
}
