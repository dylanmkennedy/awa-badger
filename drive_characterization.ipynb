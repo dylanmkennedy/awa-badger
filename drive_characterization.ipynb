{
 "cells": [
  {
   "cell_type": "code",
   "execution_count": 1,
   "id": "9d0698ac",
   "metadata": {},
   "outputs": [],
   "source": [
    "from plugins.environments.awa_environment import AWAEnvironment\n",
    "from plugins.interfaces.awa_interface import AWAInterface\n",
    "\n",
    "# import data from csv file\n",
    "import pandas as pd\n",
    "variable_file = \"plugins/environments/awa_variables.csv\"\n",
    "observable_file = \"plugins/environments/awa_observables.csv\"\n",
    "\n",
    "env = AWAEnvironment(variable_file, observable_file, interface=AWAInterface(), target_charge=1.0)"
   ]
  },
  {
   "cell_type": "code",
   "execution_count": 2,
   "id": "6f09a107",
   "metadata": {},
   "outputs": [
    {
     "data": {
      "text/plain": [
       "{'AWA:Drive:DS1:Ctrl': [500.0, 550.0],\n",
       " 'AWA:Drive:DS3:Ctrl': [180.0, 260.0],\n",
       " 'AWA:Bira3Ctrl:Ch03': [-5.0, 5.0],\n",
       " 'AWA:Bira3Ctrl:Ch04': [-5.0, 5.0],\n",
       " 'AWA:Bira3Ctrl:Ch05': [-5.0, 5.0],\n",
       " 'AWA:Bira3Ctrl:Ch06': [-5.0, 5.0],\n",
       " 'AWALLRF:K1:SetPhase': [236.0, 256.0],\n",
       " 'AWA:DAC0:Ch08': [4.5, 5.9]}"
      ]
     },
     "execution_count": 2,
     "metadata": {},
     "output_type": "execute_result"
    }
   ],
   "source": [
    "env.variables"
   ]
  },
  {
   "cell_type": "code",
   "execution_count": 3,
   "id": "9ad9578e",
   "metadata": {},
   "outputs": [],
   "source": [
    "from xopt import Xopt, Evaluator, VOCS\n",
    "from xopt.generators.bayesian import BayesianExplorationGenerator\n",
    "from xopt.generators.bayesian.models.standard import StandardModelConstructor\n",
    "from xopt.generators.bayesian.turbo import SafetyTurboController\n",
    "\n",
    "import time\n",
    "\n",
    "def evaluate(inputs):\n",
    "    env.set_variables(inputs)\n",
    "    time.sleep(2.0)\n",
    "    result = env.get_observables([\"13ARV1:Sx\"])\n",
    "    result[\"total_rms_size\"] = (result[\"13ARV1:Sx\"]**2 + result[\"13ARV1:Sy\"]**2)**0.5\n",
    "    return result\n",
    "\n",
    "# use only one variable\n",
    "vocs = VOCS(variables=env.variables,\n",
    "            objectives={\"total_rms_size\":\"MINIMIZE\"},\n",
    "            constraints={\"13ARV1:penalty\":[\"LESS_THAN\",0.0]})\n"
   ]
  },
  {
   "cell_type": "code",
   "execution_count": 4,
   "id": "bd551dc1",
   "metadata": {},
   "outputs": [],
   "source": [
    "\n",
    "model_constructor = StandardModelConstructor(use_low_noise_prior=False)\n",
    "generator = BayesianExplorationGenerator(\n",
    "    vocs=vocs, \n",
    "    model_constructor=model_constructor,\n",
    "    turbo_controller=OptimizeTurboController(vocs=vocs, length=0.1)\n",
    ")\n",
    "evaluator = Evaluator(function=evaluate)\n",
    "X = Xopt(vocs=vocs, evaluator=evaluator, generator=generator)\n",
    "X.options.dump_file = \"optimization_1.yml\""
   ]
  },
  {
   "cell_type": "code",
   "execution_count": 5,
   "id": "275ade15",
   "metadata": {},
   "outputs": [
    {
     "data": {
      "text/plain": [
       "\n",
       "            Xopt\n",
       "________________________________\n",
       "Version: 1.4.1+50.ge9fc8ac.dirty\n",
       "Data size: 0\n",
       "Config as YAML:\n",
       "xopt: {asynch: false, strict: false, dump_file: exploration_1.yml, max_evaluations: null}\n",
       "generator:\n",
       "  name: bayesian_exploration\n",
       "  model: null\n",
       "  turbo_controller:\n",
       "    dim: 8\n",
       "    batch_size: 1\n",
       "    length: 0.1\n",
       "    length_min: 0.0078125\n",
       "    length_max: 2.0\n",
       "    failure_counter: 0\n",
       "    failure_tolerance: 4\n",
       "    success_counter: 0\n",
       "    success_tolerance: 4\n",
       "    center_x: null\n",
       "    scale_factor: 1.25\n",
       "    tkwargs: {dtype: torch.float64}\n",
       "  use_cuda: false\n",
       "  model_constructor:\n",
       "    name: standard\n",
       "    use_low_noise_prior: false\n",
       "    covar_modules: {}\n",
       "    mean_modules: {}\n",
       "    trainable_mean_keys: []\n",
       "    dtype: torch.float64\n",
       "    device: cpu\n",
       "  numerical_optimizer: {name: LBFGS, n_raw_samples: 20, n_restarts: 20, max_iter: 2000}\n",
       "  max_travel_distances: null\n",
       "  n_monte_carlo_samples: 128\n",
       "evaluator:\n",
       "  function: __main__.evaluate\n",
       "  max_workers: 1\n",
       "  function_kwargs: {}\n",
       "  vectorized: false\n",
       "vocs:\n",
       "  variables:\n",
       "    AWA:Drive:DS1:Ctrl: [500.0, 550.0]\n",
       "    AWA:Drive:DS3:Ctrl: [180.0, 260.0]\n",
       "    AWA:Bira3Ctrl:Ch03: [-5.0, 5.0]\n",
       "    AWA:Bira3Ctrl:Ch04: [-5.0, 5.0]\n",
       "    AWA:Bira3Ctrl:Ch05: [-5.0, 5.0]\n",
       "    AWA:Bira3Ctrl:Ch06: [-5.0, 5.0]\n",
       "    AWALLRF:K1:SetPhase: [236.0, 256.0]\n",
       "    AWA:DAC0:Ch08: [4.5, 5.9]\n",
       "  constraints:\n",
       "    13ARV1:penalty: [LESS_THAN, 0.0]\n",
       "  objectives: {'13ARV1:Sx': MINIMIZE}\n",
       "  constants: {}\n"
      ]
     },
     "execution_count": 5,
     "metadata": {},
     "output_type": "execute_result"
    }
   ],
   "source": [
    "X"
   ]
  },
  {
   "cell_type": "code",
   "execution_count": 6,
   "id": "21c7e6ca",
   "metadata": {},
   "outputs": [
    {
     "data": {
      "text/html": [
       "<div>\n",
       "<style scoped>\n",
       "    .dataframe tbody tr th:only-of-type {\n",
       "        vertical-align: middle;\n",
       "    }\n",
       "\n",
       "    .dataframe tbody tr th {\n",
       "        vertical-align: top;\n",
       "    }\n",
       "\n",
       "    .dataframe thead th {\n",
       "        text-align: right;\n",
       "    }\n",
       "</style>\n",
       "<table border=\"1\" class=\"dataframe\">\n",
       "  <thead>\n",
       "    <tr style=\"text-align: right;\">\n",
       "      <th></th>\n",
       "      <th>AWA:Bira3Ctrl:Ch03</th>\n",
       "      <th>AWA:Bira3Ctrl:Ch04</th>\n",
       "      <th>AWA:Bira3Ctrl:Ch05</th>\n",
       "      <th>AWA:Bira3Ctrl:Ch06</th>\n",
       "      <th>AWA:DAC0:Ch08</th>\n",
       "      <th>AWA:Drive:DS1:Ctrl</th>\n",
       "      <th>AWA:Drive:DS3:Ctrl</th>\n",
       "      <th>AWALLRF:K1:SetPhase</th>\n",
       "    </tr>\n",
       "  </thead>\n",
       "  <tbody>\n",
       "    <tr>\n",
       "      <th>0</th>\n",
       "      <td>0.0</td>\n",
       "      <td>0.0</td>\n",
       "      <td>0.0</td>\n",
       "      <td>0.0</td>\n",
       "      <td>5.9</td>\n",
       "      <td>550.0</td>\n",
       "      <td>190.0</td>\n",
       "      <td>246.0</td>\n",
       "    </tr>\n",
       "  </tbody>\n",
       "</table>\n",
       "</div>"
      ],
      "text/plain": [
       "   AWA:Bira3Ctrl:Ch03  AWA:Bira3Ctrl:Ch04  AWA:Bira3Ctrl:Ch05   \n",
       "0                 0.0                 0.0                 0.0  \\\n",
       "\n",
       "   AWA:Bira3Ctrl:Ch06  AWA:DAC0:Ch08  AWA:Drive:DS1:Ctrl  AWA:Drive:DS3:Ctrl   \n",
       "0                 0.0            5.9               550.0               190.0  \\\n",
       "\n",
       "   AWALLRF:K1:SetPhase  \n",
       "0                246.0  "
      ]
     },
     "execution_count": 6,
     "metadata": {},
     "output_type": "execute_result"
    }
   ],
   "source": [
    "# get the current quad setpoint\n",
    "#current_val = env.get_variables(['AWA:Bira3Ctrl:Ch03'])\n",
    "import numpy as np\n",
    "default_pt = np.array([0, 0, 0, 0,5.9,550,190,246])\n",
    "default_val = dict(zip(X.vocs.variable_names, default_pt))\n",
    "default_val = pd.DataFrame(default_val, index=[0])\n",
    "default_val"
   ]
  },
  {
   "cell_type": "code",
   "execution_count": 7,
   "id": "b24991aa",
   "metadata": {
    "scrolled": true
   },
   "outputs": [
    {
     "name": "stderr",
     "output_type": "stream",
     "text": [
      "\"\n",
      "    Source File: ../cac.cpp line 1320\n",
      "    Current Time: Thu Jun 15 2023 13:25:20.649190347\n",
      "..................................................................\n",
      "CA.Client.Exception...............................................\n",
      "    Warning: \"Identical process variable names on multiple servers\"\n",
      "    Context: \"Channel: \"13ARV1:image1:ArraySize1_RBV\", Connecting to: 146.139.52.185:5064, Ignored: awa5:5064\"\n",
      "    Source File: ../cac.cpp line 1320\n",
      "    Current Time: Thu Jun 15 2023 13:25:20.649099576\n",
      "..................................................................\n",
      "CA.Client.Exception...............................................\n",
      "    Warning: \"Identical process variable names on multiple servers\"\n",
      "    Context: \"Channel: \"13ARV1:image1:ArrayData\", Connecting to: 146.139.52.185:5064, Ignored: awa5:5064Channel: \"13ARV1:image1:ArraySize1_RBV\", Connecting to: 146.139.52.185:5064, Ignored: awa5:5064\"\n",
      "    Source File: ../cac.cpp line 1320\n",
      "    Current Time: Thu Jun 15 2023 13:25:20.649283592\n",
      "..................................................................\n",
      "errlog: 4 messages were discarded\n",
      "CA.Client.Exception...............................................\n",
      "    Warning: \"Identical process variable names on multiple servers\"\n",
      "    Context: \"Channel: \"13ARV1:image1:ArraySize0_RBV\", Connecting to: 146.139.52.185:5064, Ignored: awa5:5064\"\n",
      "    Source File: ../cac.cpp line 1320\n",
      "    Current Time: Thu Jun 15 2023 13:25:20.649240419\n",
      "..................................................................\n",
      "CA.Client.Exception...............................................\n",
      "    Warning: \"Identical process variable names on multiple servers\"\n",
      "    Context: \"CA.Client.Exception...............................................\n",
      "    Warning: \"Identical process variable names on multiple servers\"\n",
      "    Context: \"Channel: \"13ARV1:image1:ArrayData\", Connecting to: 146.139.52.185:5064, Ignored: awa5:5064\"\n",
      "    Source File: ../cac.cpp line 1320\n",
      "    Current Time: Thu Jun 15 2023 13:25:20.649326163\n",
      "..................................................................\n",
      "errlog: 5 messages were discarded\n",
      "CA.Client.Exception...............................................\n",
      "    Warning: \"Identical process variable names on multiple servers\"\n",
      "    Context: \"Channel: \"13ARV1:image1:ArraySize0_RBV\", Connecting to: 146.139.52.185:5064, Ignored: awa5:5064\"\n",
      "    Source File: ../cac.cpp line 1320\n",
      "    Current Time: Thu Jun 15 2023 13:25:20.649366207\n",
      "..................................................................\n"
     ]
    },
    {
     "data": {
      "text/html": [
       "<div>\n",
       "<style scoped>\n",
       "    .dataframe tbody tr th:only-of-type {\n",
       "        vertical-align: middle;\n",
       "    }\n",
       "\n",
       "    .dataframe tbody tr th {\n",
       "        vertical-align: top;\n",
       "    }\n",
       "\n",
       "    .dataframe thead th {\n",
       "        text-align: right;\n",
       "    }\n",
       "</style>\n",
       "<table border=\"1\" class=\"dataframe\">\n",
       "  <thead>\n",
       "    <tr style=\"text-align: right;\">\n",
       "      <th></th>\n",
       "      <th>AWA:Bira3Ctrl:Ch03</th>\n",
       "      <th>AWA:Bira3Ctrl:Ch04</th>\n",
       "      <th>AWA:Bira3Ctrl:Ch05</th>\n",
       "      <th>AWA:Bira3Ctrl:Ch06</th>\n",
       "      <th>AWA:DAC0:Ch08</th>\n",
       "      <th>AWA:Drive:DS1:Ctrl</th>\n",
       "      <th>AWA:Drive:DS3:Ctrl</th>\n",
       "      <th>AWALLRF:K1:SetPhase</th>\n",
       "      <th>13ARV1:image1:ArraySize1_RBV</th>\n",
       "      <th>AWAVXI11ICT:Ch1</th>\n",
       "      <th>...</th>\n",
       "      <th>13ARV1:image1:ArraySize1_RBV_std</th>\n",
       "      <th>AWAVXI11ICT:Ch1_std</th>\n",
       "      <th>13ARV1:image1:ArraySize0_RBV_std</th>\n",
       "      <th>13ARV1:Cx_std</th>\n",
       "      <th>13ARV1:Cy_std</th>\n",
       "      <th>13ARV1:Sx_std</th>\n",
       "      <th>13ARV1:Sy_std</th>\n",
       "      <th>13ARV1:penalty_std</th>\n",
       "      <th>xopt_runtime</th>\n",
       "      <th>xopt_error</th>\n",
       "    </tr>\n",
       "  </thead>\n",
       "  <tbody>\n",
       "    <tr>\n",
       "      <th>1</th>\n",
       "      <td>0.0</td>\n",
       "      <td>0.0</td>\n",
       "      <td>0.0</td>\n",
       "      <td>0.0</td>\n",
       "      <td>5.9</td>\n",
       "      <td>550.0</td>\n",
       "      <td>190.0</td>\n",
       "      <td>246.0</td>\n",
       "      <td>1200.0</td>\n",
       "      <td>9.836608e-10</td>\n",
       "      <td>...</td>\n",
       "      <td>0.0</td>\n",
       "      <td>4.544848e-11</td>\n",
       "      <td>0.0</td>\n",
       "      <td>0.862996</td>\n",
       "      <td>1.02617</td>\n",
       "      <td>2.103994</td>\n",
       "      <td>1.024185</td>\n",
       "      <td>5.255729</td>\n",
       "      <td>6.342549</td>\n",
       "      <td>False</td>\n",
       "    </tr>\n",
       "  </tbody>\n",
       "</table>\n",
       "<p>1 rows × 26 columns</p>\n",
       "</div>"
      ],
      "text/plain": [
       "   AWA:Bira3Ctrl:Ch03  AWA:Bira3Ctrl:Ch04  AWA:Bira3Ctrl:Ch05   \n",
       "1                 0.0                 0.0                 0.0  \\\n",
       "\n",
       "   AWA:Bira3Ctrl:Ch06  AWA:DAC0:Ch08  AWA:Drive:DS1:Ctrl  AWA:Drive:DS3:Ctrl   \n",
       "1                 0.0            5.9               550.0               190.0  \\\n",
       "\n",
       "   AWALLRF:K1:SetPhase  13ARV1:image1:ArraySize1_RBV  AWAVXI11ICT:Ch1  ...   \n",
       "1                246.0                        1200.0     9.836608e-10  ...  \\\n",
       "\n",
       "   13ARV1:image1:ArraySize1_RBV_std  AWAVXI11ICT:Ch1_std   \n",
       "1                               0.0         4.544848e-11  \\\n",
       "\n",
       "   13ARV1:image1:ArraySize0_RBV_std  13ARV1:Cx_std  13ARV1:Cy_std   \n",
       "1                               0.0       0.862996        1.02617  \\\n",
       "\n",
       "   13ARV1:Sx_std  13ARV1:Sy_std  13ARV1:penalty_std  xopt_runtime  xopt_error  \n",
       "1       2.103994       1.024185            5.255729      6.342549       False  \n",
       "\n",
       "[1 rows x 26 columns]"
      ]
     },
     "execution_count": 7,
     "metadata": {},
     "output_type": "execute_result"
    }
   ],
   "source": [
    "# evaluate that point in xopt\n",
    "X.evaluate_data(default_val)"
   ]
  },
  {
   "cell_type": "code",
   "execution_count": 8,
   "id": "3291a843",
   "metadata": {},
   "outputs": [
    {
     "data": {
      "text/html": [
       "<div>\n",
       "<style scoped>\n",
       "    .dataframe tbody tr th:only-of-type {\n",
       "        vertical-align: middle;\n",
       "    }\n",
       "\n",
       "    .dataframe tbody tr th {\n",
       "        vertical-align: top;\n",
       "    }\n",
       "\n",
       "    .dataframe thead th {\n",
       "        text-align: right;\n",
       "    }\n",
       "</style>\n",
       "<table border=\"1\" class=\"dataframe\">\n",
       "  <thead>\n",
       "    <tr style=\"text-align: right;\">\n",
       "      <th></th>\n",
       "      <th>AWA:Bira3Ctrl:Ch03</th>\n",
       "      <th>AWA:Bira3Ctrl:Ch04</th>\n",
       "      <th>AWA:Bira3Ctrl:Ch05</th>\n",
       "      <th>AWA:Bira3Ctrl:Ch06</th>\n",
       "      <th>AWA:DAC0:Ch08</th>\n",
       "      <th>AWA:Drive:DS1:Ctrl</th>\n",
       "      <th>AWA:Drive:DS3:Ctrl</th>\n",
       "      <th>AWALLRF:K1:SetPhase</th>\n",
       "      <th>13ARV1:image1:ArraySize1_RBV</th>\n",
       "      <th>AWAVXI11ICT:Ch1</th>\n",
       "      <th>...</th>\n",
       "      <th>13ARV1:image1:ArraySize1_RBV_std</th>\n",
       "      <th>AWAVXI11ICT:Ch1_std</th>\n",
       "      <th>13ARV1:image1:ArraySize0_RBV_std</th>\n",
       "      <th>13ARV1:Cx_std</th>\n",
       "      <th>13ARV1:Cy_std</th>\n",
       "      <th>13ARV1:Sx_std</th>\n",
       "      <th>13ARV1:Sy_std</th>\n",
       "      <th>13ARV1:penalty_std</th>\n",
       "      <th>xopt_runtime</th>\n",
       "      <th>xopt_error</th>\n",
       "    </tr>\n",
       "  </thead>\n",
       "  <tbody>\n",
       "    <tr>\n",
       "      <th>2</th>\n",
       "      <td>0.1</td>\n",
       "      <td>0.1</td>\n",
       "      <td>0.1</td>\n",
       "      <td>0.1</td>\n",
       "      <td>5.8</td>\n",
       "      <td>540.0</td>\n",
       "      <td>185.0</td>\n",
       "      <td>245.0</td>\n",
       "      <td>1200.0</td>\n",
       "      <td>1.017629e-09</td>\n",
       "      <td>...</td>\n",
       "      <td>0.0</td>\n",
       "      <td>5.081619e-11</td>\n",
       "      <td>0.0</td>\n",
       "      <td>2.261913</td>\n",
       "      <td>0.326947</td>\n",
       "      <td>4.029648</td>\n",
       "      <td>0.202594</td>\n",
       "      <td>7.496036</td>\n",
       "      <td>6.431805</td>\n",
       "      <td>False</td>\n",
       "    </tr>\n",
       "  </tbody>\n",
       "</table>\n",
       "<p>1 rows × 26 columns</p>\n",
       "</div>"
      ],
      "text/plain": [
       "   AWA:Bira3Ctrl:Ch03  AWA:Bira3Ctrl:Ch04  AWA:Bira3Ctrl:Ch05   \n",
       "2                 0.1                 0.1                 0.1  \\\n",
       "\n",
       "   AWA:Bira3Ctrl:Ch06  AWA:DAC0:Ch08  AWA:Drive:DS1:Ctrl  AWA:Drive:DS3:Ctrl   \n",
       "2                 0.1            5.8               540.0               185.0  \\\n",
       "\n",
       "   AWALLRF:K1:SetPhase  13ARV1:image1:ArraySize1_RBV  AWAVXI11ICT:Ch1  ...   \n",
       "2                245.0                        1200.0     1.017629e-09  ...  \\\n",
       "\n",
       "   13ARV1:image1:ArraySize1_RBV_std  AWAVXI11ICT:Ch1_std   \n",
       "2                               0.0         5.081619e-11  \\\n",
       "\n",
       "   13ARV1:image1:ArraySize0_RBV_std  13ARV1:Cx_std  13ARV1:Cy_std   \n",
       "2                               0.0       2.261913       0.326947  \\\n",
       "\n",
       "   13ARV1:Sx_std  13ARV1:Sy_std  13ARV1:penalty_std  xopt_runtime  xopt_error  \n",
       "2       4.029648       0.202594            7.496036      6.431805       False  \n",
       "\n",
       "[1 rows x 26 columns]"
      ]
     },
     "execution_count": 8,
     "metadata": {},
     "output_type": "execute_result"
    }
   ],
   "source": [
    "# evaluate a second nearby point\n",
    "second_pt = np.array([0.1, 0.1, 0.1, 0.1, 5.8,540,185,245])\n",
    "second_pt = dict(zip(X.vocs.variable_names, second_pt))\n",
    "second_pt = pd.DataFrame(second_pt, index=[0])\n",
    "X.evaluate_data(second_pt)"
   ]
  },
  {
   "cell_type": "code",
   "execution_count": 9,
   "id": "c90b1f75",
   "metadata": {},
   "outputs": [
    {
     "data": {
      "text/plain": [
       "Index(['AWA:Bira3Ctrl:Ch03', 'AWA:Bira3Ctrl:Ch04', 'AWA:Bira3Ctrl:Ch05',\n",
       "       'AWA:Bira3Ctrl:Ch06', 'AWA:DAC0:Ch08', 'AWA:Drive:DS1:Ctrl',\n",
       "       'AWA:Drive:DS3:Ctrl', 'AWALLRF:K1:SetPhase',\n",
       "       '13ARV1:image1:ArraySize1_RBV', 'AWAVXI11ICT:Ch1',\n",
       "       '13ARV1:image1:ArraySize0_RBV', '13ARV1:Cx', '13ARV1:Cy', '13ARV1:Sx',\n",
       "       '13ARV1:Sy', '13ARV1:penalty', '13ARV1:image1:ArraySize1_RBV_std',\n",
       "       'AWAVXI11ICT:Ch1_std', '13ARV1:image1:ArraySize0_RBV_std',\n",
       "       '13ARV1:Cx_std', '13ARV1:Cy_std', '13ARV1:Sx_std', '13ARV1:Sy_std',\n",
       "       '13ARV1:penalty_std', 'xopt_runtime', 'xopt_error'],\n",
       "      dtype='object')"
      ]
     },
     "execution_count": 9,
     "metadata": {},
     "output_type": "execute_result"
    }
   ],
   "source": [
    "X.data.keys()"
   ]
  },
  {
   "cell_type": "code",
   "execution_count": 28,
   "id": "0929af59",
   "metadata": {
    "scrolled": true
   },
   "outputs": [
    {
     "name": "stdout",
     "output_type": "stream",
     "text": [
      "0\n",
      "12.445687055587769\n",
      "1\n",
      "12.614635467529297\n",
      "2\n",
      "12.571729898452759\n",
      "3\n",
      "14.345133304595947\n",
      "4\n",
      "11.466700553894043\n",
      "5\n",
      "10.492931842803955\n",
      "6\n",
      "15.222670555114746\n",
      "7\n",
      "12.14604115486145\n",
      "8\n"
     ]
    },
    {
     "name": "stderr",
     "output_type": "stream",
     "text": [
      "/home/awa/miniconda3/envs/awa-badger/lib/python3.9/site-packages/botorch/optim/optimize.py:366: RuntimeWarning: Optimization failed in `gen_candidates_scipy` with the following warning(s):\n",
      "[OptimizationWarning('Optimization failed within `scipy.optimize.minimize` with status 2 and message ABNORMAL_TERMINATION_IN_LNSRCH.')]\n",
      "Trying again with a new set of initial conditions.\n",
      "  warnings.warn(first_warn_msg, RuntimeWarning)\n"
     ]
    },
    {
     "name": "stdout",
     "output_type": "stream",
     "text": [
      "12.632185220718384\n",
      "9\n",
      "12.052273750305176\n",
      "10\n",
      "12.192116498947144\n",
      "11\n",
      "12.012635231018066\n",
      "12\n",
      "12.326795816421509\n",
      "13\n"
     ]
    },
    {
     "name": "stderr",
     "output_type": "stream",
     "text": [
      "/home/awa/awa-badger/plugins/environments/awa_environment.py:269: RuntimeWarning: invalid value encountered in scalar divide\n",
      "  Cx = m10 / m00\n",
      "/home/awa/awa-badger/plugins/environments/awa_environment.py:270: RuntimeWarning: invalid value encountered in scalar divide\n",
      "  Cy = m01 / m00\n"
     ]
    },
    {
     "name": "stdout",
     "output_type": "stream",
     "text": [
      "12.966497898101807\n",
      "14\n",
      "12.56470274925232\n",
      "15\n",
      "13.00773811340332\n",
      "16\n",
      "11.225881099700928\n",
      "17\n",
      "11.722891330718994\n",
      "18\n"
     ]
    },
    {
     "name": "stderr",
     "output_type": "stream",
     "text": [
      "/home/awa/awa-badger/plugins/environments/awa_environment.py:269: RuntimeWarning: invalid value encountered in scalar divide\n",
      "  Cx = m10 / m00\n",
      "/home/awa/awa-badger/plugins/environments/awa_environment.py:270: RuntimeWarning: invalid value encountered in scalar divide\n",
      "  Cy = m01 / m00\n"
     ]
    },
    {
     "name": "stdout",
     "output_type": "stream",
     "text": [
      "12.709970712661743\n",
      "19\n"
     ]
    },
    {
     "name": "stderr",
     "output_type": "stream",
     "text": [
      "/home/awa/awa-badger/plugins/environments/awa_environment.py:269: RuntimeWarning: invalid value encountered in scalar divide\n",
      "  Cx = m10 / m00\n",
      "/home/awa/awa-badger/plugins/environments/awa_environment.py:270: RuntimeWarning: invalid value encountered in scalar divide\n",
      "  Cy = m01 / m00\n"
     ]
    },
    {
     "name": "stdout",
     "output_type": "stream",
     "text": [
      "13.325978994369507\n",
      "20\n",
      "16.224519729614258\n",
      "21\n",
      "10.70099425315857\n",
      "22\n",
      "9.874598026275635\n",
      "23\n"
     ]
    },
    {
     "name": "stderr",
     "output_type": "stream",
     "text": [
      "/home/awa/awa-badger/plugins/environments/awa_environment.py:269: RuntimeWarning: invalid value encountered in scalar divide\n",
      "  Cx = m10 / m00\n",
      "/home/awa/awa-badger/plugins/environments/awa_environment.py:270: RuntimeWarning: invalid value encountered in scalar divide\n",
      "  Cy = m01 / m00\n"
     ]
    },
    {
     "name": "stdout",
     "output_type": "stream",
     "text": [
      "14.463383197784424\n",
      "24\n",
      "12.503758907318115\n",
      "25\n",
      "12.614653825759888\n",
      "26\n"
     ]
    },
    {
     "name": "stderr",
     "output_type": "stream",
     "text": [
      "/home/awa/awa-badger/plugins/environments/awa_environment.py:269: RuntimeWarning: invalid value encountered in scalar divide\n",
      "  Cx = m10 / m00\n",
      "/home/awa/awa-badger/plugins/environments/awa_environment.py:270: RuntimeWarning: invalid value encountered in scalar divide\n",
      "  Cy = m01 / m00\n"
     ]
    },
    {
     "name": "stdout",
     "output_type": "stream",
     "text": [
      "11.958400011062622\n",
      "27\n",
      "13.05301022529602\n",
      "28\n",
      "10.971025705337524\n",
      "29\n",
      "13.29536509513855\n",
      "30\n",
      "13.672807455062866\n",
      "31\n"
     ]
    },
    {
     "name": "stderr",
     "output_type": "stream",
     "text": [
      "/home/awa/awa-badger/plugins/environments/awa_environment.py:269: RuntimeWarning: invalid value encountered in scalar divide\n",
      "  Cx = m10 / m00\n",
      "/home/awa/awa-badger/plugins/environments/awa_environment.py:270: RuntimeWarning: invalid value encountered in scalar divide\n",
      "  Cy = m01 / m00\n"
     ]
    },
    {
     "name": "stdout",
     "output_type": "stream",
     "text": [
      "17.499555110931396\n",
      "32\n",
      "12.852354288101196\n",
      "33\n",
      "12.155897378921509\n",
      "34\n",
      "10.559866428375244\n",
      "35\n",
      "12.98311996459961\n",
      "36\n",
      "16.577028274536133\n",
      "37\n",
      "14.530991077423096\n",
      "38\n",
      "7.543283700942993\n",
      "39\n",
      "13.693339586257935\n",
      "40\n",
      "14.179988384246826\n",
      "41\n",
      "11.782172918319702\n",
      "42\n",
      "13.23877239227295\n",
      "43\n"
     ]
    },
    {
     "name": "stderr",
     "output_type": "stream",
     "text": [
      "/home/awa/miniconda3/envs/awa-badger/lib/python3.9/site-packages/botorch/optim/optimize.py:366: RuntimeWarning: Optimization failed in `gen_candidates_scipy` with the following warning(s):\n",
      "[OptimizationWarning('Optimization failed within `scipy.optimize.minimize` with status 2 and message ABNORMAL_TERMINATION_IN_LNSRCH.')]\n",
      "Trying again with a new set of initial conditions.\n",
      "  warnings.warn(first_warn_msg, RuntimeWarning)\n"
     ]
    },
    {
     "name": "stdout",
     "output_type": "stream",
     "text": [
      "20.778517961502075\n",
      "44\n"
     ]
    },
    {
     "name": "stderr",
     "output_type": "stream",
     "text": [
      "/home/awa/awa-badger/plugins/environments/awa_environment.py:269: RuntimeWarning: invalid value encountered in scalar divide\n",
      "  Cx = m10 / m00\n",
      "/home/awa/awa-badger/plugins/environments/awa_environment.py:270: RuntimeWarning: invalid value encountered in scalar divide\n",
      "  Cy = m01 / m00\n"
     ]
    },
    {
     "name": "stdout",
     "output_type": "stream",
     "text": [
      "10.746435165405273\n",
      "45\n"
     ]
    },
    {
     "name": "stderr",
     "output_type": "stream",
     "text": [
      "/home/awa/awa-badger/plugins/environments/awa_environment.py:269: RuntimeWarning: invalid value encountered in scalar divide\n",
      "  Cx = m10 / m00\n",
      "/home/awa/awa-badger/plugins/environments/awa_environment.py:270: RuntimeWarning: invalid value encountered in scalar divide\n",
      "  Cy = m01 / m00\n"
     ]
    },
    {
     "name": "stdout",
     "output_type": "stream",
     "text": [
      "14.226466178894043\n",
      "46\n",
      "8.970497369766235\n",
      "47\n",
      "14.076699256896973\n",
      "48\n",
      "12.276093006134033\n",
      "49\n",
      "10.253344297409058\n",
      "50\n"
     ]
    },
    {
     "name": "stderr",
     "output_type": "stream",
     "text": [
      "/home/awa/miniconda3/envs/awa-badger/lib/python3.9/site-packages/botorch/optim/optimize.py:366: RuntimeWarning: Optimization failed in `gen_candidates_scipy` with the following warning(s):\n",
      "[OptimizationWarning('Optimization failed within `scipy.optimize.minimize` with status 2 and message ABNORMAL_TERMINATION_IN_LNSRCH.')]\n",
      "Trying again with a new set of initial conditions.\n",
      "  warnings.warn(first_warn_msg, RuntimeWarning)\n"
     ]
    },
    {
     "name": "stdout",
     "output_type": "stream",
     "text": [
      "15.80734395980835\n",
      "51\n"
     ]
    },
    {
     "name": "stderr",
     "output_type": "stream",
     "text": [
      "/home/awa/awa-badger/plugins/environments/awa_environment.py:269: RuntimeWarning: invalid value encountered in scalar divide\n",
      "  Cx = m10 / m00\n",
      "/home/awa/awa-badger/plugins/environments/awa_environment.py:270: RuntimeWarning: invalid value encountered in scalar divide\n",
      "  Cy = m01 / m00\n"
     ]
    },
    {
     "name": "stdout",
     "output_type": "stream",
     "text": [
      "12.148027896881104\n",
      "52\n"
     ]
    },
    {
     "name": "stderr",
     "output_type": "stream",
     "text": [
      "/home/awa/awa-badger/plugins/environments/awa_environment.py:269: RuntimeWarning: invalid value encountered in scalar divide\n",
      "  Cx = m10 / m00\n",
      "/home/awa/awa-badger/plugins/environments/awa_environment.py:270: RuntimeWarning: invalid value encountered in scalar divide\n",
      "  Cy = m01 / m00\n"
     ]
    },
    {
     "name": "stdout",
     "output_type": "stream",
     "text": [
      "14.04686975479126\n",
      "53\n"
     ]
    },
    {
     "name": "stderr",
     "output_type": "stream",
     "text": [
      "/home/awa/awa-badger/plugins/environments/awa_environment.py:269: RuntimeWarning: invalid value encountered in scalar divide\n",
      "  Cx = m10 / m00\n",
      "/home/awa/awa-badger/plugins/environments/awa_environment.py:270: RuntimeWarning: invalid value encountered in scalar divide\n",
      "  Cy = m01 / m00\n"
     ]
    },
    {
     "name": "stdout",
     "output_type": "stream",
     "text": [
      "12.230133771896362\n",
      "54\n"
     ]
    },
    {
     "name": "stderr",
     "output_type": "stream",
     "text": [
      "/home/awa/awa-badger/plugins/environments/awa_environment.py:269: RuntimeWarning: invalid value encountered in scalar divide\n",
      "  Cx = m10 / m00\n",
      "/home/awa/awa-badger/plugins/environments/awa_environment.py:270: RuntimeWarning: invalid value encountered in scalar divide\n",
      "  Cy = m01 / m00\n"
     ]
    },
    {
     "name": "stdout",
     "output_type": "stream",
     "text": [
      "9.690404653549194\n",
      "55\n",
      "12.077274560928345\n",
      "56\n",
      "11.8562490940094\n",
      "57\n",
      "14.397340536117554\n",
      "58\n",
      "13.112398147583008\n",
      "59\n"
     ]
    },
    {
     "name": "stderr",
     "output_type": "stream",
     "text": [
      "/home/awa/awa-badger/plugins/environments/awa_environment.py:269: RuntimeWarning: invalid value encountered in scalar divide\n",
      "  Cx = m10 / m00\n",
      "/home/awa/awa-badger/plugins/environments/awa_environment.py:270: RuntimeWarning: invalid value encountered in scalar divide\n",
      "  Cy = m01 / m00\n"
     ]
    },
    {
     "name": "stdout",
     "output_type": "stream",
     "text": [
      "10.908089637756348\n",
      "60\n",
      "12.876532554626465\n",
      "61\n"
     ]
    },
    {
     "name": "stderr",
     "output_type": "stream",
     "text": [
      "/home/awa/awa-badger/plugins/environments/awa_environment.py:269: RuntimeWarning: invalid value encountered in scalar divide\n",
      "  Cx = m10 / m00\n",
      "/home/awa/awa-badger/plugins/environments/awa_environment.py:270: RuntimeWarning: invalid value encountered in scalar divide\n",
      "  Cy = m01 / m00\n"
     ]
    },
    {
     "name": "stdout",
     "output_type": "stream",
     "text": [
      "10.22727084159851\n",
      "62\n",
      "14.905163764953613\n",
      "63\n"
     ]
    },
    {
     "name": "stderr",
     "output_type": "stream",
     "text": [
      "/home/awa/awa-badger/plugins/environments/awa_environment.py:269: RuntimeWarning: invalid value encountered in scalar divide\n",
      "  Cx = m10 / m00\n",
      "/home/awa/awa-badger/plugins/environments/awa_environment.py:270: RuntimeWarning: invalid value encountered in scalar divide\n",
      "  Cy = m01 / m00\n"
     ]
    },
    {
     "name": "stdout",
     "output_type": "stream",
     "text": [
      "12.496502161026001\n",
      "64\n",
      "15.492899417877197\n",
      "65\n",
      "9.82007360458374\n",
      "66\n"
     ]
    },
    {
     "name": "stderr",
     "output_type": "stream",
     "text": [
      "/home/awa/awa-badger/plugins/environments/awa_environment.py:269: RuntimeWarning: invalid value encountered in scalar divide\n",
      "  Cx = m10 / m00\n",
      "/home/awa/awa-badger/plugins/environments/awa_environment.py:270: RuntimeWarning: invalid value encountered in scalar divide\n",
      "  Cy = m01 / m00\n"
     ]
    },
    {
     "name": "stdout",
     "output_type": "stream",
     "text": [
      "13.750982761383057\n",
      "67\n",
      "13.612548351287842\n",
      "68\n"
     ]
    },
    {
     "name": "stderr",
     "output_type": "stream",
     "text": [
      "/home/awa/awa-badger/plugins/environments/awa_environment.py:269: RuntimeWarning: invalid value encountered in scalar divide\n",
      "  Cx = m10 / m00\n",
      "/home/awa/awa-badger/plugins/environments/awa_environment.py:270: RuntimeWarning: invalid value encountered in scalar divide\n",
      "  Cy = m01 / m00\n"
     ]
    },
    {
     "name": "stdout",
     "output_type": "stream",
     "text": [
      "14.183696508407593\n",
      "69\n"
     ]
    },
    {
     "name": "stderr",
     "output_type": "stream",
     "text": [
      "/home/awa/miniconda3/envs/awa-badger/lib/python3.9/site-packages/botorch/optim/optimize.py:366: RuntimeWarning: Optimization failed in `gen_candidates_scipy` with the following warning(s):\n",
      "[OptimizationWarning('Optimization failed within `scipy.optimize.minimize` with status 2 and message ABNORMAL_TERMINATION_IN_LNSRCH.')]\n",
      "Trying again with a new set of initial conditions.\n",
      "  warnings.warn(first_warn_msg, RuntimeWarning)\n",
      "/home/awa/miniconda3/envs/awa-badger/lib/python3.9/site-packages/botorch/optim/optimize.py:390: RuntimeWarning: Optimization failed on the second try, after generating a new set of initial conditions.\n",
      "  warnings.warn(\n"
     ]
    },
    {
     "name": "stdout",
     "output_type": "stream",
     "text": [
      "7.478365421295166\n",
      "70\n",
      "12.662977933883667\n",
      "71\n"
     ]
    },
    {
     "name": "stderr",
     "output_type": "stream",
     "text": [
      "/home/awa/awa-badger/plugins/environments/awa_environment.py:269: RuntimeWarning: invalid value encountered in scalar divide\n",
      "  Cx = m10 / m00\n",
      "/home/awa/awa-badger/plugins/environments/awa_environment.py:270: RuntimeWarning: invalid value encountered in scalar divide\n",
      "  Cy = m01 / m00\n"
     ]
    },
    {
     "name": "stdout",
     "output_type": "stream",
     "text": [
      "10.850293397903442\n",
      "72\n",
      "14.709516286849976\n",
      "73\n"
     ]
    },
    {
     "name": "stderr",
     "output_type": "stream",
     "text": [
      "/home/awa/awa-badger/plugins/environments/awa_environment.py:269: RuntimeWarning: invalid value encountered in scalar divide\n",
      "  Cx = m10 / m00\n",
      "/home/awa/awa-badger/plugins/environments/awa_environment.py:270: RuntimeWarning: invalid value encountered in scalar divide\n",
      "  Cy = m01 / m00\n"
     ]
    },
    {
     "name": "stdout",
     "output_type": "stream",
     "text": [
      "16.464414834976196\n",
      "74\n"
     ]
    },
    {
     "name": "stderr",
     "output_type": "stream",
     "text": [
      "/home/awa/miniconda3/envs/awa-badger/lib/python3.9/site-packages/botorch/optim/optimize.py:366: RuntimeWarning: Optimization failed in `gen_candidates_scipy` with the following warning(s):\n",
      "[OptimizationWarning('Optimization failed within `scipy.optimize.minimize` with status 2 and message ABNORMAL_TERMINATION_IN_LNSRCH.')]\n",
      "Trying again with a new set of initial conditions.\n",
      "  warnings.warn(first_warn_msg, RuntimeWarning)\n",
      "/home/awa/awa-badger/plugins/environments/awa_environment.py:269: RuntimeWarning: invalid value encountered in scalar divide\n",
      "  Cx = m10 / m00\n",
      "/home/awa/awa-badger/plugins/environments/awa_environment.py:270: RuntimeWarning: invalid value encountered in scalar divide\n",
      "  Cy = m01 / m00\n"
     ]
    },
    {
     "name": "stdout",
     "output_type": "stream",
     "text": [
      "12.086141347885132\n",
      "75\n"
     ]
    },
    {
     "name": "stderr",
     "output_type": "stream",
     "text": [
      "/home/awa/awa-badger/plugins/environments/awa_environment.py:269: RuntimeWarning: invalid value encountered in scalar divide\n",
      "  Cx = m10 / m00\n",
      "/home/awa/awa-badger/plugins/environments/awa_environment.py:270: RuntimeWarning: invalid value encountered in scalar divide\n",
      "  Cy = m01 / m00\n"
     ]
    },
    {
     "name": "stdout",
     "output_type": "stream",
     "text": [
      "13.455066204071045\n",
      "76\n"
     ]
    },
    {
     "name": "stderr",
     "output_type": "stream",
     "text": [
      "/home/awa/awa-badger/plugins/environments/awa_environment.py:269: RuntimeWarning: invalid value encountered in scalar divide\n",
      "  Cx = m10 / m00\n",
      "/home/awa/awa-badger/plugins/environments/awa_environment.py:270: RuntimeWarning: invalid value encountered in scalar divide\n",
      "  Cy = m01 / m00\n"
     ]
    },
    {
     "name": "stdout",
     "output_type": "stream",
     "text": [
      "11.476319551467896\n",
      "77\n"
     ]
    },
    {
     "name": "stderr",
     "output_type": "stream",
     "text": [
      "/home/awa/awa-badger/plugins/environments/awa_environment.py:269: RuntimeWarning: invalid value encountered in scalar divide\n",
      "  Cx = m10 / m00\n",
      "/home/awa/awa-badger/plugins/environments/awa_environment.py:270: RuntimeWarning: invalid value encountered in scalar divide\n",
      "  Cy = m01 / m00\n"
     ]
    },
    {
     "name": "stdout",
     "output_type": "stream",
     "text": [
      "11.018347263336182\n",
      "78\n",
      "14.002233505249023\n",
      "79\n"
     ]
    },
    {
     "name": "stderr",
     "output_type": "stream",
     "text": [
      "/home/awa/miniconda3/envs/awa-badger/lib/python3.9/site-packages/botorch/optim/optimize.py:366: RuntimeWarning: Optimization failed in `gen_candidates_scipy` with the following warning(s):\n",
      "[OptimizationWarning('Optimization failed within `scipy.optimize.minimize` with status 2 and message ABNORMAL_TERMINATION_IN_LNSRCH.')]\n",
      "Trying again with a new set of initial conditions.\n",
      "  warnings.warn(first_warn_msg, RuntimeWarning)\n",
      "/home/awa/miniconda3/envs/awa-badger/lib/python3.9/site-packages/botorch/optim/optimize.py:390: RuntimeWarning: Optimization failed on the second try, after generating a new set of initial conditions.\n",
      "  warnings.warn(\n",
      "/home/awa/awa-badger/plugins/environments/awa_environment.py:269: RuntimeWarning: invalid value encountered in scalar divide\n",
      "  Cx = m10 / m00\n",
      "/home/awa/awa-badger/plugins/environments/awa_environment.py:270: RuntimeWarning: invalid value encountered in scalar divide\n",
      "  Cy = m01 / m00\n"
     ]
    },
    {
     "name": "stdout",
     "output_type": "stream",
     "text": [
      "8.795341968536377\n",
      "80\n"
     ]
    },
    {
     "name": "stderr",
     "output_type": "stream",
     "text": [
      "/home/awa/miniconda3/envs/awa-badger/lib/python3.9/site-packages/botorch/optim/optimize.py:366: RuntimeWarning: Optimization failed in `gen_candidates_scipy` with the following warning(s):\n",
      "[OptimizationWarning('Optimization failed within `scipy.optimize.minimize` with status 2 and message ABNORMAL_TERMINATION_IN_LNSRCH.')]\n",
      "Trying again with a new set of initial conditions.\n",
      "  warnings.warn(first_warn_msg, RuntimeWarning)\n",
      "/home/awa/miniconda3/envs/awa-badger/lib/python3.9/site-packages/botorch/optim/optimize.py:390: RuntimeWarning: Optimization failed on the second try, after generating a new set of initial conditions.\n",
      "  warnings.warn(\n"
     ]
    },
    {
     "name": "stdout",
     "output_type": "stream",
     "text": [
      "9.68450379371643\n",
      "81\n",
      "16.760658502578735\n",
      "82\n"
     ]
    },
    {
     "name": "stderr",
     "output_type": "stream",
     "text": [
      "/home/awa/awa-badger/plugins/environments/awa_environment.py:269: RuntimeWarning: invalid value encountered in scalar divide\n",
      "  Cx = m10 / m00\n",
      "/home/awa/awa-badger/plugins/environments/awa_environment.py:270: RuntimeWarning: invalid value encountered in scalar divide\n",
      "  Cy = m01 / m00\n"
     ]
    },
    {
     "name": "stdout",
     "output_type": "stream",
     "text": [
      "12.84419059753418\n",
      "83\n"
     ]
    },
    {
     "name": "stderr",
     "output_type": "stream",
     "text": [
      "/home/awa/awa-badger/plugins/environments/awa_environment.py:269: RuntimeWarning: invalid value encountered in scalar divide\n",
      "  Cx = m10 / m00\n",
      "/home/awa/awa-badger/plugins/environments/awa_environment.py:270: RuntimeWarning: invalid value encountered in scalar divide\n",
      "  Cy = m01 / m00\n"
     ]
    },
    {
     "name": "stdout",
     "output_type": "stream",
     "text": [
      "11.464361429214478\n",
      "84\n",
      "17.027183294296265\n",
      "85\n"
     ]
    },
    {
     "name": "stderr",
     "output_type": "stream",
     "text": [
      "/home/awa/miniconda3/envs/awa-badger/lib/python3.9/site-packages/botorch/optim/optimize.py:366: RuntimeWarning: Optimization failed in `gen_candidates_scipy` with the following warning(s):\n",
      "[OptimizationWarning('Optimization failed within `scipy.optimize.minimize` with status 2 and message ABNORMAL_TERMINATION_IN_LNSRCH.')]\n",
      "Trying again with a new set of initial conditions.\n",
      "  warnings.warn(first_warn_msg, RuntimeWarning)\n"
     ]
    },
    {
     "name": "stdout",
     "output_type": "stream",
     "text": [
      "16.137341022491455\n",
      "86\n"
     ]
    },
    {
     "name": "stderr",
     "output_type": "stream",
     "text": [
      "/home/awa/miniconda3/envs/awa-badger/lib/python3.9/site-packages/botorch/optim/optimize.py:366: RuntimeWarning: Optimization failed in `gen_candidates_scipy` with the following warning(s):\n",
      "[OptimizationWarning('Optimization failed within `scipy.optimize.minimize` with status 2 and message ABNORMAL_TERMINATION_IN_LNSRCH.')]\n",
      "Trying again with a new set of initial conditions.\n",
      "  warnings.warn(first_warn_msg, RuntimeWarning)\n"
     ]
    },
    {
     "name": "stdout",
     "output_type": "stream",
     "text": [
      "12.874215602874756\n",
      "87\n",
      "13.187576293945312\n",
      "88\n"
     ]
    },
    {
     "name": "stderr",
     "output_type": "stream",
     "text": [
      "/home/awa/awa-badger/plugins/environments/awa_environment.py:269: RuntimeWarning: invalid value encountered in scalar divide\n",
      "  Cx = m10 / m00\n",
      "/home/awa/awa-badger/plugins/environments/awa_environment.py:270: RuntimeWarning: invalid value encountered in scalar divide\n",
      "  Cy = m01 / m00\n"
     ]
    },
    {
     "name": "stdout",
     "output_type": "stream",
     "text": [
      "15.28006362915039\n",
      "89\n",
      "14.46137285232544\n",
      "90\n",
      "14.496036052703857\n",
      "91\n",
      "14.064768552780151\n",
      "92\n"
     ]
    },
    {
     "name": "stderr",
     "output_type": "stream",
     "text": [
      "/home/awa/miniconda3/envs/awa-badger/lib/python3.9/site-packages/botorch/optim/optimize.py:366: RuntimeWarning: Optimization failed in `gen_candidates_scipy` with the following warning(s):\n",
      "[OptimizationWarning('Optimization failed within `scipy.optimize.minimize` with status 2 and message ABNORMAL_TERMINATION_IN_LNSRCH.')]\n",
      "Trying again with a new set of initial conditions.\n",
      "  warnings.warn(first_warn_msg, RuntimeWarning)\n"
     ]
    },
    {
     "name": "stdout",
     "output_type": "stream",
     "text": [
      "20.705108642578125\n",
      "93\n"
     ]
    },
    {
     "name": "stderr",
     "output_type": "stream",
     "text": [
      "/home/awa/awa-badger/plugins/environments/awa_environment.py:269: RuntimeWarning: invalid value encountered in scalar divide\n",
      "  Cx = m10 / m00\n",
      "/home/awa/awa-badger/plugins/environments/awa_environment.py:270: RuntimeWarning: invalid value encountered in scalar divide\n",
      "  Cy = m01 / m00\n"
     ]
    },
    {
     "name": "stdout",
     "output_type": "stream",
     "text": [
      "12.240494728088379\n",
      "94\n",
      "10.833813905715942\n",
      "95\n"
     ]
    },
    {
     "name": "stderr",
     "output_type": "stream",
     "text": [
      "/home/awa/miniconda3/envs/awa-badger/lib/python3.9/site-packages/botorch/optim/optimize.py:366: RuntimeWarning: Optimization failed in `gen_candidates_scipy` with the following warning(s):\n",
      "[OptimizationWarning('Optimization failed within `scipy.optimize.minimize` with status 2 and message ABNORMAL_TERMINATION_IN_LNSRCH.')]\n",
      "Trying again with a new set of initial conditions.\n",
      "  warnings.warn(first_warn_msg, RuntimeWarning)\n"
     ]
    },
    {
     "name": "stdout",
     "output_type": "stream",
     "text": [
      "13.778546333312988\n",
      "96\n"
     ]
    },
    {
     "name": "stderr",
     "output_type": "stream",
     "text": [
      "/home/awa/awa-badger/plugins/environments/awa_environment.py:269: RuntimeWarning: invalid value encountered in scalar divide\n",
      "  Cx = m10 / m00\n",
      "/home/awa/awa-badger/plugins/environments/awa_environment.py:270: RuntimeWarning: invalid value encountered in scalar divide\n",
      "  Cy = m01 / m00\n"
     ]
    },
    {
     "name": "stdout",
     "output_type": "stream",
     "text": [
      "16.180959939956665\n",
      "97\n",
      "13.712949514389038\n",
      "98\n",
      "15.787979364395142\n",
      "99\n",
      "11.931260108947754\n",
      "100\n",
      "8.067435264587402\n",
      "101\n",
      "15.253840446472168\n",
      "102\n",
      "14.00465703010559\n",
      "103\n",
      "14.669238328933716\n",
      "104\n",
      "11.3396897315979\n",
      "105\n",
      "11.451462984085083\n",
      "106\n",
      "15.064434289932251\n",
      "107\n",
      "17.099793910980225\n",
      "108\n",
      "14.093873739242554\n",
      "109\n",
      "13.818110704421997\n",
      "110\n",
      "19.76408290863037\n",
      "111\n"
     ]
    },
    {
     "name": "stderr",
     "output_type": "stream",
     "text": [
      "/home/awa/awa-badger/plugins/environments/awa_environment.py:269: RuntimeWarning: invalid value encountered in scalar divide\n",
      "  Cx = m10 / m00\n",
      "/home/awa/awa-badger/plugins/environments/awa_environment.py:270: RuntimeWarning: invalid value encountered in scalar divide\n",
      "  Cy = m01 / m00\n"
     ]
    },
    {
     "name": "stdout",
     "output_type": "stream",
     "text": [
      "17.055037260055542\n",
      "112\n",
      "15.49497938156128\n",
      "113\n"
     ]
    },
    {
     "name": "stderr",
     "output_type": "stream",
     "text": [
      "/home/awa/miniconda3/envs/awa-badger/lib/python3.9/site-packages/botorch/optim/optimize.py:366: RuntimeWarning: Optimization failed in `gen_candidates_scipy` with the following warning(s):\n",
      "[OptimizationWarning('Optimization failed within `scipy.optimize.minimize` with status 2 and message ABNORMAL_TERMINATION_IN_LNSRCH.')]\n",
      "Trying again with a new set of initial conditions.\n",
      "  warnings.warn(first_warn_msg, RuntimeWarning)\n"
     ]
    },
    {
     "name": "stdout",
     "output_type": "stream",
     "text": [
      "15.35220718383789\n",
      "114\n"
     ]
    },
    {
     "name": "stderr",
     "output_type": "stream",
     "text": [
      "/home/awa/awa-badger/plugins/environments/awa_environment.py:269: RuntimeWarning: invalid value encountered in scalar divide\n",
      "  Cx = m10 / m00\n",
      "/home/awa/awa-badger/plugins/environments/awa_environment.py:270: RuntimeWarning: invalid value encountered in scalar divide\n",
      "  Cy = m01 / m00\n"
     ]
    },
    {
     "name": "stdout",
     "output_type": "stream",
     "text": [
      "10.629119873046875\n",
      "115\n",
      "15.536847591400146\n",
      "116\n",
      "12.326315641403198\n",
      "117\n",
      "21.938384294509888\n",
      "118\n",
      "8.148028373718262\n",
      "119\n",
      "10.338051319122314\n",
      "120\n"
     ]
    },
    {
     "name": "stderr",
     "output_type": "stream",
     "text": [
      "/home/awa/miniconda3/envs/awa-badger/lib/python3.9/site-packages/botorch/optim/optimize.py:366: RuntimeWarning: Optimization failed in `gen_candidates_scipy` with the following warning(s):\n",
      "[OptimizationWarning('Optimization failed within `scipy.optimize.minimize` with status 2 and message ABNORMAL_TERMINATION_IN_LNSRCH.')]\n",
      "Trying again with a new set of initial conditions.\n",
      "  warnings.warn(first_warn_msg, RuntimeWarning)\n"
     ]
    },
    {
     "name": "stdout",
     "output_type": "stream",
     "text": [
      "15.06294584274292\n",
      "121\n",
      "14.253386974334717\n",
      "122\n",
      "12.712860345840454\n",
      "123\n",
      "15.492459535598755\n",
      "124\n",
      "7.957232236862183\n",
      "125\n",
      "13.828127145767212\n",
      "126\n"
     ]
    },
    {
     "name": "stderr",
     "output_type": "stream",
     "text": [
      "/home/awa/awa-badger/plugins/environments/awa_environment.py:269: RuntimeWarning: invalid value encountered in scalar divide\n",
      "  Cx = m10 / m00\n",
      "/home/awa/awa-badger/plugins/environments/awa_environment.py:270: RuntimeWarning: invalid value encountered in scalar divide\n",
      "  Cy = m01 / m00\n"
     ]
    },
    {
     "name": "stdout",
     "output_type": "stream",
     "text": [
      "14.740015745162964\n",
      "127\n",
      "14.28836441040039\n",
      "128\n"
     ]
    },
    {
     "name": "stderr",
     "output_type": "stream",
     "text": [
      "/home/awa/awa-badger/plugins/environments/awa_environment.py:269: RuntimeWarning: invalid value encountered in scalar divide\n",
      "  Cx = m10 / m00\n",
      "/home/awa/awa-badger/plugins/environments/awa_environment.py:270: RuntimeWarning: invalid value encountered in scalar divide\n",
      "  Cy = m01 / m00\n"
     ]
    },
    {
     "name": "stdout",
     "output_type": "stream",
     "text": [
      "15.279188871383667\n",
      "129\n"
     ]
    },
    {
     "name": "stderr",
     "output_type": "stream",
     "text": [
      "/home/awa/awa-badger/plugins/environments/awa_environment.py:269: RuntimeWarning: invalid value encountered in scalar divide\n",
      "  Cx = m10 / m00\n",
      "/home/awa/awa-badger/plugins/environments/awa_environment.py:270: RuntimeWarning: invalid value encountered in scalar divide\n",
      "  Cy = m01 / m00\n"
     ]
    },
    {
     "name": "stdout",
     "output_type": "stream",
     "text": [
      "13.464140892028809\n",
      "130\n",
      "12.503472089767456\n",
      "131\n",
      "16.302961587905884\n",
      "132\n",
      "13.025719404220581\n",
      "133\n",
      "9.457464456558228\n",
      "134\n",
      "11.996477842330933\n",
      "135\n",
      "18.412277221679688\n",
      "136\n"
     ]
    },
    {
     "name": "stderr",
     "output_type": "stream",
     "text": [
      "/home/awa/awa-badger/plugins/environments/awa_environment.py:269: RuntimeWarning: invalid value encountered in scalar divide\n",
      "  Cx = m10 / m00\n",
      "/home/awa/awa-badger/plugins/environments/awa_environment.py:270: RuntimeWarning: invalid value encountered in scalar divide\n",
      "  Cy = m01 / m00\n"
     ]
    },
    {
     "name": "stdout",
     "output_type": "stream",
     "text": [
      "10.182422399520874\n",
      "137\n",
      "14.804126024246216\n",
      "138\n"
     ]
    },
    {
     "name": "stderr",
     "output_type": "stream",
     "text": [
      "/home/awa/miniconda3/envs/awa-badger/lib/python3.9/site-packages/botorch/optim/optimize.py:366: RuntimeWarning: Optimization failed in `gen_candidates_scipy` with the following warning(s):\n",
      "[OptimizationWarning('Optimization failed within `scipy.optimize.minimize` with status 2 and message ABNORMAL_TERMINATION_IN_LNSRCH.')]\n",
      "Trying again with a new set of initial conditions.\n",
      "  warnings.warn(first_warn_msg, RuntimeWarning)\n",
      "/home/awa/awa-badger/plugins/environments/awa_environment.py:269: RuntimeWarning: invalid value encountered in scalar divide\n",
      "  Cx = m10 / m00\n",
      "/home/awa/awa-badger/plugins/environments/awa_environment.py:270: RuntimeWarning: invalid value encountered in scalar divide\n",
      "  Cy = m01 / m00\n"
     ]
    },
    {
     "name": "stdout",
     "output_type": "stream",
     "text": [
      "16.418293476104736\n",
      "139\n"
     ]
    },
    {
     "name": "stderr",
     "output_type": "stream",
     "text": [
      "/home/awa/miniconda3/envs/awa-badger/lib/python3.9/site-packages/botorch/optim/optimize.py:366: RuntimeWarning: Optimization failed in `gen_candidates_scipy` with the following warning(s):\n",
      "[OptimizationWarning('Optimization failed within `scipy.optimize.minimize` with status 2 and message ABNORMAL_TERMINATION_IN_LNSRCH.')]\n",
      "Trying again with a new set of initial conditions.\n",
      "  warnings.warn(first_warn_msg, RuntimeWarning)\n"
     ]
    },
    {
     "name": "stdout",
     "output_type": "stream",
     "text": [
      "24.19616460800171\n",
      "140\n",
      "11.735328912734985\n",
      "141\n",
      "11.97956895828247\n",
      "142\n",
      "13.286802768707275\n",
      "143\n",
      "12.72365427017212\n",
      "144\n",
      "13.277039289474487\n",
      "145\n",
      "14.25443983078003\n",
      "146\n"
     ]
    },
    {
     "name": "stderr",
     "output_type": "stream",
     "text": [
      "/home/awa/awa-badger/plugins/environments/awa_environment.py:269: RuntimeWarning: invalid value encountered in scalar divide\n",
      "  Cx = m10 / m00\n",
      "/home/awa/awa-badger/plugins/environments/awa_environment.py:270: RuntimeWarning: invalid value encountered in scalar divide\n",
      "  Cy = m01 / m00\n"
     ]
    },
    {
     "name": "stdout",
     "output_type": "stream",
     "text": [
      "13.498260974884033\n",
      "147\n",
      "11.894853830337524\n",
      "148\n",
      "22.606611728668213\n",
      "149\n"
     ]
    },
    {
     "name": "stderr",
     "output_type": "stream",
     "text": [
      "/home/awa/awa-badger/plugins/environments/awa_environment.py:269: RuntimeWarning: invalid value encountered in scalar divide\n",
      "  Cx = m10 / m00\n",
      "/home/awa/awa-badger/plugins/environments/awa_environment.py:270: RuntimeWarning: invalid value encountered in scalar divide\n",
      "  Cy = m01 / m00\n"
     ]
    },
    {
     "name": "stdout",
     "output_type": "stream",
     "text": [
      "30.044844150543213\n",
      "150\n",
      "11.499190092086792\n",
      "151\n",
      "12.997406005859375\n",
      "152\n",
      "10.055546283721924\n",
      "153\n",
      "12.313267707824707\n",
      "154\n",
      "14.646442651748657\n",
      "155\n"
     ]
    },
    {
     "name": "stderr",
     "output_type": "stream",
     "text": [
      "/home/awa/awa-badger/plugins/environments/awa_environment.py:269: RuntimeWarning: invalid value encountered in scalar divide\n",
      "  Cx = m10 / m00\n",
      "/home/awa/awa-badger/plugins/environments/awa_environment.py:270: RuntimeWarning: invalid value encountered in scalar divide\n",
      "  Cy = m01 / m00\n"
     ]
    },
    {
     "name": "stdout",
     "output_type": "stream",
     "text": [
      "19.201069355010986\n",
      "156\n",
      "15.105392456054688\n",
      "157\n",
      "11.712294816970825\n",
      "158\n",
      "13.513080596923828\n",
      "159\n",
      "16.82944655418396\n",
      "160\n"
     ]
    },
    {
     "name": "stderr",
     "output_type": "stream",
     "text": [
      "/home/awa/awa-badger/plugins/environments/awa_environment.py:269: RuntimeWarning: invalid value encountered in scalar divide\n",
      "  Cx = m10 / m00\n",
      "/home/awa/awa-badger/plugins/environments/awa_environment.py:270: RuntimeWarning: invalid value encountered in scalar divide\n",
      "  Cy = m01 / m00\n"
     ]
    },
    {
     "name": "stdout",
     "output_type": "stream",
     "text": [
      "15.691356658935547\n",
      "161\n",
      "15.28789734840393\n",
      "162\n",
      "19.219245195388794\n",
      "163\n",
      "18.077377319335938\n",
      "164\n"
     ]
    },
    {
     "name": "stderr",
     "output_type": "stream",
     "text": [
      "/home/awa/miniconda3/envs/awa-badger/lib/python3.9/site-packages/botorch/optim/optimize.py:366: RuntimeWarning: Optimization failed in `gen_candidates_scipy` with the following warning(s):\n",
      "[OptimizationWarning('Optimization failed within `scipy.optimize.minimize` with status 2 and message ABNORMAL_TERMINATION_IN_LNSRCH.')]\n",
      "Trying again with a new set of initial conditions.\n",
      "  warnings.warn(first_warn_msg, RuntimeWarning)\n"
     ]
    },
    {
     "name": "stdout",
     "output_type": "stream",
     "text": [
      "18.44352412223816\n",
      "165\n"
     ]
    },
    {
     "name": "stderr",
     "output_type": "stream",
     "text": [
      "/home/awa/miniconda3/envs/awa-badger/lib/python3.9/site-packages/botorch/optim/optimize.py:366: RuntimeWarning: Optimization failed in `gen_candidates_scipy` with the following warning(s):\n",
      "[OptimizationWarning('Optimization failed within `scipy.optimize.minimize` with status 2 and message ABNORMAL_TERMINATION_IN_LNSRCH.')]\n",
      "Trying again with a new set of initial conditions.\n",
      "  warnings.warn(first_warn_msg, RuntimeWarning)\n"
     ]
    },
    {
     "name": "stdout",
     "output_type": "stream",
     "text": [
      "15.215134620666504\n",
      "166\n"
     ]
    },
    {
     "name": "stderr",
     "output_type": "stream",
     "text": [
      "/home/awa/awa-badger/plugins/environments/awa_environment.py:269: RuntimeWarning: invalid value encountered in scalar divide\n",
      "  Cx = m10 / m00\n",
      "/home/awa/awa-badger/plugins/environments/awa_environment.py:270: RuntimeWarning: invalid value encountered in scalar divide\n",
      "  Cy = m01 / m00\n"
     ]
    },
    {
     "name": "stdout",
     "output_type": "stream",
     "text": [
      "16.443071365356445\n",
      "167\n",
      "17.375827074050903\n",
      "168\n",
      "19.013044834136963\n",
      "169\n"
     ]
    },
    {
     "name": "stderr",
     "output_type": "stream",
     "text": [
      "/home/awa/awa-badger/plugins/environments/awa_environment.py:269: RuntimeWarning: invalid value encountered in scalar divide\n",
      "  Cx = m10 / m00\n",
      "/home/awa/awa-badger/plugins/environments/awa_environment.py:270: RuntimeWarning: invalid value encountered in scalar divide\n",
      "  Cy = m01 / m00\n"
     ]
    },
    {
     "name": "stdout",
     "output_type": "stream",
     "text": [
      "14.04918622970581\n",
      "170\n",
      "12.50531005859375\n",
      "171\n",
      "19.744564294815063\n",
      "172\n",
      "15.996386051177979\n",
      "173\n"
     ]
    },
    {
     "name": "stderr",
     "output_type": "stream",
     "text": [
      "/home/awa/miniconda3/envs/awa-badger/lib/python3.9/site-packages/botorch/optim/optimize.py:366: RuntimeWarning: Optimization failed in `gen_candidates_scipy` with the following warning(s):\n",
      "[OptimizationWarning('Optimization failed within `scipy.optimize.minimize` with status 2 and message ABNORMAL_TERMINATION_IN_LNSRCH.')]\n",
      "Trying again with a new set of initial conditions.\n",
      "  warnings.warn(first_warn_msg, RuntimeWarning)\n"
     ]
    },
    {
     "name": "stdout",
     "output_type": "stream",
     "text": [
      "18.497716188430786\n",
      "174\n",
      "17.547143936157227\n",
      "175\n",
      "20.769007682800293\n",
      "176\n",
      "11.9834566116333\n",
      "177\n",
      "12.00841212272644\n",
      "178\n",
      "16.99316716194153\n",
      "179\n",
      "13.110754251480103\n",
      "180\n",
      "12.425037622451782\n",
      "181\n",
      "13.706391334533691\n",
      "182\n",
      "14.879828453063965\n",
      "183\n",
      "14.939302682876587\n",
      "184\n"
     ]
    },
    {
     "name": "stderr",
     "output_type": "stream",
     "text": [
      "/home/awa/miniconda3/envs/awa-badger/lib/python3.9/site-packages/botorch/optim/optimize.py:366: RuntimeWarning: Optimization failed in `gen_candidates_scipy` with the following warning(s):\n",
      "[OptimizationWarning('Optimization failed within `scipy.optimize.minimize` with status 2 and message ABNORMAL_TERMINATION_IN_LNSRCH.')]\n",
      "Trying again with a new set of initial conditions.\n",
      "  warnings.warn(first_warn_msg, RuntimeWarning)\n",
      "/home/awa/miniconda3/envs/awa-badger/lib/python3.9/site-packages/botorch/optim/optimize.py:390: RuntimeWarning: Optimization failed on the second try, after generating a new set of initial conditions.\n",
      "  warnings.warn(\n"
     ]
    },
    {
     "name": "stdout",
     "output_type": "stream",
     "text": [
      "12.279103517532349\n",
      "185\n",
      "11.244606256484985\n",
      "186\n"
     ]
    },
    {
     "name": "stderr",
     "output_type": "stream",
     "text": [
      "/home/awa/miniconda3/envs/awa-badger/lib/python3.9/site-packages/botorch/optim/optimize.py:366: RuntimeWarning: Optimization failed in `gen_candidates_scipy` with the following warning(s):\n",
      "[OptimizationWarning('Optimization failed within `scipy.optimize.minimize` with status 2 and message ABNORMAL_TERMINATION_IN_LNSRCH.')]\n",
      "Trying again with a new set of initial conditions.\n",
      "  warnings.warn(first_warn_msg, RuntimeWarning)\n",
      "/home/awa/miniconda3/envs/awa-badger/lib/python3.9/site-packages/botorch/optim/optimize.py:390: RuntimeWarning: Optimization failed on the second try, after generating a new set of initial conditions.\n",
      "  warnings.warn(\n"
     ]
    },
    {
     "name": "stdout",
     "output_type": "stream",
     "text": [
      "8.279902696609497\n",
      "187\n",
      "14.006498098373413\n",
      "188\n",
      "13.480807065963745\n",
      "189\n"
     ]
    },
    {
     "name": "stderr",
     "output_type": "stream",
     "text": [
      "/home/awa/miniconda3/envs/awa-badger/lib/python3.9/site-packages/botorch/optim/optimize.py:366: RuntimeWarning: Optimization failed in `gen_candidates_scipy` with the following warning(s):\n",
      "[OptimizationWarning('Optimization failed within `scipy.optimize.minimize` with status 2 and message ABNORMAL_TERMINATION_IN_LNSRCH.')]\n",
      "Trying again with a new set of initial conditions.\n",
      "  warnings.warn(first_warn_msg, RuntimeWarning)\n"
     ]
    },
    {
     "name": "stdout",
     "output_type": "stream",
     "text": [
      "13.930267572402954\n",
      "190\n",
      "17.095357656478882\n",
      "191\n"
     ]
    },
    {
     "name": "stderr",
     "output_type": "stream",
     "text": [
      "/home/awa/miniconda3/envs/awa-badger/lib/python3.9/site-packages/botorch/optim/optimize.py:366: RuntimeWarning: Optimization failed in `gen_candidates_scipy` with the following warning(s):\n",
      "[OptimizationWarning('Optimization failed within `scipy.optimize.minimize` with status 2 and message ABNORMAL_TERMINATION_IN_LNSRCH.')]\n",
      "Trying again with a new set of initial conditions.\n",
      "  warnings.warn(first_warn_msg, RuntimeWarning)\n"
     ]
    },
    {
     "name": "stdout",
     "output_type": "stream",
     "text": [
      "12.732075214385986\n",
      "192\n"
     ]
    },
    {
     "name": "stderr",
     "output_type": "stream",
     "text": [
      "/home/awa/miniconda3/envs/awa-badger/lib/python3.9/site-packages/botorch/optim/optimize.py:366: RuntimeWarning: Optimization failed in `gen_candidates_scipy` with the following warning(s):\n",
      "[OptimizationWarning('Optimization failed within `scipy.optimize.minimize` with status 2 and message ABNORMAL_TERMINATION_IN_LNSRCH.')]\n",
      "Trying again with a new set of initial conditions.\n",
      "  warnings.warn(first_warn_msg, RuntimeWarning)\n"
     ]
    },
    {
     "name": "stdout",
     "output_type": "stream",
     "text": [
      "12.548951387405396\n",
      "193\n",
      "17.4811372756958\n",
      "194\n",
      "12.497928380966187\n",
      "195\n"
     ]
    },
    {
     "name": "stderr",
     "output_type": "stream",
     "text": [
      "/home/awa/miniconda3/envs/awa-badger/lib/python3.9/site-packages/botorch/optim/optimize.py:366: RuntimeWarning: Optimization failed in `gen_candidates_scipy` with the following warning(s):\n",
      "[OptimizationWarning('Optimization failed within `scipy.optimize.minimize` with status 2 and message ABNORMAL_TERMINATION_IN_LNSRCH.')]\n",
      "Trying again with a new set of initial conditions.\n",
      "  warnings.warn(first_warn_msg, RuntimeWarning)\n"
     ]
    },
    {
     "name": "stdout",
     "output_type": "stream",
     "text": [
      "11.591213941574097\n",
      "196\n",
      "14.958382368087769\n",
      "197\n"
     ]
    },
    {
     "name": "stderr",
     "output_type": "stream",
     "text": [
      "/home/awa/awa-badger/plugins/environments/awa_environment.py:269: RuntimeWarning: invalid value encountered in scalar divide\n",
      "  Cx = m10 / m00\n",
      "/home/awa/awa-badger/plugins/environments/awa_environment.py:270: RuntimeWarning: invalid value encountered in scalar divide\n",
      "  Cy = m01 / m00\n"
     ]
    },
    {
     "name": "stdout",
     "output_type": "stream",
     "text": [
      "14.731589794158936\n",
      "198\n",
      "13.493936777114868\n",
      "199\n",
      "12.755314350128174\n"
     ]
    }
   ],
   "source": [
    "# run exploration\n",
    "n_steps = 200\n",
    "X.generator.numerical_optimizer.max_iter = 50\n",
    "for i in range(n_steps):\n",
    "    print(i)\n",
    "    start = time.time()\n",
    "    X.step()\n",
    "    print(time.time() - start)\n",
    "    "
   ]
  },
  {
   "cell_type": "code",
   "execution_count": 29,
   "id": "1b4c30c9",
   "metadata": {},
   "outputs": [
    {
     "data": {
      "text/html": [
       "<div>\n",
       "<style scoped>\n",
       "    .dataframe tbody tr th:only-of-type {\n",
       "        vertical-align: middle;\n",
       "    }\n",
       "\n",
       "    .dataframe tbody tr th {\n",
       "        vertical-align: top;\n",
       "    }\n",
       "\n",
       "    .dataframe thead th {\n",
       "        text-align: right;\n",
       "    }\n",
       "</style>\n",
       "<table border=\"1\" class=\"dataframe\">\n",
       "  <thead>\n",
       "    <tr style=\"text-align: right;\">\n",
       "      <th></th>\n",
       "      <th>AWA:Bira3Ctrl:Ch03</th>\n",
       "      <th>AWA:Bira3Ctrl:Ch04</th>\n",
       "      <th>AWA:Bira3Ctrl:Ch05</th>\n",
       "      <th>AWA:Bira3Ctrl:Ch06</th>\n",
       "      <th>AWA:DAC0:Ch08</th>\n",
       "      <th>AWA:Drive:DS1:Ctrl</th>\n",
       "      <th>AWA:Drive:DS3:Ctrl</th>\n",
       "      <th>AWALLRF:K1:SetPhase</th>\n",
       "      <th>13ARV1:image1:ArraySize1_RBV</th>\n",
       "      <th>AWAVXI11ICT:Ch1</th>\n",
       "      <th>...</th>\n",
       "      <th>13ARV1:Cx_std</th>\n",
       "      <th>13ARV1:Cy_std</th>\n",
       "      <th>13ARV1:Sx_std</th>\n",
       "      <th>13ARV1:Sy_std</th>\n",
       "      <th>13ARV1:penalty_std</th>\n",
       "      <th>xopt_runtime</th>\n",
       "      <th>xopt_error</th>\n",
       "      <th>grad</th>\n",
       "      <th>int_grad</th>\n",
       "      <th>sx_m</th>\n",
       "    </tr>\n",
       "  </thead>\n",
       "  <tbody>\n",
       "    <tr>\n",
       "      <th>1</th>\n",
       "      <td>0.000000</td>\n",
       "      <td>0.000000</td>\n",
       "      <td>0.000000</td>\n",
       "      <td>0.000000</td>\n",
       "      <td>5.900000</td>\n",
       "      <td>550.000000</td>\n",
       "      <td>190.000000</td>\n",
       "      <td>246.000000</td>\n",
       "      <td>1200.0</td>\n",
       "      <td>9.836608e-10</td>\n",
       "      <td>...</td>\n",
       "      <td>0.862996</td>\n",
       "      <td>1.026170</td>\n",
       "      <td>2.103994</td>\n",
       "      <td>1.024185</td>\n",
       "      <td>5.255729e+00</td>\n",
       "      <td>6.342549</td>\n",
       "      <td>False</td>\n",
       "      <td>0.000000</td>\n",
       "      <td>0.000000</td>\n",
       "      <td>0.002073</td>\n",
       "    </tr>\n",
       "    <tr>\n",
       "      <th>2</th>\n",
       "      <td>0.100000</td>\n",
       "      <td>0.100000</td>\n",
       "      <td>0.100000</td>\n",
       "      <td>0.100000</td>\n",
       "      <td>5.800000</td>\n",
       "      <td>540.000000</td>\n",
       "      <td>185.000000</td>\n",
       "      <td>245.000000</td>\n",
       "      <td>1200.0</td>\n",
       "      <td>1.017629e-09</td>\n",
       "      <td>...</td>\n",
       "      <td>2.261913</td>\n",
       "      <td>0.326947</td>\n",
       "      <td>4.029648</td>\n",
       "      <td>0.202594</td>\n",
       "      <td>7.496036e+00</td>\n",
       "      <td>6.431805</td>\n",
       "      <td>False</td>\n",
       "      <td>0.089300</td>\n",
       "      <td>0.107160</td>\n",
       "      <td>0.004247</td>\n",
       "    </tr>\n",
       "    <tr>\n",
       "      <th>3</th>\n",
       "      <td>0.554108</td>\n",
       "      <td>0.554108</td>\n",
       "      <td>-0.454108</td>\n",
       "      <td>0.554108</td>\n",
       "      <td>5.779836</td>\n",
       "      <td>547.391843</td>\n",
       "      <td>183.484956</td>\n",
       "      <td>246.505424</td>\n",
       "      <td>1200.0</td>\n",
       "      <td>1.031181e-09</td>\n",
       "      <td>...</td>\n",
       "      <td>NaN</td>\n",
       "      <td>NaN</td>\n",
       "      <td>NaN</td>\n",
       "      <td>NaN</td>\n",
       "      <td>6.355287e-14</td>\n",
       "      <td>6.926599</td>\n",
       "      <td>False</td>\n",
       "      <td>0.494818</td>\n",
       "      <td>0.593782</td>\n",
       "      <td>NaN</td>\n",
       "    </tr>\n",
       "    <tr>\n",
       "      <th>4</th>\n",
       "      <td>-0.454108</td>\n",
       "      <td>0.554108</td>\n",
       "      <td>0.554108</td>\n",
       "      <td>-0.454108</td>\n",
       "      <td>5.900000</td>\n",
       "      <td>543.578181</td>\n",
       "      <td>191.515044</td>\n",
       "      <td>244.494576</td>\n",
       "      <td>1200.0</td>\n",
       "      <td>1.025616e-09</td>\n",
       "      <td>...</td>\n",
       "      <td>1.241388</td>\n",
       "      <td>0.575224</td>\n",
       "      <td>1.877709</td>\n",
       "      <td>0.235569</td>\n",
       "      <td>3.932545e+00</td>\n",
       "      <td>5.899030</td>\n",
       "      <td>False</td>\n",
       "      <td>0.494818</td>\n",
       "      <td>0.593782</td>\n",
       "      <td>0.002808</td>\n",
       "    </tr>\n",
       "    <tr>\n",
       "      <th>5</th>\n",
       "      <td>-0.634028</td>\n",
       "      <td>-0.304150</td>\n",
       "      <td>-0.304150</td>\n",
       "      <td>-0.634028</td>\n",
       "      <td>5.799608</td>\n",
       "      <td>543.772161</td>\n",
       "      <td>192.747269</td>\n",
       "      <td>244.106779</td>\n",
       "      <td>1200.0</td>\n",
       "      <td>9.781675e-10</td>\n",
       "      <td>...</td>\n",
       "      <td>NaN</td>\n",
       "      <td>NaN</td>\n",
       "      <td>NaN</td>\n",
       "      <td>NaN</td>\n",
       "      <td>6.355287e-14</td>\n",
       "      <td>5.897739</td>\n",
       "      <td>False</td>\n",
       "      <td>NaN</td>\n",
       "      <td>NaN</td>\n",
       "      <td>NaN</td>\n",
       "    </tr>\n",
       "    <tr>\n",
       "      <th>...</th>\n",
       "      <td>...</td>\n",
       "      <td>...</td>\n",
       "      <td>...</td>\n",
       "      <td>...</td>\n",
       "      <td>...</td>\n",
       "      <td>...</td>\n",
       "      <td>...</td>\n",
       "      <td>...</td>\n",
       "      <td>...</td>\n",
       "      <td>...</td>\n",
       "      <td>...</td>\n",
       "      <td>...</td>\n",
       "      <td>...</td>\n",
       "      <td>...</td>\n",
       "      <td>...</td>\n",
       "      <td>...</td>\n",
       "      <td>...</td>\n",
       "      <td>...</td>\n",
       "      <td>...</td>\n",
       "      <td>...</td>\n",
       "      <td>...</td>\n",
       "    </tr>\n",
       "    <tr>\n",
       "      <th>223</th>\n",
       "      <td>0.961148</td>\n",
       "      <td>-3.473108</td>\n",
       "      <td>4.617575</td>\n",
       "      <td>-1.649020</td>\n",
       "      <td>4.560838</td>\n",
       "      <td>502.989245</td>\n",
       "      <td>226.712713</td>\n",
       "      <td>252.904178</td>\n",
       "      <td>1200.0</td>\n",
       "      <td>9.377265e-10</td>\n",
       "      <td>...</td>\n",
       "      <td>0.482180</td>\n",
       "      <td>1.779636</td>\n",
       "      <td>0.092763</td>\n",
       "      <td>0.245129</td>\n",
       "      <td>1.982193e+00</td>\n",
       "      <td>5.928160</td>\n",
       "      <td>False</td>\n",
       "      <td>NaN</td>\n",
       "      <td>NaN</td>\n",
       "      <td>NaN</td>\n",
       "    </tr>\n",
       "    <tr>\n",
       "      <th>224</th>\n",
       "      <td>2.621665</td>\n",
       "      <td>-2.206433</td>\n",
       "      <td>2.961309</td>\n",
       "      <td>-1.894091</td>\n",
       "      <td>5.047365</td>\n",
       "      <td>500.333185</td>\n",
       "      <td>224.505731</td>\n",
       "      <td>249.203681</td>\n",
       "      <td>1200.0</td>\n",
       "      <td>9.463246e-10</td>\n",
       "      <td>...</td>\n",
       "      <td>2.596290</td>\n",
       "      <td>3.943310</td>\n",
       "      <td>1.206970</td>\n",
       "      <td>0.609666</td>\n",
       "      <td>5.788575e+00</td>\n",
       "      <td>7.046226</td>\n",
       "      <td>False</td>\n",
       "      <td>NaN</td>\n",
       "      <td>NaN</td>\n",
       "      <td>NaN</td>\n",
       "    </tr>\n",
       "    <tr>\n",
       "      <th>225</th>\n",
       "      <td>-0.842684</td>\n",
       "      <td>-2.178655</td>\n",
       "      <td>3.422653</td>\n",
       "      <td>-2.826529</td>\n",
       "      <td>5.639730</td>\n",
       "      <td>530.633540</td>\n",
       "      <td>180.641563</td>\n",
       "      <td>239.299616</td>\n",
       "      <td>1200.0</td>\n",
       "      <td>9.732056e-10</td>\n",
       "      <td>...</td>\n",
       "      <td>NaN</td>\n",
       "      <td>NaN</td>\n",
       "      <td>NaN</td>\n",
       "      <td>NaN</td>\n",
       "      <td>6.355287e-14</td>\n",
       "      <td>7.375389</td>\n",
       "      <td>False</td>\n",
       "      <td>NaN</td>\n",
       "      <td>NaN</td>\n",
       "      <td>NaN</td>\n",
       "    </tr>\n",
       "    <tr>\n",
       "      <th>226</th>\n",
       "      <td>-1.232438</td>\n",
       "      <td>-0.402926</td>\n",
       "      <td>4.047199</td>\n",
       "      <td>-3.559788</td>\n",
       "      <td>4.807675</td>\n",
       "      <td>520.510684</td>\n",
       "      <td>242.345318</td>\n",
       "      <td>252.755239</td>\n",
       "      <td>1200.0</td>\n",
       "      <td>9.793861e-10</td>\n",
       "      <td>...</td>\n",
       "      <td>2.538849</td>\n",
       "      <td>0.676201</td>\n",
       "      <td>0.393933</td>\n",
       "      <td>0.096650</td>\n",
       "      <td>2.511243e+00</td>\n",
       "      <td>7.377628</td>\n",
       "      <td>False</td>\n",
       "      <td>NaN</td>\n",
       "      <td>NaN</td>\n",
       "      <td>NaN</td>\n",
       "    </tr>\n",
       "    <tr>\n",
       "      <th>227</th>\n",
       "      <td>0.047266</td>\n",
       "      <td>-1.342635</td>\n",
       "      <td>3.667159</td>\n",
       "      <td>-0.992785</td>\n",
       "      <td>4.712261</td>\n",
       "      <td>506.891912</td>\n",
       "      <td>236.934767</td>\n",
       "      <td>242.970479</td>\n",
       "      <td>1200.0</td>\n",
       "      <td>9.712848e-10</td>\n",
       "      <td>...</td>\n",
       "      <td>3.252533</td>\n",
       "      <td>1.220282</td>\n",
       "      <td>0.781766</td>\n",
       "      <td>0.131344</td>\n",
       "      <td>2.114953e+00</td>\n",
       "      <td>6.827556</td>\n",
       "      <td>False</td>\n",
       "      <td>NaN</td>\n",
       "      <td>NaN</td>\n",
       "      <td>NaN</td>\n",
       "    </tr>\n",
       "  </tbody>\n",
       "</table>\n",
       "<p>227 rows × 29 columns</p>\n",
       "</div>"
      ],
      "text/plain": [
       "     AWA:Bira3Ctrl:Ch03  AWA:Bira3Ctrl:Ch04  AWA:Bira3Ctrl:Ch05   \n",
       "1              0.000000            0.000000            0.000000  \\\n",
       "2              0.100000            0.100000            0.100000   \n",
       "3              0.554108            0.554108           -0.454108   \n",
       "4             -0.454108            0.554108            0.554108   \n",
       "5             -0.634028           -0.304150           -0.304150   \n",
       "..                  ...                 ...                 ...   \n",
       "223            0.961148           -3.473108            4.617575   \n",
       "224            2.621665           -2.206433            2.961309   \n",
       "225           -0.842684           -2.178655            3.422653   \n",
       "226           -1.232438           -0.402926            4.047199   \n",
       "227            0.047266           -1.342635            3.667159   \n",
       "\n",
       "     AWA:Bira3Ctrl:Ch06  AWA:DAC0:Ch08  AWA:Drive:DS1:Ctrl   \n",
       "1              0.000000       5.900000          550.000000  \\\n",
       "2              0.100000       5.800000          540.000000   \n",
       "3              0.554108       5.779836          547.391843   \n",
       "4             -0.454108       5.900000          543.578181   \n",
       "5             -0.634028       5.799608          543.772161   \n",
       "..                  ...            ...                 ...   \n",
       "223           -1.649020       4.560838          502.989245   \n",
       "224           -1.894091       5.047365          500.333185   \n",
       "225           -2.826529       5.639730          530.633540   \n",
       "226           -3.559788       4.807675          520.510684   \n",
       "227           -0.992785       4.712261          506.891912   \n",
       "\n",
       "     AWA:Drive:DS3:Ctrl  AWALLRF:K1:SetPhase  13ARV1:image1:ArraySize1_RBV   \n",
       "1            190.000000           246.000000                        1200.0  \\\n",
       "2            185.000000           245.000000                        1200.0   \n",
       "3            183.484956           246.505424                        1200.0   \n",
       "4            191.515044           244.494576                        1200.0   \n",
       "5            192.747269           244.106779                        1200.0   \n",
       "..                  ...                  ...                           ...   \n",
       "223          226.712713           252.904178                        1200.0   \n",
       "224          224.505731           249.203681                        1200.0   \n",
       "225          180.641563           239.299616                        1200.0   \n",
       "226          242.345318           252.755239                        1200.0   \n",
       "227          236.934767           242.970479                        1200.0   \n",
       "\n",
       "     AWAVXI11ICT:Ch1  ...  13ARV1:Cx_std  13ARV1:Cy_std  13ARV1:Sx_std   \n",
       "1       9.836608e-10  ...       0.862996       1.026170       2.103994  \\\n",
       "2       1.017629e-09  ...       2.261913       0.326947       4.029648   \n",
       "3       1.031181e-09  ...            NaN            NaN            NaN   \n",
       "4       1.025616e-09  ...       1.241388       0.575224       1.877709   \n",
       "5       9.781675e-10  ...            NaN            NaN            NaN   \n",
       "..               ...  ...            ...            ...            ...   \n",
       "223     9.377265e-10  ...       0.482180       1.779636       0.092763   \n",
       "224     9.463246e-10  ...       2.596290       3.943310       1.206970   \n",
       "225     9.732056e-10  ...            NaN            NaN            NaN   \n",
       "226     9.793861e-10  ...       2.538849       0.676201       0.393933   \n",
       "227     9.712848e-10  ...       3.252533       1.220282       0.781766   \n",
       "\n",
       "     13ARV1:Sy_std  13ARV1:penalty_std  xopt_runtime  xopt_error      grad   \n",
       "1         1.024185        5.255729e+00      6.342549       False  0.000000  \\\n",
       "2         0.202594        7.496036e+00      6.431805       False  0.089300   \n",
       "3              NaN        6.355287e-14      6.926599       False  0.494818   \n",
       "4         0.235569        3.932545e+00      5.899030       False  0.494818   \n",
       "5              NaN        6.355287e-14      5.897739       False       NaN   \n",
       "..             ...                 ...           ...         ...       ...   \n",
       "223       0.245129        1.982193e+00      5.928160       False       NaN   \n",
       "224       0.609666        5.788575e+00      7.046226       False       NaN   \n",
       "225            NaN        6.355287e-14      7.375389       False       NaN   \n",
       "226       0.096650        2.511243e+00      7.377628       False       NaN   \n",
       "227       0.131344        2.114953e+00      6.827556       False       NaN   \n",
       "\n",
       "     int_grad      sx_m  \n",
       "1    0.000000  0.002073  \n",
       "2    0.107160  0.004247  \n",
       "3    0.593782       NaN  \n",
       "4    0.593782  0.002808  \n",
       "5         NaN       NaN  \n",
       "..        ...       ...  \n",
       "223       NaN       NaN  \n",
       "224       NaN       NaN  \n",
       "225       NaN       NaN  \n",
       "226       NaN       NaN  \n",
       "227       NaN       NaN  \n",
       "\n",
       "[227 rows x 29 columns]"
      ]
     },
     "execution_count": 29,
     "metadata": {},
     "output_type": "execute_result"
    }
   ],
   "source": [
    "X.data"
   ]
  },
  {
   "cell_type": "code",
   "execution_count": 30,
   "id": "b44759a9",
   "metadata": {},
   "outputs": [
    {
     "data": {
      "text/plain": [
       "<Axes: >"
      ]
     },
     "execution_count": 30,
     "metadata": {},
     "output_type": "execute_result"
    },
    {
     "data": {
      "image/png": "[encoded data removed]",
      "text/plain": [
       "<Figure size 640x480 with 1 Axes>"
      ]
     },
     "metadata": {},
     "output_type": "display_data"
    }
   ],
   "source": [
    "X.data.plot(y=X.vocs.variable_names[:4])"
   ]
  },
  {
   "cell_type": "code",
   "execution_count": 32,
   "id": "1e176627",
   "metadata": {},
   "outputs": [
    {
     "data": {
      "text/plain": [
       "<Axes: >"
      ]
     },
     "execution_count": 32,
     "metadata": {},
     "output_type": "execute_result"
    },
    {
     "data": {
      "image/png": "[encoded data removed]",
      "text/plain": [
       "<Figure size 640x480 with 1 Axes>"
      ]
     },
     "metadata": {},
     "output_type": "display_data"
    }
   ],
   "source": [
    "X.data.plot(y=X.vocs.variable_names[4])"
   ]
  },
  {
   "cell_type": "code",
   "execution_count": 14,
   "id": "be42405a",
   "metadata": {},
   "outputs": [
    {
     "data": {
      "image/png": "[encoded data removed]",
      "text/plain": [
       "<Figure size 600x600 with 2 Axes>"
      ]
     },
     "metadata": {},
     "output_type": "display_data"
    }
   ],
   "source": [
    "import torch\n",
    "import matplotlib.pyplot as plt\n",
    "test_x = torch.linspace(-2,2, 100)\n",
    "model = X.generator.train_model()\n",
    "\n",
    "fig,ax = plt.subplots(2,1, sharex=\"all\")\n",
    "fig.set_size_inches(6,6)\n",
    "with torch.no_grad():\n",
    "    post = model.posterior(test_x.reshape(-1,1,1).double())\n",
    "    for i in range(post.event_shape[-1]):\n",
    "        mean = post.mean[...,i].squeeze()\n",
    "        l,u = post.mvn.confidence_region()\n",
    "        ax[0].plot(test_x, mean,f\"C{i}\", label=generator.vocs.output_names[i])\n",
    "        ax[0].fill_between(test_x, l[...,i].squeeze(), u[...,i].squeeze(), alpha=0.5)\n",
    "\n",
    "\n",
    "    acq = generator.get_acquisition(model)(test_x.reshape(-1,1,1).double())\n",
    "\n",
    "    ax[1].plot(test_x, acq, label='Acquisition Function')\n",
    "    ax[1].legend()"
   ]
  },
  {
   "cell_type": "code",
   "execution_count": 15,
   "id": "34de9b45",
   "metadata": {
    "scrolled": false
   },
   "outputs": [
    {
     "data": {
      "text/html": [
       "<div>\n",
       "<style scoped>\n",
       "    .dataframe tbody tr th:only-of-type {\n",
       "        vertical-align: middle;\n",
       "    }\n",
       "\n",
       "    .dataframe tbody tr th {\n",
       "        vertical-align: top;\n",
       "    }\n",
       "\n",
       "    .dataframe thead th {\n",
       "        text-align: right;\n",
       "    }\n",
       "</style>\n",
       "<table border=\"1\" class=\"dataframe\">\n",
       "  <thead>\n",
       "    <tr style=\"text-align: right;\">\n",
       "      <th></th>\n",
       "      <th>AWA:Bira3Ctrl:Ch03</th>\n",
       "      <th>AWA:Bira3Ctrl:Ch04</th>\n",
       "      <th>AWA:Bira3Ctrl:Ch05</th>\n",
       "      <th>AWA:Bira3Ctrl:Ch06</th>\n",
       "      <th>AWA:DAC0:Ch08</th>\n",
       "      <th>AWA:Drive:DS1:Ctrl</th>\n",
       "      <th>AWA:Drive:DS3:Ctrl</th>\n",
       "      <th>AWALLRF:K1:SetPhase</th>\n",
       "      <th>13ARV1:image1:ArraySize1_RBV</th>\n",
       "      <th>AWAVXI11ICT:Ch1</th>\n",
       "      <th>...</th>\n",
       "      <th>13ARV1:Cx_std</th>\n",
       "      <th>13ARV1:Cy_std</th>\n",
       "      <th>13ARV1:Sx_std</th>\n",
       "      <th>13ARV1:Sy_std</th>\n",
       "      <th>13ARV1:penalty_std</th>\n",
       "      <th>xopt_runtime</th>\n",
       "      <th>xopt_error</th>\n",
       "      <th>grad</th>\n",
       "      <th>int_grad</th>\n",
       "      <th>sx_m</th>\n",
       "    </tr>\n",
       "  </thead>\n",
       "  <tbody>\n",
       "    <tr>\n",
       "      <th>1</th>\n",
       "      <td>0.000000</td>\n",
       "      <td>0.000000</td>\n",
       "      <td>0.000000</td>\n",
       "      <td>0.000000</td>\n",
       "      <td>5.900000</td>\n",
       "      <td>550.000000</td>\n",
       "      <td>190.000000</td>\n",
       "      <td>246.000000</td>\n",
       "      <td>1200.0</td>\n",
       "      <td>9.836608e-10</td>\n",
       "      <td>...</td>\n",
       "      <td>0.862996</td>\n",
       "      <td>1.026170</td>\n",
       "      <td>2.103994</td>\n",
       "      <td>1.024185</td>\n",
       "      <td>5.255729e+00</td>\n",
       "      <td>6.342549</td>\n",
       "      <td>False</td>\n",
       "      <td>0.000000</td>\n",
       "      <td>0.000000</td>\n",
       "      <td>0.002073</td>\n",
       "    </tr>\n",
       "    <tr>\n",
       "      <th>2</th>\n",
       "      <td>0.100000</td>\n",
       "      <td>0.100000</td>\n",
       "      <td>0.100000</td>\n",
       "      <td>0.100000</td>\n",
       "      <td>5.800000</td>\n",
       "      <td>540.000000</td>\n",
       "      <td>185.000000</td>\n",
       "      <td>245.000000</td>\n",
       "      <td>1200.0</td>\n",
       "      <td>1.017629e-09</td>\n",
       "      <td>...</td>\n",
       "      <td>2.261913</td>\n",
       "      <td>0.326947</td>\n",
       "      <td>4.029648</td>\n",
       "      <td>0.202594</td>\n",
       "      <td>7.496036e+00</td>\n",
       "      <td>6.431805</td>\n",
       "      <td>False</td>\n",
       "      <td>0.089300</td>\n",
       "      <td>0.107160</td>\n",
       "      <td>0.004247</td>\n",
       "    </tr>\n",
       "    <tr>\n",
       "      <th>3</th>\n",
       "      <td>0.554108</td>\n",
       "      <td>0.554108</td>\n",
       "      <td>-0.454108</td>\n",
       "      <td>0.554108</td>\n",
       "      <td>5.779836</td>\n",
       "      <td>547.391843</td>\n",
       "      <td>183.484956</td>\n",
       "      <td>246.505424</td>\n",
       "      <td>1200.0</td>\n",
       "      <td>1.031181e-09</td>\n",
       "      <td>...</td>\n",
       "      <td>NaN</td>\n",
       "      <td>NaN</td>\n",
       "      <td>NaN</td>\n",
       "      <td>NaN</td>\n",
       "      <td>6.355287e-14</td>\n",
       "      <td>6.926599</td>\n",
       "      <td>False</td>\n",
       "      <td>0.494818</td>\n",
       "      <td>0.593782</td>\n",
       "      <td>NaN</td>\n",
       "    </tr>\n",
       "    <tr>\n",
       "      <th>4</th>\n",
       "      <td>-0.454108</td>\n",
       "      <td>0.554108</td>\n",
       "      <td>0.554108</td>\n",
       "      <td>-0.454108</td>\n",
       "      <td>5.900000</td>\n",
       "      <td>543.578181</td>\n",
       "      <td>191.515044</td>\n",
       "      <td>244.494576</td>\n",
       "      <td>1200.0</td>\n",
       "      <td>1.025616e-09</td>\n",
       "      <td>...</td>\n",
       "      <td>1.241388</td>\n",
       "      <td>0.575224</td>\n",
       "      <td>1.877709</td>\n",
       "      <td>0.235569</td>\n",
       "      <td>3.932545e+00</td>\n",
       "      <td>5.899030</td>\n",
       "      <td>False</td>\n",
       "      <td>0.494818</td>\n",
       "      <td>0.593782</td>\n",
       "      <td>0.002808</td>\n",
       "    </tr>\n",
       "  </tbody>\n",
       "</table>\n",
       "<p>4 rows × 29 columns</p>\n",
       "</div>"
      ],
      "text/plain": [
       "   AWA:Bira3Ctrl:Ch03  AWA:Bira3Ctrl:Ch04  AWA:Bira3Ctrl:Ch05   \n",
       "1            0.000000            0.000000            0.000000  \\\n",
       "2            0.100000            0.100000            0.100000   \n",
       "3            0.554108            0.554108           -0.454108   \n",
       "4           -0.454108            0.554108            0.554108   \n",
       "\n",
       "   AWA:Bira3Ctrl:Ch06  AWA:DAC0:Ch08  AWA:Drive:DS1:Ctrl  AWA:Drive:DS3:Ctrl   \n",
       "1            0.000000       5.900000          550.000000          190.000000  \\\n",
       "2            0.100000       5.800000          540.000000          185.000000   \n",
       "3            0.554108       5.779836          547.391843          183.484956   \n",
       "4           -0.454108       5.900000          543.578181          191.515044   \n",
       "\n",
       "   AWALLRF:K1:SetPhase  13ARV1:image1:ArraySize1_RBV  AWAVXI11ICT:Ch1  ...   \n",
       "1           246.000000                        1200.0     9.836608e-10  ...  \\\n",
       "2           245.000000                        1200.0     1.017629e-09  ...   \n",
       "3           246.505424                        1200.0     1.031181e-09  ...   \n",
       "4           244.494576                        1200.0     1.025616e-09  ...   \n",
       "\n",
       "   13ARV1:Cx_std  13ARV1:Cy_std  13ARV1:Sx_std  13ARV1:Sy_std   \n",
       "1       0.862996       1.026170       2.103994       1.024185  \\\n",
       "2       2.261913       0.326947       4.029648       0.202594   \n",
       "3            NaN            NaN            NaN            NaN   \n",
       "4       1.241388       0.575224       1.877709       0.235569   \n",
       "\n",
       "   13ARV1:penalty_std  xopt_runtime  xopt_error      grad  int_grad      sx_m  \n",
       "1        5.255729e+00      6.342549       False  0.000000  0.000000  0.002073  \n",
       "2        7.496036e+00      6.431805       False  0.089300  0.107160  0.004247  \n",
       "3        6.355287e-14      6.926599       False  0.494818  0.593782       NaN  \n",
       "4        3.932545e+00      5.899030       False  0.494818  0.593782  0.002808  \n",
       "\n",
       "[4 rows x 29 columns]"
      ]
     },
     "execution_count": 15,
     "metadata": {},
     "output_type": "execute_result"
    }
   ],
   "source": [
    "from emitopt.utils import get_valid_emittance_samples\n",
    "beam_energy = 45*10**-3 # GeV \n",
    "q_len = 0.12 # m\n",
    "distance = 1.33-0.265 #m\n",
    "\n",
    "data = X.data\n",
    "\n",
    "data[\"grad\"] = data[\"AWA:Bira3Ctrl:Ch04\"] * 100*8.93e-3\n",
    "data[\"int_grad\"] = data[\"grad\"]*q_len*10\n",
    "\n",
    "data[\"sx_m\"] = 3.9232781168265036e-05 * data[\"13ARV1:Sx\"]\n",
    "\n",
    "data\n"
   ]
  },
  {
   "cell_type": "code",
   "execution_count": 16,
   "id": "6f98521f",
   "metadata": {},
   "outputs": [
    {
     "name": "stdout",
     "output_type": "stream",
     "text": [
      "torch.Size([3, 1])\n",
      "torch.Size([3, 1])\n"
     ]
    },
    {
     "name": "stderr",
     "output_type": "stream",
     "text": [
      "/home/awa/miniconda3/envs/awa-badger/lib/python3.9/site-packages/linear_operator/utils/cholesky.py:40: NumericalWarning: A not p.d., added jitter of 1.0e-08 to the diagonal\n",
      "  warnings.warn(\n"
     ]
    },
    {
     "data": {
      "image/png": "[encoded data removed]",
      "text/plain": [
       "<Figure size 640x480 with 1 Axes>"
      ]
     },
     "metadata": {},
     "output_type": "display_data"
    }
   ],
   "source": [
    "from gpytorch.likelihoods import GaussianLikelihood\n",
    "from gpytorch.priors import GammaPrior\n",
    "from gpytorch.kernels import MaternKernel, PolynomialKernel, ScaleKernel\n",
    "from gpytorch import ExactMarginalLogLikelihood\n",
    "\n",
    "from botorch.models.gp_regression import SingleTaskGP\n",
    "from botorch.models.transforms import Normalize, Standardize\n",
    "from botorch.fit import fit_gpytorch_mll\n",
    "\n",
    "train_x = torch.tensor(data.dropna()[\"int_grad\"].to_numpy()).double().unsqueeze(1)\n",
    "train_y = torch.tensor(data.dropna()[\"sx_m\"].to_numpy()).double().unsqueeze(1)\n",
    "\n",
    "print(train_x.shape)\n",
    "print(train_y.shape)\n",
    "input_transform = Normalize(1)\n",
    "outcome_transform = Standardize(1)\n",
    "covar_module = ScaleKernel(PolynomialKernel(power=2))\n",
    "#covar_module = MaternKernel()\n",
    "\n",
    "model = SingleTaskGP(train_x, \n",
    "                     train_y, \n",
    "                     input_transform=input_transform,\n",
    "                     outcome_transform=outcome_transform, \n",
    "                     covar_module = covar_module\n",
    "                     )\n",
    "\n",
    "mll = ExactMarginalLogLikelihood(model.likelihood, model)\n",
    "fit_gpytorch_mll(mll)\n",
    "\n",
    "\n",
    "(emits_at_target_valid,\n",
    " emits_sq_at_target,\n",
    " is_valid,\n",
    " sample_validity_rate) = get_valid_emittance_samples(model, beam_energy,\n",
    "                                                     q_len,\n",
    "                                                     distance, n_samples=50, n_steps_quad_scan=10, visualize=True)"
   ]
  },
  {
   "cell_type": "code",
   "execution_count": 17,
   "id": "df74b6f3",
   "metadata": {},
   "outputs": [
    {
     "data": {
      "text/plain": [
       "Text(0, 0.5, 'Probability Density')"
      ]
     },
     "execution_count": 17,
     "metadata": {},
     "output_type": "execute_result"
    },
    {
     "data": {
      "image/png": "[encoded data removed]",
      "text/plain": [
       "<Figure size 640x480 with 1 Axes>"
      ]
     },
     "metadata": {},
     "output_type": "display_data"
    }
   ],
   "source": [
    "plt.hist(emits_at_target_valid.flatten()*90)\n",
    "plt.title('Distribution of Sampled Emittances')\n",
    "plt.xlabel('Emittance')\n",
    "plt.ylabel('Probability Density')"
   ]
  },
  {
   "cell_type": "code",
   "execution_count": null,
   "id": "c913a7ce",
   "metadata": {},
   "outputs": [],
   "source": []
  }
 ],
 "metadata": {
  "kernelspec": {
   "display_name": "Python 3 (ipykernel)",
   "language": "python",
   "name": "python3"
  },
  "language_info": {
   "codemirror_mode": {
    "name": "ipython",
    "version": 3
   },
   "file_extension": ".py",
   "mimetype": "text/x-python",
   "name": "python",
   "nbconvert_exporter": "python",
   "pygments_lexer": "ipython3",
   "version": "3.9.16"
  }
 },
 "nbformat": 4,
 "nbformat_minor": 5
}
