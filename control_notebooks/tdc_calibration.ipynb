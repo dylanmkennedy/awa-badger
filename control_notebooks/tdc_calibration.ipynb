{
 "cells": [
  {
   "cell_type": "markdown",
   "metadata": {},
   "source": [
    "# TDC Calibration"
   ]
  },
  {
   "cell_type": "markdown",
   "metadata": {
    "collapsed": false
   },
   "source": [
    "## define the diagnostic"
   ]
  },
  {
   "cell_type": "code",
   "execution_count": null,
   "outputs": [],
   "source": [
    "from plugins.interfaces.diagnostics import EPICSImageDiagnostic, ROI\n",
    "\n",
    "screen_name = \"13ARV1\"\n",
    "save_image_location = \"\"\n",
    "dyg14_roi = ROI(\n",
    "    ymin=280, ymax=1000, xmin=480, xmax=1150\n",
    ")\n",
    "charge_pvs = []\n",
    "\n",
    "image_diagnostic = EPICSImageDiagnostic(\n",
    "    screen_name=screen_name,\n",
    "    resolution_suffix=None,\n",
    "    roi=dyg14_roi,\n",
    "    extra_pvs=charge_pvs,\n",
    "    save_image_location=save_image_location\n",
    ")"
   ],
   "metadata": {
    "collapsed": false
   }
  },
  {
   "cell_type": "code",
   "execution_count": null,
   "outputs": [],
   "source": [
    "image_diagnostic.test_measurement()"
   ],
   "metadata": {
    "collapsed": false
   }
  },
  {
   "cell_type": "markdown",
   "metadata": {
    "collapsed": false
   },
   "source": [
    "### Define the evaluator"
   ]
  },
  {
   "cell_type": "code",
   "execution_count": 1,
   "metadata": {
    "ExecuteTime": {
     "end_time": "2023-11-13T20:36:51.014606900Z",
     "start_time": "2023-11-13T20:36:47.890463Z"
    },
    "collapsed": false
   },
   "outputs": [],
   "source": [
    "from epics import caput, caget\n",
    "from xopt import Evaluator\n",
    "import time\n",
    "import numpy as np\n",
    "\n",
    "def evaluate_function(inputs: dict) -> dict:\n",
    "    global image_diagnostic\n",
    "    # caput values\n",
    "    for name, val in inputs:\n",
    "        caput(name, val)\n",
    "\n",
    "    # wait for changes to occur - use small wait time for interpolated measurements\n",
    "    time.sleep(1)\n",
    "\n",
    "    results = image_diagnostic.measure_beamsize(5, **inputs)\n",
    "\n",
    "    # get other PV's NOTE: Measurements not synchronous with beamsize measurements!\n",
    "    results = results\n",
    "\n",
    "    # add total beam size\n",
    "    results[\"total_size\"] = np.sqrt(np.array(results[\"Sx\"]) ** 2 + np.array(results[\"Sy\"]) ** 2)\n",
    "    return results\n",
    "\n",
    "evaluator = Evaluator(function=evaluate_function)"
   ]
  },
  {
   "cell_type": "markdown",
   "metadata": {
    "collapsed": false
   },
   "source": [
    "### Define VOCS\n",
    "Here we define the names and ranges of input parameters, the names and settings of\n",
    "objectives, and the names and settings of constraints. Note that the keys here should\n",
    " be referenced in the evaluate function above."
   ]
  },
  {
   "cell_type": "code",
   "execution_count": 2,
   "metadata": {
    "ExecuteTime": {
     "end_time": "2023-11-13T20:36:51.029643600Z",
     "start_time": "2023-11-13T20:36:51.017607300Z"
    },
    "collapsed": false
   },
   "outputs": [],
   "source": [
    "from xopt import VOCS\n",
    "\n",
    "TDC_PHASE_PV = \"\"\n",
    "# define control PVs and ranges here\n",
    "vocs = VOCS(\n",
    "    variables = {\n",
    "        TDC_PHASE_PV: [0, 1], # Quad 4:9\n",
    "    },\n",
    "    objectives = {\"total_size\":\"MINIMIZE\"},\n",
    ")"
   ]
  },
  {
   "cell_type": "markdown",
   "metadata": {
    "collapsed": false
   },
   "source": [
    "### Define the Generator (NOT USED HERE)"
   ]
  },
  {
   "cell_type": "code",
   "execution_count": 3,
   "metadata": {
    "ExecuteTime": {
     "end_time": "2023-11-13T20:36:51.072643100Z",
     "start_time": "2023-11-13T20:36:51.032644900Z"
    },
    "collapsed": false
   },
   "outputs": [
    {
     "name": "stdout",
     "output_type": "stream",
     "text": [
      "\n",
      "    Random number generator.\n",
      "    \n"
     ]
    }
   ],
   "source": [
    "from xopt.generators import get_generator\n",
    "\n",
    "generator = get_generator(\"random\")(vocs=vocs)"
   ]
  },
  {
   "cell_type": "markdown",
   "metadata": {
    "collapsed": false
   },
   "source": [
    "###  Combine into Xopt object"
   ]
  },
  {
   "cell_type": "code",
   "execution_count": 10,
   "metadata": {
    "ExecuteTime": {
     "end_time": "2023-11-13T20:47:58.281918Z",
     "start_time": "2023-11-13T20:47:58.264919400Z"
    },
    "collapsed": false
   },
   "outputs": [],
   "source": [
    "from xopt import Xopt\n",
    "dump_filename = \"tdc_calibration.yml\"\n",
    "X = Xopt(vocs=vocs, generator=generator, evaluator=evaluator, dump_file=dump_filename)"
   ]
  },
  {
   "cell_type": "markdown",
   "metadata": {
    "collapsed": false
   },
   "source": [
    "## Introspection\n",
    "Objects in Xopt can be printed to a string or dumped to a text file for easy\n",
    "introspection of attributes and current configuration."
   ]
  },
  {
   "cell_type": "code",
   "execution_count": 11,
   "metadata": {
    "ExecuteTime": {
     "end_time": "2023-11-13T20:48:01.350099700Z",
     "start_time": "2023-11-13T20:48:01.342072Z"
    },
    "execution": {
     "iopub.execute_input": "2022-07-02T04:16:41.900325Z",
     "iopub.status.busy": "2022-07-02T04:16:41.900241Z",
     "iopub.status.idle": "2022-07-02T04:16:41.905569Z",
     "shell.execute_reply": "2022-07-02T04:16:41.905324Z"
    }
   },
   "outputs": [
    {
     "data": {
      "text/plain": [
       "\n",
       "            Xopt\n",
       "________________________________\n",
       "Version: 2.1.0+5.g375e990d\n",
       "Data size: 0\n",
       "Config as YAML:\n",
       "dump_file: my_data.yml\n",
       "evaluator:\n",
       "  function: __main__.evaluate_function\n",
       "  function_kwargs: {}\n",
       "  max_workers: 1\n",
       "  vectorized: false\n",
       "generator:\n",
       "  name: random\n",
       "  supports_batch_generation: true\n",
       "  supports_multi_objective: true\n",
       "max_evaluations: null\n",
       "serialize_inline: false\n",
       "serialize_torch: false\n",
       "strict: true\n",
       "vocs:\n",
       "  constants: {}\n",
       "  constraints: {}\n",
       "  objectives: {}\n",
       "  observables:\n",
       "  - my_pv\n",
       "  variables:\n",
       "    x1:\n",
       "    - 0.0\n",
       "    - 1.0\n",
       "    x2:\n",
       "    - 0.0\n",
       "    - 1.0\n",
       "    x3:\n",
       "    - 0.0\n",
       "    - 1.0\n"
      ]
     },
     "execution_count": 11,
     "metadata": {},
     "output_type": "execute_result"
    }
   ],
   "source": [
    "# Convenient representation of the state.\n",
    "X"
   ]
  },
  {
   "cell_type": "markdown",
   "metadata": {
    "collapsed": false
   },
   "source": [
    "### Do scan"
   ]
  },
  {
   "cell_type": "code",
   "execution_count": null,
   "metadata": {
    "collapsed": false
   },
   "outputs": [],
   "source": [
    "# examine the data stored in Xopt\n",
    "tdc_phase_values = np.linspace(0,1,10)\n",
    "X.evaluate_data({TDC_PHASE_PV: tdc_phase_values})"
   ]
  },
  {
   "cell_type": "code",
   "execution_count": null,
   "metadata": {
    "collapsed": false
   },
   "outputs": [],
   "source": [
    "# visualize result\n",
    "X.data.plot(y=\"CY\")"
   ]
  },
  {
   "cell_type": "markdown",
   "source": [
    "### Polynomial fit for TDC calibration"
   ],
   "metadata": {
    "collapsed": false
   }
  },
  {
   "cell_type": "code",
   "execution_count": null,
   "outputs": [],
   "source": [
    "# do a linear fit \n",
    "import numpy as np\n",
    "p = np.polyfit(X.data[TDC_PHASE_PV], X.data[\"CY\"], 1)\n",
    "p\n"
   ],
   "metadata": {
    "collapsed": false
   }
  }
 ],
 "metadata": {
  "interpreter": {
   "hash": "72034539424920dfb606fe3b820b3f27dca0cbf1c69938110810ec4641e275b1"
  },
  "kernelspec": {
   "display_name": "Python 3 (ipykernel)",
   "language": "python",
   "name": "python3"
  },
  "language_info": {
   "codemirror_mode": {
    "name": "ipython",
    "version": 3
   },
   "file_extension": ".py",
   "mimetype": "text/x-python",
   "name": "python",
   "nbconvert_exporter": "python",
   "pygments_lexer": "ipython3",
   "version": "3.9.18"
  }
 },
 "nbformat": 4,
 "nbformat_minor": 4
}
