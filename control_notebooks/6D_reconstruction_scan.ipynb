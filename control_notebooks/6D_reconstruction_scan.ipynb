{
 "cells": [
  {
   "cell_type": "markdown",
   "metadata": {},
   "source": [
    "# 6d reconstruction scan"
   ]
  },
  {
   "cell_type": "markdown",
   "source": [
    "## define the diagnostic"
   ],
   "metadata": {
    "collapsed": false
   }
  },
  {
   "cell_type": "code",
   "execution_count": null,
   "outputs": [],
   "source": [
    "import pandas as pd\n",
    "\n",
    "from plugins.interfaces.diagnostics import EPICSImageDiagnostic, ROI\n",
    "\n",
    "screen_name = \"13ARV1\"\n",
    "save_image_location = \"\"\n",
    "dyg14_roi = ROI(\n",
    "    xmin=0, xmax=100, ymin=0, ymax=100\n",
    ")\n",
    "dyg15_roi = ROI(\n",
    "    xmin=0, xmax=100, ymin=0, ymax=100\n",
    ")\n",
    "\n",
    "DYG14_IP = 1\n",
    "DYG15_IP = 2\n",
    "charge_pvs = []\n",
    "\n",
    "DYG14 = EPICSImageDiagnostic(\n",
    "    screen_name=screen_name,\n",
    "    resolution_suffix=None,\n",
    "    roi=dyg14_roi,\n",
    "    extra_pvs=charge_pvs,\n",
    "    save_image_location=save_image_location\n",
    ")\n",
    "\n",
    "DYG15 = EPICSImageDiagnostic(\n",
    "    screen_name=screen_name,\n",
    "    resolution_suffix=None,\n",
    "    roi=dyg15_roi,\n",
    "    extra_pvs=charge_pvs,\n",
    "    save_image_location=save_image_location\n",
    ")\n",
    "\n",
    "def set_camera(ip_address):\n",
    "    # stop the current camera\n",
    "    caput(\"13ARV1:cam1:Acquire\", 0)\n",
    "    # set the new camera IP address\n",
    "    caput(\"13ARV1:cam1:SetCameraIP\", ip_address)\n",
    "    # start the new camera\n",
    "    caput(\"13ARV1:cam1:Acquire\", 1)\n",
    "\n"
   ],
   "metadata": {
    "collapsed": false
   }
  },
  {
   "cell_type": "code",
   "execution_count": null,
   "outputs": [],
   "source": [
    "set_camera(DYG14_IP)\n",
    "DYG14.test_measurement()"
   ],
   "metadata": {
    "collapsed": false
   }
  },
  {
   "cell_type": "code",
   "execution_count": null,
   "outputs": [],
   "source": [
    "set_camera(DYG15_IP)\n",
    "DYG15.test_measurement()"
   ],
   "metadata": {
    "collapsed": false
   }
  },
  {
   "cell_type": "markdown",
   "source": [
    "### Define the evaluator"
   ],
   "metadata": {
    "collapsed": false
   }
  },
  {
   "cell_type": "code",
   "execution_count": 1,
   "outputs": [],
   "source": [
    "from epics import caput, caget\n",
    "from xopt import Evaluator\n",
    "import time\n",
    "import numpy as np\n",
    "\n",
    "def evaluate_function(inputs: dict, diagnostic) -> dict:\n",
    "    # caput values\n",
    "    for name, val in inputs:\n",
    "        caput(name, val)\n",
    "\n",
    "    # wait for changes to occur\n",
    "    time.sleep(2)\n",
    "\n",
    "    results = diagnostic.measure_beamsize(5, fit_image=False, **inputs)\n",
    "\n",
    "    return results\n",
    "\n",
    "evaluator = Evaluator(function=evaluate_function)"
   ],
   "metadata": {
    "collapsed": false,
    "ExecuteTime": {
     "end_time": "2023-11-13T20:36:51.014606900Z",
     "start_time": "2023-11-13T20:36:47.890463Z"
    }
   }
  },
  {
   "cell_type": "markdown",
   "source": [
    "### Set up scan"
   ],
   "metadata": {
    "collapsed": false
   }
  },
  {
   "cell_type": "code",
   "execution_count": 6,
   "outputs": [
    {
     "data": {
      "text/plain": "      x1   x2        x3\n0    0.0  0.0  0.000000\n1    0.0  0.0  0.111111\n2    0.0  0.0  0.222222\n3    0.0  0.0  0.333333\n4    0.0  0.0  0.444444\n..   ...  ...       ...\n995  1.0  1.0  0.555556\n996  1.0  1.0  0.666667\n997  1.0  1.0  0.777778\n998  1.0  1.0  0.888889\n999  1.0  1.0  1.000000\n\n[1000 rows x 3 columns]",
      "text/html": "<div>\n<style scoped>\n    .dataframe tbody tr th:only-of-type {\n        vertical-align: middle;\n    }\n\n    .dataframe tbody tr th {\n        vertical-align: top;\n    }\n\n    .dataframe thead th {\n        text-align: right;\n    }\n</style>\n<table border=\"1\" class=\"dataframe\">\n  <thead>\n    <tr style=\"text-align: right;\">\n      <th></th>\n      <th>x1</th>\n      <th>x2</th>\n      <th>x3</th>\n    </tr>\n  </thead>\n  <tbody>\n    <tr>\n      <th>0</th>\n      <td>0.0</td>\n      <td>0.0</td>\n      <td>0.000000</td>\n    </tr>\n    <tr>\n      <th>1</th>\n      <td>0.0</td>\n      <td>0.0</td>\n      <td>0.111111</td>\n    </tr>\n    <tr>\n      <th>2</th>\n      <td>0.0</td>\n      <td>0.0</td>\n      <td>0.222222</td>\n    </tr>\n    <tr>\n      <th>3</th>\n      <td>0.0</td>\n      <td>0.0</td>\n      <td>0.333333</td>\n    </tr>\n    <tr>\n      <th>4</th>\n      <td>0.0</td>\n      <td>0.0</td>\n      <td>0.444444</td>\n    </tr>\n    <tr>\n      <th>...</th>\n      <td>...</td>\n      <td>...</td>\n      <td>...</td>\n    </tr>\n    <tr>\n      <th>995</th>\n      <td>1.0</td>\n      <td>1.0</td>\n      <td>0.555556</td>\n    </tr>\n    <tr>\n      <th>996</th>\n      <td>1.0</td>\n      <td>1.0</td>\n      <td>0.666667</td>\n    </tr>\n    <tr>\n      <th>997</th>\n      <td>1.0</td>\n      <td>1.0</td>\n      <td>0.777778</td>\n    </tr>\n    <tr>\n      <th>998</th>\n      <td>1.0</td>\n      <td>1.0</td>\n      <td>0.888889</td>\n    </tr>\n    <tr>\n      <th>999</th>\n      <td>1.0</td>\n      <td>1.0</td>\n      <td>1.000000</td>\n    </tr>\n  </tbody>\n</table>\n<p>1000 rows × 3 columns</p>\n</div>"
     },
     "execution_count": 6,
     "metadata": {},
     "output_type": "execute_result"
    }
   ],
   "source": [
    "# quad strength pv values\n",
    "x = np.linspace(0,10,5)\n",
    "quad_pv_name = \"name\"\n",
    "tdc_pv_name = \"tdc_name\"\n",
    "dipole_pv_name = \"dipole_name\"\n",
    "tdc_vals = {\"OFF\":0, \"ON\":1} # off/on values\n",
    "dipole_vals = {\"OFF\":0, \"ON\":1} # off/on vals\n",
    "\n",
    "def do_quad_scan(k, pv_dict, diagnostic):\n",
    "    q_scan_data = []\n",
    "    for ele in k:\n",
    "        # add tcav/dipole settings to quad settings\n",
    "        total_pvs = pv_dict | {quad_pv_name:ele}\n",
    "\n",
    "        # do measurement\n",
    "        result = evaluate_function(total_pvs, diagnostic)\n",
    "        q_scan_data += [result]\n",
    "\n",
    "    return q_scan_data\n",
    "\n",
    "data = []\n",
    "\n",
    "# do quad scan with dipole off\n",
    "set_camera(DYG14_IP)\n",
    "for tdc_state in [\"OFF\",\"ON\"]:\n",
    "    q_scan_results = do_quad_scan(\n",
    "        x,\n",
    "        {tdc_pv_name: tdc_state, dipole_pv_name: dipole_vals[\"OFF\"]},\n",
    "        DYG14\n",
    "    )\n",
    "    data = data + q_scan_results\n",
    "\n",
    "# do quad scan with dipole on\n",
    "set_camera(DYG15_IP)\n",
    "for tdc_state in [\"OFF\",\"ON\"]:\n",
    "    q_scan_results = do_quad_scan(\n",
    "        x,\n",
    "        {tdc_pv_name: tdc_state, dipole_pv_name: dipole_vals[\"ON\"]},\n",
    "        DYG14\n",
    "    )\n",
    "    data = data + q_scan_results\n",
    "\n",
    "data = pd.DataFrame(data)\n",
    "\n"
   ],
   "metadata": {
    "collapsed": false,
    "ExecuteTime": {
     "end_time": "2023-11-13T20:36:51.132672100Z",
     "start_time": "2023-11-13T20:36:51.077647200Z"
    }
   }
  },
  {
   "cell_type": "code",
   "execution_count": null,
   "outputs": [],
   "source": [
    "import yaml\n",
    "\n",
    "# save dataframe to file\n",
    "with open('data.yml', 'w') as outfile:\n",
    "    yaml.dump(data.to_dict(orient=\"records\"), outfile, default_flow_style=False)"
   ],
   "metadata": {
    "collapsed": false
   }
  }
 ],
 "metadata": {
  "interpreter": {
   "hash": "72034539424920dfb606fe3b820b3f27dca0cbf1c69938110810ec4641e275b1"
  },
  "kernelspec": {
   "display_name": "Python 3.9.12 ('xopt-dev')",
   "language": "python",
   "name": "python3"
  },
  "language_info": {
   "codemirror_mode": {
    "name": "ipython",
    "version": 3
   },
   "file_extension": ".py",
   "mimetype": "text/x-python",
   "name": "python",
   "nbconvert_exporter": "python",
   "pygments_lexer": "ipython3",
   "version": "3.9.13"
  }
 },
 "nbformat": 4,
 "nbformat_minor": 4
}
