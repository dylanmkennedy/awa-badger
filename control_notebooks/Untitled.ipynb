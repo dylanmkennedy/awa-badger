{
 "cells": [
  {
   "cell_type": "code",
   "execution_count": 2,
   "id": "d128649e-49c9-4660-ba2b-5238e02d572a",
   "metadata": {},
   "outputs": [
    {
     "data": {
      "text/plain": [
       "'192.168.2.122'"
      ]
     },
     "execution_count": 2,
     "metadata": {},
     "output_type": "execute_result"
    }
   ],
   "source": [
    "from epics import caget, caput\n",
    "caget(\"13ARV1:cam1:GC_SetCameraName\")"
   ]
  },
  {
   "cell_type": "code",
   "execution_count": 3,
   "id": "be6d9a07-34db-4ae4-82aa-b0e79f0f0198",
   "metadata": {},
   "outputs": [
    {
     "data": {
      "text/plain": [
       "True"
      ]
     },
     "execution_count": 3,
     "metadata": {},
     "output_type": "execute_result"
    }
   ],
   "source": [
    "caget(\"13ARV1:cam1:GC_SetCameraName\") == \"192.168.2.122\""
   ]
  },
  {
   "cell_type": "code",
   "execution_count": null,
   "id": "3591ff43-e01f-48bd-845a-9ac5ab6cb81e",
   "metadata": {},
   "outputs": [],
   "source": []
  }
 ],
 "metadata": {
  "kernelspec": {
   "display_name": "Python 3 (ipykernel)",
   "language": "python",
   "name": "python3"
  },
  "language_info": {
   "codemirror_mode": {
    "name": "ipython",
    "version": 3
   },
   "file_extension": ".py",
   "mimetype": "text/x-python",
   "name": "python",
   "nbconvert_exporter": "python",
   "pygments_lexer": "ipython3",
   "version": "3.9.18"
  }
 },
 "nbformat": 4,
 "nbformat_minor": 5
}
