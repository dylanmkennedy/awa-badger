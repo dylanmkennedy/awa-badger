{
 "cells": [
  {
   "cell_type": "markdown",
   "metadata": {},
   "source": [
    "# Beamsize minimization with Xopt"
   ]
  },
  {
   "cell_type": "markdown",
   "source": [
    "## define the diagnostic"
   ],
   "metadata": {
    "collapsed": false
   }
  },
  {
   "cell_type": "code",
   "execution_count": null,
   "outputs": [],
   "source": [
    "from plugins.interfaces.diagnostics import EPICSImageDiagnostic, ROI\n",
    "\n",
    "screen_name = \"DYG15\"\n",
    "save_image_location = \"\"\n",
    "roi = ROI(\n",
    "    xmin=0, xmax=100, ymin=0, ymax=100\n",
    ")\n",
    "charge_pvs = []\n",
    "\n",
    "image_diagnostic = EPICSImageDiagnostic(\n",
    "    screen_name=screen_name,\n",
    "    resolution_suffix=None,\n",
    "    roi=roi,\n",
    "    extra_pvs=charge_pvs,\n",
    "    save_image_location=save_image_location\n",
    ")"
   ],
   "metadata": {
    "collapsed": false
   }
  },
  {
   "cell_type": "code",
   "execution_count": null,
   "outputs": [],
   "source": [
    "image_diagnostic.test_measurement()"
   ],
   "metadata": {
    "collapsed": false
   }
  },
  {
   "cell_type": "markdown",
   "source": [
    "### Define the evaluator"
   ],
   "metadata": {
    "collapsed": false
   }
  },
  {
   "cell_type": "code",
   "execution_count": 1,
   "outputs": [],
   "source": [
    "from epics import caput, caget\n",
    "from xopt import Evaluator\n",
    "import time\n",
    "import numpy as np\n",
    "\n",
    "IMAGE_CONSTRAINTS = {\n",
    "            \"bb_penalty\": [\"LESS_THAN\", 0.0],\n",
    "            \"log10_total_intensity\": [\"GREATER_THAN\", image_diagnostic.min_log_intensity]\n",
    "        }\n",
    "\n",
    "def evaluate_function(inputs: dict) -> dict:\n",
    "    global image_diagnostic\n",
    "    # caput values\n",
    "    for name, val in inputs:\n",
    "        caput(name, val)\n",
    "\n",
    "    # wait for changes to occur\n",
    "    time.sleep(2)\n",
    "\n",
    "    results = image_diagnostic.measure_beamsize(5, **inputs)\n",
    "\n",
    "    # get other PV's NOTE: Measurements not synchronous with beamsize measurements!\n",
    "    results = results\n",
    "\n",
    "    # add total beam size\n",
    "    results[\"total_size\"] = np.sqrt(np.array(results[\"Sx\"]) ** 2 + np.array(results[\"Sy\"]) ** 2)\n",
    "    return results\n",
    "\n",
    "evaluator = Evaluator(function=evaluate_function)"
   ],
   "metadata": {
    "collapsed": false,
    "ExecuteTime": {
     "end_time": "2023-11-13T20:36:51.014606900Z",
     "start_time": "2023-11-13T20:36:47.890463Z"
    }
   }
  },
  {
   "cell_type": "markdown",
   "source": [
    "### Define VOCS\n",
    "Here we define the names and ranges of input parameters, the names and settings of\n",
    "objectives, and the names and settings of constraints. Note that the keys here should\n",
    " be referenced in the evaluate function above."
   ],
   "metadata": {
    "collapsed": false
   }
  },
  {
   "cell_type": "code",
   "execution_count": 2,
   "outputs": [],
   "source": [
    "from xopt import VOCS\n",
    "\n",
    "# define control PVs and ranges here\n",
    "vocs = VOCS(\n",
    "    variables = {\n",
    "        \"x1\": [0, 1],\n",
    "        \"x2\": [0, 1],\n",
    "        \"x3\": [0, 1]\n",
    "    },\n",
    "    objectives = {\"total_size\":\"MINIMIZE\"},\n",
    "    constraints = IMAGE_CONSTRAINTS\n",
    ")"
   ],
   "metadata": {
    "collapsed": false,
    "ExecuteTime": {
     "end_time": "2023-11-13T20:36:51.029643600Z",
     "start_time": "2023-11-13T20:36:51.017607300Z"
    }
   }
  },
  {
   "cell_type": "markdown",
   "source": [
    "### Define the Generator"
   ],
   "metadata": {
    "collapsed": false
   }
  },
  {
   "cell_type": "code",
   "execution_count": 3,
   "outputs": [
    {
     "name": "stdout",
     "output_type": "stream",
     "text": [
      "\n",
      "    Random number generator.\n",
      "    \n"
     ]
    }
   ],
   "source": [
    "from xopt.generators import get_generator\n",
    "from xopt.generators.bayesian.models.standard import StandardModelConstructor\n",
    "\n",
    "model_constructor = StandardModelConstructor(use_low_noise_prior=False)\n",
    "generator = get_generator(\"expected_improvement\")(vocs=vocs, gp_constructor=model_constructor)"
   ],
   "metadata": {
    "collapsed": false,
    "ExecuteTime": {
     "end_time": "2023-11-13T20:36:51.072643100Z",
     "start_time": "2023-11-13T20:36:51.032644900Z"
    }
   }
  },
  {
   "cell_type": "markdown",
   "source": [
    "###  Combine into Xopt object"
   ],
   "metadata": {
    "collapsed": false
   }
  },
  {
   "cell_type": "code",
   "execution_count": 10,
   "outputs": [],
   "source": [
    "from xopt import Xopt\n",
    "dump_filename = \"my_data.yml\"\n",
    "X = Xopt(vocs=vocs, generator=generator, evaluator=evaluator, dump_file=dump_filename)"
   ],
   "metadata": {
    "collapsed": false,
    "ExecuteTime": {
     "end_time": "2023-11-13T20:47:58.281918Z",
     "start_time": "2023-11-13T20:47:58.264919400Z"
    }
   }
  },
  {
   "cell_type": "markdown",
   "source": [
    "## Introspection\n",
    "Objects in Xopt can be printed to a string or dumped to a text file for easy\n",
    "introspection of attributes and current configuration."
   ],
   "metadata": {
    "collapsed": false
   }
  },
  {
   "cell_type": "code",
   "execution_count": 11,
   "metadata": {
    "execution": {
     "iopub.execute_input": "2022-07-02T04:16:41.900325Z",
     "iopub.status.busy": "2022-07-02T04:16:41.900241Z",
     "iopub.status.idle": "2022-07-02T04:16:41.905569Z",
     "shell.execute_reply": "2022-07-02T04:16:41.905324Z"
    },
    "ExecuteTime": {
     "end_time": "2023-11-13T20:48:01.350099700Z",
     "start_time": "2023-11-13T20:48:01.342072Z"
    }
   },
   "outputs": [
    {
     "data": {
      "text/plain": "\n            Xopt\n________________________________\nVersion: 2.1.0+5.g375e990d\nData size: 0\nConfig as YAML:\ndump_file: my_data.yml\nevaluator:\n  function: __main__.evaluate_function\n  function_kwargs: {}\n  max_workers: 1\n  vectorized: false\ngenerator:\n  name: random\n  supports_batch_generation: true\n  supports_multi_objective: true\nmax_evaluations: null\nserialize_inline: false\nserialize_torch: false\nstrict: true\nvocs:\n  constants: {}\n  constraints: {}\n  objectives: {}\n  observables:\n  - my_pv\n  variables:\n    x1:\n    - 0.0\n    - 1.0\n    x2:\n    - 0.0\n    - 1.0\n    x3:\n    - 0.0\n    - 1.0\n"
     },
     "execution_count": 11,
     "metadata": {},
     "output_type": "execute_result"
    }
   ],
   "source": [
    "# Convenient representation of the state.\n",
    "X"
   ]
  },
  {
   "cell_type": "markdown",
   "source": [
    "### Initialization"
   ],
   "metadata": {
    "collapsed": false
   }
  },
  {
   "cell_type": "code",
   "execution_count": 6,
   "outputs": [
    {
     "data": {
      "text/plain": "      x1   x2        x3\n0    0.0  0.0  0.000000\n1    0.0  0.0  0.111111\n2    0.0  0.0  0.222222\n3    0.0  0.0  0.333333\n4    0.0  0.0  0.444444\n..   ...  ...       ...\n995  1.0  1.0  0.555556\n996  1.0  1.0  0.666667\n997  1.0  1.0  0.777778\n998  1.0  1.0  0.888889\n999  1.0  1.0  1.000000\n\n[1000 rows x 3 columns]",
      "text/html": "<div>\n<style scoped>\n    .dataframe tbody tr th:only-of-type {\n        vertical-align: middle;\n    }\n\n    .dataframe tbody tr th {\n        vertical-align: top;\n    }\n\n    .dataframe thead th {\n        text-align: right;\n    }\n</style>\n<table border=\"1\" class=\"dataframe\">\n  <thead>\n    <tr style=\"text-align: right;\">\n      <th></th>\n      <th>x1</th>\n      <th>x2</th>\n      <th>x3</th>\n    </tr>\n  </thead>\n  <tbody>\n    <tr>\n      <th>0</th>\n      <td>0.0</td>\n      <td>0.0</td>\n      <td>0.000000</td>\n    </tr>\n    <tr>\n      <th>1</th>\n      <td>0.0</td>\n      <td>0.0</td>\n      <td>0.111111</td>\n    </tr>\n    <tr>\n      <th>2</th>\n      <td>0.0</td>\n      <td>0.0</td>\n      <td>0.222222</td>\n    </tr>\n    <tr>\n      <th>3</th>\n      <td>0.0</td>\n      <td>0.0</td>\n      <td>0.333333</td>\n    </tr>\n    <tr>\n      <th>4</th>\n      <td>0.0</td>\n      <td>0.0</td>\n      <td>0.444444</td>\n    </tr>\n    <tr>\n      <th>...</th>\n      <td>...</td>\n      <td>...</td>\n      <td>...</td>\n    </tr>\n    <tr>\n      <th>995</th>\n      <td>1.0</td>\n      <td>1.0</td>\n      <td>0.555556</td>\n    </tr>\n    <tr>\n      <th>996</th>\n      <td>1.0</td>\n      <td>1.0</td>\n      <td>0.666667</td>\n    </tr>\n    <tr>\n      <th>997</th>\n      <td>1.0</td>\n      <td>1.0</td>\n      <td>0.777778</td>\n    </tr>\n    <tr>\n      <th>998</th>\n      <td>1.0</td>\n      <td>1.0</td>\n      <td>0.888889</td>\n    </tr>\n    <tr>\n      <th>999</th>\n      <td>1.0</td>\n      <td>1.0</td>\n      <td>1.000000</td>\n    </tr>\n  </tbody>\n</table>\n<p>1000 rows × 3 columns</p>\n</div>"
     },
     "execution_count": 6,
     "metadata": {},
     "output_type": "execute_result"
    }
   ],
   "source": [
    "from epics import caget_many\n",
    "from xopt.utils import get_local_region\n",
    "# get current point\n",
    "current_value = dict(zip(X.vocs.variable_names, caget_many(X.vocs.variable_names)))\n",
    "\n",
    "# get small region around current point to sample\n",
    "random_sample_region = get_local_region(current_value,X.vocs, fraction=0.1)\n",
    "\n",
    "# random sample in a local region\n",
    "X.random_evaluate(5, custom_bounds=random_sample_region)"
   ],
   "metadata": {
    "collapsed": false,
    "ExecuteTime": {
     "end_time": "2023-11-13T20:36:51.132672100Z",
     "start_time": "2023-11-13T20:36:51.077647200Z"
    }
   }
  },
  {
   "cell_type": "code",
   "execution_count": null,
   "outputs": [],
   "source": [
    "# examine the data stored in Xopt\n",
    "X.data"
   ],
   "metadata": {
    "collapsed": false
   }
  },
  {
   "cell_type": "code",
   "execution_count": null,
   "outputs": [],
   "source": [
    "# run optimization\n",
    "for i in range(10):\n",
    "    print(i)\n",
    "    X.step()"
   ],
   "metadata": {
    "collapsed": false
   }
  },
  {
   "cell_type": "code",
   "execution_count": null,
   "outputs": [],
   "source": [
    "# visualize result\n",
    "X.data.plot(y=X.vocs.objective_names[0])"
   ],
   "metadata": {
    "collapsed": false
   }
  }
 ],
 "metadata": {
  "interpreter": {
   "hash": "72034539424920dfb606fe3b820b3f27dca0cbf1c69938110810ec4641e275b1"
  },
  "kernelspec": {
   "display_name": "Python 3.9.12 ('xopt-dev')",
   "language": "python",
   "name": "python3"
  },
  "language_info": {
   "codemirror_mode": {
    "name": "ipython",
    "version": 3
   },
   "file_extension": ".py",
   "mimetype": "text/x-python",
   "name": "python",
   "nbconvert_exporter": "python",
   "pygments_lexer": "ipython3",
   "version": "3.9.13"
  }
 },
 "nbformat": 4,
 "nbformat_minor": 4
}
