{
 "cells": [
  {
   "cell_type": "code",
   "execution_count": 1,
   "id": "33053034",
   "metadata": {},
   "outputs": [
    {
     "data": {
      "text/plain": [
       "['TEST:XRMS',\n",
       " 'TEST:YRMS',\n",
       " 'AWAICTMon:Ch1',\n",
       " 'AWAICTMon:Ch2',\n",
       " 'AWAICTMon:Ch3',\n",
       " 'AWAICTMon:Ch4',\n",
       " '13ARV1:Stats1:CentroidX_RBV',\n",
       " '13ARV1:Stats1:CentroidY_RBV',\n",
       " '13ARV1:Stats1:SigmaX_RBV',\n",
       " '13ARV1:Stats1:SigmaY_RBV']"
      ]
     },
     "execution_count": 1,
     "metadata": {},
     "output_type": "execute_result"
    }
   ],
   "source": [
    "from plugins.environments.awa_environment import AWAEnvironment\n",
    "from plugins.interfaces.test_awa_interface import TestAWAInterface\n",
    "\n",
    "# import data from csv file\n",
    "import pandas as pd\n",
    "variable_file = \"plugins/environments/awa_variables.csv\"\n",
    "observable_file = \"plugins/environments/awa_observables.csv\"\n",
    "variable_info = pd.read_csv(variable_file).set_index(\"NAME\")\n",
    "observable_info = pd.read_csv(observable_file).set_index(\"NAME\").T\n",
    "\n",
    "variables = variable_info[[\"MIN\",\"MAX\"]].T.to_dict()\n",
    "observables = list(observable_info.keys())\n",
    "\n",
    "for name in variables:\n",
    "    variables[name] = [variables[name][\"MIN\"], variables[name][\"MAX\"]]\n",
    "observables"
   ]
  },
  {
   "cell_type": "code",
   "execution_count": 2,
   "id": "57cdae3e",
   "metadata": {},
   "outputs": [],
   "source": [
    "env = AWAEnvironment(variable_file, observable_file, interface=TestAWAInterface())"
   ]
  },
  {
   "cell_type": "code",
   "execution_count": 3,
   "id": "c1ef9d1b",
   "metadata": {},
   "outputs": [],
   "source": [
    "from epics import caget_many"
   ]
  },
  {
   "cell_type": "code",
   "execution_count": 4,
   "id": "ea078e06",
   "metadata": {
    "scrolled": true
   },
   "outputs": [
    {
     "name": "stderr",
     "output_type": "stream",
     "text": [
      "CA.Client.Exception...............................................\n",
      "    Warning: \"Identical process variable names on multiple servers\"\n",
      "    Context: \"Channel: \"13ARV1:image1:ArrayData\", Connecting to: 146.139.52.185:5064, Ignored: awa5:5064\"\n",
      "    Source File: ../cac.cpp line 1320\n",
      "    Current Time: Thu Apr 27 2023 11:01:36.793995564\n",
      "..................................................................\n",
      "CA.Client.Exception...............................................\n",
      "    Warning: \"Identical process variable names on multiple servers\"\n",
      "    Context: \"Channel: \"13ARV1:image1:ArraySize0_RBV\", Connecting to: 146.139.52.185:5064, Ignored: awa5:5064\"\n",
      "    Source File: ../cac.cpp line 1320\n",
      "    Current Time: Thu Apr 27 2023 11:01:36.794154337\n",
      "..................................................................\n",
      "CA.Client.Exception...............................................\n",
      "    Warning: \"Identical process variable names on multiple servers\"\n",
      "    Context: \"Channel: \"13ARV1:image1:ArraySize1_RBV\", Connecting to: 146.139.52.185:5064, Ignored: awa5:5064\"\n",
      "    Source File: ../cac.cpp line 1320\n",
      "    Current Time: Thu Apr 27 2023 11:01:36.794296731\n",
      "..................................................................\n",
      "CA.Client.Exception...............................................\n",
      "    Warning: \"Identical process variable names on multiple servers\"\n",
      "    Context: \"Channel: \"13ARV1:image1:ArrayData\", Connecting to: 146.139.52.185:5064, Ignored: awa5:5064\"\n",
      "    Source File: ../cac.cpp line 1320\n",
      "    Current Time: Thu Apr 27 2023 11:01:36.794455157\n",
      "..................................................................\n",
      "CA.Client.Exception...............................................\n",
      "    Warning: \"Identical process variable names on multiple servers\"\n",
      "    Context: \"Channel: \"13ARV1:image1:ArraySize0_RBV\", Connecting to: 146.139.52.185:5064, Ignored: awa5:5064\"\n",
      "    Source File: ../cac.cpp line 1320\n",
      "    Current Time: Thu Apr 27 2023 11:01:36.794591938\n",
      "..................................................................\n",
      "CA.Client.Exception...............................................\n",
      "    Warning: \"Identical process variable names on multiple servers\"\n",
      "    Context: \"Channel: \"13ARV1:image1:ArraySize1_RBV\", Connecting to: 146.139.52.185:5064, Ignored: awa5:5064\"\n",
      "    Source File: ../cac.cpp line 1320\n",
      "    Current Time: Thu Apr 27 2023 11:01:36.794733576\n",
      "..................................................................\n"
     ]
    }
   ],
   "source": [
    "img, xsize, ysize = caget_many([\"13ARV1:image1:ArrayData\",\"13ARV1:image1:ArraySize0_RBV\",\"13ARV1:image1:ArraySize1_RBV\"])"
   ]
  },
  {
   "cell_type": "code",
   "execution_count": 5,
   "id": "1ca6c9b7",
   "metadata": {},
   "outputs": [],
   "source": [
    "img = img.reshape(ysize,xsize)"
   ]
  },
  {
   "cell_type": "code",
   "execution_count": 6,
   "id": "a1465abe",
   "metadata": {
    "scrolled": true
   },
   "outputs": [
    {
     "data": {
      "text/plain": [
       "<matplotlib.image.AxesImage at 0x7efcef3b7310>"
      ]
     },
     "execution_count": 6,
     "metadata": {},
     "output_type": "execute_result"
    },
    {
     "data": {
      "image/png": "[encoded data removed]",
      "text/plain": [
       "<Figure size 640x480 with 1 Axes>"
      ]
     },
     "metadata": {},
     "output_type": "display_data"
    }
   ],
   "source": [
    "import matplotlib.pyplot as plt\n",
    "plt.imshow(img)"
   ]
  },
  {
   "cell_type": "code",
   "execution_count": 7,
   "id": "98c8fc62",
   "metadata": {},
   "outputs": [
    {
     "data": {
      "text/plain": [
       "array([[120, 124, 120, ..., 124, 120, 120],\n",
       "       [120, 120, 120, ..., 120, 120, 120],\n",
       "       [120, 120, 120, ..., 120, 120, 120],\n",
       "       ...,\n",
       "       [124, 120, 126, ..., 120, 120, 120],\n",
       "       [120, 120, 120, ..., 126, 120, 120],\n",
       "       [120, 120, 120, ..., 120, 120, 120]], dtype=int16)"
      ]
     },
     "execution_count": 7,
     "metadata": {},
     "output_type": "execute_result"
    }
   ],
   "source": [
    "img"
   ]
  },
  {
   "cell_type": "code",
   "execution_count": null,
   "id": "e4023d1e",
   "metadata": {},
   "outputs": [],
   "source": []
  }
 ],
 "metadata": {
  "kernelspec": {
   "display_name": "Python 3 (ipykernel)",
   "language": "python",
   "name": "python3"
  },
  "language_info": {
   "codemirror_mode": {
    "name": "ipython",
    "version": 3
   },
   "file_extension": ".py",
   "mimetype": "text/x-python",
   "name": "python",
   "nbconvert_exporter": "python",
   "pygments_lexer": "ipython3",
   "version": "3.9.16"
  }
 },
 "nbformat": 4,
 "nbformat_minor": 5
}
